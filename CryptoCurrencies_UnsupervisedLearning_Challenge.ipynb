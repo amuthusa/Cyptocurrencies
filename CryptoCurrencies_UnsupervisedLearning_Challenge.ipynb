{
 "cells": [
  {
   "cell_type": "code",
   "execution_count": 30,
   "metadata": {},
   "outputs": [],
   "source": [
    "#import dependencies for PCA and KMeans clustering\n",
    "import pandas as pd\n",
    "from sklearn.preprocessing import StandardScaler\n",
    "from sklearn.decomposition import PCA\n",
    "from sklearn.cluster import KMeans\n",
    "import hvplot.pandas"
   ]
  },
  {
   "cell_type": "code",
   "execution_count": 66,
   "metadata": {
    "scrolled": false
   },
   "outputs": [
    {
     "data": {
      "text/html": [
       "<div>\n",
       "<style scoped>\n",
       "    .dataframe tbody tr th:only-of-type {\n",
       "        vertical-align: middle;\n",
       "    }\n",
       "\n",
       "    .dataframe tbody tr th {\n",
       "        vertical-align: top;\n",
       "    }\n",
       "\n",
       "    .dataframe thead th {\n",
       "        text-align: right;\n",
       "    }\n",
       "</style>\n",
       "<table border=\"1\" class=\"dataframe\">\n",
       "  <thead>\n",
       "    <tr style=\"text-align: right;\">\n",
       "      <th></th>\n",
       "      <th>CoinName</th>\n",
       "      <th>Algorithm</th>\n",
       "      <th>IsTrading</th>\n",
       "      <th>ProofType</th>\n",
       "      <th>TotalCoinsMined</th>\n",
       "      <th>TotalCoinSupply</th>\n",
       "    </tr>\n",
       "  </thead>\n",
       "  <tbody>\n",
       "    <tr>\n",
       "      <th>42</th>\n",
       "      <td>42 Coin</td>\n",
       "      <td>Scrypt</td>\n",
       "      <td>True</td>\n",
       "      <td>PoW/PoS</td>\n",
       "      <td>4.199995e+01</td>\n",
       "      <td>42</td>\n",
       "    </tr>\n",
       "    <tr>\n",
       "      <th>365</th>\n",
       "      <td>365Coin</td>\n",
       "      <td>X11</td>\n",
       "      <td>True</td>\n",
       "      <td>PoW/PoS</td>\n",
       "      <td>NaN</td>\n",
       "      <td>2300000000</td>\n",
       "    </tr>\n",
       "    <tr>\n",
       "      <th>404</th>\n",
       "      <td>404Coin</td>\n",
       "      <td>Scrypt</td>\n",
       "      <td>True</td>\n",
       "      <td>PoW/PoS</td>\n",
       "      <td>1.055185e+09</td>\n",
       "      <td>532000000</td>\n",
       "    </tr>\n",
       "    <tr>\n",
       "      <th>611</th>\n",
       "      <td>SixEleven</td>\n",
       "      <td>SHA-256</td>\n",
       "      <td>True</td>\n",
       "      <td>PoW</td>\n",
       "      <td>NaN</td>\n",
       "      <td>611000</td>\n",
       "    </tr>\n",
       "    <tr>\n",
       "      <th>808</th>\n",
       "      <td>808</td>\n",
       "      <td>SHA-256</td>\n",
       "      <td>True</td>\n",
       "      <td>PoW/PoS</td>\n",
       "      <td>0.000000e+00</td>\n",
       "      <td>0</td>\n",
       "    </tr>\n",
       "  </tbody>\n",
       "</table>\n",
       "</div>"
      ],
      "text/plain": [
       "      CoinName Algorithm  IsTrading ProofType  TotalCoinsMined TotalCoinSupply\n",
       "42     42 Coin    Scrypt       True   PoW/PoS     4.199995e+01              42\n",
       "365    365Coin       X11       True   PoW/PoS              NaN      2300000000\n",
       "404    404Coin    Scrypt       True   PoW/PoS     1.055185e+09       532000000\n",
       "611  SixEleven   SHA-256       True       PoW              NaN          611000\n",
       "808        808   SHA-256       True   PoW/PoS     0.000000e+00               0"
      ]
     },
     "execution_count": 66,
     "metadata": {},
     "output_type": "execute_result"
    }
   ],
   "source": [
    "#load the cyptocurrencies data from csv file\n",
    "file_path = \"Resources/crypto_data.csv\"\n",
    "crypto_df = pd.read_csv(file_path, index_col=0)\n",
    "crypto_df.head()"
   ]
  },
  {
   "cell_type": "code",
   "execution_count": 67,
   "metadata": {},
   "outputs": [
    {
     "data": {
      "text/plain": [
       "CoinName           1252\n",
       "Algorithm          1252\n",
       "IsTrading          1252\n",
       "ProofType          1252\n",
       "TotalCoinsMined     744\n",
       "TotalCoinSupply    1252\n",
       "dtype: int64"
      ]
     },
     "execution_count": 67,
     "metadata": {},
     "output_type": "execute_result"
    }
   ],
   "source": [
    "#check the count of rows before filtering\n",
    "crypto_df.count()"
   ]
  },
  {
   "cell_type": "code",
   "execution_count": 68,
   "metadata": {},
   "outputs": [
    {
     "data": {
      "text/plain": [
       "CoinName           1144\n",
       "Algorithm          1144\n",
       "IsTrading          1144\n",
       "ProofType          1144\n",
       "TotalCoinsMined     685\n",
       "TotalCoinSupply    1144\n",
       "dtype: int64"
      ]
     },
     "execution_count": 68,
     "metadata": {},
     "output_type": "execute_result"
    }
   ],
   "source": [
    "#filter out cryptocurrencies which are not trading currently\n",
    "crypto_filtered_df = crypto_df[crypto_df['IsTrading']==True]\n",
    "crypto_filtered_df.count()"
   ]
  },
  {
   "cell_type": "code",
   "execution_count": 69,
   "metadata": {},
   "outputs": [
    {
     "data": {
      "text/plain": [
       "CoinName           1144\n",
       "Algorithm          1144\n",
       "IsTrading          1144\n",
       "ProofType          1144\n",
       "TotalCoinsMined     685\n",
       "TotalCoinSupply    1144\n",
       "dtype: int64"
      ]
     },
     "execution_count": 69,
     "metadata": {},
     "output_type": "execute_result"
    }
   ],
   "source": [
    "#filter out cryptocurrencies that have algorithm defined\n",
    "crypto_filtered_df = crypto_filtered_df[crypto_filtered_df['Algorithm'].notnull()]\n",
    "crypto_filtered_df.count()"
   ]
  },
  {
   "cell_type": "code",
   "execution_count": 70,
   "metadata": {},
   "outputs": [
    {
     "data": {
      "text/html": [
       "<div>\n",
       "<style scoped>\n",
       "    .dataframe tbody tr th:only-of-type {\n",
       "        vertical-align: middle;\n",
       "    }\n",
       "\n",
       "    .dataframe tbody tr th {\n",
       "        vertical-align: top;\n",
       "    }\n",
       "\n",
       "    .dataframe thead th {\n",
       "        text-align: right;\n",
       "    }\n",
       "</style>\n",
       "<table border=\"1\" class=\"dataframe\">\n",
       "  <thead>\n",
       "    <tr style=\"text-align: right;\">\n",
       "      <th></th>\n",
       "      <th>CoinName</th>\n",
       "      <th>Algorithm</th>\n",
       "      <th>ProofType</th>\n",
       "      <th>TotalCoinsMined</th>\n",
       "      <th>TotalCoinSupply</th>\n",
       "    </tr>\n",
       "  </thead>\n",
       "  <tbody>\n",
       "    <tr>\n",
       "      <th>42</th>\n",
       "      <td>42 Coin</td>\n",
       "      <td>Scrypt</td>\n",
       "      <td>PoW/PoS</td>\n",
       "      <td>4.199995e+01</td>\n",
       "      <td>42</td>\n",
       "    </tr>\n",
       "    <tr>\n",
       "      <th>365</th>\n",
       "      <td>365Coin</td>\n",
       "      <td>X11</td>\n",
       "      <td>PoW/PoS</td>\n",
       "      <td>NaN</td>\n",
       "      <td>2300000000</td>\n",
       "    </tr>\n",
       "    <tr>\n",
       "      <th>404</th>\n",
       "      <td>404Coin</td>\n",
       "      <td>Scrypt</td>\n",
       "      <td>PoW/PoS</td>\n",
       "      <td>1.055185e+09</td>\n",
       "      <td>532000000</td>\n",
       "    </tr>\n",
       "    <tr>\n",
       "      <th>611</th>\n",
       "      <td>SixEleven</td>\n",
       "      <td>SHA-256</td>\n",
       "      <td>PoW</td>\n",
       "      <td>NaN</td>\n",
       "      <td>611000</td>\n",
       "    </tr>\n",
       "    <tr>\n",
       "      <th>808</th>\n",
       "      <td>808</td>\n",
       "      <td>SHA-256</td>\n",
       "      <td>PoW/PoS</td>\n",
       "      <td>0.000000e+00</td>\n",
       "      <td>0</td>\n",
       "    </tr>\n",
       "  </tbody>\n",
       "</table>\n",
       "</div>"
      ],
      "text/plain": [
       "      CoinName Algorithm ProofType  TotalCoinsMined TotalCoinSupply\n",
       "42     42 Coin    Scrypt   PoW/PoS     4.199995e+01              42\n",
       "365    365Coin       X11   PoW/PoS              NaN      2300000000\n",
       "404    404Coin    Scrypt   PoW/PoS     1.055185e+09       532000000\n",
       "611  SixEleven   SHA-256       PoW              NaN          611000\n",
       "808        808   SHA-256   PoW/PoS     0.000000e+00               0"
      ]
     },
     "execution_count": 70,
     "metadata": {},
     "output_type": "execute_result"
    }
   ],
   "source": [
    "#drop the IsTrading column from the dataframe\n",
    "crypto_filtered_df = crypto_filtered_df.drop(columns=['IsTrading'], axis=1)\n",
    "crypto_filtered_df.head()"
   ]
  },
  {
   "cell_type": "code",
   "execution_count": 71,
   "metadata": {},
   "outputs": [
    {
     "data": {
      "text/html": [
       "<div>\n",
       "<style scoped>\n",
       "    .dataframe tbody tr th:only-of-type {\n",
       "        vertical-align: middle;\n",
       "    }\n",
       "\n",
       "    .dataframe tbody tr th {\n",
       "        vertical-align: top;\n",
       "    }\n",
       "\n",
       "    .dataframe thead th {\n",
       "        text-align: right;\n",
       "    }\n",
       "</style>\n",
       "<table border=\"1\" class=\"dataframe\">\n",
       "  <thead>\n",
       "    <tr style=\"text-align: right;\">\n",
       "      <th></th>\n",
       "      <th>CoinName</th>\n",
       "      <th>Algorithm</th>\n",
       "      <th>ProofType</th>\n",
       "      <th>TotalCoinsMined</th>\n",
       "      <th>TotalCoinSupply</th>\n",
       "    </tr>\n",
       "  </thead>\n",
       "  <tbody>\n",
       "    <tr>\n",
       "      <th>42</th>\n",
       "      <td>42 Coin</td>\n",
       "      <td>Scrypt</td>\n",
       "      <td>PoW/PoS</td>\n",
       "      <td>4.199995e+01</td>\n",
       "      <td>42</td>\n",
       "    </tr>\n",
       "    <tr>\n",
       "      <th>404</th>\n",
       "      <td>404Coin</td>\n",
       "      <td>Scrypt</td>\n",
       "      <td>PoW/PoS</td>\n",
       "      <td>1.055185e+09</td>\n",
       "      <td>532000000</td>\n",
       "    </tr>\n",
       "    <tr>\n",
       "      <th>808</th>\n",
       "      <td>808</td>\n",
       "      <td>SHA-256</td>\n",
       "      <td>PoW/PoS</td>\n",
       "      <td>0.000000e+00</td>\n",
       "      <td>0</td>\n",
       "    </tr>\n",
       "    <tr>\n",
       "      <th>1337</th>\n",
       "      <td>EliteCoin</td>\n",
       "      <td>X13</td>\n",
       "      <td>PoW/PoS</td>\n",
       "      <td>2.927942e+10</td>\n",
       "      <td>314159265359</td>\n",
       "    </tr>\n",
       "    <tr>\n",
       "      <th>BTC</th>\n",
       "      <td>Bitcoin</td>\n",
       "      <td>SHA-256</td>\n",
       "      <td>PoW</td>\n",
       "      <td>1.792718e+07</td>\n",
       "      <td>21000000</td>\n",
       "    </tr>\n",
       "  </tbody>\n",
       "</table>\n",
       "</div>"
      ],
      "text/plain": [
       "       CoinName Algorithm ProofType  TotalCoinsMined TotalCoinSupply\n",
       "42      42 Coin    Scrypt   PoW/PoS     4.199995e+01              42\n",
       "404     404Coin    Scrypt   PoW/PoS     1.055185e+09       532000000\n",
       "808         808   SHA-256   PoW/PoS     0.000000e+00               0\n",
       "1337  EliteCoin       X13   PoW/PoS     2.927942e+10    314159265359\n",
       "BTC     Bitcoin   SHA-256       PoW     1.792718e+07        21000000"
      ]
     },
     "execution_count": 71,
     "metadata": {},
     "output_type": "execute_result"
    }
   ],
   "source": [
    "#remove cryptocurrencies with at least one null value\n",
    "crypto_filtered_df = crypto_filtered_df.dropna()\n",
    "crypto_filtered_df.head()"
   ]
  },
  {
   "cell_type": "code",
   "execution_count": 72,
   "metadata": {},
   "outputs": [
    {
     "data": {
      "text/plain": [
       "CoinName           533\n",
       "Algorithm          533\n",
       "ProofType          533\n",
       "TotalCoinsMined    533\n",
       "TotalCoinSupply    533\n",
       "dtype: int64"
      ]
     },
     "execution_count": 72,
     "metadata": {},
     "output_type": "execute_result"
    }
   ],
   "source": [
    "#remove cryptocurrencies which doesn't have any coins mined\n",
    "crypto_filtered_df = crypto_filtered_df[crypto_filtered_df['TotalCoinsMined'] != 0]\n",
    "crypto_filtered_df.count()"
   ]
  },
  {
   "cell_type": "code",
   "execution_count": 73,
   "metadata": {},
   "outputs": [
    {
     "data": {
      "text/html": [
       "<div>\n",
       "<style scoped>\n",
       "    .dataframe tbody tr th:only-of-type {\n",
       "        vertical-align: middle;\n",
       "    }\n",
       "\n",
       "    .dataframe tbody tr th {\n",
       "        vertical-align: top;\n",
       "    }\n",
       "\n",
       "    .dataframe thead th {\n",
       "        text-align: right;\n",
       "    }\n",
       "</style>\n",
       "<table border=\"1\" class=\"dataframe\">\n",
       "  <thead>\n",
       "    <tr style=\"text-align: right;\">\n",
       "      <th></th>\n",
       "      <th>CoinName</th>\n",
       "    </tr>\n",
       "  </thead>\n",
       "  <tbody>\n",
       "    <tr>\n",
       "      <th>42</th>\n",
       "      <td>42 Coin</td>\n",
       "    </tr>\n",
       "    <tr>\n",
       "      <th>404</th>\n",
       "      <td>404Coin</td>\n",
       "    </tr>\n",
       "    <tr>\n",
       "      <th>1337</th>\n",
       "      <td>EliteCoin</td>\n",
       "    </tr>\n",
       "    <tr>\n",
       "      <th>BTC</th>\n",
       "      <td>Bitcoin</td>\n",
       "    </tr>\n",
       "    <tr>\n",
       "      <th>ETH</th>\n",
       "      <td>Ethereum</td>\n",
       "    </tr>\n",
       "  </tbody>\n",
       "</table>\n",
       "</div>"
      ],
      "text/plain": [
       "       CoinName\n",
       "42      42 Coin\n",
       "404     404Coin\n",
       "1337  EliteCoin\n",
       "BTC     Bitcoin\n",
       "ETH    Ethereum"
      ]
     },
     "execution_count": 73,
     "metadata": {},
     "output_type": "execute_result"
    }
   ],
   "source": [
    "#get all the coin name to a dataframe\n",
    "coin_name_df = pd.DataFrame(crypto_filtered_df['CoinName'], index=crypto_filtered_df.index)\n",
    "coin_name_df.head()"
   ]
  },
  {
   "cell_type": "code",
   "execution_count": 74,
   "metadata": {},
   "outputs": [
    {
     "data": {
      "text/html": [
       "<div>\n",
       "<style scoped>\n",
       "    .dataframe tbody tr th:only-of-type {\n",
       "        vertical-align: middle;\n",
       "    }\n",
       "\n",
       "    .dataframe tbody tr th {\n",
       "        vertical-align: top;\n",
       "    }\n",
       "\n",
       "    .dataframe thead th {\n",
       "        text-align: right;\n",
       "    }\n",
       "</style>\n",
       "<table border=\"1\" class=\"dataframe\">\n",
       "  <thead>\n",
       "    <tr style=\"text-align: right;\">\n",
       "      <th></th>\n",
       "      <th>Algorithm</th>\n",
       "      <th>ProofType</th>\n",
       "      <th>TotalCoinsMined</th>\n",
       "      <th>TotalCoinSupply</th>\n",
       "    </tr>\n",
       "  </thead>\n",
       "  <tbody>\n",
       "    <tr>\n",
       "      <th>42</th>\n",
       "      <td>Scrypt</td>\n",
       "      <td>PoW/PoS</td>\n",
       "      <td>4.199995e+01</td>\n",
       "      <td>42</td>\n",
       "    </tr>\n",
       "    <tr>\n",
       "      <th>404</th>\n",
       "      <td>Scrypt</td>\n",
       "      <td>PoW/PoS</td>\n",
       "      <td>1.055185e+09</td>\n",
       "      <td>532000000</td>\n",
       "    </tr>\n",
       "    <tr>\n",
       "      <th>1337</th>\n",
       "      <td>X13</td>\n",
       "      <td>PoW/PoS</td>\n",
       "      <td>2.927942e+10</td>\n",
       "      <td>314159265359</td>\n",
       "    </tr>\n",
       "    <tr>\n",
       "      <th>BTC</th>\n",
       "      <td>SHA-256</td>\n",
       "      <td>PoW</td>\n",
       "      <td>1.792718e+07</td>\n",
       "      <td>21000000</td>\n",
       "    </tr>\n",
       "    <tr>\n",
       "      <th>ETH</th>\n",
       "      <td>Ethash</td>\n",
       "      <td>PoW</td>\n",
       "      <td>1.076842e+08</td>\n",
       "      <td>0</td>\n",
       "    </tr>\n",
       "  </tbody>\n",
       "</table>\n",
       "</div>"
      ],
      "text/plain": [
       "     Algorithm ProofType  TotalCoinsMined TotalCoinSupply\n",
       "42      Scrypt   PoW/PoS     4.199995e+01              42\n",
       "404     Scrypt   PoW/PoS     1.055185e+09       532000000\n",
       "1337       X13   PoW/PoS     2.927942e+10    314159265359\n",
       "BTC    SHA-256       PoW     1.792718e+07        21000000\n",
       "ETH     Ethash       PoW     1.076842e+08               0"
      ]
     },
     "execution_count": 74,
     "metadata": {},
     "output_type": "execute_result"
    }
   ],
   "source": [
    "#remove the column coin name\n",
    "crypto_filtered_df = crypto_filtered_df.drop(columns=['CoinName'], axis=1)\n",
    "crypto_filtered_df.head()"
   ]
  },
  {
   "cell_type": "code",
   "execution_count": 75,
   "metadata": {},
   "outputs": [
    {
     "data": {
      "text/html": [
       "<div>\n",
       "<style scoped>\n",
       "    .dataframe tbody tr th:only-of-type {\n",
       "        vertical-align: middle;\n",
       "    }\n",
       "\n",
       "    .dataframe tbody tr th {\n",
       "        vertical-align: top;\n",
       "    }\n",
       "\n",
       "    .dataframe thead th {\n",
       "        text-align: right;\n",
       "    }\n",
       "</style>\n",
       "<table border=\"1\" class=\"dataframe\">\n",
       "  <thead>\n",
       "    <tr style=\"text-align: right;\">\n",
       "      <th></th>\n",
       "      <th>TotalCoinsMined</th>\n",
       "      <th>TotalCoinSupply</th>\n",
       "      <th>Algorithm_1GB AES Pattern Search</th>\n",
       "      <th>Algorithm_536</th>\n",
       "      <th>Algorithm_Argon2d</th>\n",
       "      <th>Algorithm_BLAKE256</th>\n",
       "      <th>Algorithm_Blake</th>\n",
       "      <th>Algorithm_Blake2S</th>\n",
       "      <th>Algorithm_Blake2b</th>\n",
       "      <th>Algorithm_C11</th>\n",
       "      <th>...</th>\n",
       "      <th>ProofType_PoW/PoS</th>\n",
       "      <th>ProofType_PoW/PoS</th>\n",
       "      <th>ProofType_PoW/PoW</th>\n",
       "      <th>ProofType_PoW/nPoS</th>\n",
       "      <th>ProofType_Pos</th>\n",
       "      <th>ProofType_Proof of Authority</th>\n",
       "      <th>ProofType_Proof of Trust</th>\n",
       "      <th>ProofType_TPoS</th>\n",
       "      <th>ProofType_Zero-Knowledge Proof</th>\n",
       "      <th>ProofType_dPoW/PoW</th>\n",
       "    </tr>\n",
       "  </thead>\n",
       "  <tbody>\n",
       "    <tr>\n",
       "      <th>42</th>\n",
       "      <td>4.199995e+01</td>\n",
       "      <td>42</td>\n",
       "      <td>0</td>\n",
       "      <td>0</td>\n",
       "      <td>0</td>\n",
       "      <td>0</td>\n",
       "      <td>0</td>\n",
       "      <td>0</td>\n",
       "      <td>0</td>\n",
       "      <td>0</td>\n",
       "      <td>...</td>\n",
       "      <td>1</td>\n",
       "      <td>0</td>\n",
       "      <td>0</td>\n",
       "      <td>0</td>\n",
       "      <td>0</td>\n",
       "      <td>0</td>\n",
       "      <td>0</td>\n",
       "      <td>0</td>\n",
       "      <td>0</td>\n",
       "      <td>0</td>\n",
       "    </tr>\n",
       "    <tr>\n",
       "      <th>404</th>\n",
       "      <td>1.055185e+09</td>\n",
       "      <td>532000000</td>\n",
       "      <td>0</td>\n",
       "      <td>0</td>\n",
       "      <td>0</td>\n",
       "      <td>0</td>\n",
       "      <td>0</td>\n",
       "      <td>0</td>\n",
       "      <td>0</td>\n",
       "      <td>0</td>\n",
       "      <td>...</td>\n",
       "      <td>1</td>\n",
       "      <td>0</td>\n",
       "      <td>0</td>\n",
       "      <td>0</td>\n",
       "      <td>0</td>\n",
       "      <td>0</td>\n",
       "      <td>0</td>\n",
       "      <td>0</td>\n",
       "      <td>0</td>\n",
       "      <td>0</td>\n",
       "    </tr>\n",
       "    <tr>\n",
       "      <th>1337</th>\n",
       "      <td>2.927942e+10</td>\n",
       "      <td>314159265359</td>\n",
       "      <td>0</td>\n",
       "      <td>0</td>\n",
       "      <td>0</td>\n",
       "      <td>0</td>\n",
       "      <td>0</td>\n",
       "      <td>0</td>\n",
       "      <td>0</td>\n",
       "      <td>0</td>\n",
       "      <td>...</td>\n",
       "      <td>1</td>\n",
       "      <td>0</td>\n",
       "      <td>0</td>\n",
       "      <td>0</td>\n",
       "      <td>0</td>\n",
       "      <td>0</td>\n",
       "      <td>0</td>\n",
       "      <td>0</td>\n",
       "      <td>0</td>\n",
       "      <td>0</td>\n",
       "    </tr>\n",
       "    <tr>\n",
       "      <th>BTC</th>\n",
       "      <td>1.792718e+07</td>\n",
       "      <td>21000000</td>\n",
       "      <td>0</td>\n",
       "      <td>0</td>\n",
       "      <td>0</td>\n",
       "      <td>0</td>\n",
       "      <td>0</td>\n",
       "      <td>0</td>\n",
       "      <td>0</td>\n",
       "      <td>0</td>\n",
       "      <td>...</td>\n",
       "      <td>0</td>\n",
       "      <td>0</td>\n",
       "      <td>0</td>\n",
       "      <td>0</td>\n",
       "      <td>0</td>\n",
       "      <td>0</td>\n",
       "      <td>0</td>\n",
       "      <td>0</td>\n",
       "      <td>0</td>\n",
       "      <td>0</td>\n",
       "    </tr>\n",
       "    <tr>\n",
       "      <th>ETH</th>\n",
       "      <td>1.076842e+08</td>\n",
       "      <td>0</td>\n",
       "      <td>0</td>\n",
       "      <td>0</td>\n",
       "      <td>0</td>\n",
       "      <td>0</td>\n",
       "      <td>0</td>\n",
       "      <td>0</td>\n",
       "      <td>0</td>\n",
       "      <td>0</td>\n",
       "      <td>...</td>\n",
       "      <td>0</td>\n",
       "      <td>0</td>\n",
       "      <td>0</td>\n",
       "      <td>0</td>\n",
       "      <td>0</td>\n",
       "      <td>0</td>\n",
       "      <td>0</td>\n",
       "      <td>0</td>\n",
       "      <td>0</td>\n",
       "      <td>0</td>\n",
       "    </tr>\n",
       "  </tbody>\n",
       "</table>\n",
       "<p>5 rows × 100 columns</p>\n",
       "</div>"
      ],
      "text/plain": [
       "      TotalCoinsMined TotalCoinSupply  Algorithm_1GB AES Pattern Search  \\\n",
       "42       4.199995e+01              42                                 0   \n",
       "404      1.055185e+09       532000000                                 0   \n",
       "1337     2.927942e+10    314159265359                                 0   \n",
       "BTC      1.792718e+07        21000000                                 0   \n",
       "ETH      1.076842e+08               0                                 0   \n",
       "\n",
       "      Algorithm_536  Algorithm_Argon2d  Algorithm_BLAKE256  Algorithm_Blake  \\\n",
       "42                0                  0                   0                0   \n",
       "404               0                  0                   0                0   \n",
       "1337              0                  0                   0                0   \n",
       "BTC               0                  0                   0                0   \n",
       "ETH               0                  0                   0                0   \n",
       "\n",
       "      Algorithm_Blake2S  Algorithm_Blake2b  Algorithm_C11  ...  \\\n",
       "42                    0                  0              0  ...   \n",
       "404                   0                  0              0  ...   \n",
       "1337                  0                  0              0  ...   \n",
       "BTC                   0                  0              0  ...   \n",
       "ETH                   0                  0              0  ...   \n",
       "\n",
       "      ProofType_PoW/PoS  ProofType_PoW/PoS   ProofType_PoW/PoW  \\\n",
       "42                    1                   0                  0   \n",
       "404                   1                   0                  0   \n",
       "1337                  1                   0                  0   \n",
       "BTC                   0                   0                  0   \n",
       "ETH                   0                   0                  0   \n",
       "\n",
       "      ProofType_PoW/nPoS  ProofType_Pos  ProofType_Proof of Authority  \\\n",
       "42                     0              0                             0   \n",
       "404                    0              0                             0   \n",
       "1337                   0              0                             0   \n",
       "BTC                    0              0                             0   \n",
       "ETH                    0              0                             0   \n",
       "\n",
       "      ProofType_Proof of Trust  ProofType_TPoS  \\\n",
       "42                           0               0   \n",
       "404                          0               0   \n",
       "1337                         0               0   \n",
       "BTC                          0               0   \n",
       "ETH                          0               0   \n",
       "\n",
       "      ProofType_Zero-Knowledge Proof  ProofType_dPoW/PoW  \n",
       "42                                 0                   0  \n",
       "404                                0                   0  \n",
       "1337                               0                   0  \n",
       "BTC                                0                   0  \n",
       "ETH                                0                   0  \n",
       "\n",
       "[5 rows x 100 columns]"
      ]
     },
     "execution_count": 75,
     "metadata": {},
     "output_type": "execute_result"
    }
   ],
   "source": [
    "textual_columns = ['Algorithm', 'ProofType']\n",
    "#encode using pandas get_dummies\n",
    "X = pd.get_dummies(crypto_filtered_df, columns = textual_columns)\n",
    "X.head()"
   ]
  },
  {
   "cell_type": "code",
   "execution_count": 79,
   "metadata": {},
   "outputs": [
    {
     "name": "stdout",
     "output_type": "stream",
     "text": [
      "[[-0.11674788 -0.15286468 -0.0433555  -0.0433555  -0.0433555  -0.06137164\n",
      "  -0.07523548 -0.0433555  -0.06137164 -0.06137164 -0.0433555  -0.0433555\n",
      "  -0.19226279 -0.06137164 -0.09731237 -0.0433555  -0.11536024 -0.07523548\n",
      "  -0.0433555  -0.0433555  -0.15176505 -0.0433555  -0.13105561 -0.0433555\n",
      "  -0.0433555  -0.08695652 -0.0433555  -0.0433555  -0.0433555  -0.0433555\n",
      "  -0.06137164 -0.0433555  -0.08695652 -0.08695652 -0.08695652 -0.0433555\n",
      "  -0.13105561 -0.13827675 -0.13827675 -0.0433555  -0.06137164 -0.0433555\n",
      "  -0.07523548 -0.1815096  -0.0433555  -0.0433555  -0.0433555  -0.07523548\n",
      "  -0.15811388 -0.3145935  -0.0433555  -0.08695652 -0.07523548 -0.06137164\n",
      "  -0.0433555   1.38873015 -0.0433555  -0.0433555  -0.06137164 -0.0433555\n",
      "  -0.0433555  -0.0433555  -0.0433555  -0.0433555  -0.0433555  -0.0433555\n",
      "  -0.0433555  -0.39836623 -0.0433555  -0.1815096  -0.0433555  -0.08695652\n",
      "  -0.08695652 -0.10670145 -0.0433555  -0.0433555  -0.13105561 -0.0433555\n",
      "  -0.0433555  -0.0433555  -0.0433555  -0.07523548 -0.4386271  -0.0433555\n",
      "  -0.06137164 -0.0433555  -0.0433555  -0.89480483 -0.0433555  -0.0433555\n",
      "   1.42422228 -0.0433555  -0.0433555  -0.0433555  -0.0433555  -0.0433555\n",
      "  -0.0433555  -0.0433555  -0.0433555  -0.0433555 ]\n",
      " [-0.09358885 -0.14499604 -0.0433555  -0.0433555  -0.0433555  -0.06137164\n",
      "  -0.07523548 -0.0433555  -0.06137164 -0.06137164 -0.0433555  -0.0433555\n",
      "  -0.19226279 -0.06137164 -0.09731237 -0.0433555  -0.11536024 -0.07523548\n",
      "  -0.0433555  -0.0433555  -0.15176505 -0.0433555  -0.13105561 -0.0433555\n",
      "  -0.0433555  -0.08695652 -0.0433555  -0.0433555  -0.0433555  -0.0433555\n",
      "  -0.06137164 -0.0433555  -0.08695652 -0.08695652 -0.08695652 -0.0433555\n",
      "  -0.13105561 -0.13827675 -0.13827675 -0.0433555  -0.06137164 -0.0433555\n",
      "  -0.07523548 -0.1815096  -0.0433555  -0.0433555  -0.0433555  -0.07523548\n",
      "  -0.15811388 -0.3145935  -0.0433555  -0.08695652 -0.07523548 -0.06137164\n",
      "  -0.0433555   1.38873015 -0.0433555  -0.0433555  -0.06137164 -0.0433555\n",
      "  -0.0433555  -0.0433555  -0.0433555  -0.0433555  -0.0433555  -0.0433555\n",
      "  -0.0433555  -0.39836623 -0.0433555  -0.1815096  -0.0433555  -0.08695652\n",
      "  -0.08695652 -0.10670145 -0.0433555  -0.0433555  -0.13105561 -0.0433555\n",
      "  -0.0433555  -0.0433555  -0.0433555  -0.07523548 -0.4386271  -0.0433555\n",
      "  -0.06137164 -0.0433555  -0.0433555  -0.89480483 -0.0433555  -0.0433555\n",
      "   1.42422228 -0.0433555  -0.0433555  -0.0433555  -0.0433555  -0.0433555\n",
      "  -0.0433555  -0.0433555  -0.0433555  -0.0433555 ]\n",
      " [ 0.52587231  4.4937636  -0.0433555  -0.0433555  -0.0433555  -0.06137164\n",
      "  -0.07523548 -0.0433555  -0.06137164 -0.06137164 -0.0433555  -0.0433555\n",
      "  -0.19226279 -0.06137164 -0.09731237 -0.0433555  -0.11536024 -0.07523548\n",
      "  -0.0433555  -0.0433555  -0.15176505 -0.0433555  -0.13105561 -0.0433555\n",
      "  -0.0433555  -0.08695652 -0.0433555  -0.0433555  -0.0433555  -0.0433555\n",
      "  -0.06137164 -0.0433555  -0.08695652 -0.08695652 -0.08695652 -0.0433555\n",
      "  -0.13105561 -0.13827675 -0.13827675 -0.0433555  -0.06137164 -0.0433555\n",
      "  -0.07523548 -0.1815096  -0.0433555  -0.0433555  -0.0433555  -0.07523548\n",
      "  -0.15811388 -0.3145935  -0.0433555  -0.08695652 -0.07523548 -0.06137164\n",
      "  -0.0433555  -0.7200823  -0.0433555  -0.0433555  -0.06137164 -0.0433555\n",
      "  -0.0433555  -0.0433555  -0.0433555  -0.0433555  -0.0433555  -0.0433555\n",
      "  -0.0433555  -0.39836623 -0.0433555   5.50935034 -0.0433555  -0.08695652\n",
      "  -0.08695652 -0.10670145 -0.0433555  -0.0433555  -0.13105561 -0.0433555\n",
      "  -0.0433555  -0.0433555  -0.0433555  -0.07523548 -0.4386271  -0.0433555\n",
      "  -0.06137164 -0.0433555  -0.0433555  -0.89480483 -0.0433555  -0.0433555\n",
      "   1.42422228 -0.0433555  -0.0433555  -0.0433555  -0.0433555  -0.0433555\n",
      "  -0.0433555  -0.0433555  -0.0433555  -0.0433555 ]\n",
      " [-0.11635442 -0.15255408 -0.0433555  -0.0433555  -0.0433555  -0.06137164\n",
      "  -0.07523548 -0.0433555  -0.06137164 -0.06137164 -0.0433555  -0.0433555\n",
      "  -0.19226279 -0.06137164 -0.09731237 -0.0433555  -0.11536024 -0.07523548\n",
      "  -0.0433555  -0.0433555  -0.15176505 -0.0433555  -0.13105561 -0.0433555\n",
      "  -0.0433555  -0.08695652 -0.0433555  -0.0433555  -0.0433555  -0.0433555\n",
      "  -0.06137164 -0.0433555  -0.08695652 -0.08695652 -0.08695652 -0.0433555\n",
      "  -0.13105561 -0.13827675 -0.13827675 -0.0433555  -0.06137164 -0.0433555\n",
      "  -0.07523548 -0.1815096  -0.0433555  -0.0433555  -0.0433555  -0.07523548\n",
      "  -0.15811388  3.17870519 -0.0433555  -0.08695652 -0.07523548 -0.06137164\n",
      "  -0.0433555  -0.7200823  -0.0433555  -0.0433555  -0.06137164 -0.0433555\n",
      "  -0.0433555  -0.0433555  -0.0433555  -0.0433555  -0.0433555  -0.0433555\n",
      "  -0.0433555  -0.39836623 -0.0433555  -0.1815096  -0.0433555  -0.08695652\n",
      "  -0.08695652 -0.10670145 -0.0433555  -0.0433555  -0.13105561 -0.0433555\n",
      "  -0.0433555  -0.0433555  -0.0433555  -0.07523548 -0.4386271  -0.0433555\n",
      "  -0.06137164 -0.0433555  -0.0433555   1.11756214 -0.0433555  -0.0433555\n",
      "  -0.70213759 -0.0433555  -0.0433555  -0.0433555  -0.0433555  -0.0433555\n",
      "  -0.0433555  -0.0433555  -0.0433555  -0.0433555 ]\n",
      " [-0.11438445 -0.15286468 -0.0433555  -0.0433555  -0.0433555  -0.06137164\n",
      "  -0.07523548 -0.0433555  -0.06137164 -0.06137164 -0.0433555  -0.0433555\n",
      "  -0.19226279 -0.06137164 -0.09731237 -0.0433555  -0.11536024 -0.07523548\n",
      "  -0.0433555  -0.0433555  -0.15176505 -0.0433555   7.63034876 -0.0433555\n",
      "  -0.0433555  -0.08695652 -0.0433555  -0.0433555  -0.0433555  -0.0433555\n",
      "  -0.06137164 -0.0433555  -0.08695652 -0.08695652 -0.08695652 -0.0433555\n",
      "  -0.13105561 -0.13827675 -0.13827675 -0.0433555  -0.06137164 -0.0433555\n",
      "  -0.07523548 -0.1815096  -0.0433555  -0.0433555  -0.0433555  -0.07523548\n",
      "  -0.15811388 -0.3145935  -0.0433555  -0.08695652 -0.07523548 -0.06137164\n",
      "  -0.0433555  -0.7200823  -0.0433555  -0.0433555  -0.06137164 -0.0433555\n",
      "  -0.0433555  -0.0433555  -0.0433555  -0.0433555  -0.0433555  -0.0433555\n",
      "  -0.0433555  -0.39836623 -0.0433555  -0.1815096  -0.0433555  -0.08695652\n",
      "  -0.08695652 -0.10670145 -0.0433555  -0.0433555  -0.13105561 -0.0433555\n",
      "  -0.0433555  -0.0433555  -0.0433555  -0.07523548 -0.4386271  -0.0433555\n",
      "  -0.06137164 -0.0433555  -0.0433555   1.11756214 -0.0433555  -0.0433555\n",
      "  -0.70213759 -0.0433555  -0.0433555  -0.0433555  -0.0433555  -0.0433555\n",
      "  -0.0433555  -0.0433555  -0.0433555  -0.0433555 ]\n",
      " [-0.11536431 -0.15162226 -0.0433555  -0.0433555  -0.0433555  -0.06137164\n",
      "  -0.07523548 -0.0433555  -0.06137164 -0.06137164 -0.0433555  -0.0433555\n",
      "  -0.19226279 -0.06137164 -0.09731237 -0.0433555  -0.11536024 -0.07523548\n",
      "  -0.0433555  -0.0433555  -0.15176505 -0.0433555  -0.13105561 -0.0433555\n",
      "  -0.0433555  -0.08695652 -0.0433555  -0.0433555  -0.0433555  -0.0433555\n",
      "  -0.06137164 -0.0433555  -0.08695652 -0.08695652 -0.08695652 -0.0433555\n",
      "  -0.13105561 -0.13827675 -0.13827675 -0.0433555  -0.06137164 -0.0433555\n",
      "  -0.07523548 -0.1815096  -0.0433555  -0.0433555  -0.0433555  -0.07523548\n",
      "  -0.15811388 -0.3145935  -0.0433555  -0.08695652 -0.07523548 -0.06137164\n",
      "  -0.0433555   1.38873015 -0.0433555  -0.0433555  -0.06137164 -0.0433555\n",
      "  -0.0433555  -0.0433555  -0.0433555  -0.0433555  -0.0433555  -0.0433555\n",
      "  -0.0433555  -0.39836623 -0.0433555  -0.1815096  -0.0433555  -0.08695652\n",
      "  -0.08695652 -0.10670145 -0.0433555  -0.0433555  -0.13105561 -0.0433555\n",
      "  -0.0433555  -0.0433555  -0.0433555  -0.07523548 -0.4386271  -0.0433555\n",
      "  -0.06137164 -0.0433555  -0.0433555   1.11756214 -0.0433555  -0.0433555\n",
      "  -0.70213759 -0.0433555  -0.0433555  -0.0433555  -0.0433555  -0.0433555\n",
      "  -0.0433555  -0.0433555  -0.0433555  -0.0433555 ]\n",
      " [-0.11654967 -0.15253929 -0.0433555  -0.0433555  -0.0433555  -0.06137164\n",
      "  -0.07523548 -0.0433555  -0.06137164 -0.06137164 -0.0433555  -0.0433555\n",
      "  -0.19226279 -0.06137164 -0.09731237 -0.0433555  -0.11536024 -0.07523548\n",
      "  -0.0433555  -0.0433555  -0.15176505 -0.0433555  -0.13105561 -0.0433555\n",
      "  -0.0433555  -0.08695652 -0.0433555  -0.0433555  -0.0433555  -0.0433555\n",
      "  -0.06137164 -0.0433555  -0.08695652 -0.08695652 -0.08695652 -0.0433555\n",
      "  -0.13105561 -0.13827675 -0.13827675 -0.0433555  -0.06137164 -0.0433555\n",
      "  -0.07523548 -0.1815096  -0.0433555  -0.0433555  -0.0433555  -0.07523548\n",
      "  -0.15811388 -0.3145935  -0.0433555  -0.08695652 -0.07523548 -0.06137164\n",
      "  -0.0433555  -0.7200823  -0.0433555  -0.0433555  -0.06137164 -0.0433555\n",
      "  -0.0433555  -0.0433555  -0.0433555  -0.0433555  -0.0433555  -0.0433555\n",
      "  -0.0433555   2.51025295 -0.0433555  -0.1815096  -0.0433555  -0.08695652\n",
      "  -0.08695652 -0.10670145 -0.0433555  -0.0433555  -0.13105561 -0.0433555\n",
      "  -0.0433555  -0.0433555  -0.0433555  -0.07523548 -0.4386271  -0.0433555\n",
      "  -0.06137164 -0.0433555  -0.0433555  -0.89480483 -0.0433555  -0.0433555\n",
      "   1.42422228 -0.0433555  -0.0433555  -0.0433555  -0.0433555  -0.0433555\n",
      "  -0.0433555  -0.0433555  -0.0433555  -0.0433555 ]\n",
      " [-0.11637036 -0.15286468 -0.0433555  -0.0433555  -0.0433555  -0.06137164\n",
      "  -0.07523548 -0.0433555  -0.06137164 -0.06137164 -0.0433555  -0.0433555\n",
      "  -0.19226279 -0.06137164 10.27618606 -0.0433555  -0.11536024 -0.07523548\n",
      "  -0.0433555  -0.0433555  -0.15176505 -0.0433555  -0.13105561 -0.0433555\n",
      "  -0.0433555  -0.08695652 -0.0433555  -0.0433555  -0.0433555  -0.0433555\n",
      "  -0.06137164 -0.0433555  -0.08695652 -0.08695652 -0.08695652 -0.0433555\n",
      "  -0.13105561 -0.13827675 -0.13827675 -0.0433555  -0.06137164 -0.0433555\n",
      "  -0.07523548 -0.1815096  -0.0433555  -0.0433555  -0.0433555  -0.07523548\n",
      "  -0.15811388 -0.3145935  -0.0433555  -0.08695652 -0.07523548 -0.06137164\n",
      "  -0.0433555  -0.7200823  -0.0433555  -0.0433555  -0.06137164 -0.0433555\n",
      "  -0.0433555  -0.0433555  -0.0433555  -0.0433555  -0.0433555  -0.0433555\n",
      "  -0.0433555  -0.39836623 -0.0433555  -0.1815096  -0.0433555  -0.08695652\n",
      "  -0.08695652 -0.10670145 -0.0433555  -0.0433555  -0.13105561 -0.0433555\n",
      "  -0.0433555  -0.0433555  -0.0433555  -0.07523548 -0.4386271  -0.0433555\n",
      "  -0.06137164 -0.0433555  -0.0433555   1.11756214 -0.0433555  -0.0433555\n",
      "  -0.70213759 -0.0433555  -0.0433555  -0.0433555  -0.0433555  -0.0433555\n",
      "  -0.0433555  -0.0433555  -0.0433555  -0.0433555 ]\n",
      " [-0.11425988 -0.14975864 -0.0433555  -0.0433555  -0.0433555  -0.06137164\n",
      "  -0.07523548 -0.0433555  -0.06137164 -0.06137164 -0.0433555  -0.0433555\n",
      "  -0.19226279 -0.06137164 -0.09731237 -0.0433555  -0.11536024 -0.07523548\n",
      "  -0.0433555  -0.0433555  -0.15176505 -0.0433555   7.63034876 -0.0433555\n",
      "  -0.0433555  -0.08695652 -0.0433555  -0.0433555  -0.0433555  -0.0433555\n",
      "  -0.06137164 -0.0433555  -0.08695652 -0.08695652 -0.08695652 -0.0433555\n",
      "  -0.13105561 -0.13827675 -0.13827675 -0.0433555  -0.06137164 -0.0433555\n",
      "  -0.07523548 -0.1815096  -0.0433555  -0.0433555  -0.0433555  -0.07523548\n",
      "  -0.15811388 -0.3145935  -0.0433555  -0.08695652 -0.07523548 -0.06137164\n",
      "  -0.0433555  -0.7200823  -0.0433555  -0.0433555  -0.06137164 -0.0433555\n",
      "  -0.0433555  -0.0433555  -0.0433555  -0.0433555  -0.0433555  -0.0433555\n",
      "  -0.0433555  -0.39836623 -0.0433555  -0.1815096  -0.0433555  -0.08695652\n",
      "  -0.08695652 -0.10670145 -0.0433555  -0.0433555  -0.13105561 -0.0433555\n",
      "  -0.0433555  -0.0433555  -0.0433555  -0.07523548 -0.4386271  -0.0433555\n",
      "  -0.06137164 -0.0433555  -0.0433555   1.11756214 -0.0433555  -0.0433555\n",
      "  -0.70213759 -0.0433555  -0.0433555  -0.0433555  -0.0433555  -0.0433555\n",
      "  -0.0433555  -0.0433555  -0.0433555  -0.0433555 ]\n",
      " [-0.11658584 -0.15255408 -0.0433555  -0.0433555  -0.0433555  -0.06137164\n",
      "  -0.07523548 -0.0433555  -0.06137164 -0.06137164 -0.0433555  -0.0433555\n",
      "  -0.19226279 -0.06137164 -0.09731237 -0.0433555  -0.11536024 -0.07523548\n",
      "  -0.0433555  -0.0433555   6.58913247 -0.0433555  -0.13105561 -0.0433555\n",
      "  -0.0433555  -0.08695652 -0.0433555  -0.0433555  -0.0433555  -0.0433555\n",
      "  -0.06137164 -0.0433555  -0.08695652 -0.08695652 -0.08695652 -0.0433555\n",
      "  -0.13105561 -0.13827675 -0.13827675 -0.0433555  -0.06137164 -0.0433555\n",
      "  -0.07523548 -0.1815096  -0.0433555  -0.0433555  -0.0433555  -0.07523548\n",
      "  -0.15811388 -0.3145935  -0.0433555  -0.08695652 -0.07523548 -0.06137164\n",
      "  -0.0433555  -0.7200823  -0.0433555  -0.0433555  -0.06137164 -0.0433555\n",
      "  -0.0433555  -0.0433555  -0.0433555  -0.0433555  -0.0433555  -0.0433555\n",
      "  -0.0433555  -0.39836623 -0.0433555  -0.1815096  -0.0433555  -0.08695652\n",
      "  -0.08695652 -0.10670145 -0.0433555  -0.0433555  -0.13105561 -0.0433555\n",
      "  -0.0433555  -0.0433555  -0.0433555  -0.07523548 -0.4386271  -0.0433555\n",
      "  -0.06137164 -0.0433555  -0.0433555   1.11756214 -0.0433555  -0.0433555\n",
      "  -0.70213759 -0.0433555  -0.0433555  -0.0433555  -0.0433555  -0.0433555\n",
      "  -0.0433555  -0.0433555  -0.0433555  -0.0433555 ]]\n"
     ]
    }
   ],
   "source": [
    "#standardize the features before using the feature\n",
    "X_scaled = StandardScaler().fit_transform(X)\n",
    "print(X_scaled[0:10])"
   ]
  },
  {
   "cell_type": "code",
   "execution_count": 87,
   "metadata": {},
   "outputs": [],
   "source": [
    "#Initialize PCA model\n",
    "pca = PCA(n_components=3)\n",
    "X_pca = pca.fit_transform(X_scaled)"
   ]
  },
  {
   "cell_type": "code",
   "execution_count": 88,
   "metadata": {},
   "outputs": [
    {
     "data": {
      "text/html": [
       "<div>\n",
       "<style scoped>\n",
       "    .dataframe tbody tr th:only-of-type {\n",
       "        vertical-align: middle;\n",
       "    }\n",
       "\n",
       "    .dataframe tbody tr th {\n",
       "        vertical-align: top;\n",
       "    }\n",
       "\n",
       "    .dataframe thead th {\n",
       "        text-align: right;\n",
       "    }\n",
       "</style>\n",
       "<table border=\"1\" class=\"dataframe\">\n",
       "  <thead>\n",
       "    <tr style=\"text-align: right;\">\n",
       "      <th></th>\n",
       "      <th>PC 1</th>\n",
       "      <th>PC 2</th>\n",
       "      <th>PC 3</th>\n",
       "    </tr>\n",
       "  </thead>\n",
       "  <tbody>\n",
       "    <tr>\n",
       "      <th>42</th>\n",
       "      <td>-0.341455</td>\n",
       "      <td>1.094847</td>\n",
       "      <td>-0.553961</td>\n",
       "    </tr>\n",
       "    <tr>\n",
       "      <th>404</th>\n",
       "      <td>-0.324842</td>\n",
       "      <td>1.095431</td>\n",
       "      <td>-0.554604</td>\n",
       "    </tr>\n",
       "    <tr>\n",
       "      <th>1337</th>\n",
       "      <td>2.281838</td>\n",
       "      <td>1.770139</td>\n",
       "      <td>-0.659218</td>\n",
       "    </tr>\n",
       "    <tr>\n",
       "      <th>BTC</th>\n",
       "      <td>-0.154407</td>\n",
       "      <td>-1.346324</td>\n",
       "      <td>0.177309</td>\n",
       "    </tr>\n",
       "    <tr>\n",
       "      <th>ETH</th>\n",
       "      <td>-0.154970</td>\n",
       "      <td>-2.044623</td>\n",
       "      <td>0.388269</td>\n",
       "    </tr>\n",
       "  </tbody>\n",
       "</table>\n",
       "</div>"
      ],
      "text/plain": [
       "          PC 1      PC 2      PC 3\n",
       "42   -0.341455  1.094847 -0.553961\n",
       "404  -0.324842  1.095431 -0.554604\n",
       "1337  2.281838  1.770139 -0.659218\n",
       "BTC  -0.154407 -1.346324  0.177309\n",
       "ETH  -0.154970 -2.044623  0.388269"
      ]
     },
     "execution_count": 88,
     "metadata": {},
     "output_type": "execute_result"
    }
   ],
   "source": [
    "#create new dataframe with PCA\n",
    "pcs_df = pd.DataFrame(\n",
    "                       data=X_pca,\n",
    "                       index = X.index,\n",
    "                       columns=['PC 1', 'PC 2', 'PC 3'])\n",
    "pcs_df.head()"
   ]
  },
  {
   "cell_type": "code",
   "execution_count": 89,
   "metadata": {},
   "outputs": [
    {
     "data": {
      "text/plain": [
       "array([0.02736711, 0.02090763, 0.02006771])"
      ]
     },
     "execution_count": 89,
     "metadata": {},
     "output_type": "execute_result"
    }
   ],
   "source": [
    "pca.explained_variance_ratio_"
   ]
  },
  {
   "cell_type": "code",
   "execution_count": 90,
   "metadata": {},
   "outputs": [
    {
     "name": "stderr",
     "output_type": "stream",
     "text": [
      "WARNING:param.CurvePlot01698: title_format is deprecated. Please use title instead\n",
      "WARNING:param.CurvePlot01698: title_format is deprecated. Please use title instead\n"
     ]
    },
    {
     "data": {},
     "metadata": {},
     "output_type": "display_data"
    },
    {
     "data": {
      "application/vnd.holoviews_exec.v0+json": "",
      "text/html": [
       "<div id='1096'>\n",
       "\n",
       "\n",
       "\n",
       "\n",
       "\n",
       "  <div class=\"bk-root\" id=\"ebaf7ae3-ffba-4d99-979d-2fda419cf530\" data-root-id=\"1096\"></div>\n",
       "</div>\n",
       "<script type=\"application/javascript\">\n",
       "    function msg_handler(msg) {\n",
       "      var metadata = msg.metadata;\n",
       "      var buffers = msg.buffers;\n",
       "      var msg = msg.content.data;\n",
       "      if ((metadata.msg_type == \"Ready\")) {\n",
       "        if (metadata.content) {\n",
       "          console.log(\"Python callback returned following output:\", metadata.content);\n",
       "        }\n",
       "      } else if (metadata.msg_type == \"Error\") {\n",
       "        console.log(\"Python failed with the following traceback:\", metadata.traceback)\n",
       "      } else {\n",
       "        \n",
       "var plot_id = \"1096\";\n",
       "\n",
       "if ((plot_id in window.PyViz.plot_index) && (window.PyViz.plot_index[plot_id] != null)) {\n",
       "  var plot = window.PyViz.plot_index[plot_id];\n",
       "} else if ((Bokeh !== undefined) && (plot_id in Bokeh.index)) {\n",
       "  var plot = Bokeh.index[plot_id];\n",
       "}\n",
       "\n",
       "if (plot == null) {\n",
       "  return\n",
       "}\n",
       "\n",
       "if (plot_id in window.PyViz.receivers) {\n",
       "  var receiver = window.PyViz.receivers[plot_id];\n",
       "} else {\n",
       "  var receiver = new Bokeh.protocol.Receiver();\n",
       "  window.PyViz.receivers[plot_id] = receiver;\n",
       "}\n",
       "\n",
       "if ((buffers != undefined) && (buffers.length > 0)) {\n",
       "  receiver.consume(buffers[0].buffer)\n",
       "} else {\n",
       "  receiver.consume(msg)\n",
       "}\n",
       "\n",
       "const comm_msg = receiver.message;\n",
       "if ((comm_msg != null) && (Object.keys(comm_msg.content).length > 0)) {\n",
       "  plot.model.document.apply_json_patch(comm_msg.content, comm_msg.buffers)\n",
       "}\n",
       "\n",
       "      }\n",
       "    }\n",
       "    if ((window.PyViz == undefined) || (!window.PyViz.comm_manager)) {\n",
       "      console.log(\"Could not find comm manager\")\n",
       "    } else {\n",
       "      window.PyViz.comm_manager.register_target('1096', 'c7f4890794dc414b8f66a90b7fc39087', msg_handler);\n",
       "    }\n",
       "    \n",
       "(function(root) {\n",
       "  function embed_document(root) {\n",
       "  var docs_json = {\"16825e14-bea4-48c8-a62b-3b6877aab004\":{\"roots\":{\"references\":[{\"attributes\":{\"text\":\"Elbow curve\",\"text_color\":{\"value\":\"black\"},\"text_font_size\":{\"value\":\"12pt\"}},\"id\":\"1102\",\"type\":\"Title\"},{\"attributes\":{},\"id\":\"1106\",\"type\":\"LinearScale\"},{\"attributes\":{\"bottom_units\":\"screen\",\"fill_alpha\":{\"value\":0.5},\"fill_color\":{\"value\":\"lightgrey\"},\"left_units\":\"screen\",\"level\":\"overlay\",\"line_alpha\":{\"value\":1.0},\"line_color\":{\"value\":\"black\"},\"line_dash\":[4,4],\"line_width\":{\"value\":2},\"render_mode\":\"css\",\"right_units\":\"screen\",\"top_units\":\"screen\"},\"id\":\"1151\",\"type\":\"BoxAnnotation\"},{\"attributes\":{\"line_color\":\"#1f77b3\",\"line_width\":2,\"x\":{\"field\":\"k\"},\"y\":{\"field\":\"inertia\"}},\"id\":\"1135\",\"type\":\"Line\"},{\"attributes\":{},\"id\":\"1108\",\"type\":\"LinearScale\"},{\"attributes\":{\"line_alpha\":0.1,\"line_color\":\"#1f77b3\",\"line_width\":2,\"x\":{\"field\":\"k\"},\"y\":{\"field\":\"inertia\"}},\"id\":\"1136\",\"type\":\"Line\"},{\"attributes\":{\"axis_label\":\"k\",\"axis_label_text_font_size\":{\"value\":\"10pt\"},\"bounds\":\"auto\",\"formatter\":{\"id\":\"1142\",\"type\":\"BasicTickFormatter\"},\"major_label_orientation\":\"horizontal\",\"ticker\":{\"id\":\"1140\",\"type\":\"FixedTicker\"}},\"id\":\"1110\",\"type\":\"LinearAxis\"},{\"attributes\":{\"line_alpha\":0.2,\"line_color\":\"#1f77b3\",\"line_width\":2,\"x\":{\"field\":\"k\"},\"y\":{\"field\":\"inertia\"}},\"id\":\"1137\",\"type\":\"Line\"},{\"attributes\":{},\"id\":\"1111\",\"type\":\"BasicTicker\"},{\"attributes\":{\"data_source\":{\"id\":\"1132\",\"type\":\"ColumnDataSource\"},\"glyph\":{\"id\":\"1135\",\"type\":\"Line\"},\"hover_glyph\":null,\"muted_glyph\":{\"id\":\"1137\",\"type\":\"Line\"},\"nonselection_glyph\":{\"id\":\"1136\",\"type\":\"Line\"},\"selection_glyph\":null,\"view\":{\"id\":\"1139\",\"type\":\"CDSView\"}},\"id\":\"1138\",\"type\":\"GlyphRenderer\"},{\"attributes\":{\"grid_line_color\":null,\"ticker\":{\"id\":\"1111\",\"type\":\"BasicTicker\"}},\"id\":\"1114\",\"type\":\"Grid\"},{\"attributes\":{},\"id\":\"1133\",\"type\":\"Selection\"},{\"attributes\":{\"source\":{\"id\":\"1132\",\"type\":\"ColumnDataSource\"}},\"id\":\"1139\",\"type\":\"CDSView\"},{\"attributes\":{\"axis_label\":\"inertia\",\"axis_label_text_font_size\":{\"value\":\"10pt\"},\"bounds\":\"auto\",\"formatter\":{\"id\":\"1146\",\"type\":\"BasicTickFormatter\"},\"major_label_orientation\":\"horizontal\",\"ticker\":{\"id\":\"1116\",\"type\":\"BasicTicker\"}},\"id\":\"1115\",\"type\":\"LinearAxis\"},{\"attributes\":{},\"id\":\"1116\",\"type\":\"BasicTicker\"},{\"attributes\":{\"callback\":null,\"renderers\":[{\"id\":\"1138\",\"type\":\"GlyphRenderer\"}],\"tags\":[\"hv_created\"],\"tooltips\":[[\"k\",\"@{k}\"],[\"inertia\",\"@{inertia}\"]]},\"id\":\"1100\",\"type\":\"HoverTool\"},{\"attributes\":{\"dimension\":1,\"grid_line_color\":null,\"ticker\":{\"id\":\"1116\",\"type\":\"BasicTicker\"}},\"id\":\"1119\",\"type\":\"Grid\"},{\"attributes\":{\"callback\":null,\"end\":3995.7265440763676,\"reset_end\":3995.7265440763676,\"reset_start\":-241.16041787459773,\"start\":-241.16041787459773,\"tags\":[[[\"inertia\",\"inertia\",null]]]},\"id\":\"1099\",\"type\":\"Range1d\"},{\"attributes\":{},\"id\":\"1153\",\"type\":\"UnionRenderers\"},{\"attributes\":{\"active_drag\":\"auto\",\"active_inspect\":\"auto\",\"active_multi\":null,\"active_scroll\":\"auto\",\"active_tap\":\"auto\",\"tools\":[{\"id\":\"1100\",\"type\":\"HoverTool\"},{\"id\":\"1120\",\"type\":\"SaveTool\"},{\"id\":\"1121\",\"type\":\"PanTool\"},{\"id\":\"1122\",\"type\":\"WheelZoomTool\"},{\"id\":\"1123\",\"type\":\"BoxZoomTool\"},{\"id\":\"1124\",\"type\":\"ResetTool\"}]},\"id\":\"1125\",\"type\":\"Toolbar\"},{\"attributes\":{},\"id\":\"1120\",\"type\":\"SaveTool\"},{\"attributes\":{},\"id\":\"1142\",\"type\":\"BasicTickFormatter\"},{\"attributes\":{\"margin\":[5,5,5,5],\"name\":\"HSpacer01674\",\"sizing_mode\":\"stretch_width\"},\"id\":\"1154\",\"type\":\"Spacer\"},{\"attributes\":{},\"id\":\"1121\",\"type\":\"PanTool\"},{\"attributes\":{\"ticks\":[1,2,3,4,5,6,7,8,9,10,11]},\"id\":\"1140\",\"type\":\"FixedTicker\"},{\"attributes\":{\"callback\":null,\"end\":11.0,\"reset_end\":11.0,\"reset_start\":1.0,\"start\":1.0,\"tags\":[[[\"k\",\"k\",null]]]},\"id\":\"1098\",\"type\":\"Range1d\"},{\"attributes\":{},\"id\":\"1122\",\"type\":\"WheelZoomTool\"},{\"attributes\":{},\"id\":\"1146\",\"type\":\"BasicTickFormatter\"},{\"attributes\":{\"overlay\":{\"id\":\"1151\",\"type\":\"BoxAnnotation\"}},\"id\":\"1123\",\"type\":\"BoxZoomTool\"},{\"attributes\":{\"children\":[{\"id\":\"1097\",\"type\":\"Spacer\"},{\"id\":\"1101\",\"subtype\":\"Figure\",\"type\":\"Plot\"},{\"id\":\"1154\",\"type\":\"Spacer\"}],\"margin\":[0,0,0,0],\"name\":\"Row01669\",\"tags\":[\"embedded\"]},\"id\":\"1096\",\"type\":\"Row\"},{\"attributes\":{},\"id\":\"1124\",\"type\":\"ResetTool\"},{\"attributes\":{\"margin\":[5,5,5,5],\"name\":\"HSpacer01673\",\"sizing_mode\":\"stretch_width\"},\"id\":\"1097\",\"type\":\"Spacer\"},{\"attributes\":{\"callback\":null,\"data\":{\"inertia\":{\"__ndarray__\":\"1m6YJU51rEBoHYaTllijQFS1oYxhspdAd9E8WGb0g0D1YCAREAZ8QEvIEYPXf3NA9qS/WbiibkDOSfAhOdRnQHf8Ed/NO2RAWMSkbKngYEDcpVa2dvpbQA==\",\"dtype\":\"float64\",\"shape\":[11]},\"k\":[1,2,3,4,5,6,7,8,9,10,11]},\"selected\":{\"id\":\"1133\",\"type\":\"Selection\"},\"selection_policy\":{\"id\":\"1153\",\"type\":\"UnionRenderers\"}},\"id\":\"1132\",\"type\":\"ColumnDataSource\"},{\"attributes\":{\"align\":null,\"below\":[{\"id\":\"1110\",\"type\":\"LinearAxis\"}],\"center\":[{\"id\":\"1114\",\"type\":\"Grid\"},{\"id\":\"1119\",\"type\":\"Grid\"}],\"left\":[{\"id\":\"1115\",\"type\":\"LinearAxis\"}],\"margin\":null,\"min_border_bottom\":10,\"min_border_left\":10,\"min_border_right\":10,\"min_border_top\":10,\"plot_height\":300,\"plot_width\":700,\"renderers\":[{\"id\":\"1138\",\"type\":\"GlyphRenderer\"}],\"sizing_mode\":\"fixed\",\"title\":{\"id\":\"1102\",\"type\":\"Title\"},\"toolbar\":{\"id\":\"1125\",\"type\":\"Toolbar\"},\"x_range\":{\"id\":\"1098\",\"type\":\"Range1d\"},\"x_scale\":{\"id\":\"1106\",\"type\":\"LinearScale\"},\"y_range\":{\"id\":\"1099\",\"type\":\"Range1d\"},\"y_scale\":{\"id\":\"1108\",\"type\":\"LinearScale\"}},\"id\":\"1101\",\"subtype\":\"Figure\",\"type\":\"Plot\"}],\"root_ids\":[\"1096\"]},\"title\":\"Bokeh Application\",\"version\":\"1.4.0\"}};\n",
       "  var render_items = [{\"docid\":\"16825e14-bea4-48c8-a62b-3b6877aab004\",\"roots\":{\"1096\":\"ebaf7ae3-ffba-4d99-979d-2fda419cf530\"}}];\n",
       "  root.Bokeh.embed.embed_items_notebook(docs_json, render_items);\n",
       "  }\n",
       "if (root.Bokeh !== undefined) {\n",
       "    embed_document(root);\n",
       "  } else {\n",
       "    var attempts = 0;\n",
       "    var timer = setInterval(function(root) {\n",
       "      if (root.Bokeh !== undefined) {\n",
       "        clearInterval(timer);\n",
       "        embed_document(root);\n",
       "      } else if (document.readyState == \"complete\") {\n",
       "        attempts++;\n",
       "        if (attempts > 100) {\n",
       "          clearInterval(timer);\n",
       "          console.log(\"Bokeh: ERROR: Unable to run BokehJS code because BokehJS library is missing\");\n",
       "        }\n",
       "      }\n",
       "    }, 10, root)\n",
       "  }\n",
       "})(window);</script>"
      ],
      "text/plain": [
       ":Curve   [k]   (inertia)"
      ]
     },
     "execution_count": 90,
     "metadata": {
      "application/vnd.holoviews_exec.v0+json": {
       "id": "1096"
      }
     },
     "output_type": "execute_result"
    }
   ],
   "source": [
    "#do elbow method to get the number of clusters for KMeans\n",
    "k = list(range(1,12))\n",
    "inertia = []\n",
    "for i in k:\n",
    "    km = KMeans(n_clusters=i, random_state=0)\n",
    "    km.fit(pcs_df)\n",
    "    inertia.append(km.inertia_)\n",
    "\n",
    "#create a dictionary with the k and inertia\n",
    "elbow_data = {'k': k, 'inertia': inertia}\n",
    "elbow_df = pd.DataFrame(elbow_data)\n",
    "elbow_df.hvplot.line(x='k', y='inertia', xticks=k, title='Elbow curve')"
   ]
  },
  {
   "cell_type": "code",
   "execution_count": 92,
   "metadata": {},
   "outputs": [
    {
     "data": {
      "text/html": [
       "<div>\n",
       "<style scoped>\n",
       "    .dataframe tbody tr th:only-of-type {\n",
       "        vertical-align: middle;\n",
       "    }\n",
       "\n",
       "    .dataframe tbody tr th {\n",
       "        vertical-align: top;\n",
       "    }\n",
       "\n",
       "    .dataframe thead th {\n",
       "        text-align: right;\n",
       "    }\n",
       "</style>\n",
       "<table border=\"1\" class=\"dataframe\">\n",
       "  <thead>\n",
       "    <tr style=\"text-align: right;\">\n",
       "      <th></th>\n",
       "      <th>PC 1</th>\n",
       "      <th>PC 2</th>\n",
       "      <th>PC 3</th>\n",
       "      <th>Class</th>\n",
       "    </tr>\n",
       "  </thead>\n",
       "  <tbody>\n",
       "    <tr>\n",
       "      <th>42</th>\n",
       "      <td>-0.341455</td>\n",
       "      <td>1.094847</td>\n",
       "      <td>-0.553961</td>\n",
       "      <td>0</td>\n",
       "    </tr>\n",
       "    <tr>\n",
       "      <th>404</th>\n",
       "      <td>-0.324842</td>\n",
       "      <td>1.095431</td>\n",
       "      <td>-0.554604</td>\n",
       "      <td>0</td>\n",
       "    </tr>\n",
       "    <tr>\n",
       "      <th>1337</th>\n",
       "      <td>2.281838</td>\n",
       "      <td>1.770139</td>\n",
       "      <td>-0.659218</td>\n",
       "      <td>0</td>\n",
       "    </tr>\n",
       "    <tr>\n",
       "      <th>BTC</th>\n",
       "      <td>-0.154407</td>\n",
       "      <td>-1.346324</td>\n",
       "      <td>0.177309</td>\n",
       "      <td>1</td>\n",
       "    </tr>\n",
       "    <tr>\n",
       "      <th>ETH</th>\n",
       "      <td>-0.154970</td>\n",
       "      <td>-2.044623</td>\n",
       "      <td>0.388269</td>\n",
       "      <td>1</td>\n",
       "    </tr>\n",
       "  </tbody>\n",
       "</table>\n",
       "</div>"
      ],
      "text/plain": [
       "          PC 1      PC 2      PC 3  Class\n",
       "42   -0.341455  1.094847 -0.553961      0\n",
       "404  -0.324842  1.095431 -0.554604      0\n",
       "1337  2.281838  1.770139 -0.659218      0\n",
       "BTC  -0.154407 -1.346324  0.177309      1\n",
       "ETH  -0.154970 -2.044623  0.388269      1"
      ]
     },
     "execution_count": 92,
     "metadata": {},
     "output_type": "execute_result"
    }
   ],
   "source": [
    "#where k=4 the line becomes almost straight so lets pick the cluster size as 4 for KMeans\n",
    "model = KMeans(n_clusters=4, random_state=0)\n",
    "model.fit(pcs_df)\n",
    "\n",
    "X_predictions = model.predict(pcs_df)\n",
    "pcs_df['Class'] = model.labels_\n",
    "pcs_df.head()"
   ]
  },
  {
   "cell_type": "code",
   "execution_count": 114,
   "metadata": {
    "scrolled": true
   },
   "outputs": [
    {
     "data": {
      "text/html": [
       "<div>\n",
       "<style scoped>\n",
       "    .dataframe tbody tr th:only-of-type {\n",
       "        vertical-align: middle;\n",
       "    }\n",
       "\n",
       "    .dataframe tbody tr th {\n",
       "        vertical-align: top;\n",
       "    }\n",
       "\n",
       "    .dataframe thead th {\n",
       "        text-align: right;\n",
       "    }\n",
       "</style>\n",
       "<table border=\"1\" class=\"dataframe\">\n",
       "  <thead>\n",
       "    <tr style=\"text-align: right;\">\n",
       "      <th></th>\n",
       "      <th>Algorithm</th>\n",
       "      <th>ProofType</th>\n",
       "      <th>TotalCoinsMined</th>\n",
       "      <th>TotalCoinSupply</th>\n",
       "      <th>CoinName</th>\n",
       "      <th>PC 1</th>\n",
       "      <th>PC 2</th>\n",
       "      <th>PC 3</th>\n",
       "      <th>Class</th>\n",
       "    </tr>\n",
       "  </thead>\n",
       "  <tbody>\n",
       "    <tr>\n",
       "      <th>42</th>\n",
       "      <td>Scrypt</td>\n",
       "      <td>PoW/PoS</td>\n",
       "      <td>4.199995e+01</td>\n",
       "      <td>42</td>\n",
       "      <td>42 Coin</td>\n",
       "      <td>-0.341455</td>\n",
       "      <td>1.094847</td>\n",
       "      <td>-0.553961</td>\n",
       "      <td>0</td>\n",
       "    </tr>\n",
       "    <tr>\n",
       "      <th>404</th>\n",
       "      <td>Scrypt</td>\n",
       "      <td>PoW/PoS</td>\n",
       "      <td>1.055185e+09</td>\n",
       "      <td>532000000</td>\n",
       "      <td>404Coin</td>\n",
       "      <td>-0.324842</td>\n",
       "      <td>1.095431</td>\n",
       "      <td>-0.554604</td>\n",
       "      <td>0</td>\n",
       "    </tr>\n",
       "    <tr>\n",
       "      <th>1337</th>\n",
       "      <td>X13</td>\n",
       "      <td>PoW/PoS</td>\n",
       "      <td>2.927942e+10</td>\n",
       "      <td>314159265359</td>\n",
       "      <td>EliteCoin</td>\n",
       "      <td>2.281838</td>\n",
       "      <td>1.770139</td>\n",
       "      <td>-0.659218</td>\n",
       "      <td>0</td>\n",
       "    </tr>\n",
       "    <tr>\n",
       "      <th>BTC</th>\n",
       "      <td>SHA-256</td>\n",
       "      <td>PoW</td>\n",
       "      <td>1.792718e+07</td>\n",
       "      <td>21000000</td>\n",
       "      <td>Bitcoin</td>\n",
       "      <td>-0.154407</td>\n",
       "      <td>-1.346324</td>\n",
       "      <td>0.177309</td>\n",
       "      <td>1</td>\n",
       "    </tr>\n",
       "    <tr>\n",
       "      <th>ETH</th>\n",
       "      <td>Ethash</td>\n",
       "      <td>PoW</td>\n",
       "      <td>1.076842e+08</td>\n",
       "      <td>0</td>\n",
       "      <td>Ethereum</td>\n",
       "      <td>-0.154970</td>\n",
       "      <td>-2.044623</td>\n",
       "      <td>0.388269</td>\n",
       "      <td>1</td>\n",
       "    </tr>\n",
       "  </tbody>\n",
       "</table>\n",
       "</div>"
      ],
      "text/plain": [
       "     Algorithm ProofType  TotalCoinsMined TotalCoinSupply   CoinName  \\\n",
       "42      Scrypt   PoW/PoS     4.199995e+01              42    42 Coin   \n",
       "404     Scrypt   PoW/PoS     1.055185e+09       532000000    404Coin   \n",
       "1337       X13   PoW/PoS     2.927942e+10    314159265359  EliteCoin   \n",
       "BTC    SHA-256       PoW     1.792718e+07        21000000    Bitcoin   \n",
       "ETH     Ethash       PoW     1.076842e+08               0   Ethereum   \n",
       "\n",
       "          PC 1      PC 2      PC 3  Class  \n",
       "42   -0.341455  1.094847 -0.553961      0  \n",
       "404  -0.324842  1.095431 -0.554604      0  \n",
       "1337  2.281838  1.770139 -0.659218      0  \n",
       "BTC  -0.154407 -1.346324  0.177309      1  \n",
       "ETH  -0.154970 -2.044623  0.388269      1  "
      ]
     },
     "execution_count": 114,
     "metadata": {},
     "output_type": "execute_result"
    }
   ],
   "source": [
    "#create new clusterd dataframe\n",
    "clustered_df = crypto_filtered_df.join(coin_name_df)\n",
    "clustered_df = clustered_df.join(pcs_df)\n",
    "clustered_df.head()"
   ]
  },
  {
   "cell_type": "code",
   "execution_count": 115,
   "metadata": {
    "scrolled": true
   },
   "outputs": [
    {
     "data": {
      "text/html": [
       "<div>\n",
       "<style scoped>\n",
       "    .dataframe tbody tr th:only-of-type {\n",
       "        vertical-align: middle;\n",
       "    }\n",
       "\n",
       "    .dataframe tbody tr th {\n",
       "        vertical-align: top;\n",
       "    }\n",
       "\n",
       "    .dataframe thead th {\n",
       "        text-align: right;\n",
       "    }\n",
       "</style>\n",
       "<table border=\"1\" class=\"dataframe\">\n",
       "  <thead>\n",
       "    <tr style=\"text-align: right;\">\n",
       "      <th></th>\n",
       "      <th>Algorithm</th>\n",
       "      <th>ProofType</th>\n",
       "      <th>TotalCoinsMined</th>\n",
       "      <th>TotalCoinSupply</th>\n",
       "      <th>PC 1</th>\n",
       "      <th>PC 2</th>\n",
       "      <th>PC 3</th>\n",
       "      <th>CoinName</th>\n",
       "      <th>Class</th>\n",
       "    </tr>\n",
       "  </thead>\n",
       "  <tbody>\n",
       "    <tr>\n",
       "      <th>42</th>\n",
       "      <td>Scrypt</td>\n",
       "      <td>PoW/PoS</td>\n",
       "      <td>4.199995e+01</td>\n",
       "      <td>42</td>\n",
       "      <td>-0.341455</td>\n",
       "      <td>1.094847</td>\n",
       "      <td>-0.553961</td>\n",
       "      <td>42 Coin</td>\n",
       "      <td>0</td>\n",
       "    </tr>\n",
       "    <tr>\n",
       "      <th>404</th>\n",
       "      <td>Scrypt</td>\n",
       "      <td>PoW/PoS</td>\n",
       "      <td>1.055185e+09</td>\n",
       "      <td>532000000</td>\n",
       "      <td>-0.324842</td>\n",
       "      <td>1.095431</td>\n",
       "      <td>-0.554604</td>\n",
       "      <td>404Coin</td>\n",
       "      <td>0</td>\n",
       "    </tr>\n",
       "    <tr>\n",
       "      <th>1337</th>\n",
       "      <td>X13</td>\n",
       "      <td>PoW/PoS</td>\n",
       "      <td>2.927942e+10</td>\n",
       "      <td>314159265359</td>\n",
       "      <td>2.281838</td>\n",
       "      <td>1.770139</td>\n",
       "      <td>-0.659218</td>\n",
       "      <td>EliteCoin</td>\n",
       "      <td>0</td>\n",
       "    </tr>\n",
       "    <tr>\n",
       "      <th>BTC</th>\n",
       "      <td>SHA-256</td>\n",
       "      <td>PoW</td>\n",
       "      <td>1.792718e+07</td>\n",
       "      <td>21000000</td>\n",
       "      <td>-0.154407</td>\n",
       "      <td>-1.346324</td>\n",
       "      <td>0.177309</td>\n",
       "      <td>Bitcoin</td>\n",
       "      <td>1</td>\n",
       "    </tr>\n",
       "    <tr>\n",
       "      <th>ETH</th>\n",
       "      <td>Ethash</td>\n",
       "      <td>PoW</td>\n",
       "      <td>1.076842e+08</td>\n",
       "      <td>0</td>\n",
       "      <td>-0.154970</td>\n",
       "      <td>-2.044623</td>\n",
       "      <td>0.388269</td>\n",
       "      <td>Ethereum</td>\n",
       "      <td>1</td>\n",
       "    </tr>\n",
       "    <tr>\n",
       "      <th>LTC</th>\n",
       "      <td>Scrypt</td>\n",
       "      <td>PoW</td>\n",
       "      <td>6.303924e+07</td>\n",
       "      <td>84000000</td>\n",
       "      <td>-0.168474</td>\n",
       "      <td>-1.087515</td>\n",
       "      <td>0.011749</td>\n",
       "      <td>Litecoin</td>\n",
       "      <td>1</td>\n",
       "    </tr>\n",
       "    <tr>\n",
       "      <th>DASH</th>\n",
       "      <td>X11</td>\n",
       "      <td>PoW/PoS</td>\n",
       "      <td>9.031294e+06</td>\n",
       "      <td>22000000</td>\n",
       "      <td>-0.418147</td>\n",
       "      <td>1.310355</td>\n",
       "      <td>-0.540897</td>\n",
       "      <td>Dash</td>\n",
       "      <td>0</td>\n",
       "    </tr>\n",
       "    <tr>\n",
       "      <th>XMR</th>\n",
       "      <td>CryptoNight-V7</td>\n",
       "      <td>PoW</td>\n",
       "      <td>1.720114e+07</td>\n",
       "      <td>0</td>\n",
       "      <td>-0.160513</td>\n",
       "      <td>-2.229015</td>\n",
       "      <td>0.398104</td>\n",
       "      <td>Monero</td>\n",
       "      <td>1</td>\n",
       "    </tr>\n",
       "    <tr>\n",
       "      <th>ETC</th>\n",
       "      <td>Ethash</td>\n",
       "      <td>PoW</td>\n",
       "      <td>1.133597e+08</td>\n",
       "      <td>210000000</td>\n",
       "      <td>-0.153418</td>\n",
       "      <td>-2.044673</td>\n",
       "      <td>0.388241</td>\n",
       "      <td>Ethereum Classic</td>\n",
       "      <td>1</td>\n",
       "    </tr>\n",
       "    <tr>\n",
       "      <th>ZEC</th>\n",
       "      <td>Equihash</td>\n",
       "      <td>PoW</td>\n",
       "      <td>7.383056e+06</td>\n",
       "      <td>21000000</td>\n",
       "      <td>-0.150276</td>\n",
       "      <td>-1.978560</td>\n",
       "      <td>0.547972</td>\n",
       "      <td>ZCash</td>\n",
       "      <td>1</td>\n",
       "    </tr>\n",
       "  </tbody>\n",
       "</table>\n",
       "</div>"
      ],
      "text/plain": [
       "           Algorithm ProofType  TotalCoinsMined TotalCoinSupply      PC 1  \\\n",
       "42            Scrypt   PoW/PoS     4.199995e+01              42 -0.341455   \n",
       "404           Scrypt   PoW/PoS     1.055185e+09       532000000 -0.324842   \n",
       "1337             X13   PoW/PoS     2.927942e+10    314159265359  2.281838   \n",
       "BTC          SHA-256       PoW     1.792718e+07        21000000 -0.154407   \n",
       "ETH           Ethash       PoW     1.076842e+08               0 -0.154970   \n",
       "LTC           Scrypt       PoW     6.303924e+07        84000000 -0.168474   \n",
       "DASH             X11   PoW/PoS     9.031294e+06        22000000 -0.418147   \n",
       "XMR   CryptoNight-V7       PoW     1.720114e+07               0 -0.160513   \n",
       "ETC           Ethash       PoW     1.133597e+08       210000000 -0.153418   \n",
       "ZEC         Equihash       PoW     7.383056e+06        21000000 -0.150276   \n",
       "\n",
       "          PC 2      PC 3          CoinName  Class  \n",
       "42    1.094847 -0.553961           42 Coin      0  \n",
       "404   1.095431 -0.554604           404Coin      0  \n",
       "1337  1.770139 -0.659218         EliteCoin      0  \n",
       "BTC  -1.346324  0.177309           Bitcoin      1  \n",
       "ETH  -2.044623  0.388269          Ethereum      1  \n",
       "LTC  -1.087515  0.011749          Litecoin      1  \n",
       "DASH  1.310355 -0.540897              Dash      0  \n",
       "XMR  -2.229015  0.398104            Monero      1  \n",
       "ETC  -2.044673  0.388241  Ethereum Classic      1  \n",
       "ZEC  -1.978560  0.547972             ZCash      1  "
      ]
     },
     "execution_count": 115,
     "metadata": {},
     "output_type": "execute_result"
    }
   ],
   "source": [
    "clustered_df = clustered_df[['Algorithm','ProofType', 'TotalCoinsMined', 'TotalCoinSupply', 'PC 1', 'PC 2', 'PC 3', 'CoinName', 'Class']]\n",
    "clustered_df.head(10)"
   ]
  },
  {
   "cell_type": "code",
   "execution_count": 116,
   "metadata": {},
   "outputs": [],
   "source": [
    "#import plotly for plotting 3d scatter\n",
    "import plotly.express as px"
   ]
  },
  {
   "cell_type": "code",
   "execution_count": 117,
   "metadata": {},
   "outputs": [
    {
     "data": {
      "application/vnd.plotly.v1+json": {
       "config": {
        "plotlyServerURL": "https://plot.ly"
       },
       "data": [
        {
         "customdata": [
          [
           "Scrypt"
          ],
          [
           "Scrypt"
          ],
          [
           "X13"
          ],
          [
           "X11"
          ],
          [
           "SHA-512"
          ],
          [
           "SHA-256"
          ],
          [
           "SHA-256"
          ],
          [
           "X15"
          ],
          [
           "Scrypt"
          ],
          [
           "Scrypt"
          ],
          [
           "Scrypt"
          ],
          [
           "Scrypt"
          ],
          [
           "Scrypt"
          ],
          [
           "Scrypt"
          ],
          [
           "Groestl"
          ],
          [
           "PoS"
          ],
          [
           "Scrypt"
          ],
          [
           "Scrypt"
          ],
          [
           "X11"
          ],
          [
           "X11"
          ],
          [
           "SHA3"
          ],
          [
           "Scrypt"
          ],
          [
           "SHA-256"
          ],
          [
           "Scrypt"
          ],
          [
           "X13"
          ],
          [
           "X13"
          ],
          [
           "NeoScrypt"
          ],
          [
           "Scrypt"
          ],
          [
           "Scrypt"
          ],
          [
           "Scrypt"
          ],
          [
           "X11"
          ],
          [
           "X11"
          ],
          [
           "Multiple"
          ],
          [
           "PHI1612"
          ],
          [
           "X11"
          ],
          [
           "Scrypt"
          ],
          [
           "Scrypt"
          ],
          [
           "Scrypt"
          ],
          [
           "X11"
          ],
          [
           "Multiple"
          ],
          [
           "X13"
          ],
          [
           "Scrypt"
          ],
          [
           "Counterparty"
          ],
          [
           "SHA-256"
          ],
          [
           "Groestl"
          ],
          [
           "Scrypt"
          ],
          [
           "X13"
          ],
          [
           "Scrypt"
          ],
          [
           "Scrypt"
          ],
          [
           "X13"
          ],
          [
           "X11"
          ],
          [
           "Scrypt"
          ],
          [
           "X11"
          ],
          [
           "SHA3"
          ],
          [
           "QUAIT"
          ],
          [
           "X11"
          ],
          [
           "Scrypt"
          ],
          [
           "X13"
          ],
          [
           "SHA-256"
          ],
          [
           "X15"
          ],
          [
           "BLAKE256"
          ],
          [
           "SHA-256"
          ],
          [
           "X11"
          ],
          [
           "SHA-256"
          ],
          [
           "NIST5"
          ],
          [
           "Scrypt"
          ],
          [
           "Scrypt"
          ],
          [
           "X11"
          ],
          [
           "Scrypt"
          ],
          [
           "SHA-256"
          ],
          [
           "Scrypt"
          ],
          [
           "PoS"
          ],
          [
           "X11"
          ],
          [
           "SHA-256"
          ],
          [
           "SHA-256"
          ],
          [
           "NIST5"
          ],
          [
           "X11"
          ],
          [
           "POS 3.0"
          ],
          [
           "Scrypt"
          ],
          [
           "Scrypt"
          ],
          [
           "Scrypt"
          ],
          [
           "X13"
          ],
          [
           "X11"
          ],
          [
           "X11"
          ],
          [
           "Scrypt"
          ],
          [
           "SHA-256"
          ],
          [
           "X11"
          ],
          [
           "Scrypt"
          ],
          [
           "Scrypt"
          ],
          [
           "Scrypt"
          ],
          [
           "Scrypt"
          ],
          [
           "SHA-256D"
          ],
          [
           "PoS"
          ],
          [
           "Scrypt"
          ],
          [
           "X11"
          ],
          [
           "PoS"
          ],
          [
           "X13"
          ],
          [
           "X14"
          ],
          [
           "PoS"
          ],
          [
           "SHA-256D"
          ],
          [
           "DPoS"
          ],
          [
           "X11"
          ],
          [
           "X13"
          ],
          [
           "X11"
          ],
          [
           "PoS"
          ],
          [
           "Scrypt"
          ],
          [
           "Scrypt"
          ],
          [
           "PoS"
          ],
          [
           "X11"
          ],
          [
           "SHA-256"
          ],
          [
           "Scrypt"
          ],
          [
           "X11"
          ],
          [
           "Scrypt"
          ],
          [
           "Scrypt"
          ],
          [
           "X11"
          ],
          [
           "Scrypt"
          ],
          [
           "Scrypt"
          ],
          [
           "Scrypt"
          ],
          [
           "Scrypt"
          ],
          [
           "Quark"
          ],
          [
           "QuBit"
          ],
          [
           "Scrypt"
          ],
          [
           "SHA-256"
          ],
          [
           "X11"
          ],
          [
           "Scrypt"
          ],
          [
           "Scrypt"
          ],
          [
           "Scrypt"
          ],
          [
           "Scrypt"
          ],
          [
           "X13"
          ],
          [
           "Scrypt"
          ],
          [
           "Scrypt"
          ],
          [
           "X11"
          ],
          [
           "Blake2S"
          ],
          [
           "X11"
          ],
          [
           "PoS"
          ],
          [
           "X11"
          ],
          [
           "PoS"
          ],
          [
           "X11"
          ],
          [
           "Scrypt"
          ],
          [
           "Scrypt"
          ],
          [
           "Scrypt"
          ],
          [
           "SHA-256"
          ],
          [
           "X11"
          ],
          [
           "Scrypt"
          ],
          [
           "PoS"
          ],
          [
           "Scrypt"
          ],
          [
           "X15"
          ],
          [
           "SHA-256"
          ],
          [
           "POS 3.0"
          ],
          [
           "536"
          ],
          [
           "NIST5"
          ],
          [
           "NIST5"
          ],
          [
           "Skein"
          ],
          [
           "X13"
          ],
          [
           "Scrypt"
          ],
          [
           "X13"
          ],
          [
           "SkunkHash v2 Raptor"
          ],
          [
           "Skein"
          ],
          [
           "X11"
          ],
          [
           "Scrypt"
          ],
          [
           "PoS"
          ],
          [
           "Scrypt"
          ],
          [
           "Scrypt"
          ],
          [
           "SHA-512"
          ],
          [
           "Ouroboros"
          ],
          [
           "X11"
          ],
          [
           "NeoScrypt"
          ],
          [
           "Scrypt"
          ],
          [
           "Lyra2REv2"
          ],
          [
           "Scrypt"
          ],
          [
           "SHA-256"
          ],
          [
           "NIST5"
          ],
          [
           "PHI1612"
          ],
          [
           "Scrypt"
          ],
          [
           "Quark"
          ],
          [
           "POS 2.0"
          ],
          [
           "Scrypt"
          ],
          [
           "SHA-256"
          ],
          [
           "X11"
          ],
          [
           "DPoS"
          ],
          [
           "NIST5"
          ],
          [
           "X13"
          ],
          [
           "Scrypt"
          ],
          [
           "NIST5"
          ],
          [
           "Quark"
          ],
          [
           "Scrypt"
          ],
          [
           "Scrypt"
          ],
          [
           "X11"
          ],
          [
           "Quark"
          ],
          [
           "Scrypt"
          ],
          [
           "Scrypt"
          ],
          [
           "X11"
          ],
          [
           "POS 3.0"
          ],
          [
           "Scrypt"
          ],
          [
           "Scrypt"
          ],
          [
           "X13"
          ],
          [
           "Proof-of-BibleHash"
          ],
          [
           "C11"
          ],
          [
           "Proof-of-Authority"
          ],
          [
           "X11"
          ],
          [
           "XEVAN"
          ],
          [
           "Scrypt"
          ],
          [
           "VBFT"
          ],
          [
           "NIST5"
          ],
          [
           "Scrypt"
          ],
          [
           "Scrypt"
          ],
          [
           "Scrypt"
          ],
          [
           "Green Protocol"
          ],
          [
           "PoS"
          ],
          [
           "Scrypt"
          ],
          [
           "Semux BFT consensus"
          ],
          [
           "Quark"
          ],
          [
           "PoS"
          ],
          [
           "X16R"
          ],
          [
           "Scrypt"
          ],
          [
           "XEVAN"
          ],
          [
           "Scrypt"
          ],
          [
           "Scrypt"
          ],
          [
           "Scrypt"
          ],
          [
           "SHA-256D"
          ],
          [
           "Scrypt"
          ],
          [
           "X15"
          ],
          [
           "Scrypt"
          ],
          [
           "Quark"
          ],
          [
           "SHA-256"
          ],
          [
           "DPoS"
          ],
          [
           "X16R"
          ],
          [
           "Quark"
          ],
          [
           "Quark"
          ],
          [
           "Scrypt"
          ],
          [
           "Lyra2REv2"
          ],
          [
           "Quark"
          ],
          [
           "Scrypt"
          ],
          [
           "X11"
          ],
          [
           "X11"
          ],
          [
           "Scrypt"
          ],
          [
           "PoS"
          ],
          [
           "Keccak"
          ],
          [
           "X11"
          ],
          [
           "Scrypt"
          ],
          [
           "SHA-512"
          ],
          [
           "ECC 256K1"
          ],
          [
           "XEVAN"
          ],
          [
           "X11"
          ],
          [
           "Quark"
          ],
          [
           "Scrypt"
          ],
          [
           "Quark"
          ],
          [
           "Quark"
          ],
          [
           "Scrypt"
          ],
          [
           "X11"
          ],
          [
           "Scrypt"
          ],
          [
           "XEVAN"
          ],
          [
           "SHA-256D"
          ],
          [
           "X11"
          ],
          [
           "X11"
          ],
          [
           "DPoS"
          ],
          [
           "Scrypt"
          ],
          [
           "X11"
          ],
          [
           "Scrypt"
          ],
          [
           "Scrypt"
          ],
          [
           "SHA-256"
          ],
          [
           "Scrypt"
          ],
          [
           "X11"
          ],
          [
           "Scrypt"
          ],
          [
           "SHA-256"
          ],
          [
           "X11"
          ],
          [
           "Scrypt"
          ],
          [
           "Scrypt"
          ],
          [
           "X11"
          ],
          [
           "Scrypt"
          ],
          [
           "PoS"
          ],
          [
           "X11"
          ],
          [
           "SHA-256"
          ],
          [
           "DPoS"
          ],
          [
           "Scrypt"
          ],
          [
           "Scrypt"
          ],
          [
           "NeoScrypt"
          ],
          [
           "X13"
          ],
          [
           "DPoS"
          ],
          [
           "DPoS"
          ],
          [
           "SHA-256"
          ],
          [
           "Leased POS"
          ],
          [
           "PoS"
          ],
          [
           "PoS"
          ],
          [
           "SHA-256"
          ],
          [
           "Scrypt"
          ],
          [
           "Scrypt"
          ]
         ],
         "hovertemplate": "<b>%{hovertext}</b><br><br>Class=%{marker.color}<br>PC 1=%{x}<br>PC 2=%{y}<br>PC 3=%{z}<br>Algorithm=%{customdata[0]}<extra></extra>",
         "hovertext": [
          "42 Coin",
          "404Coin",
          "EliteCoin",
          "Dash",
          "Bitshares",
          "BitcoinDark",
          "PayCoin",
          "KoboCoin",
          "Aurora Coin",
          "BlueCoin",
          "EnergyCoin",
          "BitBar",
          "CryptoBullion",
          "CasinoCoin",
          "Diamond",
          "Exclusive Coin",
          "FlutterCoin",
          "HoboNickels",
          "HyperStake",
          "IOCoin",
          "MaxCoin",
          "MintCoin",
          "MazaCoin",
          "Nautilus Coin",
          "NavCoin",
          "OpalCoin",
          "Orbitcoin",
          "PotCoin",
          "PhoenixCoin",
          "Reddcoin",
          "SuperCoin",
          "SyncCoin",
          "TeslaCoin",
          "TittieCoin",
          "TorCoin",
          "UnitaryStatus Dollar",
          "UltraCoin",
          "VeriCoin",
          "X11 Coin",
          "Crypti",
          "StealthCoin",
          "ZCC Coin",
          "StorjCoin",
          "Neutron",
          "FairCoin",
          "RubyCoin",
          "Kore",
          "Dnotes",
          "8BIT Coin",
          "Sativa Coin",
          "Ucoin",
          "Vtorrent",
          "IslaCoin",
          "Nexus",
          "Droidz",
          "Squall Coin",
          "Diggits",
          "Paycon",
          "Emercoin",
          "EverGreenCoin",
          "Decred",
          "EDRCoin",
          "Hitcoin",
          "DubaiCoin",
          "PWR Coin",
          "BillaryCoin",
          "GPU Coin",
          "EuropeCoin",
          "ZeitCoin",
          "SwingCoin",
          "SafeExchangeCoin",
          "Nebuchadnezzar",
          "Ratecoin",
          "Revenu",
          "Clockcoin",
          "VIP Tokens",
          "BitSend",
          "Let it Ride",
          "PutinCoin",
          "iBankCoin",
          "Frankywillcoin",
          "MudraCoin",
          "Lutetium Coin",
          "GoldBlocks",
          "CarterCoin",
          "BitTokens",
          "MustangCoin",
          "ZoneCoin",
          "RootCoin",
          "BitCurrency",
          "Swiscoin",
          "BuzzCoin",
          "Opair",
          "PesoBit",
          "Halloween Coin",
          "CoffeeCoin",
          "RoyalCoin",
          "GanjaCoin V2",
          "TeamUP",
          "LanaCoin",
          "ARK",
          "InsaneCoin",
          "EmberCoin",
          "XenixCoin",
          "FreeCoin",
          "PLNCoin",
          "AquariusCoin",
          "Creatio",
          "Eternity",
          "Eurocoin",
          "BitcoinFast",
          "Stakenet",
          "BitConnect Coin",
          "MoneyCoin",
          "Enigma",
          "Russiacoin",
          "PandaCoin",
          "GameUnits",
          "GAKHcoin",
          "Allsafe",
          "LiteCreed",
          "Klingon Empire Darsek",
          "Internet of People",
          "KushCoin",
          "Printerium",
          "Impeach",
          "Zilbercoin",
          "FirstCoin",
          "FindCoin",
          "OpenChat",
          "RenosCoin",
          "VirtacoinPlus",
          "TajCoin",
          "Impact",
          "Atmos",
          "HappyCoin",
          "MacronCoin",
          "Condensate",
          "Independent Money System",
          "ArgusCoin",
          "LomoCoin",
          "ProCurrency",
          "GoldReserve",
          "GrowthCoin",
          "Phreak",
          "Degas Coin",
          "HTML5 Coin",
          "Ultimate Secure Cash",
          "QTUM",
          "Espers",
          "Denarius",
          "Virta Unique Coin",
          "Bitcoin Planet",
          "BritCoin",
          "Linda",
          "DeepOnion",
          "Signatum",
          "Cream",
          "Monoeci",
          "Draftcoin",
          "Stakecoin",
          "CoinonatX",
          "Ethereum Dark",
          "Obsidian",
          "Cardano",
          "Regalcoin",
          "TrezarCoin",
          "TerraNovaCoin",
          "Rupee",
          "WomenCoin",
          "Theresa May Coin",
          "NamoCoin",
          "LUXCoin",
          "Xios",
          "Bitcloud 2.0",
          "KekCoin",
          "BlackholeCoin",
          "Infinity Economics",
          "Magnet",
          "Lamden Tau",
          "Electra",
          "Bitcoin Diamond",
          "Cash & Back Coin",
          "Bulwark",
          "Kalkulus",
          "GermanCoin",
          "LiteCoin Ultra",
          "PhantomX",
          "Digiwage",
          "Trollcoin",
          "Litecoin Plus",
          "Monkey Project",
          "TokenPay",
          "My Big Coin",
          "Unified Society USDEX",
          "Tokyo Coin",
          "BiblePay",
          "Stipend",
          "Poa Network",
          "Pushi",
          "Ellerium",
          "Velox",
          "Ontology",
          "Bitspace",
          "Briacoin",
          "Ignition",
          "MedicCoin",
          "Bitcoin Green",
          "Deviant Coin",
          "Abjcoin",
          "Semux",
          "Carebit",
          "Zealium",
          "Proton",
          "iDealCash",
          "Bitcoin Incognito",
          "HollyWoodCoin",
          "Swisscoin",
          "Xt3ch",
          "TheVig",
          "EmaratCoin",
          "Dekado",
          "Lynx",
          "Poseidon Quark",
          "BitcoinWSpectrum",
          "Muse",
          "Trivechain",
          "Dystem",
          "Giant",
          "Peony Coin",
          "Absolute Coin",
          "Vitae",
          "TPCash",
          "ARENON",
          "EUNO",
          "MMOCoin",
          "Ketan",
          "XDNA",
          "PAXEX",
          "ThunderStake",
          "Kcash",
          "Acute Angle Cloud",
          "Bettex coin",
          "Junson Ming Chan Coin",
          "HerbCoin",
          "Oduwa",
          "Galilel",
          "Crypto Sports",
          "Credit",
          "Dash Platinum",
          "Nasdacoin",
          "Beetle Coin",
          "Titan Coin",
          "Award",
          "Insane Coin",
          "ALAX",
          "LiteDoge",
          "TruckCoin",
          "OrangeCoin",
          "BitstarCoin",
          "NeosCoin",
          "HyperCoin",
          "PinkCoin",
          "AudioCoin",
          "IncaKoin",
          "Piggy Coin",
          "Genstake",
          "XiaoMiCoin",
          "CapriCoin",
          " ClubCoin",
          "Radium",
          "Creditbit ",
          "OKCash",
          "Lisk",
          "HiCoin",
          "WhiteCoin",
          "FriendshipCoin",
          "Triangles Coin",
          "EOS",
          "Oxycoin",
          "TigerCash",
          "Waves",
          "Particl",
          "Nxt",
          "ZEPHYR",
          "Gapcoin",
          "BitcoinPlus"
         ],
         "legendgroup": "0",
         "marker": {
          "color": [
           0,
           0,
           0,
           0,
           0,
           0,
           0,
           0,
           0,
           0,
           0,
           0,
           0,
           0,
           0,
           0,
           0,
           0,
           0,
           0,
           0,
           0,
           0,
           0,
           0,
           0,
           0,
           0,
           0,
           0,
           0,
           0,
           0,
           0,
           0,
           0,
           0,
           0,
           0,
           0,
           0,
           0,
           0,
           0,
           0,
           0,
           0,
           0,
           0,
           0,
           0,
           0,
           0,
           0,
           0,
           0,
           0,
           0,
           0,
           0,
           0,
           0,
           0,
           0,
           0,
           0,
           0,
           0,
           0,
           0,
           0,
           0,
           0,
           0,
           0,
           0,
           0,
           0,
           0,
           0,
           0,
           0,
           0,
           0,
           0,
           0,
           0,
           0,
           0,
           0,
           0,
           0,
           0,
           0,
           0,
           0,
           0,
           0,
           0,
           0,
           0,
           0,
           0,
           0,
           0,
           0,
           0,
           0,
           0,
           0,
           0,
           0,
           0,
           0,
           0,
           0,
           0,
           0,
           0,
           0,
           0,
           0,
           0,
           0,
           0,
           0,
           0,
           0,
           0,
           0,
           0,
           0,
           0,
           0,
           0,
           0,
           0,
           0,
           0,
           0,
           0,
           0,
           0,
           0,
           0,
           0,
           0,
           0,
           0,
           0,
           0,
           0,
           0,
           0,
           0,
           0,
           0,
           0,
           0,
           0,
           0,
           0,
           0,
           0,
           0,
           0,
           0,
           0,
           0,
           0,
           0,
           0,
           0,
           0,
           0,
           0,
           0,
           0,
           0,
           0,
           0,
           0,
           0,
           0,
           0,
           0,
           0,
           0,
           0,
           0,
           0,
           0,
           0,
           0,
           0,
           0,
           0,
           0,
           0,
           0,
           0,
           0,
           0,
           0,
           0,
           0,
           0,
           0,
           0,
           0,
           0,
           0,
           0,
           0,
           0,
           0,
           0,
           0,
           0,
           0,
           0,
           0,
           0,
           0,
           0,
           0,
           0,
           0,
           0,
           0,
           0,
           0,
           0,
           0,
           0,
           0,
           0,
           0,
           0,
           0,
           0,
           0,
           0,
           0,
           0,
           0,
           0,
           0,
           0,
           0,
           0,
           0,
           0,
           0,
           0,
           0,
           0,
           0,
           0,
           0,
           0,
           0,
           0,
           0,
           0,
           0,
           0,
           0,
           0,
           0,
           0,
           0,
           0,
           0,
           0,
           0,
           0,
           0,
           0,
           0,
           0,
           0,
           0,
           0,
           0,
           0,
           0
          ],
          "coloraxis": "coloraxis",
          "symbol": "circle"
         },
         "mode": "markers",
         "name": "0",
         "scene": "scene",
         "showlegend": true,
         "type": "scatter3d",
         "x": [
          -0.3414546650984797,
          -0.32484208453926866,
          2.2818383050634723,
          -0.41814728826021436,
          -0.1987570462965049,
          -0.3262219856782004,
          -0.24946989597240268,
          -0.2656805955240756,
          -0.3411152952725222,
          -0.33371338705371656,
          -0.33995540933181134,
          -0.3414506157629391,
          -0.341434943688347,
          0.684437096916719,
          -0.3913389711816294,
          -0.30379560091715135,
          -0.2452914154548497,
          -0.339519602572413,
          -0.32127477491628775,
          -0.418042276662569,
          -0.25753903854096566,
          -0.0053450547233619165,
          -0.289645588299472,
          -0.26445452008232423,
          -0.2929102965340058,
          -0.29353077838502184,
          -0.35701852039667153,
          -0.33577544149117594,
          -0.3398614753850217,
          0.01569271270483457,
          -0.3411061818456967,
          -0.4184126756139579,
          -0.21853894656193146,
          -0.28383526539597853,
          -0.4183246248960662,
          -0.31676578971790836,
          -0.3401363766541421,
          -0.27929793309661766,
          -0.4182891705851869,
          -0.21900474343530313,
          -0.29331225007026723,
          -0.33258891360301535,
          -0.2880269428432287,
          -0.32543618449292794,
          -0.39076211152029877,
          -0.2644347301821128,
          -0.29360603311112665,
          -0.25910682207106583,
          -0.34143678340900024,
          -0.29355833841173573,
          -0.3415499203023767,
          -0.3411720310655124,
          -0.4183942557757954,
          -0.005890105544935542,
          -0.43842585484082514,
          -0.2585401259072654,
          -0.2628413483699649,
          -0.29308156103474337,
          -0.3188056698206254,
          -0.26811318093286135,
          -0.11430459470790534,
          -0.3261929803673653,
          -0.09692855930933637,
          -0.3262564239490837,
          -0.25521421063422794,
          -0.3410483975505224,
          -0.26271153655176005,
          -0.41557378833711844,
          0.8848674103468499,
          -0.32605723178893453,
          -0.044059751866171344,
          -0.30347988263685854,
          -0.41624372271248933,
          -0.3248054405901958,
          -0.3224820943546914,
          -0.3762365566059566,
          -0.41713385448656853,
          -0.3010540191480935,
          -0.317423261143178,
          -0.34108640451329214,
          -0.3395300993208298,
          -0.2155531993106025,
          -0.32907954359530756,
          -0.4178699441525769,
          -0.34029313402102157,
          -0.32623749648197176,
          -0.41838349670112707,
          -0.341274891159457,
          -0.34143103251546264,
          -0.26269971917772544,
          -0.21910355920879646,
          0.011255520142476935,
          -0.3024402048170681,
          -0.3410462604972495,
          -0.4045939445888528,
          -0.3017704885582207,
          -0.21697855871055471,
          -0.4162272000503879,
          -0.3015218081842875,
          -0.30231676692239046,
          3.8258623029505006,
          -0.41797734488877136,
          0.8354599865729613,
          -0.4183385371763899,
          -0.30290251266106777,
          -0.34097426511200546,
          -0.341128185104804,
          -0.30347988263685854,
          -0.4179149848814787,
          -0.326100544208416,
          -0.3409749631762351,
          -0.42415088196705353,
          -0.3411219124117385,
          -0.3367262114272551,
          -0.4183674579536685,
          -0.3403355550759154,
          0.3768214247900954,
          -0.34132053854154293,
          -0.34139085133964364,
          -0.32252136513208457,
          -0.38212005131744925,
          -0.3376312950353856,
          -0.32621397565444926,
          -0.41827768753494243,
          -0.34116938731232843,
          -0.34129600047921765,
          -0.26434185470893345,
          -0.24005505539231217,
          -0.21674713482336877,
          -0.3222090000471073,
          -0.2640835712680876,
          -0.41754605628732905,
          -0.4385242749987905,
          -0.4162879938460445,
          -0.3017318865441795,
          -0.41744422498413236,
          -0.29614921288428137,
          -0.41339905999234067,
          -0.34123943980410454,
          -0.3412386797212346,
          -0.33438576616128046,
          0.2812312397114656,
          -0.4179209881825982,
          -0.2470447049798829,
          -0.30351414620412337,
          -0.34045286025443505,
          0.8625320374956719,
          -0.2481651535084034,
          -0.29983619078232027,
          0.5536779549352355,
          -0.3777674262902836,
          -0.37627452239492226,
          -0.4506271614269681,
          -0.2932444358279826,
          0.1218788550978449,
          -0.293314940027165,
          -0.2996510397102878,
          -0.4501334213930516,
          -0.418192419448406,
          -0.26441560818994275,
          -0.30338099577876726,
          -0.3408758232628472,
          -0.341373834110188,
          -0.2566373082906341,
          0.6945102083296887,
          -0.41813352438193235,
          -0.3520342025575859,
          -0.34132964698065066,
          -0.29843647912466026,
          0.42549039152520657,
          -0.32456534686851857,
          -0.3625842418929434,
          -0.3960080914203365,
          -0.3412801575894814,
          -0.3976574786262787,
          -0.28922980294753325,
          -0.3411508765934617,
          -0.07649332591704688,
          -0.4169302845791723,
          3.8307024118373034,
          0.1799781771010457,
          -0.2899962675864986,
          -0.3386194594553701,
          -0.3008429806321929,
          -0.32240761794911754,
          0.07152185803490684,
          -0.3402926722802131,
          -0.41750920558506177,
          -0.32157531867336847,
          -0.3278977924782029,
          -0.34139590287460125,
          -0.3415219341672014,
          -0.3013350981419542,
          -0.28549023596900575,
          -0.33695499577679694,
          -0.20857072961270062,
          -0.3235182112463467,
          -0.39486659815513564,
          -0.5460072351605648,
          -0.41820971647933386,
          -0.1943997962003426,
          -0.263578610897265,
          -0.28438866367490706,
          -0.3773677578415238,
          -0.341423175196834,
          -0.3414049498575306,
          -0.25797806128548534,
          -0.2942878534927278,
          -0.30297674948102227,
          -0.3411224089044481,
          4.004186850235531,
          -0.39632920547395184,
          -0.3031648430458457,
          -0.28800424515483997,
          -0.28817265508294315,
          -0.034678939573234806,
          -0.26411072239402594,
          -0.14514887413794453,
          -0.26436219618675694,
          -0.367402822485983,
          -0.3405982483299366,
          -0.19077040775775386,
          2.257545598557906,
          -0.31813152650892895,
          -0.24829188260750434,
          1.0993898218849754,
          -0.36403163367070623,
          -0.32252084103332057,
          -0.3993356979084392,
          -0.1455330158799809,
          -0.37505389923447413,
          -0.32124443797083946,
          -0.3343260238340539,
          -0.3411007339131825,
          -0.41768467635594964,
          -0.26161671294246214,
          -0.30226797509200387,
          -0.360481305922653,
          -0.34096278585823075,
          -0.2014108466413581,
          -0.19785769157108415,
          -0.42190742407935383,
          -0.11770409131447518,
          -0.1320578969579797,
          -0.3986325997571007,
          -0.3411263141530453,
          -0.3990872270925342,
          -0.32263744384169346,
          0.5623886297763596,
          -0.3415760899642492,
          -0.3406110745820563,
          -0.18887363344056263,
          -0.3222797573744298,
          -0.4152584550022893,
          -0.4179111536289528,
          3.8429069071953763,
          0.09237144420380144,
          -0.41545745124844025,
          -0.33999901164889146,
          -0.3408207843802073,
          -0.24950248930128233,
          -0.34133733036931535,
          -0.4095652588121032,
          -0.25534705389266354,
          -0.10649402131622575,
          -0.40532862507308653,
          -0.34061775232947095,
          -0.33370381255626413,
          -0.41449043997082613,
          -0.3390622060204435,
          -0.30375467698669634,
          -0.4303694824995365,
          -0.3247417067489093,
          3.8262528051462508,
          -0.07224387108909092,
          -0.33626567552318726,
          -0.35664577792753716,
          -0.29371286360021864,
          3.8360943898765067,
          3.8373350648027067,
          -0.23045865267275104,
          -0.5879336130117312,
          -0.3036907195358577,
          -0.3210074801611839,
          2.5134078072235497,
          -0.33950706101934275,
          -0.264757288758102
         ],
         "y": [
          1.0948469918280346,
          1.0954308008190417,
          1.770138964905434,
          1.3103546747090966,
          1.1872171870352084,
          0.8360486214584444,
          0.45828861499209245,
          1.9679647797367137,
          1.0948550551781286,
          1.0952813388417575,
          1.094931111973692,
          1.0948468917166603,
          1.0948474437054672,
          0.009514630258935694,
          1.0033759676338874,
          1.3387746411463406,
          0.2827549231315279,
          1.094877002906169,
          0.9337317667691554,
          1.3103605666911051,
          1.451668882017725,
          0.7316327762050236,
          0.8365314544838229,
          0.71708409114267,
          1.8313481262836715,
          1.8313133123394576,
          0.6033475776218425,
          1.0948906767929052,
          1.0948722240355522,
          1.11488578729605,
          0.9326190678346138,
          1.3103541866235826,
          -0.0444987325274955,
          1.4840056308320442,
          1.310352580847549,
          1.0951847495333038,
          1.094855490543336,
          0.4209254089542168,
          1.31035751616297,
          -0.044459399688968906,
          1.8313255735080098,
          1.0946897533963333,
          1.232904878430252,
          0.8360625959699576,
          1.0034112015145136,
          0.7170957941916002,
          1.8313012338258277,
          0.7170673933635789,
          1.0948479951598822,
          1.8313052192306802,
          0.9325810770479341,
          1.0948497563162327,
          1.3103552207770113,
          0.7163773198839009,
          2.097979722668449,
          0.5342022181467261,
          0.7171197277952602,
          1.8313057831238488,
          0.8358244610855248,
          1.968040212790549,
          1.0880063878301596,
          0.8360502488860183,
          1.3110103088610916,
          0.8360542179878467,
          1.635411533304344,
          1.0948422902344472,
          0.7170477608546812,
          1.3102620752435785,
          0.7167676897912583,
          0.8360460812644408,
          -0.006578626961866814,
          1.3387792618952454,
          1.3104267819095556,
          0.8359966907499606,
          0.8359291562843439,
          1.6285623006002765,
          1.3103349391220886,
          1.1847204134728258,
          1.094885989257728,
          1.0948386301627653,
          1.0948895075016498,
          1.4534849106327885,
          0.9328637344640088,
          1.3103519049446388,
          1.094853241987087,
          0.8360484058568622,
          1.3103538604143548,
          1.0948433303733076,
          1.0948483178305393,
          0.717193142045077,
          0.38694762114955966,
          2.0842914961234786,
          1.3388022434774351,
          1.094869906587012,
          1.3101475115293033,
          1.338862078956985,
          1.453534235373089,
          1.8983346679463151,
          1.3387051610504774,
          2.0748771465509477,
          1.0490881788939093,
          1.3103589724592137,
          1.8941021567927558,
          1.3103558243459603,
          1.3387920166026863,
          1.094848714834644,
          1.0948378135209722,
          1.3387792618952454,
          1.3103428310300738,
          0.8360567446409718,
          1.0948523025800032,
          0.7965086655135916,
          1.0948473309510325,
          1.0946863233135724,
          1.3103534509604493,
          1.0948155092554,
          0.7317885630476475,
          1.0948460066122492,
          1.0948484015407998,
          1.30391917323912,
          0.698256397586094,
          1.094734174531551,
          0.8360497255615011,
          1.3103556373266536,
          1.0948499046517175,
          1.0948415349414098,
          0.7170649979889759,
          0.26314238426012276,
          1.4535393477691256,
          1.0952721487248853,
          0.7170929587888613,
          1.310337343752684,
          1.9471657959536295,
          1.3104013842426703,
          1.3388182274811542,
          1.3103430572949948,
          1.3389417931282535,
          1.3103081521533195,
          1.0948451806042077,
          1.0948403865741345,
          1.094588935742083,
          0.438972535608795,
          1.3103555877435231,
          0.7167621576657676,
          1.3387707926647716,
          1.0948344599212076,
          1.9725746198333247,
          0.45823901425483277,
          1.1847452072447118,
          2.007122807707438,
          1.6285287808757274,
          1.6285405300996845,
          2.0773575344122546,
          1.8313097381046348,
          1.0881098051381406,
          1.8313130503655246,
          1.2015355202248825,
          2.0773852371371113,
          1.3103603211983323,
          0.7170854718447495,
          1.3387575756777546,
          1.0948478799757284,
          1.0948487774692206,
          1.1862670276337957,
          1.3062240744167806,
          1.3103521735850956,
          0.6033678345236532,
          1.0948437061056124,
          0.5758818992634945,
          1.1215117487451225,
          0.8360905071812605,
          1.628601611729002,
          1.8612509501694294,
          1.0948430348848897,
          1.6816549528970306,
          1.2614606857324997,
          1.0948543552470429,
          0.4621100577224185,
          1.3103430876190194,
          1.0491142433310496,
          1.6401889524316804,
          1.8313741441432911,
          1.0948685871037287,
          1.2507606271660012,
          1.3039222819700813,
          1.0852843789251596,
          1.0948139872558922,
          1.3103721452342538,
          1.303903512817938,
          1.095018430162022,
          1.0948476701722796,
          0.932581992614376,
          1.1847102074730824,
          0.3967964520913719,
          1.094947573792915,
          1.4534838760781505,
          5.214265423159706,
          1.0322951019088404,
          3.84737219913837,
          1.310349207959833,
          1.1065975818750702,
          0.7170626492751472,
          1.157942901419907,
          1.6285250183475495,
          1.0948467946563951,
          1.094846507887604,
          0.717130725780081,
          1.364412791735798,
          1.3387629735916295,
          1.0948459937392439,
          1.0660595805895983,
          1.6817294795368516,
          1.3387576574719686,
          0.5177428802627888,
          1.0944833092136048,
          0.3304626339758442,
          0.7170969519836697,
          1.0991835923401803,
          0.7170710581214195,
          2.076073843692435,
          1.0948400507226093,
          1.5902654246549457,
          0.347898433239521,
          1.3037497578494586,
          0.45829725494407086,
          1.1080134036019103,
          0.8955251867543436,
          1.3039152745813585,
          1.6816883547276753,
          0.7127161687447232,
          0.9536370228915028,
          1.3039351713911114,
          1.0945922877596224,
          0.9325833662547919,
          1.3103622999348,
          0.7170836911688568,
          1.3387228708146042,
          1.057481627879089,
          0.9325616457539306,
          1.090920367248863,
          1.1382516549854458,
          4.467874805951278,
          0.7288347391125735,
          0.9443483316579172,
          1.6816958237685702,
          1.0948516667196562,
          1.681693205713825,
          1.3039137274285248,
          1.096589893775074,
          0.93257980512591,
          1.094839331068319,
          1.1066195853409393,
          2.0753976860741283,
          1.3102561995570587,
          1.3103626863129276,
          1.0494716734897196,
          1.0962743654034326,
          1.3105199987617595,
          1.0947977300768041,
          1.0948470373323227,
          0.4582812214911777,
          1.0948535752627806,
          1.3105232587518418,
          1.0928041988213286,
          0.8482671140637467,
          1.3104336287919,
          1.0948841291281077,
          1.0950200051234673,
          1.3104380828701214,
          1.0948764793816157,
          1.3387710452070587,
          0.8104779057657954,
          0.8360773386091822,
          1.049087228874578,
          0.7213266653924088,
          1.0949417320595327,
          0.6033315688396007,
          1.8313030173560338,
          1.0497441146417377,
          1.0498137263275558,
          0.4587088024116063,
          4.183680271972689,
          1.3387748732466431,
          1.7320712028254,
          0.4001748372316058,
          1.0947925985364837,
          0.7170770414244738
         ],
         "z": [
          -0.5539606781433298,
          -0.5546035142846192,
          -0.6592182394822842,
          -0.5408970825961165,
          0.09415194545172118,
          -0.3884366304705687,
          -0.054916418005194485,
          -0.6872001065319749,
          -0.5539726173483873,
          -0.5543103535121776,
          -0.5540283998894268,
          -0.5539607599728631,
          -0.5539613667957767,
          -0.5039748607504584,
          -0.41791951458796356,
          -0.02355007515229746,
          -0.28190707659244135,
          -0.554023824167178,
          -0.20828824163570672,
          -0.5409018259948221,
          -0.24750252109571716,
          -0.23215378556225444,
          -0.38960413675370054,
          -0.22044647850312582,
          -0.6064319528052129,
          -0.6064039254932376,
          -0.33187857625837436,
          -0.5541322957672037,
          -0.5540128295810878,
          -0.5700931096846313,
          -0.2073924522939068,
          -0.5408895426741189,
          0.11315781256811881,
          -0.19622658626850287,
          -0.5408914983799957,
          -0.5547523976037989,
          -0.5540000078721274,
          -0.3868025041885784,
          -0.5408940096552286,
          0.11315863504252102,
          -0.6064137964689045,
          -0.5541589694384735,
          -0.0580372310867661,
          -0.38846282516292524,
          -0.41794645700972055,
          -0.22045064363831154,
          -0.6063981000977942,
          -0.22059021810519405,
          -0.5539614858719648,
          -0.6064006588322578,
          -0.2073683649867505,
          -0.5539694012618341,
          -0.5408903749047428,
          0.4642980069786992,
          -0.6883274229487681,
          -0.1443967486834933,
          -0.22050239939111016,
          -0.6064141079069325,
          -0.38857389829633654,
          -0.6871556711099487,
          -0.46949208351471544,
          -0.38843794064731957,
          -0.5500432622669957,
          -0.38843739991898957,
          -0.5788474135739587,
          -0.55397053792723,
          -0.22048378898721444,
          -0.5409401401927916,
          -0.2523493894354725,
          -0.38844043326021827,
          -0.4787213866112125,
          -0.02356029268558748,
          -0.5409723517314773,
          -0.38846003420798086,
          -0.3885038673131217,
          -0.5733626096680475,
          -0.5409192049531472,
          -0.03329065672174588,
          -0.5546418287418261,
          -0.5539683493979198,
          -0.554027393562678,
          -0.2728967126317729,
          -0.20780286822720423,
          -0.5409039493445084,
          -0.5539949488728414,
          -0.3884361320206987,
          -0.5408902543642738,
          -0.5539645528702553,
          -0.5539617456411864,
          -0.22052901449576853,
          -0.3058871144462438,
          -0.7080994609034401,
          -0.023596337631132364,
          -0.5539791258842606,
          -0.541210473017125,
          -0.02363346290496222,
          -0.2728722587045373,
          -0.6240081299177082,
          -0.023591927689429925,
          -0.6964613235335371,
          -0.23178782700785872,
          -0.5409031415639596,
          -0.6572288551062594,
          -0.5408921126737589,
          -0.023580307319798002,
          -0.5539745860387596,
          -0.5539669339045306,
          -0.02356029268558748,
          -0.5408998930760758,
          -0.38844252036409477,
          -0.5539756745665353,
          -0.36518413451430903,
          -0.5539700477188363,
          -0.5540427151961206,
          -0.5408905744846793,
          -0.5539821151562637,
          -0.24284257380932783,
          -0.553964108381653,
          -0.5539628902587745,
          -0.17559268147514243,
          -0.3145361816555334,
          -0.5540322922792038,
          -0.38843719446204145,
          -0.5408937491579163,
          -0.5539695206807911,
          -0.5539634106590042,
          -0.2204437191211037,
          -0.21407925087980456,
          -0.2728802810552721,
          -0.5546278325889947,
          -0.22045954534529386,
          -0.5409084705957198,
          -0.7092497440620784,
          -0.5409632758057124,
          -0.023620995532724766,
          -0.5409130703397719,
          -0.023814593586192475,
          -0.5410149206770901,
          -0.5539661113304162,
          -0.5539646520057637,
          -0.5540778051834006,
          -0.06372758063426481,
          -0.540903665441653,
          -0.22083180157912927,
          -0.0235567232240952,
          -0.5539847013490156,
          -0.7200365874175026,
          -0.054937428356600634,
          -0.033332221559522986,
          -0.7920422563608428,
          -0.5733096340667398,
          -0.5733548294402161,
          -0.7403843255346961,
          -0.6064107943501056,
          -0.5647807225807335,
          -0.6064098541877133,
          -0.06409474560971673,
          -0.7404066278888141,
          -0.5408975697497126,
          -0.2204479883157426,
          -0.023556348880326955,
          -0.5539770691392364,
          -0.5539634801640992,
          0.09605693545990651,
          -0.05543409556152962,
          -0.540896693429728,
          -0.33202361055850305,
          -0.5539631443347697,
          0.03437819540503459,
          -0.5835493476317567,
          -0.38849569144662804,
          -0.5737548716988211,
          -0.528601632420021,
          -0.5539643149843654,
          -0.5091504059388717,
          0.005762775896087093,
          -0.5539714105040515,
          -0.060912746550439614,
          -0.5409273893699881,
          -0.23193063956908205,
          -0.5924398525022374,
          -0.6065211230528941,
          -0.5540462879321988,
          -0.23979170449209844,
          -0.17559680857827498,
          -0.5625060851122677,
          -0.553982839121456,
          -0.5409202439909299,
          -0.17561418605288254,
          -0.554391086169835,
          -0.5539625237481514,
          -0.20736942695029062,
          -0.033279678819954875,
          -0.3432368579804473,
          -0.5541170242605421,
          -0.27309080635634836,
          5.692551518616374,
          -0.45118493568216245,
          3.849030870760642,
          -0.5408936561682774,
          -0.28142213708261754,
          -0.22046424482503374,
          0.021883226031632844,
          -0.5733196001128872,
          -0.5539614940277108,
          -0.5539619129169874,
          -0.22064120449686886,
          -0.12280436979823292,
          -0.023569271306474078,
          -0.5539696209385324,
          -0.2405563582613509,
          -0.509210404351344,
          -0.02356239249010424,
          -0.06780584450146483,
          -0.5553318994119004,
          0.11506962422705794,
          -0.22046002254979652,
          -0.5607656537468971,
          -0.22044502423659887,
          -0.6950186924298246,
          -0.5539823798481706,
          -0.35364734021008765,
          -0.37305430012999397,
          -0.17566258925263628,
          -0.05495188566528102,
          -0.1178141697235078,
          -0.40135312152629116,
          -0.17559149208797495,
          -0.5091139943253058,
          -0.22240871772165213,
          -0.2991442587585405,
          -0.17563317554858918,
          -0.5540805037584524,
          -0.20738157865400755,
          -0.5409123179347042,
          -0.22052536817416654,
          -0.02357662124301049,
          -0.4286190767479316,
          -0.20737871184403397,
          -0.5566473080585638,
          0.3991981076054657,
          6.9464775780475145,
          0.052100521210007446,
          -0.21683521276927478,
          -0.5091358773003389,
          -0.5539712641287786,
          -0.5091224105860905,
          -0.1755877677205658,
          -0.5796646685233103,
          -0.2073672435499755,
          -0.5539818004833281,
          -0.2815827973672038,
          -0.6960662456073485,
          -0.5409471055091167,
          -0.540906131438822,
          -0.23238083110845814,
          -0.5664805179328705,
          -0.5410230310598968,
          -0.553985995001361,
          -0.5539783413649847,
          -0.05491322725397339,
          -0.5539659781892916,
          -0.5411880943832248,
          -0.5557273228601458,
          -0.3983278288905788,
          -0.5412783757285996,
          -0.5539954490474741,
          -0.554229915272313,
          -0.5410246584125041,
          -0.5540363978054025,
          -0.023550104104666954,
          -0.36367825902288275,
          -0.3884867143450885,
          -0.23179840639384441,
          -0.22710839578824246,
          -0.5541344129966744,
          -0.33188401072708196,
          -0.6063956763997813,
          -0.23227528489522242,
          -0.23233132647509983,
          -0.05557551076646197,
          -1.0291951984412264,
          -0.02355306704625577,
          0.1609930906395865,
          -0.1701542977623248,
          -0.5539981076873883,
          -0.22043587141433257
         ]
        },
        {
         "customdata": [
          [
           "SHA-256"
          ],
          [
           "Ethash"
          ],
          [
           "Scrypt"
          ],
          [
           "CryptoNight-V7"
          ],
          [
           "Ethash"
          ],
          [
           "Equihash"
          ],
          [
           "Multiple"
          ],
          [
           "Scrypt"
          ],
          [
           "X11"
          ],
          [
           "Scrypt"
          ],
          [
           "Multiple"
          ],
          [
           "Scrypt"
          ],
          [
           "SHA-256"
          ],
          [
           "Scrypt"
          ],
          [
           "Scrypt"
          ],
          [
           "Quark"
          ],
          [
           "Groestl"
          ],
          [
           "Scrypt"
          ],
          [
           "Scrypt"
          ],
          [
           "Scrypt"
          ],
          [
           "X11"
          ],
          [
           "Multiple"
          ],
          [
           "SHA-256"
          ],
          [
           "Scrypt"
          ],
          [
           "Scrypt"
          ],
          [
           "Scrypt"
          ],
          [
           "Scrypt"
          ],
          [
           "Scrypt"
          ],
          [
           "NeoScrypt"
          ],
          [
           "Scrypt"
          ],
          [
           "Scrypt"
          ],
          [
           "Scrypt"
          ],
          [
           "Scrypt"
          ],
          [
           "SHA-256"
          ],
          [
           "Scrypt"
          ],
          [
           "Scrypt"
          ],
          [
           "Scrypt"
          ],
          [
           "Scrypt"
          ],
          [
           "HybridScryptHash256"
          ],
          [
           "Scrypt"
          ],
          [
           "Scrypt"
          ],
          [
           "SHA-256"
          ],
          [
           "Scrypt"
          ],
          [
           "Scrypt"
          ],
          [
           "Scrypt"
          ],
          [
           "Scrypt"
          ],
          [
           "SHA-256"
          ],
          [
           "SHA-256"
          ],
          [
           "SHA-256"
          ],
          [
           "SHA-256"
          ],
          [
           "SHA-256"
          ],
          [
           "X11"
          ],
          [
           "Scrypt"
          ],
          [
           "Lyra2REv2"
          ],
          [
           "Scrypt"
          ],
          [
           "SHA-256"
          ],
          [
           "CryptoNight"
          ],
          [
           "CryptoNight"
          ],
          [
           "Shabal256"
          ],
          [
           "Scrypt"
          ],
          [
           "Scrypt"
          ],
          [
           "Scrypt"
          ],
          [
           "Scrypt"
          ],
          [
           "Scrypt"
          ],
          [
           "Scrypt"
          ],
          [
           "Stanford Folding"
          ],
          [
           "Multiple"
          ],
          [
           "QuBit"
          ],
          [
           "Scrypt"
          ],
          [
           "Scrypt"
          ],
          [
           "M7 POW"
          ],
          [
           "Scrypt"
          ],
          [
           "SHA-256"
          ],
          [
           "Scrypt"
          ],
          [
           "X11"
          ],
          [
           "Lyra2RE"
          ],
          [
           "SHA-256"
          ],
          [
           "X11"
          ],
          [
           "Scrypt"
          ],
          [
           "Scrypt"
          ],
          [
           "Ethash"
          ],
          [
           "Blake2b"
          ],
          [
           "X11"
          ],
          [
           "SHA-256"
          ],
          [
           "Scrypt"
          ],
          [
           "1GB AES Pattern Search"
          ],
          [
           "Scrypt"
          ],
          [
           "SHA-256"
          ],
          [
           "X11"
          ],
          [
           "Dagger"
          ],
          [
           "Scrypt"
          ],
          [
           "X11GOST"
          ],
          [
           "Scrypt"
          ],
          [
           "X11"
          ],
          [
           "Scrypt"
          ],
          [
           "X11"
          ],
          [
           "Equihash"
          ],
          [
           "CryptoNight"
          ],
          [
           "SHA-256"
          ],
          [
           "Multiple"
          ],
          [
           "Scrypt"
          ],
          [
           "SHA-256"
          ],
          [
           "Scrypt"
          ],
          [
           "Lyra2Z"
          ],
          [
           "Ethash"
          ],
          [
           "Equihash"
          ],
          [
           "Scrypt"
          ],
          [
           "X11"
          ],
          [
           "X11"
          ],
          [
           "CryptoNight"
          ],
          [
           "Scrypt"
          ],
          [
           "CryptoNight"
          ],
          [
           "Lyra2RE"
          ],
          [
           "X11"
          ],
          [
           "CryptoNight-V7"
          ],
          [
           "Scrypt"
          ],
          [
           "X11"
          ],
          [
           "Equihash"
          ],
          [
           "Scrypt"
          ],
          [
           "Lyra2RE"
          ],
          [
           "Dagger-Hashimoto"
          ],
          [
           "Scrypt"
          ],
          [
           "NIST5"
          ],
          [
           "Scrypt"
          ],
          [
           "SHA-256"
          ],
          [
           "Scrypt"
          ],
          [
           "CryptoNight-V7"
          ],
          [
           "Argon2d"
          ],
          [
           "Blake2b"
          ],
          [
           "Cloverhash"
          ],
          [
           "CryptoNight"
          ],
          [
           "X11"
          ],
          [
           "Scrypt"
          ],
          [
           "Scrypt"
          ],
          [
           "X11"
          ],
          [
           "X11"
          ],
          [
           "CryptoNight"
          ],
          [
           "Time Travel"
          ],
          [
           "Scrypt"
          ],
          [
           "Keccak"
          ],
          [
           "X11"
          ],
          [
           "SHA-256"
          ],
          [
           "Scrypt"
          ],
          [
           "Scrypt"
          ],
          [
           "Scrypt"
          ],
          [
           "Scrypt"
          ],
          [
           "Scrypt"
          ],
          [
           "Scrypt"
          ],
          [
           "CryptoNight"
          ],
          [
           "Equihash"
          ],
          [
           "X11"
          ],
          [
           "NeoScrypt"
          ],
          [
           "Equihash"
          ],
          [
           "Dagger"
          ],
          [
           "Scrypt"
          ],
          [
           "X11"
          ],
          [
           "NeoScrypt"
          ],
          [
           "Ethash"
          ],
          [
           "NeoScrypt"
          ],
          [
           "Multiple"
          ],
          [
           "CryptoNight"
          ],
          [
           "CryptoNight"
          ],
          [
           "Ethash"
          ],
          [
           "X11"
          ],
          [
           "CryptoNight-V7"
          ],
          [
           "Scrypt"
          ],
          [
           "BLAKE256"
          ],
          [
           "X11"
          ],
          [
           "NeoScrypt"
          ],
          [
           "NeoScrypt"
          ],
          [
           "Scrypt"
          ],
          [
           "X11"
          ],
          [
           "SHA-256"
          ],
          [
           "C11"
          ],
          [
           "Ethash"
          ],
          [
           "CryptoNight"
          ],
          [
           "SkunkHash"
          ],
          [
           "CryptoNight"
          ],
          [
           "Scrypt"
          ],
          [
           "Dagger"
          ],
          [
           "Lyra2REv2"
          ],
          [
           "Scrypt"
          ],
          [
           "Scrypt"
          ],
          [
           "X11"
          ],
          [
           "Ethash"
          ],
          [
           "CryptoNight"
          ],
          [
           "Scrypt"
          ],
          [
           "IMesh"
          ],
          [
           "Equihash"
          ],
          [
           "Lyra2Z"
          ],
          [
           "X11"
          ],
          [
           "CryptoNight"
          ],
          [
           "NIST5"
          ],
          [
           "Lyra2RE"
          ],
          [
           "Tribus"
          ],
          [
           "Lyra2Z"
          ],
          [
           "CryptoNight"
          ],
          [
           "CryptoNight Heavy"
          ],
          [
           "CryptoNight"
          ],
          [
           "Jump Consistent Hash"
          ],
          [
           "CryptoNight"
          ],
          [
           "X16R"
          ],
          [
           "HMQ1725"
          ],
          [
           "X11"
          ],
          [
           "Scrypt"
          ],
          [
           "CryptoNight-V7"
          ],
          [
           "Cryptonight-GPU"
          ],
          [
           "XEVAN"
          ],
          [
           "CryptoNight Heavy"
          ],
          [
           "SHA-256"
          ],
          [
           "X11"
          ],
          [
           "X16R"
          ],
          [
           "Equihash"
          ],
          [
           "Lyra2Z"
          ],
          [
           "SHA-256"
          ],
          [
           "XEVAN"
          ],
          [
           "CryptoNight"
          ],
          [
           "Blake"
          ],
          [
           "Blake"
          ],
          [
           "Equihash"
          ],
          [
           "Exosis"
          ],
          [
           "Scrypt"
          ],
          [
           "Equihash"
          ],
          [
           "Equihash"
          ],
          [
           "QuBit"
          ],
          [
           "SHA-256"
          ],
          [
           "X13"
          ],
          [
           "SHA-256"
          ],
          [
           "Scrypt"
          ],
          [
           "NeoScrypt"
          ],
          [
           "Blake"
          ],
          [
           "Scrypt"
          ],
          [
           "SHA-256"
          ],
          [
           "Scrypt"
          ],
          [
           "Groestl"
          ],
          [
           "Scrypt"
          ],
          [
           "Scrypt"
          ],
          [
           "Multiple"
          ],
          [
           "Equihash+Scrypt"
          ],
          [
           "Ethash"
          ],
          [
           "CryptoNight"
          ],
          [
           "Equihash"
          ]
         ],
         "hovertemplate": "<b>%{hovertext}</b><br><br>Class=%{marker.color}<br>PC 1=%{x}<br>PC 2=%{y}<br>PC 3=%{z}<br>Algorithm=%{customdata[0]}<extra></extra>",
         "hovertext": [
          "Bitcoin",
          "Ethereum",
          "Litecoin",
          "Monero",
          "Ethereum Classic",
          "ZCash",
          "DigiByte",
          "ProsperCoin",
          "Spreadcoin",
          "Argentum",
          "MyriadCoin",
          "MoonCoin",
          "ZetaCoin",
          "SexCoin",
          "Quatloo",
          "QuarkCoin",
          "Riecoin",
          "Digitalcoin ",
          "Catcoin",
          "CannaCoin",
          "CryptCoin",
          "Verge",
          "DevCoin",
          "EarthCoin",
          "E-Gulden",
          "Einsteinium",
          "Emerald",
          "Franko",
          "FeatherCoin",
          "GrandCoin",
          "GlobalCoin",
          "GoldCoin",
          "Infinite Coin",
          "IXcoin",
          "KrugerCoin",
          "LuckyCoin",
          "Litebar ",
          "MegaCoin",
          "MediterraneanCoin",
          "MinCoin",
          "NobleCoin",
          "Namecoin",
          "NyanCoin",
          "RonPaulCoin",
          "StableCoin",
          "SmartCoin",
          "SysCoin",
          "TigerCoin",
          "TerraCoin",
          "UnbreakableCoin",
          "Unobtanium",
          "UroCoin",
          "ViaCoin",
          "Vertcoin",
          "WorldCoin",
          "JouleCoin",
          "ByteCoin",
          "DigitalNote ",
          "BurstCoin",
          "MonaCoin",
          "Gulden",
          "PesetaCoin",
          "Wild Beast Coin",
          "Flo",
          "ArtByte",
          "Folding Coin",
          "Unitus",
          "CypherPunkCoin",
          "OmniCron",
          "GreenCoin",
          "Cryptonite",
          "MasterCoin",
          "SoonCoin",
          "1Credit",
          "MarsCoin ",
          "Crypto",
          "Anarchists Prime",
          "BowsCoin",
          "Song Coin",
          "BitZeny",
          "Expanse",
          "Siacoin",
          "MindCoin",
          "I0coin",
          "Revolution VR",
          "HOdlcoin",
          "Gamecredits",
          "CarpeDiemCoin",
          "Adzcoin",
          "SoilCoin",
          "YoCoin",
          "SibCoin",
          "Francs",
          "BolivarCoin",
          "Omni",
          "PizzaCoin",
          "Komodo",
          "Karbo",
          "ZayedCoin",
          "Circuits of Value",
          "DopeCoin",
          "DollarCoin",
          "Shilling",
          "ZCoin",
          "Elementrem",
          "ZClassic",
          "KiloCoin",
          "ArtexCoin",
          "Kurrent",
          "Cannabis Industry Coin",
          "OsmiumCoin",
          "Bikercoins",
          "HexxCoin",
          "PacCoin",
          "Citadel",
          "BeaverCoin",
          "VaultCoin",
          "Zero",
          "Canada eCoin",
          "Zoin",
          "DubaiCoin",
          "EB3coin",
          "Coinonat",
          "BenjiRolls",
          "ILCoin",
          "EquiTrader",
          "Quantum Resistant Ledger",
          "Dynamic",
          "Nano",
          "ChanCoin",
          "Dinastycoin",
          "DigitalPrice",
          "Unify",
          "SocialCoin",
          "ArcticCoin",
          "DAS",
          "LeviarCoin",
          "Bitcore",
          "gCn Coin",
          "SmartCash",
          "Onix",
          "Bitcoin Cash",
          "Sojourn Coin",
          "NewYorkCoin",
          "FrazCoin",
          "Kronecoin",
          "AdCoin",
          "Linx",
          "Sumokoin",
          "BitcoinZ",
          "Elements",
          "VIVO Coin",
          "Bitcoin Gold",
          "Pirl",
          "eBoost",
          "Pura",
          "Innova",
          "Ellaism",
          "GoByte",
          "SHIELD",
          "UltraNote",
          "BitCoal",
          "DaxxCoin",
          "AC3",
          "Lethean",
          "PopularCoin",
          "Photon",
          "Sucre",
          "SparksPay",
          "GunCoin",
          "IrishCoin",
          "Pioneer Coin",
          "UnitedBitcoin",
          "Interzone",
          "1717 Masonic Commemorative Token",
          "TurtleCoin",
          "MUNcoin",
          "Niobio Cash",
          "ShareChain",
          "Travelflex",
          "KREDS",
          "BitFlip",
          "LottoCoin",
          "Crypto Improvement Fund",
          "Callisto Network",
          "BitTube",
          "Poseidon",
          "Aidos Kuneen",
          "Bitrolium",
          "Alpenschillling",
          "FuturoCoin",
          "Monero Classic",
          "Jumpcoin",
          "Infinex",
          "KEYCO",
          "GINcoin",
          "PlatinCoin",
          "Loki",
          "Newton Coin",
          "MassGrid",
          "PluraCoin",
          "Motion",
          "PlusOneCoin",
          "Axe",
          "HexCoin",
          "Webchain",
          "Ryo",
          "Urals Coin",
          "Qwertycoin",
          "Project Pai",
          "Azart",
          "Xchange",
          "CrypticCoin",
          "Actinium",
          "Bitcoin SV",
          "BitMoney",
          "FREDEnergy",
          "Universal Molecule",
          "Lithium",
          "PirateCash",
          "Exosis",
          "Block-Logic",
          "Beam",
          "Bithereum",
          "SLICE",
          "BLAST",
          "Bitcoin Rhodium",
          "GlobalToken",
          "SolarCoin",
          "UFO Coin",
          "BlakeCoin",
          "Crypto Escudo",
          "Crown Coin",
          "SmileyCoin",
          "Groestlcoin",
          "Bata",
          "Pakcoin",
          "JoinCoin",
          "Vollar",
          "Reality Clash",
          "Beldex",
          "Horizen"
         ],
         "legendgroup": "1",
         "marker": {
          "color": [
           1,
           1,
           1,
           1,
           1,
           1,
           1,
           1,
           1,
           1,
           1,
           1,
           1,
           1,
           1,
           1,
           1,
           1,
           1,
           1,
           1,
           1,
           1,
           1,
           1,
           1,
           1,
           1,
           1,
           1,
           1,
           1,
           1,
           1,
           1,
           1,
           1,
           1,
           1,
           1,
           1,
           1,
           1,
           1,
           1,
           1,
           1,
           1,
           1,
           1,
           1,
           1,
           1,
           1,
           1,
           1,
           1,
           1,
           1,
           1,
           1,
           1,
           1,
           1,
           1,
           1,
           1,
           1,
           1,
           1,
           1,
           1,
           1,
           1,
           1,
           1,
           1,
           1,
           1,
           1,
           1,
           1,
           1,
           1,
           1,
           1,
           1,
           1,
           1,
           1,
           1,
           1,
           1,
           1,
           1,
           1,
           1,
           1,
           1,
           1,
           1,
           1,
           1,
           1,
           1,
           1,
           1,
           1,
           1,
           1,
           1,
           1,
           1,
           1,
           1,
           1,
           1,
           1,
           1,
           1,
           1,
           1,
           1,
           1,
           1,
           1,
           1,
           1,
           1,
           1,
           1,
           1,
           1,
           1,
           1,
           1,
           1,
           1,
           1,
           1,
           1,
           1,
           1,
           1,
           1,
           1,
           1,
           1,
           1,
           1,
           1,
           1,
           1,
           1,
           1,
           1,
           1,
           1,
           1,
           1,
           1,
           1,
           1,
           1,
           1,
           1,
           1,
           1,
           1,
           1,
           1,
           1,
           1,
           1,
           1,
           1,
           1,
           1,
           1,
           1,
           1,
           1,
           1,
           1,
           1,
           1,
           1,
           1,
           1,
           1,
           1,
           1,
           1,
           1,
           1,
           1,
           1,
           1,
           1,
           1,
           1,
           1,
           1,
           1,
           1,
           1,
           1,
           1,
           1,
           1,
           1,
           1,
           1,
           1,
           1,
           1,
           1,
           1,
           1,
           1,
           1,
           1,
           1,
           1,
           1,
           1,
           1,
           1,
           1,
           1,
           1,
           1,
           1,
           1,
           1,
           1,
           1,
           1,
           1,
           1,
           1,
           1
          ],
          "coloraxis": "coloraxis",
          "symbol": "diamond"
         },
         "mode": "markers",
         "name": "1",
         "scene": "scene",
         "showlegend": true,
         "type": "scatter3d",
         "x": [
          -0.1544065737747587,
          -0.15497043509452504,
          -0.16847361937273023,
          -0.16051282336956588,
          -0.15341810177985937,
          -0.15027614523959107,
          0.16198730992435836,
          -0.1696162999184306,
          -0.24651583271399713,
          -0.1692341721926997,
          -0.09059862996822471,
          2.5422835013108593,
          -0.151500487443944,
          -0.1664983220731743,
          -0.1690389735946138,
          -0.22291776060128418,
          -0.2185934726179747,
          -0.16908727500388562,
          -0.16959861471413648,
          -0.1696847813967238,
          -0.24660491638047655,
          0.18569998692587045,
          0.22226490913714483,
          0.07827405463387992,
          -0.16943182503297283,
          -0.16505103159120185,
          -0.16937135695577699,
          -0.16974161525559145,
          -0.18054932155047726,
          -0.14903022129965837,
          -0.16854041541194928,
          -0.16881711448725137,
          1.573770693126984,
          -0.15436804945940455,
          -0.16611521201567106,
          -0.1694581874327831,
          -0.1698119045324233,
          -0.16907345506187815,
          -0.16081883395412583,
          -0.16969355350760845,
          -0.03506731990057709,
          -0.1544454465320369,
          -0.16337701220132753,
          -0.16967312262485051,
          -0.16777418120355692,
          -0.16916147275274496,
          -0.1416384743519206,
          -0.15391085781773176,
          -0.15419724035712218,
          -0.1541805179263333,
          -0.15476908358677047,
          -0.24677821601552666,
          -0.16939040477951628,
          -0.20275063545562794,
          -0.16650312283504784,
          -0.15397795448539217,
          3.8279710075785935,
          0.43742293529649756,
          0.048917313722061324,
          -0.1682616449726765,
          -0.1529130945713774,
          -0.1669843829741203,
          -0.16981411603559027,
          -0.1668497522434296,
          -0.15311671666110183,
          -0.12713957223621863,
          -0.12449874154332265,
          -0.21134778972065735,
          -0.1696875475681451,
          -0.04303968697219512,
          -0.13073367193000252,
          -0.16982297112548028,
          -0.154473147669861,
          0.47994454643505935,
          -0.2461673009709607,
          -0.16832960005531125,
          -0.15421393735671635,
          -0.24645133865426805,
          -0.16795327016081976,
          -0.16714799063120814,
          -0.15603506752105042,
          0.3587361732510841,
          -0.24648660570047884,
          -0.154369168724525,
          -0.16579330356154057,
          -0.15732042224857468,
          -0.16839081423581428,
          0.26282395427433664,
          -0.24565007595165203,
          -0.15240022611727644,
          -0.16863810649760283,
          -0.1588473892009821,
          -0.16961358601211624,
          -0.2464500085513856,
          -0.16982302943984795,
          -0.24659956732683103,
          -0.2336522837850205,
          0.28281880683055416,
          -0.15462846565357172,
          -0.10463378010269848,
          -0.16699882296142965,
          -0.1545872149096478,
          -0.1694875455129819,
          -0.17581728878070227,
          -0.15577799359186884,
          -0.15029770288215585,
          -0.09681534000794402,
          -0.233222845727507,
          -0.24443500543011995,
          0.282813114739709,
          -0.16980483111894337,
          0.2829434454419055,
          -0.1688681967762899,
          0.46602988328408884,
          -0.1592821252625697,
          -0.169773209611708,
          -0.23935993347933435,
          -0.15031001767196014,
          -0.16791223454028703,
          -0.16858742238094643,
          -0.1337296276056556,
          -0.1408027870545069,
          -0.20580497708101295,
          -0.16933699878811295,
          -0.12106234610664568,
          -0.16915979003057582,
          -0.15913973161439665,
          -0.13489139995801508,
          -0.04046896413616339,
          -0.1697404316855742,
          0.3188229762291682,
          -0.245658550542962,
          -0.16947783091723212,
          -0.16924222450168075,
          -0.24605188558701738,
          -0.24662748317759084,
          0.28320680204147064,
          -0.15047234602972887,
          3.2292037944507674,
          -0.12888750902124335,
          -0.23753173209786166,
          -0.15440574028886317,
          -0.0956694947731928,
          1.5723949917618274,
          -0.16957541426446418,
          -0.1690289809508867,
          -0.16873088208661732,
          -0.1687178489273002,
          0.2833896801402839,
          0.06129617463478633,
          -0.2011513639583472,
          -0.18522316176458617,
          -0.1501565180475666,
          -0.1511635545778633,
          -0.1679104486164874,
          -0.24218631174094363,
          -0.1850691157316958,
          -0.15414934130852026,
          -0.18516895951035559,
          -0.1147616992701287,
          1.1178992695364367,
          0.2827959871267685,
          -0.07930830312063508,
          -0.24192989901878517,
          -0.14828754734841348,
          -0.08622555272884216,
          1.0592715132195982,
          -0.24660155909859244,
          -0.18522068803652658,
          -0.17828081106719418,
          -0.1688287601490783,
          -0.24652719237257684,
          -0.15438518887085798,
          -0.223212875361168,
          -0.25118221808052615,
          7.992856238175766,
          -0.15038966117652303,
          0.28665766293356,
          0.022621765204840136,
          -0.15066776834681603,
          -0.18835499051598997,
          -0.16940075199610688,
          0.1367120412518695,
          -0.24068731131388127,
          -0.10735745533952232,
          0.29069091405409675,
          -0.16963698760263957,
          -0.1573217706571083,
          -0.14915070074339565,
          -0.1736087082391924,
          -0.245699210998296,
          0.28297796600929087,
          -0.20586409739282527,
          -0.16871396664713809,
          -0.17684771498169094,
          -0.17590136237132759,
          0.2868915948273398,
          0.5788503422795588,
          2.0852948641167,
          -0.15513637706830918,
          0.29653913485056327,
          -0.19318978813976145,
          -0.14269591493886621,
          -0.24658377614492155,
          -0.16966150915239606,
          -0.14817265654310002,
          -0.1500508756059928,
          -0.02154606012785486,
          3.093275188781696,
          -0.11435739866323219,
          -0.24655524652512664,
          -0.19261959141080606,
          -0.045241307597772513,
          -0.17530124883721274,
          -0.15440577775115005,
          0.9140792370427898,
          0.3624664339092609,
          -0.15951263007027977,
          -0.15990305594115872,
          -0.24453966241374744,
          -0.17859121858498245,
          -0.16855748771129292,
          -0.1482235289389056,
          -0.14998986057789124,
          -0.21056158318600837,
          -0.15368418887430232,
          -0.12206656429353202,
          -0.1525559158278041,
          0.5237035438907817,
          -0.11061778506381374,
          -0.11055008980283065,
          -0.15326688926374782,
          -0.15419661253688366,
          0.5437230499184185,
          -0.21815581542144036,
          -0.16973802478149325,
          -0.16770050648486057,
          -0.1252316272424334,
          -0.11584255016111561,
          -0.15581104985015368,
          0.3044842952943317,
          -0.15027719928519684
         ],
         "y": [
          -1.3463235271704674,
          -2.0446228662055552,
          -1.0875154030588121,
          -2.229015294533849,
          -2.0446732502515217,
          -1.9785597609037728,
          -1.846771335048896,
          -1.0875382718136257,
          -0.8720271406505324,
          -1.0875449825471617,
          -1.8485045371453732,
          -1.1867615610173439,
          -1.3462578858148082,
          -1.0875132496750348,
          -1.087557598743522,
          -0.5005845435174556,
          -1.1789967758544733,
          -1.0875263742913774,
          -1.0875372795336504,
          -1.0875369684030831,
          -0.872030829594883,
          -1.8425308254989194,
          -1.338923750115412,
          -1.0824540558096096,
          -1.0875279213120586,
          -1.0874646432131438,
          -1.087531730024594,
          -1.0875389106045006,
          -1.578981614834928,
          -1.0872995224775928,
          -1.0875099853631205,
          -1.087526980580711,
          -1.0490204749865997,
          -1.3463213656513755,
          -1.0875018498155546,
          -1.0875287457740914,
          -1.0875363823719657,
          -1.0875215621429337,
          -2.1701966103406254,
          -1.0875354049012038,
          -1.0897954202105604,
          -1.3463257082399052,
          -1.087395076405566,
          -1.0875414600173228,
          -1.0875848354732616,
          -1.0875325236634679,
          -1.3461747409339113,
          -1.3463127430258781,
          -1.3463255301319155,
          -1.3463494696088794,
          -1.3463302822867678,
          -0.8720287688848745,
          -1.0875269066625317,
          -1.2287290303973861,
          -1.0875236146836227,
          -1.3463151904903448,
          -2.1711695823497514,
          -2.2471862977478336,
          -0.48058753928533027,
          -1.0875173364015185,
          -1.0876871994087083,
          -1.087485781351263,
          -1.0875373431324022,
          -1.0874740467321038,
          -1.0872534436502463,
          -2.2822643885378944,
          -1.849097247175873,
          -1.4841233230944264,
          -1.0875307282851991,
          -1.08696934657825,
          -2.115431021658183,
          -1.0875365250392743,
          -1.3463272624930476,
          -1.1113093299000252,
          -0.8720160960654235,
          -2.2265662594106383,
          -1.3463341659709318,
          -0.872024176700489,
          -1.0875688538118304,
          -1.0875497012245845,
          -2.0446936687478945,
          -2.1446070392645997,
          -0.8720228820744494,
          -1.34632142845101,
          -1.087447505462541,
          -2.1445241194594953,
          -1.0875107570350617,
          -1.337058077880889,
          -0.8720204641896885,
          -2.2528414934964682,
          -1.08757985497082,
          -2.2226737939562162,
          -1.087537464864687,
          -0.872026720780421,
          -1.0875365263274994,
          -0.8720351122117845,
          -1.2025992739566036,
          -2.249320587048094,
          -1.3463286027763883,
          -1.8487682783377954,
          -1.0875085978719208,
          -1.3463268789970964,
          -1.0875369397679044,
          -2.151679317065927,
          -2.0446853328024615,
          -1.978560970458194,
          -1.0899865864569003,
          -0.8715955439477199,
          -0.8720465626461068,
          -2.2493281078698484,
          -1.0875368786645552,
          -2.2493234139948575,
          -2.2265599550922843,
          -0.8975023220421787,
          -2.2290673579286477,
          -1.0875355271819551,
          -0.8722672218123405,
          -1.9785590427061648,
          -1.0874943797621501,
          -2.226551402876855,
          -2.27193115189877,
          -1.0885265666350807,
          -0.5538608151899408,
          -1.08753210698537,
          -1.3460755970588656,
          -1.0875460465374487,
          -2.2290069943329707,
          -2.270685156098162,
          -2.167228383134389,
          -2.0358645014110985,
          -2.2486032759427257,
          -0.8720314145182902,
          -1.0875293744664574,
          -1.0875526357958392,
          -0.8720272966359666,
          -0.8720326849804411,
          -2.249327623246567,
          -2.2489584110661704,
          -1.0277592694417783,
          -1.1245709094091736,
          -0.8722301129717683,
          -1.3463234804053077,
          -1.0902496341217904,
          -0.989783898574898,
          -1.0875353231274365,
          -1.087546563240161,
          -1.0875403123707543,
          -1.0875395811073327,
          -2.2493402033006644,
          -1.9804233539898044,
          -0.8706471604106993,
          -1.579041558985538,
          -1.978553048871209,
          -2.252854796584159,
          -1.0874942795576854,
          -0.8720002637588097,
          -1.5790446999750585,
          -2.044760105989919,
          -1.5790416602610355,
          -1.8489830090395185,
          -2.258106986184066,
          -2.2493235041074113,
          -2.0469243946675744,
          -0.8721168124367693,
          -2.2289836976299973,
          -1.0861190290077656,
          -1.0970669190029134,
          -0.8720318196439449,
          -1.5790374921259582,
          -1.5789617005155487,
          -1.087522235721856,
          -0.8720297420492393,
          -1.3463217813071764,
          -1.150089169166588,
          -0.240081785832234,
          -2.47139720829131,
          -2.166423783881215,
          -2.2493186216309544,
          -1.0832852192675697,
          -2.252790116311224,
          -1.2285864728909819,
          -1.087538616737546,
          -1.0823877104596664,
          -0.8720143595634978,
          -2.0462068035932384,
          -2.249527030044572,
          -1.0875394325564949,
          -2.2308274205111047,
          -1.9785286937454774,
          -2.1517377913103015,
          -0.8720336958917447,
          -2.249317156247491,
          -0.5538462910414795,
          -2.2265619597082305,
          -2.084841359882368,
          -2.151676898277311,
          -2.249478331348234,
          -2.115810503829018,
          -2.2686414879713297,
          -2.151735980734706,
          -2.249198898557363,
          -1.2868626524306381,
          -2.256045862611651,
          -0.872031607492226,
          -1.0875415320001798,
          -2.2294685987673075,
          -2.20849814028437,
          -1.0758151648210985,
          -2.0954014846706173,
          -1.3454375255006361,
          -0.8720326254639198,
          -1.286881675150871,
          -1.9776282742694204,
          -2.151691345939106,
          -1.3463234825072385,
          -0.11920438819824057,
          -2.2501349704760574,
          -2.1818084671715954,
          -2.181778070197232,
          -0.17396330099835472,
          -2.1831734590084557,
          -1.0875436771197005,
          -1.9786028938518785,
          -1.9785501702076003,
          -1.4841446784142633,
          -1.346311146782674,
          -0.3510805707668029,
          -1.3463159281722794,
          -1.1128476352833827,
          -1.5774566396464311,
          -2.1835752025046564,
          -1.0872618695221754,
          -1.3463254949062298,
          -1.0802344039615783,
          -1.178985968044282,
          -1.0875346267052064,
          -1.0875361836812802,
          -1.8491402009623334,
          -2.218474928667024,
          -2.044686063049787,
          -2.2490151288155253,
          -1.9785598200440764
         ],
         "z": [
          0.17730897887234168,
          0.3882689589371278,
          0.011749464264082885,
          0.39810435616215956,
          0.38824129680327446,
          0.5479724142633098,
          0.33671255791321286,
          0.011788342275871277,
          0.02485663392215108,
          0.0117797750787482,
          0.34428056525976514,
          -0.03307716562253156,
          0.17720779328203393,
          0.01169380096754149,
          0.011778236276897718,
          0.05647281629148843,
          0.14780038201455942,
          0.011769938430445756,
          0.011787543431010168,
          0.011789846490753179,
          0.02486025349882628,
          0.33474277478398784,
          0.16453610609515718,
          0.0033162174869252443,
          0.011780009501660615,
          0.011638493394231342,
          0.011779502089170774,
          0.01179202870715682,
          0.23372419180442933,
          0.011141432835990414,
          0.011749650981697527,
          0.011762603572829475,
          -0.04864788770929667,
          0.17730723871990098,
          0.011679613523707048,
          0.011780998120690197,
          0.011793205008325364,
          0.011768067558214084,
          0.5220989664420804,
          0.011789607893907674,
          0.008739139391887215,
          0.17731073476397888,
          0.011570400044408761,
          0.011790908970960827,
          0.011751431826244723,
          0.011773903364739739,
          0.17690752809164448,
          0.17729184628189917,
          0.17730376894526337,
          0.1773106963077162,
          0.17732115835757925,
          0.024864442301834818,
          0.011778542892625655,
          0.2665858849459376,
          0.011697135547172359,
          0.17729447028098508,
          0.2660076952137046,
          0.3838862837954757,
          -0.7151366595134331,
          0.011744159304424169,
          0.011369265859710223,
          0.011698851641996326,
          0.011793563284403969,
          0.011691479238966766,
          0.011240983289961934,
          0.4111980176134521,
          0.3454074877072391,
          0.25124081056137754,
          0.01178799644229169,
          0.008088369071006228,
          0.43408528239320715,
          0.011793557194347184,
          0.17731198603092674,
          0.0010435455912837764,
          0.024843518959349335,
          0.4050903044900143,
          0.17730690075191652,
          0.024853922887023514,
          0.01175148276702027,
          0.01172314664997643,
          0.3883204667169979,
          0.4056635979452746,
          0.02485450502381541,
          0.17730728927737133,
          0.011653868042392407,
          0.4393540736796071,
          0.011745723936461993,
          0.16283066372244037,
          0.02483046679996381,
          0.4678013022831503,
          0.011773948062789382,
          0.4495934218253579,
          0.011788017511275607,
          0.02485467151318346,
          0.011793559215825134,
          0.02486142711844605,
          1.0873589719012915,
          0.3888500425609614,
          0.1773167244614523,
          0.3447527948667686,
          0.011706299870776893,
          0.1773150435793193,
          0.011784346000171515,
          0.41667677194236696,
          0.3883107346976327,
          0.5479733880271234,
          0.010517428038391827,
          0.024353231422345425,
          0.024804695237085516,
          0.3888525236189111,
          0.011793161327550598,
          0.388847445257487,
          0.40510335376907824,
          0.01288441239805517,
          0.39808616794657226,
          0.011791863524983006,
          0.024731533530448362,
          0.54797313558187,
          0.011727341207301855,
          0.40509289506829,
          0.33756001582287704,
          0.011291290593315441,
          -0.007562730589749433,
          0.011778661865836548,
          0.1763040085222375,
          0.011778032633334809,
          0.39806356184736746,
          0.45750780638252425,
          0.4237645856284836,
          0.516121400603234,
          0.3876260575558637,
          0.024834084428144953,
          0.011781739207263425,
          0.011782362748309468,
          0.024843764392904123,
          0.024861454805514775,
          0.38884141250495013,
          0.30403006336845984,
          -0.10130604994598998,
          0.1353634182982587,
          0.024669170922160512,
          0.17730894122358287,
          0.010566758340830908,
          -0.06690296552682871,
          0.011786293284405343,
          0.011774550077929675,
          0.011764319710607419,
          0.01176373099971822,
          0.38884020558189125,
          0.5426571097320698,
          0.023167384851924818,
          0.2338728376395385,
          0.54796701067475,
          0.46777097782892607,
          0.011727260536701365,
          0.024727786781517977,
          0.2338695185262938,
          0.388288479442128,
          0.2338713597595604,
          0.3451010998962149,
          0.3683122672307956,
          0.38885157877439236,
          0.3868730505936997,
          0.024756639919297295,
          0.39775420953260154,
          0.009028200814709293,
          0.06919562719271655,
          0.02486046576785933,
          0.23387151283982408,
          0.23365487964541357,
          0.011761462520844139,
          0.024857753571032228,
          0.17730784429571478,
          0.11456891921988428,
          0.1560974839366495,
          0.24276061178250347,
          0.46869685306418446,
          0.3887425501613454,
          0.005122425745015376,
          0.4677371991322548,
          0.2661410418932924,
          0.011782447284539053,
          0.0016686373172796426,
          0.024690403098480522,
          0.3874324186149317,
          0.38869461265304783,
          0.011789276743460468,
          0.45360527308604065,
          0.5479314843326772,
          0.41663333629490085,
          0.02483592107053008,
          0.3888445515883769,
          -0.007565569833582959,
          0.4050996785962586,
          0.36800451662309447,
          0.41667836583916235,
          0.3887853581837361,
          0.37680390207401354,
          0.344630283141188,
          0.31934326215962283,
          0.38843044713636926,
          0.1644244404106417,
          0.45593569162783065,
          0.02485990511980226,
          0.01179060784620558,
          0.3979007573172749,
          0.4469284223663243,
          0.2843070996095974,
          0.30049196579118365,
          0.1759202737380924,
          0.024859425137349747,
          0.16441443897556468,
          0.5447602638112281,
          0.41666611856407987,
          0.17730894291576316,
          0.46900100415168755,
          0.3868839072264245,
          0.42057698030532575,
          0.42057846378637165,
          0.31572959135818934,
          0.36723786266804925,
          0.011760530981769381,
          0.5479285834510517,
          0.5479614814373233,
          0.2512255151067877,
          0.17728504217815014,
          -0.04064182571399831,
          0.1772551042055317,
          0.00030021983895918143,
          0.23130614357531484,
          0.4197593155922049,
          0.011247766621944395,
          0.17730374058647466,
          -0.010328770325652336,
          0.1477848586483858,
          0.011790605787840617,
          0.011734355899004132,
          0.3454411584226754,
          0.38615442351010865,
          0.38831188059876837,
          0.38815247808858333,
          0.5479724618747989
         ]
        },
        {
         "customdata": [
          [
           "VeChainThor Authority"
          ],
          [
           "SHA-256 + Hive"
          ],
          [
           "SHA3-256"
          ]
         ],
         "hovertemplate": "<b>%{hovertext}</b><br><br>Class=%{marker.color}<br>PC 1=%{x}<br>PC 2=%{y}<br>PC 3=%{z}<br>Algorithm=%{customdata[0]}<extra></extra>",
         "hovertext": [
          "Vechain",
          "LitecoinCash",
          "Fiii"
         ],
         "legendgroup": "3",
         "marker": {
          "color": [
           3,
           3,
           3
          ],
          "coloraxis": "coloraxis",
          "symbol": "square"
         },
         "mode": "markers",
         "name": "3",
         "scene": "scene",
         "showlegend": true,
         "type": "scatter3d",
         "x": [
          4.433721774237933,
          -0.3383134136651849,
          -0.6330333443722383
         ],
         "y": [
          3.7154717364184795,
          1.9848578285879368,
          4.213945720494525
         ],
         "z": [
          12.566633693217891,
          22.451330198991325,
          15.277521875893923
         ]
        },
        {
         "customdata": [
          [
           "TRC10"
          ]
         ],
         "hovertemplate": "<b>%{hovertext}</b><br><br>Class=%{marker.color}<br>PC 1=%{x}<br>PC 2=%{y}<br>PC 3=%{z}<br>Algorithm=%{customdata[0]}<extra></extra>",
         "hovertext": [
          "BitTorrent"
         ],
         "legendgroup": "2",
         "marker": {
          "color": [
           2
          ],
          "coloraxis": "coloraxis",
          "symbol": "x"
         },
         "mode": "markers",
         "name": "2",
         "scene": "scene",
         "showlegend": true,
         "type": "scatter3d",
         "x": [
          34.01816351051423
         ],
         "y": [
          2.0765377149696893
         ],
         "z": [
          -1.619502660063717
         ]
        }
       ],
       "layout": {
        "coloraxis": {
         "colorbar": {
          "title": {
           "text": "Class"
          }
         },
         "colorscale": [
          [
           0,
           "#0d0887"
          ],
          [
           0.1111111111111111,
           "#46039f"
          ],
          [
           0.2222222222222222,
           "#7201a8"
          ],
          [
           0.3333333333333333,
           "#9c179e"
          ],
          [
           0.4444444444444444,
           "#bd3786"
          ],
          [
           0.5555555555555556,
           "#d8576b"
          ],
          [
           0.6666666666666666,
           "#ed7953"
          ],
          [
           0.7777777777777778,
           "#fb9f3a"
          ],
          [
           0.8888888888888888,
           "#fdca26"
          ],
          [
           1,
           "#f0f921"
          ]
         ]
        },
        "legend": {
         "title": {
          "text": "Class"
         },
         "tracegroupgap": 0,
         "x": 0,
         "y": 1
        },
        "margin": {
         "t": 60
        },
        "scene": {
         "domain": {
          "x": [
           0,
           1
          ],
          "y": [
           0,
           1
          ]
         },
         "xaxis": {
          "title": {
           "text": "PC 1"
          }
         },
         "yaxis": {
          "title": {
           "text": "PC 2"
          }
         },
         "zaxis": {
          "title": {
           "text": "PC 3"
          }
         }
        },
        "template": {
         "data": {
          "bar": [
           {
            "error_x": {
             "color": "#2a3f5f"
            },
            "error_y": {
             "color": "#2a3f5f"
            },
            "marker": {
             "line": {
              "color": "#E5ECF6",
              "width": 0.5
             }
            },
            "type": "bar"
           }
          ],
          "barpolar": [
           {
            "marker": {
             "line": {
              "color": "#E5ECF6",
              "width": 0.5
             }
            },
            "type": "barpolar"
           }
          ],
          "carpet": [
           {
            "aaxis": {
             "endlinecolor": "#2a3f5f",
             "gridcolor": "white",
             "linecolor": "white",
             "minorgridcolor": "white",
             "startlinecolor": "#2a3f5f"
            },
            "baxis": {
             "endlinecolor": "#2a3f5f",
             "gridcolor": "white",
             "linecolor": "white",
             "minorgridcolor": "white",
             "startlinecolor": "#2a3f5f"
            },
            "type": "carpet"
           }
          ],
          "choropleth": [
           {
            "colorbar": {
             "outlinewidth": 0,
             "ticks": ""
            },
            "type": "choropleth"
           }
          ],
          "contour": [
           {
            "colorbar": {
             "outlinewidth": 0,
             "ticks": ""
            },
            "colorscale": [
             [
              0,
              "#0d0887"
             ],
             [
              0.1111111111111111,
              "#46039f"
             ],
             [
              0.2222222222222222,
              "#7201a8"
             ],
             [
              0.3333333333333333,
              "#9c179e"
             ],
             [
              0.4444444444444444,
              "#bd3786"
             ],
             [
              0.5555555555555556,
              "#d8576b"
             ],
             [
              0.6666666666666666,
              "#ed7953"
             ],
             [
              0.7777777777777778,
              "#fb9f3a"
             ],
             [
              0.8888888888888888,
              "#fdca26"
             ],
             [
              1,
              "#f0f921"
             ]
            ],
            "type": "contour"
           }
          ],
          "contourcarpet": [
           {
            "colorbar": {
             "outlinewidth": 0,
             "ticks": ""
            },
            "type": "contourcarpet"
           }
          ],
          "heatmap": [
           {
            "colorbar": {
             "outlinewidth": 0,
             "ticks": ""
            },
            "colorscale": [
             [
              0,
              "#0d0887"
             ],
             [
              0.1111111111111111,
              "#46039f"
             ],
             [
              0.2222222222222222,
              "#7201a8"
             ],
             [
              0.3333333333333333,
              "#9c179e"
             ],
             [
              0.4444444444444444,
              "#bd3786"
             ],
             [
              0.5555555555555556,
              "#d8576b"
             ],
             [
              0.6666666666666666,
              "#ed7953"
             ],
             [
              0.7777777777777778,
              "#fb9f3a"
             ],
             [
              0.8888888888888888,
              "#fdca26"
             ],
             [
              1,
              "#f0f921"
             ]
            ],
            "type": "heatmap"
           }
          ],
          "heatmapgl": [
           {
            "colorbar": {
             "outlinewidth": 0,
             "ticks": ""
            },
            "colorscale": [
             [
              0,
              "#0d0887"
             ],
             [
              0.1111111111111111,
              "#46039f"
             ],
             [
              0.2222222222222222,
              "#7201a8"
             ],
             [
              0.3333333333333333,
              "#9c179e"
             ],
             [
              0.4444444444444444,
              "#bd3786"
             ],
             [
              0.5555555555555556,
              "#d8576b"
             ],
             [
              0.6666666666666666,
              "#ed7953"
             ],
             [
              0.7777777777777778,
              "#fb9f3a"
             ],
             [
              0.8888888888888888,
              "#fdca26"
             ],
             [
              1,
              "#f0f921"
             ]
            ],
            "type": "heatmapgl"
           }
          ],
          "histogram": [
           {
            "marker": {
             "colorbar": {
              "outlinewidth": 0,
              "ticks": ""
             }
            },
            "type": "histogram"
           }
          ],
          "histogram2d": [
           {
            "colorbar": {
             "outlinewidth": 0,
             "ticks": ""
            },
            "colorscale": [
             [
              0,
              "#0d0887"
             ],
             [
              0.1111111111111111,
              "#46039f"
             ],
             [
              0.2222222222222222,
              "#7201a8"
             ],
             [
              0.3333333333333333,
              "#9c179e"
             ],
             [
              0.4444444444444444,
              "#bd3786"
             ],
             [
              0.5555555555555556,
              "#d8576b"
             ],
             [
              0.6666666666666666,
              "#ed7953"
             ],
             [
              0.7777777777777778,
              "#fb9f3a"
             ],
             [
              0.8888888888888888,
              "#fdca26"
             ],
             [
              1,
              "#f0f921"
             ]
            ],
            "type": "histogram2d"
           }
          ],
          "histogram2dcontour": [
           {
            "colorbar": {
             "outlinewidth": 0,
             "ticks": ""
            },
            "colorscale": [
             [
              0,
              "#0d0887"
             ],
             [
              0.1111111111111111,
              "#46039f"
             ],
             [
              0.2222222222222222,
              "#7201a8"
             ],
             [
              0.3333333333333333,
              "#9c179e"
             ],
             [
              0.4444444444444444,
              "#bd3786"
             ],
             [
              0.5555555555555556,
              "#d8576b"
             ],
             [
              0.6666666666666666,
              "#ed7953"
             ],
             [
              0.7777777777777778,
              "#fb9f3a"
             ],
             [
              0.8888888888888888,
              "#fdca26"
             ],
             [
              1,
              "#f0f921"
             ]
            ],
            "type": "histogram2dcontour"
           }
          ],
          "mesh3d": [
           {
            "colorbar": {
             "outlinewidth": 0,
             "ticks": ""
            },
            "type": "mesh3d"
           }
          ],
          "parcoords": [
           {
            "line": {
             "colorbar": {
              "outlinewidth": 0,
              "ticks": ""
             }
            },
            "type": "parcoords"
           }
          ],
          "pie": [
           {
            "automargin": true,
            "type": "pie"
           }
          ],
          "scatter": [
           {
            "marker": {
             "colorbar": {
              "outlinewidth": 0,
              "ticks": ""
             }
            },
            "type": "scatter"
           }
          ],
          "scatter3d": [
           {
            "line": {
             "colorbar": {
              "outlinewidth": 0,
              "ticks": ""
             }
            },
            "marker": {
             "colorbar": {
              "outlinewidth": 0,
              "ticks": ""
             }
            },
            "type": "scatter3d"
           }
          ],
          "scattercarpet": [
           {
            "marker": {
             "colorbar": {
              "outlinewidth": 0,
              "ticks": ""
             }
            },
            "type": "scattercarpet"
           }
          ],
          "scattergeo": [
           {
            "marker": {
             "colorbar": {
              "outlinewidth": 0,
              "ticks": ""
             }
            },
            "type": "scattergeo"
           }
          ],
          "scattergl": [
           {
            "marker": {
             "colorbar": {
              "outlinewidth": 0,
              "ticks": ""
             }
            },
            "type": "scattergl"
           }
          ],
          "scattermapbox": [
           {
            "marker": {
             "colorbar": {
              "outlinewidth": 0,
              "ticks": ""
             }
            },
            "type": "scattermapbox"
           }
          ],
          "scatterpolar": [
           {
            "marker": {
             "colorbar": {
              "outlinewidth": 0,
              "ticks": ""
             }
            },
            "type": "scatterpolar"
           }
          ],
          "scatterpolargl": [
           {
            "marker": {
             "colorbar": {
              "outlinewidth": 0,
              "ticks": ""
             }
            },
            "type": "scatterpolargl"
           }
          ],
          "scatterternary": [
           {
            "marker": {
             "colorbar": {
              "outlinewidth": 0,
              "ticks": ""
             }
            },
            "type": "scatterternary"
           }
          ],
          "surface": [
           {
            "colorbar": {
             "outlinewidth": 0,
             "ticks": ""
            },
            "colorscale": [
             [
              0,
              "#0d0887"
             ],
             [
              0.1111111111111111,
              "#46039f"
             ],
             [
              0.2222222222222222,
              "#7201a8"
             ],
             [
              0.3333333333333333,
              "#9c179e"
             ],
             [
              0.4444444444444444,
              "#bd3786"
             ],
             [
              0.5555555555555556,
              "#d8576b"
             ],
             [
              0.6666666666666666,
              "#ed7953"
             ],
             [
              0.7777777777777778,
              "#fb9f3a"
             ],
             [
              0.8888888888888888,
              "#fdca26"
             ],
             [
              1,
              "#f0f921"
             ]
            ],
            "type": "surface"
           }
          ],
          "table": [
           {
            "cells": {
             "fill": {
              "color": "#EBF0F8"
             },
             "line": {
              "color": "white"
             }
            },
            "header": {
             "fill": {
              "color": "#C8D4E3"
             },
             "line": {
              "color": "white"
             }
            },
            "type": "table"
           }
          ]
         },
         "layout": {
          "annotationdefaults": {
           "arrowcolor": "#2a3f5f",
           "arrowhead": 0,
           "arrowwidth": 1
          },
          "coloraxis": {
           "colorbar": {
            "outlinewidth": 0,
            "ticks": ""
           }
          },
          "colorscale": {
           "diverging": [
            [
             0,
             "#8e0152"
            ],
            [
             0.1,
             "#c51b7d"
            ],
            [
             0.2,
             "#de77ae"
            ],
            [
             0.3,
             "#f1b6da"
            ],
            [
             0.4,
             "#fde0ef"
            ],
            [
             0.5,
             "#f7f7f7"
            ],
            [
             0.6,
             "#e6f5d0"
            ],
            [
             0.7,
             "#b8e186"
            ],
            [
             0.8,
             "#7fbc41"
            ],
            [
             0.9,
             "#4d9221"
            ],
            [
             1,
             "#276419"
            ]
           ],
           "sequential": [
            [
             0,
             "#0d0887"
            ],
            [
             0.1111111111111111,
             "#46039f"
            ],
            [
             0.2222222222222222,
             "#7201a8"
            ],
            [
             0.3333333333333333,
             "#9c179e"
            ],
            [
             0.4444444444444444,
             "#bd3786"
            ],
            [
             0.5555555555555556,
             "#d8576b"
            ],
            [
             0.6666666666666666,
             "#ed7953"
            ],
            [
             0.7777777777777778,
             "#fb9f3a"
            ],
            [
             0.8888888888888888,
             "#fdca26"
            ],
            [
             1,
             "#f0f921"
            ]
           ],
           "sequentialminus": [
            [
             0,
             "#0d0887"
            ],
            [
             0.1111111111111111,
             "#46039f"
            ],
            [
             0.2222222222222222,
             "#7201a8"
            ],
            [
             0.3333333333333333,
             "#9c179e"
            ],
            [
             0.4444444444444444,
             "#bd3786"
            ],
            [
             0.5555555555555556,
             "#d8576b"
            ],
            [
             0.6666666666666666,
             "#ed7953"
            ],
            [
             0.7777777777777778,
             "#fb9f3a"
            ],
            [
             0.8888888888888888,
             "#fdca26"
            ],
            [
             1,
             "#f0f921"
            ]
           ]
          },
          "colorway": [
           "#636efa",
           "#EF553B",
           "#00cc96",
           "#ab63fa",
           "#FFA15A",
           "#19d3f3",
           "#FF6692",
           "#B6E880",
           "#FF97FF",
           "#FECB52"
          ],
          "font": {
           "color": "#2a3f5f"
          },
          "geo": {
           "bgcolor": "white",
           "lakecolor": "white",
           "landcolor": "#E5ECF6",
           "showlakes": true,
           "showland": true,
           "subunitcolor": "white"
          },
          "hoverlabel": {
           "align": "left"
          },
          "hovermode": "closest",
          "mapbox": {
           "style": "light"
          },
          "paper_bgcolor": "white",
          "plot_bgcolor": "#E5ECF6",
          "polar": {
           "angularaxis": {
            "gridcolor": "white",
            "linecolor": "white",
            "ticks": ""
           },
           "bgcolor": "#E5ECF6",
           "radialaxis": {
            "gridcolor": "white",
            "linecolor": "white",
            "ticks": ""
           }
          },
          "scene": {
           "xaxis": {
            "backgroundcolor": "#E5ECF6",
            "gridcolor": "white",
            "gridwidth": 2,
            "linecolor": "white",
            "showbackground": true,
            "ticks": "",
            "zerolinecolor": "white"
           },
           "yaxis": {
            "backgroundcolor": "#E5ECF6",
            "gridcolor": "white",
            "gridwidth": 2,
            "linecolor": "white",
            "showbackground": true,
            "ticks": "",
            "zerolinecolor": "white"
           },
           "zaxis": {
            "backgroundcolor": "#E5ECF6",
            "gridcolor": "white",
            "gridwidth": 2,
            "linecolor": "white",
            "showbackground": true,
            "ticks": "",
            "zerolinecolor": "white"
           }
          },
          "shapedefaults": {
           "line": {
            "color": "#2a3f5f"
           }
          },
          "ternary": {
           "aaxis": {
            "gridcolor": "white",
            "linecolor": "white",
            "ticks": ""
           },
           "baxis": {
            "gridcolor": "white",
            "linecolor": "white",
            "ticks": ""
           },
           "bgcolor": "#E5ECF6",
           "caxis": {
            "gridcolor": "white",
            "linecolor": "white",
            "ticks": ""
           }
          },
          "title": {
           "x": 0.05
          },
          "xaxis": {
           "automargin": true,
           "gridcolor": "white",
           "linecolor": "white",
           "ticks": "",
           "title": {
            "standoff": 15
           },
           "zerolinecolor": "white",
           "zerolinewidth": 2
          },
          "yaxis": {
           "automargin": true,
           "gridcolor": "white",
           "linecolor": "white",
           "ticks": "",
           "title": {
            "standoff": 15
           },
           "zerolinecolor": "white",
           "zerolinewidth": 2
          }
         }
        }
       }
      },
      "text/html": [
       "<div>\n",
       "        \n",
       "        \n",
       "            <div id=\"d72b108d-9eee-4ae4-8f5b-6b51b14b841c\" class=\"plotly-graph-div\" style=\"height:525px; width:100%;\"></div>\n",
       "            <script type=\"text/javascript\">\n",
       "                require([\"plotly\"], function(Plotly) {\n",
       "                    window.PLOTLYENV=window.PLOTLYENV || {};\n",
       "                    \n",
       "                if (document.getElementById(\"d72b108d-9eee-4ae4-8f5b-6b51b14b841c\")) {\n",
       "                    Plotly.newPlot(\n",
       "                        'd72b108d-9eee-4ae4-8f5b-6b51b14b841c',\n",
       "                        [{\"customdata\": [[\"Scrypt\"], [\"Scrypt\"], [\"X13\"], [\"X11\"], [\"SHA-512\"], [\"SHA-256\"], [\"SHA-256\"], [\"X15\"], [\"Scrypt\"], [\"Scrypt\"], [\"Scrypt\"], [\"Scrypt\"], [\"Scrypt\"], [\"Scrypt\"], [\"Groestl\"], [\"PoS\"], [\"Scrypt\"], [\"Scrypt\"], [\"X11\"], [\"X11\"], [\"SHA3\"], [\"Scrypt\"], [\"SHA-256\"], [\"Scrypt\"], [\"X13\"], [\"X13\"], [\"NeoScrypt\"], [\"Scrypt\"], [\"Scrypt\"], [\"Scrypt\"], [\"X11\"], [\"X11\"], [\"Multiple\"], [\"PHI1612\"], [\"X11\"], [\"Scrypt\"], [\"Scrypt\"], [\"Scrypt\"], [\"X11\"], [\"Multiple\"], [\"X13\"], [\"Scrypt\"], [\"Counterparty\"], [\"SHA-256\"], [\"Groestl\"], [\"Scrypt\"], [\"X13\"], [\"Scrypt\"], [\"Scrypt\"], [\"X13\"], [\"X11\"], [\"Scrypt\"], [\"X11\"], [\"SHA3\"], [\"QUAIT\"], [\"X11\"], [\"Scrypt\"], [\"X13\"], [\"SHA-256\"], [\"X15\"], [\"BLAKE256\"], [\"SHA-256\"], [\"X11\"], [\"SHA-256\"], [\"NIST5\"], [\"Scrypt\"], [\"Scrypt\"], [\"X11\"], [\"Scrypt\"], [\"SHA-256\"], [\"Scrypt\"], [\"PoS\"], [\"X11\"], [\"SHA-256\"], [\"SHA-256\"], [\"NIST5\"], [\"X11\"], [\"POS 3.0\"], [\"Scrypt\"], [\"Scrypt\"], [\"Scrypt\"], [\"X13\"], [\"X11\"], [\"X11\"], [\"Scrypt\"], [\"SHA-256\"], [\"X11\"], [\"Scrypt\"], [\"Scrypt\"], [\"Scrypt\"], [\"Scrypt\"], [\"SHA-256D\"], [\"PoS\"], [\"Scrypt\"], [\"X11\"], [\"PoS\"], [\"X13\"], [\"X14\"], [\"PoS\"], [\"SHA-256D\"], [\"DPoS\"], [\"X11\"], [\"X13\"], [\"X11\"], [\"PoS\"], [\"Scrypt\"], [\"Scrypt\"], [\"PoS\"], [\"X11\"], [\"SHA-256\"], [\"Scrypt\"], [\"X11\"], [\"Scrypt\"], [\"Scrypt\"], [\"X11\"], [\"Scrypt\"], [\"Scrypt\"], [\"Scrypt\"], [\"Scrypt\"], [\"Quark\"], [\"QuBit\"], [\"Scrypt\"], [\"SHA-256\"], [\"X11\"], [\"Scrypt\"], [\"Scrypt\"], [\"Scrypt\"], [\"Scrypt\"], [\"X13\"], [\"Scrypt\"], [\"Scrypt\"], [\"X11\"], [\"Blake2S\"], [\"X11\"], [\"PoS\"], [\"X11\"], [\"PoS\"], [\"X11\"], [\"Scrypt\"], [\"Scrypt\"], [\"Scrypt\"], [\"SHA-256\"], [\"X11\"], [\"Scrypt\"], [\"PoS\"], [\"Scrypt\"], [\"X15\"], [\"SHA-256\"], [\"POS 3.0\"], [\"536\"], [\"NIST5\"], [\"NIST5\"], [\"Skein\"], [\"X13\"], [\"Scrypt\"], [\"X13\"], [\"SkunkHash v2 Raptor\"], [\"Skein\"], [\"X11\"], [\"Scrypt\"], [\"PoS\"], [\"Scrypt\"], [\"Scrypt\"], [\"SHA-512\"], [\"Ouroboros\"], [\"X11\"], [\"NeoScrypt\"], [\"Scrypt\"], [\"Lyra2REv2\"], [\"Scrypt\"], [\"SHA-256\"], [\"NIST5\"], [\"PHI1612\"], [\"Scrypt\"], [\"Quark\"], [\"POS 2.0\"], [\"Scrypt\"], [\"SHA-256\"], [\"X11\"], [\"DPoS\"], [\"NIST5\"], [\"X13\"], [\"Scrypt\"], [\"NIST5\"], [\"Quark\"], [\"Scrypt\"], [\"Scrypt\"], [\"X11\"], [\"Quark\"], [\"Scrypt\"], [\"Scrypt\"], [\"X11\"], [\"POS 3.0\"], [\"Scrypt\"], [\"Scrypt\"], [\"X13\"], [\"Proof-of-BibleHash\"], [\"C11\"], [\"Proof-of-Authority\"], [\"X11\"], [\"XEVAN\"], [\"Scrypt\"], [\"VBFT\"], [\"NIST5\"], [\"Scrypt\"], [\"Scrypt\"], [\"Scrypt\"], [\"Green Protocol\"], [\"PoS\"], [\"Scrypt\"], [\"Semux BFT consensus\"], [\"Quark\"], [\"PoS\"], [\"X16R\"], [\"Scrypt\"], [\"XEVAN\"], [\"Scrypt\"], [\"Scrypt\"], [\"Scrypt\"], [\"SHA-256D\"], [\"Scrypt\"], [\"X15\"], [\"Scrypt\"], [\"Quark\"], [\"SHA-256\"], [\"DPoS\"], [\"X16R\"], [\"Quark\"], [\"Quark\"], [\"Scrypt\"], [\"Lyra2REv2\"], [\"Quark\"], [\"Scrypt\"], [\"X11\"], [\"X11\"], [\"Scrypt\"], [\"PoS\"], [\"Keccak\"], [\"X11\"], [\"Scrypt\"], [\"SHA-512\"], [\"ECC 256K1\"], [\"XEVAN\"], [\"X11\"], [\"Quark\"], [\"Scrypt\"], [\"Quark\"], [\"Quark\"], [\"Scrypt\"], [\"X11\"], [\"Scrypt\"], [\"XEVAN\"], [\"SHA-256D\"], [\"X11\"], [\"X11\"], [\"DPoS\"], [\"Scrypt\"], [\"X11\"], [\"Scrypt\"], [\"Scrypt\"], [\"SHA-256\"], [\"Scrypt\"], [\"X11\"], [\"Scrypt\"], [\"SHA-256\"], [\"X11\"], [\"Scrypt\"], [\"Scrypt\"], [\"X11\"], [\"Scrypt\"], [\"PoS\"], [\"X11\"], [\"SHA-256\"], [\"DPoS\"], [\"Scrypt\"], [\"Scrypt\"], [\"NeoScrypt\"], [\"X13\"], [\"DPoS\"], [\"DPoS\"], [\"SHA-256\"], [\"Leased POS\"], [\"PoS\"], [\"PoS\"], [\"SHA-256\"], [\"Scrypt\"], [\"Scrypt\"]], \"hovertemplate\": \"<b>%{hovertext}</b><br><br>Class=%{marker.color}<br>PC 1=%{x}<br>PC 2=%{y}<br>PC 3=%{z}<br>Algorithm=%{customdata[0]}<extra></extra>\", \"hovertext\": [\"42 Coin\", \"404Coin\", \"EliteCoin\", \"Dash\", \"Bitshares\", \"BitcoinDark\", \"PayCoin\", \"KoboCoin\", \"Aurora Coin\", \"BlueCoin\", \"EnergyCoin\", \"BitBar\", \"CryptoBullion\", \"CasinoCoin\", \"Diamond\", \"Exclusive Coin\", \"FlutterCoin\", \"HoboNickels\", \"HyperStake\", \"IOCoin\", \"MaxCoin\", \"MintCoin\", \"MazaCoin\", \"Nautilus Coin\", \"NavCoin\", \"OpalCoin\", \"Orbitcoin\", \"PotCoin\", \"PhoenixCoin\", \"Reddcoin\", \"SuperCoin\", \"SyncCoin\", \"TeslaCoin\", \"TittieCoin\", \"TorCoin\", \"UnitaryStatus Dollar\", \"UltraCoin\", \"VeriCoin\", \"X11 Coin\", \"Crypti\", \"StealthCoin\", \"ZCC Coin\", \"StorjCoin\", \"Neutron\", \"FairCoin\", \"RubyCoin\", \"Kore\", \"Dnotes\", \"8BIT Coin\", \"Sativa Coin\", \"Ucoin\", \"Vtorrent\", \"IslaCoin\", \"Nexus\", \"Droidz\", \"Squall Coin\", \"Diggits\", \"Paycon\", \"Emercoin\", \"EverGreenCoin\", \"Decred\", \"EDRCoin\", \"Hitcoin\", \"DubaiCoin\", \"PWR Coin\", \"BillaryCoin\", \"GPU Coin\", \"EuropeCoin\", \"ZeitCoin\", \"SwingCoin\", \"SafeExchangeCoin\", \"Nebuchadnezzar\", \"Ratecoin\", \"Revenu\", \"Clockcoin\", \"VIP Tokens\", \"BitSend\", \"Let it Ride\", \"PutinCoin\", \"iBankCoin\", \"Frankywillcoin\", \"MudraCoin\", \"Lutetium Coin\", \"GoldBlocks\", \"CarterCoin\", \"BitTokens\", \"MustangCoin\", \"ZoneCoin\", \"RootCoin\", \"BitCurrency\", \"Swiscoin\", \"BuzzCoin\", \"Opair\", \"PesoBit\", \"Halloween Coin\", \"CoffeeCoin\", \"RoyalCoin\", \"GanjaCoin V2\", \"TeamUP\", \"LanaCoin\", \"ARK\", \"InsaneCoin\", \"EmberCoin\", \"XenixCoin\", \"FreeCoin\", \"PLNCoin\", \"AquariusCoin\", \"Creatio\", \"Eternity\", \"Eurocoin\", \"BitcoinFast\", \"Stakenet\", \"BitConnect Coin\", \"MoneyCoin\", \"Enigma\", \"Russiacoin\", \"PandaCoin\", \"GameUnits\", \"GAKHcoin\", \"Allsafe\", \"LiteCreed\", \"Klingon Empire Darsek\", \"Internet of People\", \"KushCoin\", \"Printerium\", \"Impeach\", \"Zilbercoin\", \"FirstCoin\", \"FindCoin\", \"OpenChat\", \"RenosCoin\", \"VirtacoinPlus\", \"TajCoin\", \"Impact\", \"Atmos\", \"HappyCoin\", \"MacronCoin\", \"Condensate\", \"Independent Money System\", \"ArgusCoin\", \"LomoCoin\", \"ProCurrency\", \"GoldReserve\", \"GrowthCoin\", \"Phreak\", \"Degas Coin\", \"HTML5 Coin\", \"Ultimate Secure Cash\", \"QTUM\", \"Espers\", \"Denarius\", \"Virta Unique Coin\", \"Bitcoin Planet\", \"BritCoin\", \"Linda\", \"DeepOnion\", \"Signatum\", \"Cream\", \"Monoeci\", \"Draftcoin\", \"Stakecoin\", \"CoinonatX\", \"Ethereum Dark\", \"Obsidian\", \"Cardano\", \"Regalcoin\", \"TrezarCoin\", \"TerraNovaCoin\", \"Rupee\", \"WomenCoin\", \"Theresa May Coin\", \"NamoCoin\", \"LUXCoin\", \"Xios\", \"Bitcloud 2.0\", \"KekCoin\", \"BlackholeCoin\", \"Infinity Economics\", \"Magnet\", \"Lamden Tau\", \"Electra\", \"Bitcoin Diamond\", \"Cash & Back Coin\", \"Bulwark\", \"Kalkulus\", \"GermanCoin\", \"LiteCoin Ultra\", \"PhantomX\", \"Digiwage\", \"Trollcoin\", \"Litecoin Plus\", \"Monkey Project\", \"TokenPay\", \"My Big Coin\", \"Unified Society USDEX\", \"Tokyo Coin\", \"BiblePay\", \"Stipend\", \"Poa Network\", \"Pushi\", \"Ellerium\", \"Velox\", \"Ontology\", \"Bitspace\", \"Briacoin\", \"Ignition\", \"MedicCoin\", \"Bitcoin Green\", \"Deviant Coin\", \"Abjcoin\", \"Semux\", \"Carebit\", \"Zealium\", \"Proton\", \"iDealCash\", \"Bitcoin Incognito\", \"HollyWoodCoin\", \"Swisscoin\", \"Xt3ch\", \"TheVig\", \"EmaratCoin\", \"Dekado\", \"Lynx\", \"Poseidon Quark\", \"BitcoinWSpectrum\", \"Muse\", \"Trivechain\", \"Dystem\", \"Giant\", \"Peony Coin\", \"Absolute Coin\", \"Vitae\", \"TPCash\", \"ARENON\", \"EUNO\", \"MMOCoin\", \"Ketan\", \"XDNA\", \"PAXEX\", \"ThunderStake\", \"Kcash\", \"Acute Angle Cloud\", \"Bettex coin\", \"Junson Ming Chan Coin\", \"HerbCoin\", \"Oduwa\", \"Galilel\", \"Crypto Sports\", \"Credit\", \"Dash Platinum\", \"Nasdacoin\", \"Beetle Coin\", \"Titan Coin\", \"Award\", \"Insane Coin\", \"ALAX\", \"LiteDoge\", \"TruckCoin\", \"OrangeCoin\", \"BitstarCoin\", \"NeosCoin\", \"HyperCoin\", \"PinkCoin\", \"AudioCoin\", \"IncaKoin\", \"Piggy Coin\", \"Genstake\", \"XiaoMiCoin\", \"CapriCoin\", \" ClubCoin\", \"Radium\", \"Creditbit \", \"OKCash\", \"Lisk\", \"HiCoin\", \"WhiteCoin\", \"FriendshipCoin\", \"Triangles Coin\", \"EOS\", \"Oxycoin\", \"TigerCash\", \"Waves\", \"Particl\", \"Nxt\", \"ZEPHYR\", \"Gapcoin\", \"BitcoinPlus\"], \"legendgroup\": \"0\", \"marker\": {\"color\": [0, 0, 0, 0, 0, 0, 0, 0, 0, 0, 0, 0, 0, 0, 0, 0, 0, 0, 0, 0, 0, 0, 0, 0, 0, 0, 0, 0, 0, 0, 0, 0, 0, 0, 0, 0, 0, 0, 0, 0, 0, 0, 0, 0, 0, 0, 0, 0, 0, 0, 0, 0, 0, 0, 0, 0, 0, 0, 0, 0, 0, 0, 0, 0, 0, 0, 0, 0, 0, 0, 0, 0, 0, 0, 0, 0, 0, 0, 0, 0, 0, 0, 0, 0, 0, 0, 0, 0, 0, 0, 0, 0, 0, 0, 0, 0, 0, 0, 0, 0, 0, 0, 0, 0, 0, 0, 0, 0, 0, 0, 0, 0, 0, 0, 0, 0, 0, 0, 0, 0, 0, 0, 0, 0, 0, 0, 0, 0, 0, 0, 0, 0, 0, 0, 0, 0, 0, 0, 0, 0, 0, 0, 0, 0, 0, 0, 0, 0, 0, 0, 0, 0, 0, 0, 0, 0, 0, 0, 0, 0, 0, 0, 0, 0, 0, 0, 0, 0, 0, 0, 0, 0, 0, 0, 0, 0, 0, 0, 0, 0, 0, 0, 0, 0, 0, 0, 0, 0, 0, 0, 0, 0, 0, 0, 0, 0, 0, 0, 0, 0, 0, 0, 0, 0, 0, 0, 0, 0, 0, 0, 0, 0, 0, 0, 0, 0, 0, 0, 0, 0, 0, 0, 0, 0, 0, 0, 0, 0, 0, 0, 0, 0, 0, 0, 0, 0, 0, 0, 0, 0, 0, 0, 0, 0, 0, 0, 0, 0, 0, 0, 0, 0, 0, 0, 0, 0, 0, 0, 0, 0, 0, 0, 0, 0, 0, 0, 0, 0, 0, 0, 0, 0, 0, 0, 0, 0, 0, 0, 0, 0, 0, 0, 0, 0, 0, 0, 0], \"coloraxis\": \"coloraxis\", \"symbol\": \"circle\"}, \"mode\": \"markers\", \"name\": \"0\", \"scene\": \"scene\", \"showlegend\": true, \"type\": \"scatter3d\", \"x\": [-0.3414546650984797, -0.32484208453926866, 2.2818383050634723, -0.41814728826021436, -0.1987570462965049, -0.3262219856782004, -0.24946989597240268, -0.2656805955240756, -0.3411152952725222, -0.33371338705371656, -0.33995540933181134, -0.3414506157629391, -0.341434943688347, 0.684437096916719, -0.3913389711816294, -0.30379560091715135, -0.2452914154548497, -0.339519602572413, -0.32127477491628775, -0.418042276662569, -0.25753903854096566, -0.0053450547233619165, -0.289645588299472, -0.26445452008232423, -0.2929102965340058, -0.29353077838502184, -0.35701852039667153, -0.33577544149117594, -0.3398614753850217, 0.01569271270483457, -0.3411061818456967, -0.4184126756139579, -0.21853894656193146, -0.28383526539597853, -0.4183246248960662, -0.31676578971790836, -0.3401363766541421, -0.27929793309661766, -0.4182891705851869, -0.21900474343530313, -0.29331225007026723, -0.33258891360301535, -0.2880269428432287, -0.32543618449292794, -0.39076211152029877, -0.2644347301821128, -0.29360603311112665, -0.25910682207106583, -0.34143678340900024, -0.29355833841173573, -0.3415499203023767, -0.3411720310655124, -0.4183942557757954, -0.005890105544935542, -0.43842585484082514, -0.2585401259072654, -0.2628413483699649, -0.29308156103474337, -0.3188056698206254, -0.26811318093286135, -0.11430459470790534, -0.3261929803673653, -0.09692855930933637, -0.3262564239490837, -0.25521421063422794, -0.3410483975505224, -0.26271153655176005, -0.41557378833711844, 0.8848674103468499, -0.32605723178893453, -0.044059751866171344, -0.30347988263685854, -0.41624372271248933, -0.3248054405901958, -0.3224820943546914, -0.3762365566059566, -0.41713385448656853, -0.3010540191480935, -0.317423261143178, -0.34108640451329214, -0.3395300993208298, -0.2155531993106025, -0.32907954359530756, -0.4178699441525769, -0.34029313402102157, -0.32623749648197176, -0.41838349670112707, -0.341274891159457, -0.34143103251546264, -0.26269971917772544, -0.21910355920879646, 0.011255520142476935, -0.3024402048170681, -0.3410462604972495, -0.4045939445888528, -0.3017704885582207, -0.21697855871055471, -0.4162272000503879, -0.3015218081842875, -0.30231676692239046, 3.8258623029505006, -0.41797734488877136, 0.8354599865729613, -0.4183385371763899, -0.30290251266106777, -0.34097426511200546, -0.341128185104804, -0.30347988263685854, -0.4179149848814787, -0.326100544208416, -0.3409749631762351, -0.42415088196705353, -0.3411219124117385, -0.3367262114272551, -0.4183674579536685, -0.3403355550759154, 0.3768214247900954, -0.34132053854154293, -0.34139085133964364, -0.32252136513208457, -0.38212005131744925, -0.3376312950353856, -0.32621397565444926, -0.41827768753494243, -0.34116938731232843, -0.34129600047921765, -0.26434185470893345, -0.24005505539231217, -0.21674713482336877, -0.3222090000471073, -0.2640835712680876, -0.41754605628732905, -0.4385242749987905, -0.4162879938460445, -0.3017318865441795, -0.41744422498413236, -0.29614921288428137, -0.41339905999234067, -0.34123943980410454, -0.3412386797212346, -0.33438576616128046, 0.2812312397114656, -0.4179209881825982, -0.2470447049798829, -0.30351414620412337, -0.34045286025443505, 0.8625320374956719, -0.2481651535084034, -0.29983619078232027, 0.5536779549352355, -0.3777674262902836, -0.37627452239492226, -0.4506271614269681, -0.2932444358279826, 0.1218788550978449, -0.293314940027165, -0.2996510397102878, -0.4501334213930516, -0.418192419448406, -0.26441560818994275, -0.30338099577876726, -0.3408758232628472, -0.341373834110188, -0.2566373082906341, 0.6945102083296887, -0.41813352438193235, -0.3520342025575859, -0.34132964698065066, -0.29843647912466026, 0.42549039152520657, -0.32456534686851857, -0.3625842418929434, -0.3960080914203365, -0.3412801575894814, -0.3976574786262787, -0.28922980294753325, -0.3411508765934617, -0.07649332591704688, -0.4169302845791723, 3.8307024118373034, 0.1799781771010457, -0.2899962675864986, -0.3386194594553701, -0.3008429806321929, -0.32240761794911754, 0.07152185803490684, -0.3402926722802131, -0.41750920558506177, -0.32157531867336847, -0.3278977924782029, -0.34139590287460125, -0.3415219341672014, -0.3013350981419542, -0.28549023596900575, -0.33695499577679694, -0.20857072961270062, -0.3235182112463467, -0.39486659815513564, -0.5460072351605648, -0.41820971647933386, -0.1943997962003426, -0.263578610897265, -0.28438866367490706, -0.3773677578415238, -0.341423175196834, -0.3414049498575306, -0.25797806128548534, -0.2942878534927278, -0.30297674948102227, -0.3411224089044481, 4.004186850235531, -0.39632920547395184, -0.3031648430458457, -0.28800424515483997, -0.28817265508294315, -0.034678939573234806, -0.26411072239402594, -0.14514887413794453, -0.26436219618675694, -0.367402822485983, -0.3405982483299366, -0.19077040775775386, 2.257545598557906, -0.31813152650892895, -0.24829188260750434, 1.0993898218849754, -0.36403163367070623, -0.32252084103332057, -0.3993356979084392, -0.1455330158799809, -0.37505389923447413, -0.32124443797083946, -0.3343260238340539, -0.3411007339131825, -0.41768467635594964, -0.26161671294246214, -0.30226797509200387, -0.360481305922653, -0.34096278585823075, -0.2014108466413581, -0.19785769157108415, -0.42190742407935383, -0.11770409131447518, -0.1320578969579797, -0.3986325997571007, -0.3411263141530453, -0.3990872270925342, -0.32263744384169346, 0.5623886297763596, -0.3415760899642492, -0.3406110745820563, -0.18887363344056263, -0.3222797573744298, -0.4152584550022893, -0.4179111536289528, 3.8429069071953763, 0.09237144420380144, -0.41545745124844025, -0.33999901164889146, -0.3408207843802073, -0.24950248930128233, -0.34133733036931535, -0.4095652588121032, -0.25534705389266354, -0.10649402131622575, -0.40532862507308653, -0.34061775232947095, -0.33370381255626413, -0.41449043997082613, -0.3390622060204435, -0.30375467698669634, -0.4303694824995365, -0.3247417067489093, 3.8262528051462508, -0.07224387108909092, -0.33626567552318726, -0.35664577792753716, -0.29371286360021864, 3.8360943898765067, 3.8373350648027067, -0.23045865267275104, -0.5879336130117312, -0.3036907195358577, -0.3210074801611839, 2.5134078072235497, -0.33950706101934275, -0.264757288758102], \"y\": [1.0948469918280346, 1.0954308008190417, 1.770138964905434, 1.3103546747090966, 1.1872171870352084, 0.8360486214584444, 0.45828861499209245, 1.9679647797367137, 1.0948550551781286, 1.0952813388417575, 1.094931111973692, 1.0948468917166603, 1.0948474437054672, 0.009514630258935694, 1.0033759676338874, 1.3387746411463406, 0.2827549231315279, 1.094877002906169, 0.9337317667691554, 1.3103605666911051, 1.451668882017725, 0.7316327762050236, 0.8365314544838229, 0.71708409114267, 1.8313481262836715, 1.8313133123394576, 0.6033475776218425, 1.0948906767929052, 1.0948722240355522, 1.11488578729605, 0.9326190678346138, 1.3103541866235826, -0.0444987325274955, 1.4840056308320442, 1.310352580847549, 1.0951847495333038, 1.094855490543336, 0.4209254089542168, 1.31035751616297, -0.044459399688968906, 1.8313255735080098, 1.0946897533963333, 1.232904878430252, 0.8360625959699576, 1.0034112015145136, 0.7170957941916002, 1.8313012338258277, 0.7170673933635789, 1.0948479951598822, 1.8313052192306802, 0.9325810770479341, 1.0948497563162327, 1.3103552207770113, 0.7163773198839009, 2.097979722668449, 0.5342022181467261, 0.7171197277952602, 1.8313057831238488, 0.8358244610855248, 1.968040212790549, 1.0880063878301596, 0.8360502488860183, 1.3110103088610916, 0.8360542179878467, 1.635411533304344, 1.0948422902344472, 0.7170477608546812, 1.3102620752435785, 0.7167676897912583, 0.8360460812644408, -0.006578626961866814, 1.3387792618952454, 1.3104267819095556, 0.8359966907499606, 0.8359291562843439, 1.6285623006002765, 1.3103349391220886, 1.1847204134728258, 1.094885989257728, 1.0948386301627653, 1.0948895075016498, 1.4534849106327885, 0.9328637344640088, 1.3103519049446388, 1.094853241987087, 0.8360484058568622, 1.3103538604143548, 1.0948433303733076, 1.0948483178305393, 0.717193142045077, 0.38694762114955966, 2.0842914961234786, 1.3388022434774351, 1.094869906587012, 1.3101475115293033, 1.338862078956985, 1.453534235373089, 1.8983346679463151, 1.3387051610504774, 2.0748771465509477, 1.0490881788939093, 1.3103589724592137, 1.8941021567927558, 1.3103558243459603, 1.3387920166026863, 1.094848714834644, 1.0948378135209722, 1.3387792618952454, 1.3103428310300738, 0.8360567446409718, 1.0948523025800032, 0.7965086655135916, 1.0948473309510325, 1.0946863233135724, 1.3103534509604493, 1.0948155092554, 0.7317885630476475, 1.0948460066122492, 1.0948484015407998, 1.30391917323912, 0.698256397586094, 1.094734174531551, 0.8360497255615011, 1.3103556373266536, 1.0948499046517175, 1.0948415349414098, 0.7170649979889759, 0.26314238426012276, 1.4535393477691256, 1.0952721487248853, 0.7170929587888613, 1.310337343752684, 1.9471657959536295, 1.3104013842426703, 1.3388182274811542, 1.3103430572949948, 1.3389417931282535, 1.3103081521533195, 1.0948451806042077, 1.0948403865741345, 1.094588935742083, 0.438972535608795, 1.3103555877435231, 0.7167621576657676, 1.3387707926647716, 1.0948344599212076, 1.9725746198333247, 0.45823901425483277, 1.1847452072447118, 2.007122807707438, 1.6285287808757274, 1.6285405300996845, 2.0773575344122546, 1.8313097381046348, 1.0881098051381406, 1.8313130503655246, 1.2015355202248825, 2.0773852371371113, 1.3103603211983323, 0.7170854718447495, 1.3387575756777546, 1.0948478799757284, 1.0948487774692206, 1.1862670276337957, 1.3062240744167806, 1.3103521735850956, 0.6033678345236532, 1.0948437061056124, 0.5758818992634945, 1.1215117487451225, 0.8360905071812605, 1.628601611729002, 1.8612509501694294, 1.0948430348848897, 1.6816549528970306, 1.2614606857324997, 1.0948543552470429, 0.4621100577224185, 1.3103430876190194, 1.0491142433310496, 1.6401889524316804, 1.8313741441432911, 1.0948685871037287, 1.2507606271660012, 1.3039222819700813, 1.0852843789251596, 1.0948139872558922, 1.3103721452342538, 1.303903512817938, 1.095018430162022, 1.0948476701722796, 0.932581992614376, 1.1847102074730824, 0.3967964520913719, 1.094947573792915, 1.4534838760781505, 5.214265423159706, 1.0322951019088404, 3.84737219913837, 1.310349207959833, 1.1065975818750702, 0.7170626492751472, 1.157942901419907, 1.6285250183475495, 1.0948467946563951, 1.094846507887604, 0.717130725780081, 1.364412791735798, 1.3387629735916295, 1.0948459937392439, 1.0660595805895983, 1.6817294795368516, 1.3387576574719686, 0.5177428802627888, 1.0944833092136048, 0.3304626339758442, 0.7170969519836697, 1.0991835923401803, 0.7170710581214195, 2.076073843692435, 1.0948400507226093, 1.5902654246549457, 0.347898433239521, 1.3037497578494586, 0.45829725494407086, 1.1080134036019103, 0.8955251867543436, 1.3039152745813585, 1.6816883547276753, 0.7127161687447232, 0.9536370228915028, 1.3039351713911114, 1.0945922877596224, 0.9325833662547919, 1.3103622999348, 0.7170836911688568, 1.3387228708146042, 1.057481627879089, 0.9325616457539306, 1.090920367248863, 1.1382516549854458, 4.467874805951278, 0.7288347391125735, 0.9443483316579172, 1.6816958237685702, 1.0948516667196562, 1.681693205713825, 1.3039137274285248, 1.096589893775074, 0.93257980512591, 1.094839331068319, 1.1066195853409393, 2.0753976860741283, 1.3102561995570587, 1.3103626863129276, 1.0494716734897196, 1.0962743654034326, 1.3105199987617595, 1.0947977300768041, 1.0948470373323227, 0.4582812214911777, 1.0948535752627806, 1.3105232587518418, 1.0928041988213286, 0.8482671140637467, 1.3104336287919, 1.0948841291281077, 1.0950200051234673, 1.3104380828701214, 1.0948764793816157, 1.3387710452070587, 0.8104779057657954, 0.8360773386091822, 1.049087228874578, 0.7213266653924088, 1.0949417320595327, 0.6033315688396007, 1.8313030173560338, 1.0497441146417377, 1.0498137263275558, 0.4587088024116063, 4.183680271972689, 1.3387748732466431, 1.7320712028254, 0.4001748372316058, 1.0947925985364837, 0.7170770414244738], \"z\": [-0.5539606781433298, -0.5546035142846192, -0.6592182394822842, -0.5408970825961165, 0.09415194545172118, -0.3884366304705687, -0.054916418005194485, -0.6872001065319749, -0.5539726173483873, -0.5543103535121776, -0.5540283998894268, -0.5539607599728631, -0.5539613667957767, -0.5039748607504584, -0.41791951458796356, -0.02355007515229746, -0.28190707659244135, -0.554023824167178, -0.20828824163570672, -0.5409018259948221, -0.24750252109571716, -0.23215378556225444, -0.38960413675370054, -0.22044647850312582, -0.6064319528052129, -0.6064039254932376, -0.33187857625837436, -0.5541322957672037, -0.5540128295810878, -0.5700931096846313, -0.2073924522939068, -0.5408895426741189, 0.11315781256811881, -0.19622658626850287, -0.5408914983799957, -0.5547523976037989, -0.5540000078721274, -0.3868025041885784, -0.5408940096552286, 0.11315863504252102, -0.6064137964689045, -0.5541589694384735, -0.0580372310867661, -0.38846282516292524, -0.41794645700972055, -0.22045064363831154, -0.6063981000977942, -0.22059021810519405, -0.5539614858719648, -0.6064006588322578, -0.2073683649867505, -0.5539694012618341, -0.5408903749047428, 0.4642980069786992, -0.6883274229487681, -0.1443967486834933, -0.22050239939111016, -0.6064141079069325, -0.38857389829633654, -0.6871556711099487, -0.46949208351471544, -0.38843794064731957, -0.5500432622669957, -0.38843739991898957, -0.5788474135739587, -0.55397053792723, -0.22048378898721444, -0.5409401401927916, -0.2523493894354725, -0.38844043326021827, -0.4787213866112125, -0.02356029268558748, -0.5409723517314773, -0.38846003420798086, -0.3885038673131217, -0.5733626096680475, -0.5409192049531472, -0.03329065672174588, -0.5546418287418261, -0.5539683493979198, -0.554027393562678, -0.2728967126317729, -0.20780286822720423, -0.5409039493445084, -0.5539949488728414, -0.3884361320206987, -0.5408902543642738, -0.5539645528702553, -0.5539617456411864, -0.22052901449576853, -0.3058871144462438, -0.7080994609034401, -0.023596337631132364, -0.5539791258842606, -0.541210473017125, -0.02363346290496222, -0.2728722587045373, -0.6240081299177082, -0.023591927689429925, -0.6964613235335371, -0.23178782700785872, -0.5409031415639596, -0.6572288551062594, -0.5408921126737589, -0.023580307319798002, -0.5539745860387596, -0.5539669339045306, -0.02356029268558748, -0.5408998930760758, -0.38844252036409477, -0.5539756745665353, -0.36518413451430903, -0.5539700477188363, -0.5540427151961206, -0.5408905744846793, -0.5539821151562637, -0.24284257380932783, -0.553964108381653, -0.5539628902587745, -0.17559268147514243, -0.3145361816555334, -0.5540322922792038, -0.38843719446204145, -0.5408937491579163, -0.5539695206807911, -0.5539634106590042, -0.2204437191211037, -0.21407925087980456, -0.2728802810552721, -0.5546278325889947, -0.22045954534529386, -0.5409084705957198, -0.7092497440620784, -0.5409632758057124, -0.023620995532724766, -0.5409130703397719, -0.023814593586192475, -0.5410149206770901, -0.5539661113304162, -0.5539646520057637, -0.5540778051834006, -0.06372758063426481, -0.540903665441653, -0.22083180157912927, -0.0235567232240952, -0.5539847013490156, -0.7200365874175026, -0.054937428356600634, -0.033332221559522986, -0.7920422563608428, -0.5733096340667398, -0.5733548294402161, -0.7403843255346961, -0.6064107943501056, -0.5647807225807335, -0.6064098541877133, -0.06409474560971673, -0.7404066278888141, -0.5408975697497126, -0.2204479883157426, -0.023556348880326955, -0.5539770691392364, -0.5539634801640992, 0.09605693545990651, -0.05543409556152962, -0.540896693429728, -0.33202361055850305, -0.5539631443347697, 0.03437819540503459, -0.5835493476317567, -0.38849569144662804, -0.5737548716988211, -0.528601632420021, -0.5539643149843654, -0.5091504059388717, 0.005762775896087093, -0.5539714105040515, -0.060912746550439614, -0.5409273893699881, -0.23193063956908205, -0.5924398525022374, -0.6065211230528941, -0.5540462879321988, -0.23979170449209844, -0.17559680857827498, -0.5625060851122677, -0.553982839121456, -0.5409202439909299, -0.17561418605288254, -0.554391086169835, -0.5539625237481514, -0.20736942695029062, -0.033279678819954875, -0.3432368579804473, -0.5541170242605421, -0.27309080635634836, 5.692551518616374, -0.45118493568216245, 3.849030870760642, -0.5408936561682774, -0.28142213708261754, -0.22046424482503374, 0.021883226031632844, -0.5733196001128872, -0.5539614940277108, -0.5539619129169874, -0.22064120449686886, -0.12280436979823292, -0.023569271306474078, -0.5539696209385324, -0.2405563582613509, -0.509210404351344, -0.02356239249010424, -0.06780584450146483, -0.5553318994119004, 0.11506962422705794, -0.22046002254979652, -0.5607656537468971, -0.22044502423659887, -0.6950186924298246, -0.5539823798481706, -0.35364734021008765, -0.37305430012999397, -0.17566258925263628, -0.05495188566528102, -0.1178141697235078, -0.40135312152629116, -0.17559149208797495, -0.5091139943253058, -0.22240871772165213, -0.2991442587585405, -0.17563317554858918, -0.5540805037584524, -0.20738157865400755, -0.5409123179347042, -0.22052536817416654, -0.02357662124301049, -0.4286190767479316, -0.20737871184403397, -0.5566473080585638, 0.3991981076054657, 6.9464775780475145, 0.052100521210007446, -0.21683521276927478, -0.5091358773003389, -0.5539712641287786, -0.5091224105860905, -0.1755877677205658, -0.5796646685233103, -0.2073672435499755, -0.5539818004833281, -0.2815827973672038, -0.6960662456073485, -0.5409471055091167, -0.540906131438822, -0.23238083110845814, -0.5664805179328705, -0.5410230310598968, -0.553985995001361, -0.5539783413649847, -0.05491322725397339, -0.5539659781892916, -0.5411880943832248, -0.5557273228601458, -0.3983278288905788, -0.5412783757285996, -0.5539954490474741, -0.554229915272313, -0.5410246584125041, -0.5540363978054025, -0.023550104104666954, -0.36367825902288275, -0.3884867143450885, -0.23179840639384441, -0.22710839578824246, -0.5541344129966744, -0.33188401072708196, -0.6063956763997813, -0.23227528489522242, -0.23233132647509983, -0.05557551076646197, -1.0291951984412264, -0.02355306704625577, 0.1609930906395865, -0.1701542977623248, -0.5539981076873883, -0.22043587141433257]}, {\"customdata\": [[\"SHA-256\"], [\"Ethash\"], [\"Scrypt\"], [\"CryptoNight-V7\"], [\"Ethash\"], [\"Equihash\"], [\"Multiple\"], [\"Scrypt\"], [\"X11\"], [\"Scrypt\"], [\"Multiple\"], [\"Scrypt\"], [\"SHA-256\"], [\"Scrypt\"], [\"Scrypt\"], [\"Quark\"], [\"Groestl\"], [\"Scrypt\"], [\"Scrypt\"], [\"Scrypt\"], [\"X11\"], [\"Multiple\"], [\"SHA-256\"], [\"Scrypt\"], [\"Scrypt\"], [\"Scrypt\"], [\"Scrypt\"], [\"Scrypt\"], [\"NeoScrypt\"], [\"Scrypt\"], [\"Scrypt\"], [\"Scrypt\"], [\"Scrypt\"], [\"SHA-256\"], [\"Scrypt\"], [\"Scrypt\"], [\"Scrypt\"], [\"Scrypt\"], [\"HybridScryptHash256\"], [\"Scrypt\"], [\"Scrypt\"], [\"SHA-256\"], [\"Scrypt\"], [\"Scrypt\"], [\"Scrypt\"], [\"Scrypt\"], [\"SHA-256\"], [\"SHA-256\"], [\"SHA-256\"], [\"SHA-256\"], [\"SHA-256\"], [\"X11\"], [\"Scrypt\"], [\"Lyra2REv2\"], [\"Scrypt\"], [\"SHA-256\"], [\"CryptoNight\"], [\"CryptoNight\"], [\"Shabal256\"], [\"Scrypt\"], [\"Scrypt\"], [\"Scrypt\"], [\"Scrypt\"], [\"Scrypt\"], [\"Scrypt\"], [\"Stanford Folding\"], [\"Multiple\"], [\"QuBit\"], [\"Scrypt\"], [\"Scrypt\"], [\"M7 POW\"], [\"Scrypt\"], [\"SHA-256\"], [\"Scrypt\"], [\"X11\"], [\"Lyra2RE\"], [\"SHA-256\"], [\"X11\"], [\"Scrypt\"], [\"Scrypt\"], [\"Ethash\"], [\"Blake2b\"], [\"X11\"], [\"SHA-256\"], [\"Scrypt\"], [\"1GB AES Pattern Search\"], [\"Scrypt\"], [\"SHA-256\"], [\"X11\"], [\"Dagger\"], [\"Scrypt\"], [\"X11GOST\"], [\"Scrypt\"], [\"X11\"], [\"Scrypt\"], [\"X11\"], [\"Equihash\"], [\"CryptoNight\"], [\"SHA-256\"], [\"Multiple\"], [\"Scrypt\"], [\"SHA-256\"], [\"Scrypt\"], [\"Lyra2Z\"], [\"Ethash\"], [\"Equihash\"], [\"Scrypt\"], [\"X11\"], [\"X11\"], [\"CryptoNight\"], [\"Scrypt\"], [\"CryptoNight\"], [\"Lyra2RE\"], [\"X11\"], [\"CryptoNight-V7\"], [\"Scrypt\"], [\"X11\"], [\"Equihash\"], [\"Scrypt\"], [\"Lyra2RE\"], [\"Dagger-Hashimoto\"], [\"Scrypt\"], [\"NIST5\"], [\"Scrypt\"], [\"SHA-256\"], [\"Scrypt\"], [\"CryptoNight-V7\"], [\"Argon2d\"], [\"Blake2b\"], [\"Cloverhash\"], [\"CryptoNight\"], [\"X11\"], [\"Scrypt\"], [\"Scrypt\"], [\"X11\"], [\"X11\"], [\"CryptoNight\"], [\"Time Travel\"], [\"Scrypt\"], [\"Keccak\"], [\"X11\"], [\"SHA-256\"], [\"Scrypt\"], [\"Scrypt\"], [\"Scrypt\"], [\"Scrypt\"], [\"Scrypt\"], [\"Scrypt\"], [\"CryptoNight\"], [\"Equihash\"], [\"X11\"], [\"NeoScrypt\"], [\"Equihash\"], [\"Dagger\"], [\"Scrypt\"], [\"X11\"], [\"NeoScrypt\"], [\"Ethash\"], [\"NeoScrypt\"], [\"Multiple\"], [\"CryptoNight\"], [\"CryptoNight\"], [\"Ethash\"], [\"X11\"], [\"CryptoNight-V7\"], [\"Scrypt\"], [\"BLAKE256\"], [\"X11\"], [\"NeoScrypt\"], [\"NeoScrypt\"], [\"Scrypt\"], [\"X11\"], [\"SHA-256\"], [\"C11\"], [\"Ethash\"], [\"CryptoNight\"], [\"SkunkHash\"], [\"CryptoNight\"], [\"Scrypt\"], [\"Dagger\"], [\"Lyra2REv2\"], [\"Scrypt\"], [\"Scrypt\"], [\"X11\"], [\"Ethash\"], [\"CryptoNight\"], [\"Scrypt\"], [\"IMesh\"], [\"Equihash\"], [\"Lyra2Z\"], [\"X11\"], [\"CryptoNight\"], [\"NIST5\"], [\"Lyra2RE\"], [\"Tribus\"], [\"Lyra2Z\"], [\"CryptoNight\"], [\"CryptoNight Heavy\"], [\"CryptoNight\"], [\"Jump Consistent Hash\"], [\"CryptoNight\"], [\"X16R\"], [\"HMQ1725\"], [\"X11\"], [\"Scrypt\"], [\"CryptoNight-V7\"], [\"Cryptonight-GPU\"], [\"XEVAN\"], [\"CryptoNight Heavy\"], [\"SHA-256\"], [\"X11\"], [\"X16R\"], [\"Equihash\"], [\"Lyra2Z\"], [\"SHA-256\"], [\"XEVAN\"], [\"CryptoNight\"], [\"Blake\"], [\"Blake\"], [\"Equihash\"], [\"Exosis\"], [\"Scrypt\"], [\"Equihash\"], [\"Equihash\"], [\"QuBit\"], [\"SHA-256\"], [\"X13\"], [\"SHA-256\"], [\"Scrypt\"], [\"NeoScrypt\"], [\"Blake\"], [\"Scrypt\"], [\"SHA-256\"], [\"Scrypt\"], [\"Groestl\"], [\"Scrypt\"], [\"Scrypt\"], [\"Multiple\"], [\"Equihash+Scrypt\"], [\"Ethash\"], [\"CryptoNight\"], [\"Equihash\"]], \"hovertemplate\": \"<b>%{hovertext}</b><br><br>Class=%{marker.color}<br>PC 1=%{x}<br>PC 2=%{y}<br>PC 3=%{z}<br>Algorithm=%{customdata[0]}<extra></extra>\", \"hovertext\": [\"Bitcoin\", \"Ethereum\", \"Litecoin\", \"Monero\", \"Ethereum Classic\", \"ZCash\", \"DigiByte\", \"ProsperCoin\", \"Spreadcoin\", \"Argentum\", \"MyriadCoin\", \"MoonCoin\", \"ZetaCoin\", \"SexCoin\", \"Quatloo\", \"QuarkCoin\", \"Riecoin\", \"Digitalcoin \", \"Catcoin\", \"CannaCoin\", \"CryptCoin\", \"Verge\", \"DevCoin\", \"EarthCoin\", \"E-Gulden\", \"Einsteinium\", \"Emerald\", \"Franko\", \"FeatherCoin\", \"GrandCoin\", \"GlobalCoin\", \"GoldCoin\", \"Infinite Coin\", \"IXcoin\", \"KrugerCoin\", \"LuckyCoin\", \"Litebar \", \"MegaCoin\", \"MediterraneanCoin\", \"MinCoin\", \"NobleCoin\", \"Namecoin\", \"NyanCoin\", \"RonPaulCoin\", \"StableCoin\", \"SmartCoin\", \"SysCoin\", \"TigerCoin\", \"TerraCoin\", \"UnbreakableCoin\", \"Unobtanium\", \"UroCoin\", \"ViaCoin\", \"Vertcoin\", \"WorldCoin\", \"JouleCoin\", \"ByteCoin\", \"DigitalNote \", \"BurstCoin\", \"MonaCoin\", \"Gulden\", \"PesetaCoin\", \"Wild Beast Coin\", \"Flo\", \"ArtByte\", \"Folding Coin\", \"Unitus\", \"CypherPunkCoin\", \"OmniCron\", \"GreenCoin\", \"Cryptonite\", \"MasterCoin\", \"SoonCoin\", \"1Credit\", \"MarsCoin \", \"Crypto\", \"Anarchists Prime\", \"BowsCoin\", \"Song Coin\", \"BitZeny\", \"Expanse\", \"Siacoin\", \"MindCoin\", \"I0coin\", \"Revolution VR\", \"HOdlcoin\", \"Gamecredits\", \"CarpeDiemCoin\", \"Adzcoin\", \"SoilCoin\", \"YoCoin\", \"SibCoin\", \"Francs\", \"BolivarCoin\", \"Omni\", \"PizzaCoin\", \"Komodo\", \"Karbo\", \"ZayedCoin\", \"Circuits of Value\", \"DopeCoin\", \"DollarCoin\", \"Shilling\", \"ZCoin\", \"Elementrem\", \"ZClassic\", \"KiloCoin\", \"ArtexCoin\", \"Kurrent\", \"Cannabis Industry Coin\", \"OsmiumCoin\", \"Bikercoins\", \"HexxCoin\", \"PacCoin\", \"Citadel\", \"BeaverCoin\", \"VaultCoin\", \"Zero\", \"Canada eCoin\", \"Zoin\", \"DubaiCoin\", \"EB3coin\", \"Coinonat\", \"BenjiRolls\", \"ILCoin\", \"EquiTrader\", \"Quantum Resistant Ledger\", \"Dynamic\", \"Nano\", \"ChanCoin\", \"Dinastycoin\", \"DigitalPrice\", \"Unify\", \"SocialCoin\", \"ArcticCoin\", \"DAS\", \"LeviarCoin\", \"Bitcore\", \"gCn Coin\", \"SmartCash\", \"Onix\", \"Bitcoin Cash\", \"Sojourn Coin\", \"NewYorkCoin\", \"FrazCoin\", \"Kronecoin\", \"AdCoin\", \"Linx\", \"Sumokoin\", \"BitcoinZ\", \"Elements\", \"VIVO Coin\", \"Bitcoin Gold\", \"Pirl\", \"eBoost\", \"Pura\", \"Innova\", \"Ellaism\", \"GoByte\", \"SHIELD\", \"UltraNote\", \"BitCoal\", \"DaxxCoin\", \"AC3\", \"Lethean\", \"PopularCoin\", \"Photon\", \"Sucre\", \"SparksPay\", \"GunCoin\", \"IrishCoin\", \"Pioneer Coin\", \"UnitedBitcoin\", \"Interzone\", \"1717 Masonic Commemorative Token\", \"TurtleCoin\", \"MUNcoin\", \"Niobio Cash\", \"ShareChain\", \"Travelflex\", \"KREDS\", \"BitFlip\", \"LottoCoin\", \"Crypto Improvement Fund\", \"Callisto Network\", \"BitTube\", \"Poseidon\", \"Aidos Kuneen\", \"Bitrolium\", \"Alpenschillling\", \"FuturoCoin\", \"Monero Classic\", \"Jumpcoin\", \"Infinex\", \"KEYCO\", \"GINcoin\", \"PlatinCoin\", \"Loki\", \"Newton Coin\", \"MassGrid\", \"PluraCoin\", \"Motion\", \"PlusOneCoin\", \"Axe\", \"HexCoin\", \"Webchain\", \"Ryo\", \"Urals Coin\", \"Qwertycoin\", \"Project Pai\", \"Azart\", \"Xchange\", \"CrypticCoin\", \"Actinium\", \"Bitcoin SV\", \"BitMoney\", \"FREDEnergy\", \"Universal Molecule\", \"Lithium\", \"PirateCash\", \"Exosis\", \"Block-Logic\", \"Beam\", \"Bithereum\", \"SLICE\", \"BLAST\", \"Bitcoin Rhodium\", \"GlobalToken\", \"SolarCoin\", \"UFO Coin\", \"BlakeCoin\", \"Crypto Escudo\", \"Crown Coin\", \"SmileyCoin\", \"Groestlcoin\", \"Bata\", \"Pakcoin\", \"JoinCoin\", \"Vollar\", \"Reality Clash\", \"Beldex\", \"Horizen\"], \"legendgroup\": \"1\", \"marker\": {\"color\": [1, 1, 1, 1, 1, 1, 1, 1, 1, 1, 1, 1, 1, 1, 1, 1, 1, 1, 1, 1, 1, 1, 1, 1, 1, 1, 1, 1, 1, 1, 1, 1, 1, 1, 1, 1, 1, 1, 1, 1, 1, 1, 1, 1, 1, 1, 1, 1, 1, 1, 1, 1, 1, 1, 1, 1, 1, 1, 1, 1, 1, 1, 1, 1, 1, 1, 1, 1, 1, 1, 1, 1, 1, 1, 1, 1, 1, 1, 1, 1, 1, 1, 1, 1, 1, 1, 1, 1, 1, 1, 1, 1, 1, 1, 1, 1, 1, 1, 1, 1, 1, 1, 1, 1, 1, 1, 1, 1, 1, 1, 1, 1, 1, 1, 1, 1, 1, 1, 1, 1, 1, 1, 1, 1, 1, 1, 1, 1, 1, 1, 1, 1, 1, 1, 1, 1, 1, 1, 1, 1, 1, 1, 1, 1, 1, 1, 1, 1, 1, 1, 1, 1, 1, 1, 1, 1, 1, 1, 1, 1, 1, 1, 1, 1, 1, 1, 1, 1, 1, 1, 1, 1, 1, 1, 1, 1, 1, 1, 1, 1, 1, 1, 1, 1, 1, 1, 1, 1, 1, 1, 1, 1, 1, 1, 1, 1, 1, 1, 1, 1, 1, 1, 1, 1, 1, 1, 1, 1, 1, 1, 1, 1, 1, 1, 1, 1, 1, 1, 1, 1, 1, 1, 1, 1, 1, 1, 1, 1, 1, 1, 1, 1, 1, 1, 1, 1, 1, 1, 1, 1, 1, 1], \"coloraxis\": \"coloraxis\", \"symbol\": \"diamond\"}, \"mode\": \"markers\", \"name\": \"1\", \"scene\": \"scene\", \"showlegend\": true, \"type\": \"scatter3d\", \"x\": [-0.1544065737747587, -0.15497043509452504, -0.16847361937273023, -0.16051282336956588, -0.15341810177985937, -0.15027614523959107, 0.16198730992435836, -0.1696162999184306, -0.24651583271399713, -0.1692341721926997, -0.09059862996822471, 2.5422835013108593, -0.151500487443944, -0.1664983220731743, -0.1690389735946138, -0.22291776060128418, -0.2185934726179747, -0.16908727500388562, -0.16959861471413648, -0.1696847813967238, -0.24660491638047655, 0.18569998692587045, 0.22226490913714483, 0.07827405463387992, -0.16943182503297283, -0.16505103159120185, -0.16937135695577699, -0.16974161525559145, -0.18054932155047726, -0.14903022129965837, -0.16854041541194928, -0.16881711448725137, 1.573770693126984, -0.15436804945940455, -0.16611521201567106, -0.1694581874327831, -0.1698119045324233, -0.16907345506187815, -0.16081883395412583, -0.16969355350760845, -0.03506731990057709, -0.1544454465320369, -0.16337701220132753, -0.16967312262485051, -0.16777418120355692, -0.16916147275274496, -0.1416384743519206, -0.15391085781773176, -0.15419724035712218, -0.1541805179263333, -0.15476908358677047, -0.24677821601552666, -0.16939040477951628, -0.20275063545562794, -0.16650312283504784, -0.15397795448539217, 3.8279710075785935, 0.43742293529649756, 0.048917313722061324, -0.1682616449726765, -0.1529130945713774, -0.1669843829741203, -0.16981411603559027, -0.1668497522434296, -0.15311671666110183, -0.12713957223621863, -0.12449874154332265, -0.21134778972065735, -0.1696875475681451, -0.04303968697219512, -0.13073367193000252, -0.16982297112548028, -0.154473147669861, 0.47994454643505935, -0.2461673009709607, -0.16832960005531125, -0.15421393735671635, -0.24645133865426805, -0.16795327016081976, -0.16714799063120814, -0.15603506752105042, 0.3587361732510841, -0.24648660570047884, -0.154369168724525, -0.16579330356154057, -0.15732042224857468, -0.16839081423581428, 0.26282395427433664, -0.24565007595165203, -0.15240022611727644, -0.16863810649760283, -0.1588473892009821, -0.16961358601211624, -0.2464500085513856, -0.16982302943984795, -0.24659956732683103, -0.2336522837850205, 0.28281880683055416, -0.15462846565357172, -0.10463378010269848, -0.16699882296142965, -0.1545872149096478, -0.1694875455129819, -0.17581728878070227, -0.15577799359186884, -0.15029770288215585, -0.09681534000794402, -0.233222845727507, -0.24443500543011995, 0.282813114739709, -0.16980483111894337, 0.2829434454419055, -0.1688681967762899, 0.46602988328408884, -0.1592821252625697, -0.169773209611708, -0.23935993347933435, -0.15031001767196014, -0.16791223454028703, -0.16858742238094643, -0.1337296276056556, -0.1408027870545069, -0.20580497708101295, -0.16933699878811295, -0.12106234610664568, -0.16915979003057582, -0.15913973161439665, -0.13489139995801508, -0.04046896413616339, -0.1697404316855742, 0.3188229762291682, -0.245658550542962, -0.16947783091723212, -0.16924222450168075, -0.24605188558701738, -0.24662748317759084, 0.28320680204147064, -0.15047234602972887, 3.2292037944507674, -0.12888750902124335, -0.23753173209786166, -0.15440574028886317, -0.0956694947731928, 1.5723949917618274, -0.16957541426446418, -0.1690289809508867, -0.16873088208661732, -0.1687178489273002, 0.2833896801402839, 0.06129617463478633, -0.2011513639583472, -0.18522316176458617, -0.1501565180475666, -0.1511635545778633, -0.1679104486164874, -0.24218631174094363, -0.1850691157316958, -0.15414934130852026, -0.18516895951035559, -0.1147616992701287, 1.1178992695364367, 0.2827959871267685, -0.07930830312063508, -0.24192989901878517, -0.14828754734841348, -0.08622555272884216, 1.0592715132195982, -0.24660155909859244, -0.18522068803652658, -0.17828081106719418, -0.1688287601490783, -0.24652719237257684, -0.15438518887085798, -0.223212875361168, -0.25118221808052615, 7.992856238175766, -0.15038966117652303, 0.28665766293356, 0.022621765204840136, -0.15066776834681603, -0.18835499051598997, -0.16940075199610688, 0.1367120412518695, -0.24068731131388127, -0.10735745533952232, 0.29069091405409675, -0.16963698760263957, -0.1573217706571083, -0.14915070074339565, -0.1736087082391924, -0.245699210998296, 0.28297796600929087, -0.20586409739282527, -0.16871396664713809, -0.17684771498169094, -0.17590136237132759, 0.2868915948273398, 0.5788503422795588, 2.0852948641167, -0.15513637706830918, 0.29653913485056327, -0.19318978813976145, -0.14269591493886621, -0.24658377614492155, -0.16966150915239606, -0.14817265654310002, -0.1500508756059928, -0.02154606012785486, 3.093275188781696, -0.11435739866323219, -0.24655524652512664, -0.19261959141080606, -0.045241307597772513, -0.17530124883721274, -0.15440577775115005, 0.9140792370427898, 0.3624664339092609, -0.15951263007027977, -0.15990305594115872, -0.24453966241374744, -0.17859121858498245, -0.16855748771129292, -0.1482235289389056, -0.14998986057789124, -0.21056158318600837, -0.15368418887430232, -0.12206656429353202, -0.1525559158278041, 0.5237035438907817, -0.11061778506381374, -0.11055008980283065, -0.15326688926374782, -0.15419661253688366, 0.5437230499184185, -0.21815581542144036, -0.16973802478149325, -0.16770050648486057, -0.1252316272424334, -0.11584255016111561, -0.15581104985015368, 0.3044842952943317, -0.15027719928519684], \"y\": [-1.3463235271704674, -2.0446228662055552, -1.0875154030588121, -2.229015294533849, -2.0446732502515217, -1.9785597609037728, -1.846771335048896, -1.0875382718136257, -0.8720271406505324, -1.0875449825471617, -1.8485045371453732, -1.1867615610173439, -1.3462578858148082, -1.0875132496750348, -1.087557598743522, -0.5005845435174556, -1.1789967758544733, -1.0875263742913774, -1.0875372795336504, -1.0875369684030831, -0.872030829594883, -1.8425308254989194, -1.338923750115412, -1.0824540558096096, -1.0875279213120586, -1.0874646432131438, -1.087531730024594, -1.0875389106045006, -1.578981614834928, -1.0872995224775928, -1.0875099853631205, -1.087526980580711, -1.0490204749865997, -1.3463213656513755, -1.0875018498155546, -1.0875287457740914, -1.0875363823719657, -1.0875215621429337, -2.1701966103406254, -1.0875354049012038, -1.0897954202105604, -1.3463257082399052, -1.087395076405566, -1.0875414600173228, -1.0875848354732616, -1.0875325236634679, -1.3461747409339113, -1.3463127430258781, -1.3463255301319155, -1.3463494696088794, -1.3463302822867678, -0.8720287688848745, -1.0875269066625317, -1.2287290303973861, -1.0875236146836227, -1.3463151904903448, -2.1711695823497514, -2.2471862977478336, -0.48058753928533027, -1.0875173364015185, -1.0876871994087083, -1.087485781351263, -1.0875373431324022, -1.0874740467321038, -1.0872534436502463, -2.2822643885378944, -1.849097247175873, -1.4841233230944264, -1.0875307282851991, -1.08696934657825, -2.115431021658183, -1.0875365250392743, -1.3463272624930476, -1.1113093299000252, -0.8720160960654235, -2.2265662594106383, -1.3463341659709318, -0.872024176700489, -1.0875688538118304, -1.0875497012245845, -2.0446936687478945, -2.1446070392645997, -0.8720228820744494, -1.34632142845101, -1.087447505462541, -2.1445241194594953, -1.0875107570350617, -1.337058077880889, -0.8720204641896885, -2.2528414934964682, -1.08757985497082, -2.2226737939562162, -1.087537464864687, -0.872026720780421, -1.0875365263274994, -0.8720351122117845, -1.2025992739566036, -2.249320587048094, -1.3463286027763883, -1.8487682783377954, -1.0875085978719208, -1.3463268789970964, -1.0875369397679044, -2.151679317065927, -2.0446853328024615, -1.978560970458194, -1.0899865864569003, -0.8715955439477199, -0.8720465626461068, -2.2493281078698484, -1.0875368786645552, -2.2493234139948575, -2.2265599550922843, -0.8975023220421787, -2.2290673579286477, -1.0875355271819551, -0.8722672218123405, -1.9785590427061648, -1.0874943797621501, -2.226551402876855, -2.27193115189877, -1.0885265666350807, -0.5538608151899408, -1.08753210698537, -1.3460755970588656, -1.0875460465374487, -2.2290069943329707, -2.270685156098162, -2.167228383134389, -2.0358645014110985, -2.2486032759427257, -0.8720314145182902, -1.0875293744664574, -1.0875526357958392, -0.8720272966359666, -0.8720326849804411, -2.249327623246567, -2.2489584110661704, -1.0277592694417783, -1.1245709094091736, -0.8722301129717683, -1.3463234804053077, -1.0902496341217904, -0.989783898574898, -1.0875353231274365, -1.087546563240161, -1.0875403123707543, -1.0875395811073327, -2.2493402033006644, -1.9804233539898044, -0.8706471604106993, -1.579041558985538, -1.978553048871209, -2.252854796584159, -1.0874942795576854, -0.8720002637588097, -1.5790446999750585, -2.044760105989919, -1.5790416602610355, -1.8489830090395185, -2.258106986184066, -2.2493235041074113, -2.0469243946675744, -0.8721168124367693, -2.2289836976299973, -1.0861190290077656, -1.0970669190029134, -0.8720318196439449, -1.5790374921259582, -1.5789617005155487, -1.087522235721856, -0.8720297420492393, -1.3463217813071764, -1.150089169166588, -0.240081785832234, -2.47139720829131, -2.166423783881215, -2.2493186216309544, -1.0832852192675697, -2.252790116311224, -1.2285864728909819, -1.087538616737546, -1.0823877104596664, -0.8720143595634978, -2.0462068035932384, -2.249527030044572, -1.0875394325564949, -2.2308274205111047, -1.9785286937454774, -2.1517377913103015, -0.8720336958917447, -2.249317156247491, -0.5538462910414795, -2.2265619597082305, -2.084841359882368, -2.151676898277311, -2.249478331348234, -2.115810503829018, -2.2686414879713297, -2.151735980734706, -2.249198898557363, -1.2868626524306381, -2.256045862611651, -0.872031607492226, -1.0875415320001798, -2.2294685987673075, -2.20849814028437, -1.0758151648210985, -2.0954014846706173, -1.3454375255006361, -0.8720326254639198, -1.286881675150871, -1.9776282742694204, -2.151691345939106, -1.3463234825072385, -0.11920438819824057, -2.2501349704760574, -2.1818084671715954, -2.181778070197232, -0.17396330099835472, -2.1831734590084557, -1.0875436771197005, -1.9786028938518785, -1.9785501702076003, -1.4841446784142633, -1.346311146782674, -0.3510805707668029, -1.3463159281722794, -1.1128476352833827, -1.5774566396464311, -2.1835752025046564, -1.0872618695221754, -1.3463254949062298, -1.0802344039615783, -1.178985968044282, -1.0875346267052064, -1.0875361836812802, -1.8491402009623334, -2.218474928667024, -2.044686063049787, -2.2490151288155253, -1.9785598200440764], \"z\": [0.17730897887234168, 0.3882689589371278, 0.011749464264082885, 0.39810435616215956, 0.38824129680327446, 0.5479724142633098, 0.33671255791321286, 0.011788342275871277, 0.02485663392215108, 0.0117797750787482, 0.34428056525976514, -0.03307716562253156, 0.17720779328203393, 0.01169380096754149, 0.011778236276897718, 0.05647281629148843, 0.14780038201455942, 0.011769938430445756, 0.011787543431010168, 0.011789846490753179, 0.02486025349882628, 0.33474277478398784, 0.16453610609515718, 0.0033162174869252443, 0.011780009501660615, 0.011638493394231342, 0.011779502089170774, 0.01179202870715682, 0.23372419180442933, 0.011141432835990414, 0.011749650981697527, 0.011762603572829475, -0.04864788770929667, 0.17730723871990098, 0.011679613523707048, 0.011780998120690197, 0.011793205008325364, 0.011768067558214084, 0.5220989664420804, 0.011789607893907674, 0.008739139391887215, 0.17731073476397888, 0.011570400044408761, 0.011790908970960827, 0.011751431826244723, 0.011773903364739739, 0.17690752809164448, 0.17729184628189917, 0.17730376894526337, 0.1773106963077162, 0.17732115835757925, 0.024864442301834818, 0.011778542892625655, 0.2665858849459376, 0.011697135547172359, 0.17729447028098508, 0.2660076952137046, 0.3838862837954757, -0.7151366595134331, 0.011744159304424169, 0.011369265859710223, 0.011698851641996326, 0.011793563284403969, 0.011691479238966766, 0.011240983289961934, 0.4111980176134521, 0.3454074877072391, 0.25124081056137754, 0.01178799644229169, 0.008088369071006228, 0.43408528239320715, 0.011793557194347184, 0.17731198603092674, 0.0010435455912837764, 0.024843518959349335, 0.4050903044900143, 0.17730690075191652, 0.024853922887023514, 0.01175148276702027, 0.01172314664997643, 0.3883204667169979, 0.4056635979452746, 0.02485450502381541, 0.17730728927737133, 0.011653868042392407, 0.4393540736796071, 0.011745723936461993, 0.16283066372244037, 0.02483046679996381, 0.4678013022831503, 0.011773948062789382, 0.4495934218253579, 0.011788017511275607, 0.02485467151318346, 0.011793559215825134, 0.02486142711844605, 1.0873589719012915, 0.3888500425609614, 0.1773167244614523, 0.3447527948667686, 0.011706299870776893, 0.1773150435793193, 0.011784346000171515, 0.41667677194236696, 0.3883107346976327, 0.5479733880271234, 0.010517428038391827, 0.024353231422345425, 0.024804695237085516, 0.3888525236189111, 0.011793161327550598, 0.388847445257487, 0.40510335376907824, 0.01288441239805517, 0.39808616794657226, 0.011791863524983006, 0.024731533530448362, 0.54797313558187, 0.011727341207301855, 0.40509289506829, 0.33756001582287704, 0.011291290593315441, -0.007562730589749433, 0.011778661865836548, 0.1763040085222375, 0.011778032633334809, 0.39806356184736746, 0.45750780638252425, 0.4237645856284836, 0.516121400603234, 0.3876260575558637, 0.024834084428144953, 0.011781739207263425, 0.011782362748309468, 0.024843764392904123, 0.024861454805514775, 0.38884141250495013, 0.30403006336845984, -0.10130604994598998, 0.1353634182982587, 0.024669170922160512, 0.17730894122358287, 0.010566758340830908, -0.06690296552682871, 0.011786293284405343, 0.011774550077929675, 0.011764319710607419, 0.01176373099971822, 0.38884020558189125, 0.5426571097320698, 0.023167384851924818, 0.2338728376395385, 0.54796701067475, 0.46777097782892607, 0.011727260536701365, 0.024727786781517977, 0.2338695185262938, 0.388288479442128, 0.2338713597595604, 0.3451010998962149, 0.3683122672307956, 0.38885157877439236, 0.3868730505936997, 0.024756639919297295, 0.39775420953260154, 0.009028200814709293, 0.06919562719271655, 0.02486046576785933, 0.23387151283982408, 0.23365487964541357, 0.011761462520844139, 0.024857753571032228, 0.17730784429571478, 0.11456891921988428, 0.1560974839366495, 0.24276061178250347, 0.46869685306418446, 0.3887425501613454, 0.005122425745015376, 0.4677371991322548, 0.2661410418932924, 0.011782447284539053, 0.0016686373172796426, 0.024690403098480522, 0.3874324186149317, 0.38869461265304783, 0.011789276743460468, 0.45360527308604065, 0.5479314843326772, 0.41663333629490085, 0.02483592107053008, 0.3888445515883769, -0.007565569833582959, 0.4050996785962586, 0.36800451662309447, 0.41667836583916235, 0.3887853581837361, 0.37680390207401354, 0.344630283141188, 0.31934326215962283, 0.38843044713636926, 0.1644244404106417, 0.45593569162783065, 0.02485990511980226, 0.01179060784620558, 0.3979007573172749, 0.4469284223663243, 0.2843070996095974, 0.30049196579118365, 0.1759202737380924, 0.024859425137349747, 0.16441443897556468, 0.5447602638112281, 0.41666611856407987, 0.17730894291576316, 0.46900100415168755, 0.3868839072264245, 0.42057698030532575, 0.42057846378637165, 0.31572959135818934, 0.36723786266804925, 0.011760530981769381, 0.5479285834510517, 0.5479614814373233, 0.2512255151067877, 0.17728504217815014, -0.04064182571399831, 0.1772551042055317, 0.00030021983895918143, 0.23130614357531484, 0.4197593155922049, 0.011247766621944395, 0.17730374058647466, -0.010328770325652336, 0.1477848586483858, 0.011790605787840617, 0.011734355899004132, 0.3454411584226754, 0.38615442351010865, 0.38831188059876837, 0.38815247808858333, 0.5479724618747989]}, {\"customdata\": [[\"VeChainThor Authority\"], [\"SHA-256 + Hive\"], [\"SHA3-256\"]], \"hovertemplate\": \"<b>%{hovertext}</b><br><br>Class=%{marker.color}<br>PC 1=%{x}<br>PC 2=%{y}<br>PC 3=%{z}<br>Algorithm=%{customdata[0]}<extra></extra>\", \"hovertext\": [\"Vechain\", \"LitecoinCash\", \"Fiii\"], \"legendgroup\": \"3\", \"marker\": {\"color\": [3, 3, 3], \"coloraxis\": \"coloraxis\", \"symbol\": \"square\"}, \"mode\": \"markers\", \"name\": \"3\", \"scene\": \"scene\", \"showlegend\": true, \"type\": \"scatter3d\", \"x\": [4.433721774237933, -0.3383134136651849, -0.6330333443722383], \"y\": [3.7154717364184795, 1.9848578285879368, 4.213945720494525], \"z\": [12.566633693217891, 22.451330198991325, 15.277521875893923]}, {\"customdata\": [[\"TRC10\"]], \"hovertemplate\": \"<b>%{hovertext}</b><br><br>Class=%{marker.color}<br>PC 1=%{x}<br>PC 2=%{y}<br>PC 3=%{z}<br>Algorithm=%{customdata[0]}<extra></extra>\", \"hovertext\": [\"BitTorrent\"], \"legendgroup\": \"2\", \"marker\": {\"color\": [2], \"coloraxis\": \"coloraxis\", \"symbol\": \"x\"}, \"mode\": \"markers\", \"name\": \"2\", \"scene\": \"scene\", \"showlegend\": true, \"type\": \"scatter3d\", \"x\": [34.01816351051423], \"y\": [2.0765377149696893], \"z\": [-1.619502660063717]}],\n",
       "                        {\"coloraxis\": {\"colorbar\": {\"title\": {\"text\": \"Class\"}}, \"colorscale\": [[0.0, \"#0d0887\"], [0.1111111111111111, \"#46039f\"], [0.2222222222222222, \"#7201a8\"], [0.3333333333333333, \"#9c179e\"], [0.4444444444444444, \"#bd3786\"], [0.5555555555555556, \"#d8576b\"], [0.6666666666666666, \"#ed7953\"], [0.7777777777777778, \"#fb9f3a\"], [0.8888888888888888, \"#fdca26\"], [1.0, \"#f0f921\"]]}, \"legend\": {\"title\": {\"text\": \"Class\"}, \"tracegroupgap\": 0, \"x\": 0, \"y\": 1}, \"margin\": {\"t\": 60}, \"scene\": {\"domain\": {\"x\": [0.0, 1.0], \"y\": [0.0, 1.0]}, \"xaxis\": {\"title\": {\"text\": \"PC 1\"}}, \"yaxis\": {\"title\": {\"text\": \"PC 2\"}}, \"zaxis\": {\"title\": {\"text\": \"PC 3\"}}}, \"template\": {\"data\": {\"bar\": [{\"error_x\": {\"color\": \"#2a3f5f\"}, \"error_y\": {\"color\": \"#2a3f5f\"}, \"marker\": {\"line\": {\"color\": \"#E5ECF6\", \"width\": 0.5}}, \"type\": \"bar\"}], \"barpolar\": [{\"marker\": {\"line\": {\"color\": \"#E5ECF6\", \"width\": 0.5}}, \"type\": \"barpolar\"}], \"carpet\": [{\"aaxis\": {\"endlinecolor\": \"#2a3f5f\", \"gridcolor\": \"white\", \"linecolor\": \"white\", \"minorgridcolor\": \"white\", \"startlinecolor\": \"#2a3f5f\"}, \"baxis\": {\"endlinecolor\": \"#2a3f5f\", \"gridcolor\": \"white\", \"linecolor\": \"white\", \"minorgridcolor\": \"white\", \"startlinecolor\": \"#2a3f5f\"}, \"type\": \"carpet\"}], \"choropleth\": [{\"colorbar\": {\"outlinewidth\": 0, \"ticks\": \"\"}, \"type\": \"choropleth\"}], \"contour\": [{\"colorbar\": {\"outlinewidth\": 0, \"ticks\": \"\"}, \"colorscale\": [[0.0, \"#0d0887\"], [0.1111111111111111, \"#46039f\"], [0.2222222222222222, \"#7201a8\"], [0.3333333333333333, \"#9c179e\"], [0.4444444444444444, \"#bd3786\"], [0.5555555555555556, \"#d8576b\"], [0.6666666666666666, \"#ed7953\"], [0.7777777777777778, \"#fb9f3a\"], [0.8888888888888888, \"#fdca26\"], [1.0, \"#f0f921\"]], \"type\": \"contour\"}], \"contourcarpet\": [{\"colorbar\": {\"outlinewidth\": 0, \"ticks\": \"\"}, \"type\": \"contourcarpet\"}], \"heatmap\": [{\"colorbar\": {\"outlinewidth\": 0, \"ticks\": \"\"}, \"colorscale\": [[0.0, \"#0d0887\"], [0.1111111111111111, \"#46039f\"], [0.2222222222222222, \"#7201a8\"], [0.3333333333333333, \"#9c179e\"], [0.4444444444444444, \"#bd3786\"], [0.5555555555555556, \"#d8576b\"], [0.6666666666666666, \"#ed7953\"], [0.7777777777777778, \"#fb9f3a\"], [0.8888888888888888, \"#fdca26\"], [1.0, \"#f0f921\"]], \"type\": \"heatmap\"}], \"heatmapgl\": [{\"colorbar\": {\"outlinewidth\": 0, \"ticks\": \"\"}, \"colorscale\": [[0.0, \"#0d0887\"], [0.1111111111111111, \"#46039f\"], [0.2222222222222222, \"#7201a8\"], [0.3333333333333333, \"#9c179e\"], [0.4444444444444444, \"#bd3786\"], [0.5555555555555556, \"#d8576b\"], [0.6666666666666666, \"#ed7953\"], [0.7777777777777778, \"#fb9f3a\"], [0.8888888888888888, \"#fdca26\"], [1.0, \"#f0f921\"]], \"type\": \"heatmapgl\"}], \"histogram\": [{\"marker\": {\"colorbar\": {\"outlinewidth\": 0, \"ticks\": \"\"}}, \"type\": \"histogram\"}], \"histogram2d\": [{\"colorbar\": {\"outlinewidth\": 0, \"ticks\": \"\"}, \"colorscale\": [[0.0, \"#0d0887\"], [0.1111111111111111, \"#46039f\"], [0.2222222222222222, \"#7201a8\"], [0.3333333333333333, \"#9c179e\"], [0.4444444444444444, \"#bd3786\"], [0.5555555555555556, \"#d8576b\"], [0.6666666666666666, \"#ed7953\"], [0.7777777777777778, \"#fb9f3a\"], [0.8888888888888888, \"#fdca26\"], [1.0, \"#f0f921\"]], \"type\": \"histogram2d\"}], \"histogram2dcontour\": [{\"colorbar\": {\"outlinewidth\": 0, \"ticks\": \"\"}, \"colorscale\": [[0.0, \"#0d0887\"], [0.1111111111111111, \"#46039f\"], [0.2222222222222222, \"#7201a8\"], [0.3333333333333333, \"#9c179e\"], [0.4444444444444444, \"#bd3786\"], [0.5555555555555556, \"#d8576b\"], [0.6666666666666666, \"#ed7953\"], [0.7777777777777778, \"#fb9f3a\"], [0.8888888888888888, \"#fdca26\"], [1.0, \"#f0f921\"]], \"type\": \"histogram2dcontour\"}], \"mesh3d\": [{\"colorbar\": {\"outlinewidth\": 0, \"ticks\": \"\"}, \"type\": \"mesh3d\"}], \"parcoords\": [{\"line\": {\"colorbar\": {\"outlinewidth\": 0, \"ticks\": \"\"}}, \"type\": \"parcoords\"}], \"pie\": [{\"automargin\": true, \"type\": \"pie\"}], \"scatter\": [{\"marker\": {\"colorbar\": {\"outlinewidth\": 0, \"ticks\": \"\"}}, \"type\": \"scatter\"}], \"scatter3d\": [{\"line\": {\"colorbar\": {\"outlinewidth\": 0, \"ticks\": \"\"}}, \"marker\": {\"colorbar\": {\"outlinewidth\": 0, \"ticks\": \"\"}}, \"type\": \"scatter3d\"}], \"scattercarpet\": [{\"marker\": {\"colorbar\": {\"outlinewidth\": 0, \"ticks\": \"\"}}, \"type\": \"scattercarpet\"}], \"scattergeo\": [{\"marker\": {\"colorbar\": {\"outlinewidth\": 0, \"ticks\": \"\"}}, \"type\": \"scattergeo\"}], \"scattergl\": [{\"marker\": {\"colorbar\": {\"outlinewidth\": 0, \"ticks\": \"\"}}, \"type\": \"scattergl\"}], \"scattermapbox\": [{\"marker\": {\"colorbar\": {\"outlinewidth\": 0, \"ticks\": \"\"}}, \"type\": \"scattermapbox\"}], \"scatterpolar\": [{\"marker\": {\"colorbar\": {\"outlinewidth\": 0, \"ticks\": \"\"}}, \"type\": \"scatterpolar\"}], \"scatterpolargl\": [{\"marker\": {\"colorbar\": {\"outlinewidth\": 0, \"ticks\": \"\"}}, \"type\": \"scatterpolargl\"}], \"scatterternary\": [{\"marker\": {\"colorbar\": {\"outlinewidth\": 0, \"ticks\": \"\"}}, \"type\": \"scatterternary\"}], \"surface\": [{\"colorbar\": {\"outlinewidth\": 0, \"ticks\": \"\"}, \"colorscale\": [[0.0, \"#0d0887\"], [0.1111111111111111, \"#46039f\"], [0.2222222222222222, \"#7201a8\"], [0.3333333333333333, \"#9c179e\"], [0.4444444444444444, \"#bd3786\"], [0.5555555555555556, \"#d8576b\"], [0.6666666666666666, \"#ed7953\"], [0.7777777777777778, \"#fb9f3a\"], [0.8888888888888888, \"#fdca26\"], [1.0, \"#f0f921\"]], \"type\": \"surface\"}], \"table\": [{\"cells\": {\"fill\": {\"color\": \"#EBF0F8\"}, \"line\": {\"color\": \"white\"}}, \"header\": {\"fill\": {\"color\": \"#C8D4E3\"}, \"line\": {\"color\": \"white\"}}, \"type\": \"table\"}]}, \"layout\": {\"annotationdefaults\": {\"arrowcolor\": \"#2a3f5f\", \"arrowhead\": 0, \"arrowwidth\": 1}, \"coloraxis\": {\"colorbar\": {\"outlinewidth\": 0, \"ticks\": \"\"}}, \"colorscale\": {\"diverging\": [[0, \"#8e0152\"], [0.1, \"#c51b7d\"], [0.2, \"#de77ae\"], [0.3, \"#f1b6da\"], [0.4, \"#fde0ef\"], [0.5, \"#f7f7f7\"], [0.6, \"#e6f5d0\"], [0.7, \"#b8e186\"], [0.8, \"#7fbc41\"], [0.9, \"#4d9221\"], [1, \"#276419\"]], \"sequential\": [[0.0, \"#0d0887\"], [0.1111111111111111, \"#46039f\"], [0.2222222222222222, \"#7201a8\"], [0.3333333333333333, \"#9c179e\"], [0.4444444444444444, \"#bd3786\"], [0.5555555555555556, \"#d8576b\"], [0.6666666666666666, \"#ed7953\"], [0.7777777777777778, \"#fb9f3a\"], [0.8888888888888888, \"#fdca26\"], [1.0, \"#f0f921\"]], \"sequentialminus\": [[0.0, \"#0d0887\"], [0.1111111111111111, \"#46039f\"], [0.2222222222222222, \"#7201a8\"], [0.3333333333333333, \"#9c179e\"], [0.4444444444444444, \"#bd3786\"], [0.5555555555555556, \"#d8576b\"], [0.6666666666666666, \"#ed7953\"], [0.7777777777777778, \"#fb9f3a\"], [0.8888888888888888, \"#fdca26\"], [1.0, \"#f0f921\"]]}, \"colorway\": [\"#636efa\", \"#EF553B\", \"#00cc96\", \"#ab63fa\", \"#FFA15A\", \"#19d3f3\", \"#FF6692\", \"#B6E880\", \"#FF97FF\", \"#FECB52\"], \"font\": {\"color\": \"#2a3f5f\"}, \"geo\": {\"bgcolor\": \"white\", \"lakecolor\": \"white\", \"landcolor\": \"#E5ECF6\", \"showlakes\": true, \"showland\": true, \"subunitcolor\": \"white\"}, \"hoverlabel\": {\"align\": \"left\"}, \"hovermode\": \"closest\", \"mapbox\": {\"style\": \"light\"}, \"paper_bgcolor\": \"white\", \"plot_bgcolor\": \"#E5ECF6\", \"polar\": {\"angularaxis\": {\"gridcolor\": \"white\", \"linecolor\": \"white\", \"ticks\": \"\"}, \"bgcolor\": \"#E5ECF6\", \"radialaxis\": {\"gridcolor\": \"white\", \"linecolor\": \"white\", \"ticks\": \"\"}}, \"scene\": {\"xaxis\": {\"backgroundcolor\": \"#E5ECF6\", \"gridcolor\": \"white\", \"gridwidth\": 2, \"linecolor\": \"white\", \"showbackground\": true, \"ticks\": \"\", \"zerolinecolor\": \"white\"}, \"yaxis\": {\"backgroundcolor\": \"#E5ECF6\", \"gridcolor\": \"white\", \"gridwidth\": 2, \"linecolor\": \"white\", \"showbackground\": true, \"ticks\": \"\", \"zerolinecolor\": \"white\"}, \"zaxis\": {\"backgroundcolor\": \"#E5ECF6\", \"gridcolor\": \"white\", \"gridwidth\": 2, \"linecolor\": \"white\", \"showbackground\": true, \"ticks\": \"\", \"zerolinecolor\": \"white\"}}, \"shapedefaults\": {\"line\": {\"color\": \"#2a3f5f\"}}, \"ternary\": {\"aaxis\": {\"gridcolor\": \"white\", \"linecolor\": \"white\", \"ticks\": \"\"}, \"baxis\": {\"gridcolor\": \"white\", \"linecolor\": \"white\", \"ticks\": \"\"}, \"bgcolor\": \"#E5ECF6\", \"caxis\": {\"gridcolor\": \"white\", \"linecolor\": \"white\", \"ticks\": \"\"}}, \"title\": {\"x\": 0.05}, \"xaxis\": {\"automargin\": true, \"gridcolor\": \"white\", \"linecolor\": \"white\", \"ticks\": \"\", \"title\": {\"standoff\": 15}, \"zerolinecolor\": \"white\", \"zerolinewidth\": 2}, \"yaxis\": {\"automargin\": true, \"gridcolor\": \"white\", \"linecolor\": \"white\", \"ticks\": \"\", \"title\": {\"standoff\": 15}, \"zerolinecolor\": \"white\", \"zerolinewidth\": 2}}}},\n",
       "                        {\"responsive\": true}\n",
       "                    ).then(function(){\n",
       "                            \n",
       "var gd = document.getElementById('d72b108d-9eee-4ae4-8f5b-6b51b14b841c');\n",
       "var x = new MutationObserver(function (mutations, observer) {{\n",
       "        var display = window.getComputedStyle(gd).display;\n",
       "        if (!display || display === 'none') {{\n",
       "            console.log([gd, 'removed!']);\n",
       "            Plotly.purge(gd);\n",
       "            observer.disconnect();\n",
       "        }}\n",
       "}});\n",
       "\n",
       "// Listen for the removal of the full notebook cells\n",
       "var notebookContainer = gd.closest('#notebook-container');\n",
       "if (notebookContainer) {{\n",
       "    x.observe(notebookContainer, {childList: true});\n",
       "}}\n",
       "\n",
       "// Listen for the clearing of the current output cell\n",
       "var outputEl = gd.closest('.output');\n",
       "if (outputEl) {{\n",
       "    x.observe(outputEl, {childList: true});\n",
       "}}\n",
       "\n",
       "                        })\n",
       "                };\n",
       "                });\n",
       "            </script>\n",
       "        </div>"
      ]
     },
     "metadata": {},
     "output_type": "display_data"
    }
   ],
   "source": [
    "fig = px.scatter_3d(\n",
    "    clustered_df,\n",
    "    x='PC 1',\n",
    "    y='PC 2',\n",
    "    z='PC 3',\n",
    "    color='Class',\n",
    "    symbol='Class',\n",
    "    hover_name='CoinName',\n",
    "    hover_data=['Algorithm']\n",
    ")\n",
    "fig.update_layout(legend=dict(x=0, y=1))\n",
    "fig.show()  "
   ]
  },
  {
   "cell_type": "code",
   "execution_count": 118,
   "metadata": {
    "scrolled": true
   },
   "outputs": [
    {
     "data": {},
     "metadata": {},
     "output_type": "display_data"
    },
    {
     "data": {
      "application/vnd.holoviews_exec.v0+json": "",
      "text/html": [
       "<div id='3035'>\n",
       "\n",
       "\n",
       "\n",
       "\n",
       "\n",
       "  <div class=\"bk-root\" id=\"b4ec643b-8b9e-4140-bdbd-549b38407893\" data-root-id=\"3035\"></div>\n",
       "</div>\n",
       "<script type=\"application/javascript\">\n",
       "    function msg_handler(msg) {\n",
       "      var metadata = msg.metadata;\n",
       "      var buffers = msg.buffers;\n",
       "      var msg = msg.content.data;\n",
       "      if ((metadata.msg_type == \"Ready\")) {\n",
       "        if (metadata.content) {\n",
       "          console.log(\"Python callback returned following output:\", metadata.content);\n",
       "        }\n",
       "      } else if (metadata.msg_type == \"Error\") {\n",
       "        console.log(\"Python failed with the following traceback:\", metadata.traceback)\n",
       "      } else {\n",
       "        \n",
       "var plot_id = \"3035\";\n",
       "\n",
       "if ((plot_id in window.PyViz.plot_index) && (window.PyViz.plot_index[plot_id] != null)) {\n",
       "  var plot = window.PyViz.plot_index[plot_id];\n",
       "} else if ((Bokeh !== undefined) && (plot_id in Bokeh.index)) {\n",
       "  var plot = Bokeh.index[plot_id];\n",
       "}\n",
       "\n",
       "if (plot == null) {\n",
       "  return\n",
       "}\n",
       "\n",
       "if (plot_id in window.PyViz.receivers) {\n",
       "  var receiver = window.PyViz.receivers[plot_id];\n",
       "} else {\n",
       "  var receiver = new Bokeh.protocol.Receiver();\n",
       "  window.PyViz.receivers[plot_id] = receiver;\n",
       "}\n",
       "\n",
       "if ((buffers != undefined) && (buffers.length > 0)) {\n",
       "  receiver.consume(buffers[0].buffer)\n",
       "} else {\n",
       "  receiver.consume(msg)\n",
       "}\n",
       "\n",
       "const comm_msg = receiver.message;\n",
       "if ((comm_msg != null) && (Object.keys(comm_msg.content).length > 0)) {\n",
       "  plot.model.document.apply_json_patch(comm_msg.content, comm_msg.buffers)\n",
       "}\n",
       "\n",
       "      }\n",
       "    }\n",
       "    if ((window.PyViz == undefined) || (!window.PyViz.comm_manager)) {\n",
       "      console.log(\"Could not find comm manager\")\n",
       "    } else {\n",
       "      window.PyViz.comm_manager.register_target('3035', 'c226052645ba440887bf0341ed96a259', msg_handler);\n",
       "    }\n",
       "    \n",
       "(function(root) {\n",
       "  function embed_document(root) {\n",
       "  var docs_json = {\"a21af402-894a-4cde-be7b-3176c1a4fa10\":{\"roots\":{\"references\":[{\"attributes\":{},\"id\":\"3044\",\"type\":\"StringFormatter\"},{\"attributes\":{\"editor\":{\"id\":\"3065\",\"type\":\"IntEditor\"},\"field\":\"Class\",\"formatter\":{\"id\":\"3064\",\"type\":\"NumberFormatter\"},\"title\":\"Class\"},\"id\":\"3066\",\"type\":\"TableColumn\"},{\"attributes\":{},\"id\":\"3045\",\"type\":\"StringEditor\"},{\"attributes\":{},\"id\":\"3064\",\"type\":\"NumberFormatter\"},{\"attributes\":{\"source\":{\"id\":\"3037\",\"type\":\"ColumnDataSource\"}},\"id\":\"3070\",\"type\":\"CDSView\"},{\"attributes\":{\"editor\":{\"id\":\"3045\",\"type\":\"StringEditor\"},\"field\":\"Algorithm\",\"formatter\":{\"id\":\"3044\",\"type\":\"StringFormatter\"},\"title\":\"Algorithm\"},\"id\":\"3046\",\"type\":\"TableColumn\"},{\"attributes\":{},\"id\":\"3060\",\"type\":\"NumberEditor\"},{\"attributes\":{\"columns\":[{\"id\":\"3041\",\"type\":\"TableColumn\"},{\"id\":\"3046\",\"type\":\"TableColumn\"},{\"id\":\"3051\",\"type\":\"TableColumn\"},{\"id\":\"3056\",\"type\":\"TableColumn\"},{\"id\":\"3061\",\"type\":\"TableColumn\"},{\"id\":\"3066\",\"type\":\"TableColumn\"}],\"height\":300,\"reorderable\":false,\"source\":{\"id\":\"3037\",\"type\":\"ColumnDataSource\"},\"view\":{\"id\":\"3070\",\"type\":\"CDSView\"},\"width\":700},\"id\":\"3069\",\"type\":\"DataTable\"},{\"attributes\":{\"children\":[{\"id\":\"3036\",\"type\":\"Spacer\"},{\"id\":\"3069\",\"type\":\"DataTable\"},{\"id\":\"3073\",\"type\":\"Spacer\"}],\"margin\":[0,0,0,0],\"name\":\"Row07005\",\"tags\":[\"embedded\"]},\"id\":\"3035\",\"type\":\"Row\"},{\"attributes\":{},\"id\":\"3049\",\"type\":\"StringFormatter\"},{\"attributes\":{\"callback\":null,\"data\":{\"Algorithm\":[\"Scrypt\",\"Scrypt\",\"X13\",\"SHA-256\",\"Ethash\",\"Scrypt\",\"X11\",\"CryptoNight-V7\",\"Ethash\",\"Equihash\",\"SHA-512\",\"Multiple\",\"SHA-256\",\"SHA-256\",\"Scrypt\",\"X15\",\"X11\",\"Scrypt\",\"Scrypt\",\"Scrypt\",\"Multiple\",\"Scrypt\",\"SHA-256\",\"Scrypt\",\"Scrypt\",\"Scrypt\",\"Quark\",\"Groestl\",\"Scrypt\",\"Scrypt\",\"Scrypt\",\"Scrypt\",\"Scrypt\",\"X11\",\"Scrypt\",\"Groestl\",\"Multiple\",\"SHA-256\",\"Scrypt\",\"Scrypt\",\"Scrypt\",\"Scrypt\",\"PoS\",\"Scrypt\",\"Scrypt\",\"NeoScrypt\",\"Scrypt\",\"Scrypt\",\"Scrypt\",\"Scrypt\",\"X11\",\"Scrypt\",\"X11\",\"SHA-256\",\"Scrypt\",\"Scrypt\",\"Scrypt\",\"SHA3\",\"Scrypt\",\"HybridScryptHash256\",\"Scrypt\",\"Scrypt\",\"SHA-256\",\"Scrypt\",\"X13\",\"Scrypt\",\"SHA-256\",\"Scrypt\",\"X13\",\"NeoScrypt\",\"Scrypt\",\"Scrypt\",\"Scrypt\",\"Scrypt\",\"Scrypt\",\"Scrypt\",\"X11\",\"X11\",\"SHA-256\",\"Multiple\",\"SHA-256\",\"PHI1612\",\"X11\",\"SHA-256\",\"SHA-256\",\"SHA-256\",\"X11\",\"Scrypt\",\"Scrypt\",\"Scrypt\",\"Scrypt\",\"Lyra2REv2\",\"Scrypt\",\"X11\",\"Multiple\",\"SHA-256\",\"X13\",\"Scrypt\",\"CryptoNight\",\"CryptoNight\",\"Shabal256\",\"Counterparty\",\"Scrypt\",\"SHA-256\",\"Groestl\",\"Scrypt\",\"Scrypt\",\"Scrypt\",\"X13\",\"Scrypt\",\"Scrypt\",\"Scrypt\",\"Scrypt\",\"X13\",\"Scrypt\",\"Stanford Folding\",\"X11\",\"Multiple\",\"QuBit\",\"Scrypt\",\"Scrypt\",\"Scrypt\",\"M7 POW\",\"Scrypt\",\"SHA-256\",\"Scrypt\",\"X11\",\"SHA3\",\"X11\",\"Lyra2RE\",\"SHA-256\",\"QUAIT\",\"X11\",\"X11\",\"Scrypt\",\"Scrypt\",\"Scrypt\",\"Ethash\",\"X13\",\"Blake2b\",\"SHA-256\",\"X15\",\"X11\",\"SHA-256\",\"BLAKE256\",\"Scrypt\",\"1GB AES Pattern Search\",\"SHA-256\",\"X11\",\"Scrypt\",\"SHA-256\",\"SHA-256\",\"NIST5\",\"Scrypt\",\"Scrypt\",\"X11\",\"Dagger\",\"Scrypt\",\"X11GOST\",\"X11\",\"Scrypt\",\"SHA-256\",\"Scrypt\",\"PoS\",\"Scrypt\",\"X11\",\"X11\",\"SHA-256\",\"SHA-256\",\"NIST5\",\"X11\",\"Scrypt\",\"POS 3.0\",\"Scrypt\",\"Scrypt\",\"Scrypt\",\"X13\",\"X11\",\"X11\",\"Equihash\",\"X11\",\"Scrypt\",\"CryptoNight\",\"SHA-256\",\"SHA-256\",\"X11\",\"Scrypt\",\"Multiple\",\"Scrypt\",\"Scrypt\",\"Scrypt\",\"SHA-256\",\"Scrypt\",\"Scrypt\",\"SHA-256D\",\"PoS\",\"Scrypt\",\"X11\",\"Lyra2Z\",\"PoS\",\"X13\",\"X14\",\"PoS\",\"SHA-256D\",\"Ethash\",\"Equihash\",\"DPoS\",\"X11\",\"Scrypt\",\"X11\",\"X13\",\"X11\",\"PoS\",\"Scrypt\",\"Scrypt\",\"X11\",\"PoS\",\"X11\",\"SHA-256\",\"Scrypt\",\"X11\",\"Scrypt\",\"Scrypt\",\"X11\",\"CryptoNight\",\"Scrypt\",\"Scrypt\",\"Scrypt\",\"Scrypt\",\"Quark\",\"QuBit\",\"Scrypt\",\"CryptoNight\",\"Lyra2RE\",\"Scrypt\",\"SHA-256\",\"X11\",\"Scrypt\",\"X11\",\"Scrypt\",\"CryptoNight-V7\",\"Scrypt\",\"Scrypt\",\"Scrypt\",\"X13\",\"X11\",\"Equihash\",\"Scrypt\",\"Scrypt\",\"Lyra2RE\",\"Scrypt\",\"Dagger-Hashimoto\",\"X11\",\"Blake2S\",\"X11\",\"Scrypt\",\"PoS\",\"X11\",\"NIST5\",\"PoS\",\"X11\",\"Scrypt\",\"Scrypt\",\"Scrypt\",\"SHA-256\",\"X11\",\"Scrypt\",\"Scrypt\",\"SHA-256\",\"PoS\",\"Scrypt\",\"X15\",\"SHA-256\",\"Scrypt\",\"POS 3.0\",\"CryptoNight-V7\",\"536\",\"Argon2d\",\"Blake2b\",\"Cloverhash\",\"CryptoNight\",\"NIST5\",\"X11\",\"NIST5\",\"Skein\",\"Scrypt\",\"X13\",\"Scrypt\",\"X11\",\"X11\",\"Scrypt\",\"CryptoNight\",\"X13\",\"Time Travel\",\"Scrypt\",\"Keccak\",\"SkunkHash v2 Raptor\",\"X11\",\"Skein\",\"SHA-256\",\"X11\",\"Scrypt\",\"VeChainThor Authority\",\"Scrypt\",\"PoS\",\"Scrypt\",\"Scrypt\",\"Scrypt\",\"Scrypt\",\"Scrypt\",\"Scrypt\",\"Scrypt\",\"CryptoNight\",\"SHA-512\",\"Ouroboros\",\"X11\",\"Equihash\",\"NeoScrypt\",\"X11\",\"Scrypt\",\"NeoScrypt\",\"Lyra2REv2\",\"Equihash\",\"Scrypt\",\"SHA-256\",\"NIST5\",\"PHI1612\",\"Dagger\",\"Scrypt\",\"Quark\",\"Scrypt\",\"POS 2.0\",\"Scrypt\",\"SHA-256\",\"X11\",\"NeoScrypt\",\"Ethash\",\"NeoScrypt\",\"X11\",\"DPoS\",\"NIST5\",\"X13\",\"Multiple\",\"Scrypt\",\"CryptoNight\",\"CryptoNight\",\"Ethash\",\"NIST5\",\"Quark\",\"X11\",\"CryptoNight-V7\",\"Scrypt\",\"Scrypt\",\"Scrypt\",\"X11\",\"BLAKE256\",\"X11\",\"NeoScrypt\",\"Quark\",\"NeoScrypt\",\"Scrypt\",\"Scrypt\",\"Scrypt\",\"X11\",\"X11\",\"SHA-256\",\"C11\",\"POS 3.0\",\"Ethash\",\"Scrypt\",\"CryptoNight\",\"SkunkHash\",\"Scrypt\",\"CryptoNight\",\"Scrypt\",\"Dagger\",\"Lyra2REv2\",\"X13\",\"Proof-of-BibleHash\",\"SHA-256 + Hive\",\"Scrypt\",\"Scrypt\",\"X11\",\"C11\",\"Proof-of-Authority\",\"X11\",\"XEVAN\",\"Scrypt\",\"VBFT\",\"Ethash\",\"CryptoNight\",\"Scrypt\",\"IMesh\",\"NIST5\",\"Scrypt\",\"Scrypt\",\"Equihash\",\"Scrypt\",\"Lyra2Z\",\"Green Protocol\",\"PoS\",\"Scrypt\",\"Semux BFT consensus\",\"X11\",\"Quark\",\"PoS\",\"CryptoNight\",\"X16R\",\"Scrypt\",\"NIST5\",\"Lyra2RE\",\"XEVAN\",\"Tribus\",\"Scrypt\",\"Lyra2Z\",\"CryptoNight\",\"CryptoNight Heavy\",\"CryptoNight\",\"Scrypt\",\"Scrypt\",\"Jump Consistent Hash\",\"SHA-256D\",\"CryptoNight\",\"Scrypt\",\"X15\",\"Scrypt\",\"Quark\",\"SHA-256\",\"DPoS\",\"X16R\",\"HMQ1725\",\"X11\",\"X16R\",\"Quark\",\"Quark\",\"Scrypt\",\"Lyra2REv2\",\"Quark\",\"Scrypt\",\"Scrypt\",\"CryptoNight-V7\",\"Cryptonight-GPU\",\"XEVAN\",\"CryptoNight Heavy\",\"X11\",\"X11\",\"Scrypt\",\"PoS\",\"SHA-256\",\"Keccak\",\"X11\",\"X11\",\"Scrypt\",\"SHA-512\",\"X16R\",\"ECC 256K1\",\"Equihash\",\"XEVAN\",\"Lyra2Z\",\"SHA-256\",\"XEVAN\",\"X11\",\"CryptoNight\",\"Quark\",\"Blake\",\"Blake\",\"Equihash\",\"Exosis\",\"Scrypt\",\"Scrypt\",\"Equihash\",\"Quark\",\"Equihash\",\"Quark\",\"Scrypt\",\"QuBit\",\"X11\",\"Scrypt\",\"XEVAN\",\"SHA-256D\",\"X11\",\"SHA-256\",\"X13\",\"SHA-256\",\"X11\",\"DPoS\",\"Scrypt\",\"Scrypt\",\"X11\",\"NeoScrypt\",\"Scrypt\",\"Blake\",\"Scrypt\",\"SHA-256\",\"Scrypt\",\"X11\",\"Scrypt\",\"Scrypt\",\"SHA-256\",\"X11\",\"SHA-256\",\"Scrypt\",\"Scrypt\",\"Scrypt\",\"Groestl\",\"X11\",\"Scrypt\",\"PoS\",\"Scrypt\",\"Scrypt\",\"X11\",\"SHA-256\",\"DPoS\",\"Scrypt\",\"Scrypt\",\"NeoScrypt\",\"SHA3-256\",\"Multiple\",\"X13\",\"Equihash+Scrypt\",\"DPoS\",\"Ethash\",\"DPoS\",\"SHA-256\",\"Leased POS\",\"PoS\",\"TRC10\",\"PoS\",\"SHA-256\",\"Scrypt\",\"CryptoNight\",\"Equihash\",\"Scrypt\"],\"Class\":{\"__ndarray__\":\"AAAAAAAAAAAAAAAAAQAAAAEAAAABAAAAAAAAAAEAAAABAAAAAQAAAAAAAAABAAAAAAAAAAAAAAABAAAAAAAAAAEAAAABAAAAAAAAAAAAAAABAAAAAQAAAAEAAAABAAAAAQAAAAAAAAABAAAAAQAAAAEAAAAAAAAAAQAAAAAAAAABAAAAAQAAAAAAAAAAAAAAAQAAAAEAAAABAAAAAQAAAAEAAAABAAAAAAAAAAAAAAABAAAAAQAAAAEAAAABAAAAAQAAAAAAAAAAAAAAAQAAAAAAAAABAAAAAQAAAAEAAAABAAAAAAAAAAEAAAABAAAAAAAAAAEAAAAAAAAAAAAAAAAAAAABAAAAAQAAAAEAAAAAAAAAAAAAAAAAAAAAAAAAAAAAAAEAAAABAAAAAQAAAAAAAAAAAAAAAQAAAAAAAAABAAAAAAAAAAAAAAABAAAAAQAAAAEAAAABAAAAAAAAAAAAAAABAAAAAAAAAAEAAAABAAAAAAAAAAAAAAABAAAAAAAAAAAAAAABAAAAAQAAAAEAAAAAAAAAAQAAAAAAAAAAAAAAAQAAAAAAAAABAAAAAAAAAAEAAAAAAAAAAQAAAAAAAAAAAAAAAQAAAAEAAAAAAAAAAQAAAAEAAAABAAAAAAAAAAEAAAABAAAAAQAAAAEAAAABAAAAAAAAAAAAAAABAAAAAQAAAAEAAAAAAAAAAQAAAAAAAAABAAAAAQAAAAAAAAABAAAAAAAAAAEAAAAAAAAAAAAAAAEAAAABAAAAAAAAAAEAAAABAAAAAAAAAAAAAAABAAAAAAAAAAEAAAAAAAAAAAAAAAAAAAABAAAAAQAAAAEAAAABAAAAAAAAAAAAAAAAAAAAAAAAAAAAAAABAAAAAQAAAAAAAAAAAAAAAAAAAAAAAAAAAAAAAQAAAAAAAAAAAAAAAAAAAAAAAAAAAAAAAQAAAAAAAAABAAAAAAAAAAAAAAABAAAAAAAAAAEAAAAAAAAAAAAAAAEAAAAAAAAAAQAAAAAAAAABAAAAAAAAAAEAAAAAAAAAAAAAAAAAAAAAAAAAAQAAAAAAAAAAAAAAAAAAAAAAAAAAAAAAAQAAAAEAAAAAAAAAAAAAAAEAAAABAAAAAAAAAAAAAAAAAAAAAAAAAAAAAAABAAAAAAAAAAAAAAAAAAAAAAAAAAAAAAAAAAAAAAAAAAAAAAABAAAAAAAAAAAAAAAAAAAAAAAAAAAAAAAAAAAAAQAAAAEAAAABAAAAAAAAAAAAAAAAAAAAAAAAAAEAAAAAAAAAAQAAAAAAAAAAAAAAAQAAAAAAAAABAAAAAQAAAAAAAAABAAAAAQAAAAAAAAABAAAAAAAAAAAAAAAAAAAAAQAAAAAAAAAAAAAAAQAAAAAAAAAAAAAAAAAAAAAAAAAAAAAAAAAAAAAAAAABAAAAAAAAAAEAAAAAAAAAAAAAAAAAAAAAAAAAAQAAAAAAAAABAAAAAAAAAAEAAAABAAAAAQAAAAEAAAAAAAAAAQAAAAAAAAAAAAAAAQAAAAAAAAABAAAAAQAAAAEAAAAAAAAAAQAAAAAAAAABAAAAAQAAAAEAAAAAAAAAAQAAAAAAAAABAAAAAAAAAAAAAAADAAAAAQAAAAAAAAABAAAAAQAAAAEAAAABAAAAAQAAAAAAAAAAAAAAAQAAAAAAAAAAAAAAAAAAAAEAAAAAAAAAAQAAAAAAAAABAAAAAAAAAAEAAAAAAAAAAAAAAAAAAAAAAAAAAQAAAAAAAAAAAAAAAQAAAAAAAAAAAAAAAAAAAAEAAAABAAAAAQAAAAEAAAAAAAAAAAAAAAAAAAAAAAAAAQAAAAAAAAABAAAAAQAAAAEAAAAAAAAAAAAAAAEAAAABAAAAAAAAAAAAAAABAAAAAAAAAAEAAAABAAAAAQAAAAAAAAABAAAAAQAAAAAAAAAAAAAAAAAAAAEAAAABAAAAAQAAAAAAAAABAAAAAAAAAAEAAAABAAAAAAAAAAEAAAABAAAAAQAAAAEAAAAAAAAAAAAAAAMAAAABAAAAAQAAAAEAAAAAAAAAAAAAAAAAAAAAAAAAAAAAAAAAAAABAAAAAQAAAAEAAAABAAAAAAAAAAAAAAAAAAAAAQAAAAAAAAABAAAAAAAAAAAAAAAAAAAAAAAAAAEAAAAAAAAAAAAAAAEAAAAAAAAAAAAAAAEAAAABAAAAAAAAAAEAAAAAAAAAAQAAAAEAAAABAAAAAQAAAAAAAAAAAAAAAQAAAAAAAAABAAAAAAAAAAAAAAAAAAAAAAAAAAAAAAAAAAAAAQAAAAEAAAABAAAAAAAAAAAAAAAAAAAAAAAAAAAAAAAAAAAAAQAAAAAAAAABAAAAAQAAAAEAAAABAAAAAAAAAAAAAAAAAAAAAAAAAAEAAAAAAAAAAAAAAAEAAAAAAAAAAAAAAAEAAAAAAAAAAQAAAAAAAAABAAAAAQAAAAEAAAAAAAAAAQAAAAAAAAABAAAAAQAAAAEAAAABAAAAAQAAAAAAAAABAAAAAAAAAAEAAAAAAAAAAAAAAAEAAAAAAAAAAAAAAAAAAAAAAAAAAAAAAAEAAAABAAAAAQAAAAAAAAAAAAAAAAAAAAEAAAAAAAAAAQAAAAAAAAABAAAAAAAAAAAAAAAAAAAAAAAAAAEAAAAAAAAAAAAAAAAAAAABAAAAAAAAAAEAAAAAAAAAAQAAAAAAAAAAAAAAAAAAAAEAAAABAAAAAAAAAAAAAAAAAAAAAAAAAAAAAAAAAAAAAwAAAAEAAAAAAAAAAQAAAAAAAAABAAAAAAAAAAAAAAAAAAAAAAAAAAIAAAAAAAAAAAAAAAAAAAABAAAAAQAAAAAAAAA=\",\"dtype\":\"int32\",\"shape\":[533]},\"CoinName\":[\"42 Coin\",\"404Coin\",\"EliteCoin\",\"Bitcoin\",\"Ethereum\",\"Litecoin\",\"Dash\",\"Monero\",\"Ethereum Classic\",\"ZCash\",\"Bitshares\",\"DigiByte\",\"BitcoinDark\",\"PayCoin\",\"ProsperCoin\",\"KoboCoin\",\"Spreadcoin\",\"Argentum\",\"Aurora Coin\",\"BlueCoin\",\"MyriadCoin\",\"MoonCoin\",\"ZetaCoin\",\"SexCoin\",\"Quatloo\",\"EnergyCoin\",\"QuarkCoin\",\"Riecoin\",\"Digitalcoin \",\"BitBar\",\"Catcoin\",\"CryptoBullion\",\"CannaCoin\",\"CryptCoin\",\"CasinoCoin\",\"Diamond\",\"Verge\",\"DevCoin\",\"EarthCoin\",\"E-Gulden\",\"Einsteinium\",\"Emerald\",\"Exclusive Coin\",\"FlutterCoin\",\"Franko\",\"FeatherCoin\",\"GrandCoin\",\"GlobalCoin\",\"GoldCoin\",\"HoboNickels\",\"HyperStake\",\"Infinite Coin\",\"IOCoin\",\"IXcoin\",\"KrugerCoin\",\"LuckyCoin\",\"Litebar \",\"MaxCoin\",\"MegaCoin\",\"MediterraneanCoin\",\"MintCoin\",\"MinCoin\",\"MazaCoin\",\"Nautilus Coin\",\"NavCoin\",\"NobleCoin\",\"Namecoin\",\"NyanCoin\",\"OpalCoin\",\"Orbitcoin\",\"PotCoin\",\"PhoenixCoin\",\"Reddcoin\",\"RonPaulCoin\",\"StableCoin\",\"SmartCoin\",\"SuperCoin\",\"SyncCoin\",\"SysCoin\",\"TeslaCoin\",\"TigerCoin\",\"TittieCoin\",\"TorCoin\",\"TerraCoin\",\"UnbreakableCoin\",\"Unobtanium\",\"UroCoin\",\"UnitaryStatus Dollar\",\"UltraCoin\",\"ViaCoin\",\"VeriCoin\",\"Vertcoin\",\"WorldCoin\",\"X11 Coin\",\"Crypti\",\"JouleCoin\",\"StealthCoin\",\"ZCC Coin\",\"ByteCoin\",\"DigitalNote \",\"BurstCoin\",\"StorjCoin\",\"MonaCoin\",\"Neutron\",\"FairCoin\",\"Gulden\",\"RubyCoin\",\"PesetaCoin\",\"Kore\",\"Wild Beast Coin\",\"Dnotes\",\"Flo\",\"8BIT Coin\",\"Sativa Coin\",\"ArtByte\",\"Folding Coin\",\"Ucoin\",\"Unitus\",\"CypherPunkCoin\",\"OmniCron\",\"Vtorrent\",\"GreenCoin\",\"Cryptonite\",\"MasterCoin\",\"SoonCoin\",\"1Credit\",\"IslaCoin\",\"Nexus\",\"MarsCoin \",\"Crypto\",\"Anarchists Prime\",\"Droidz\",\"BowsCoin\",\"Squall Coin\",\"Song Coin\",\"BitZeny\",\"Diggits\",\"Expanse\",\"Paycon\",\"Siacoin\",\"Emercoin\",\"EverGreenCoin\",\"MindCoin\",\"I0coin\",\"Decred\",\"Revolution VR\",\"HOdlcoin\",\"EDRCoin\",\"Hitcoin\",\"Gamecredits\",\"DubaiCoin\",\"CarpeDiemCoin\",\"PWR Coin\",\"BillaryCoin\",\"GPU Coin\",\"Adzcoin\",\"SoilCoin\",\"YoCoin\",\"SibCoin\",\"EuropeCoin\",\"ZeitCoin\",\"SwingCoin\",\"SafeExchangeCoin\",\"Nebuchadnezzar\",\"Francs\",\"BolivarCoin\",\"Ratecoin\",\"Revenu\",\"Clockcoin\",\"VIP Tokens\",\"BitSend\",\"Omni\",\"Let it Ride\",\"PutinCoin\",\"iBankCoin\",\"Frankywillcoin\",\"MudraCoin\",\"PizzaCoin\",\"Lutetium Coin\",\"Komodo\",\"GoldBlocks\",\"CarterCoin\",\"Karbo\",\"BitTokens\",\"ZayedCoin\",\"MustangCoin\",\"ZoneCoin\",\"Circuits of Value\",\"RootCoin\",\"DopeCoin\",\"BitCurrency\",\"DollarCoin\",\"Swiscoin\",\"Shilling\",\"BuzzCoin\",\"Opair\",\"PesoBit\",\"Halloween Coin\",\"ZCoin\",\"CoffeeCoin\",\"RoyalCoin\",\"GanjaCoin V2\",\"TeamUP\",\"LanaCoin\",\"Elementrem\",\"ZClassic\",\"ARK\",\"InsaneCoin\",\"KiloCoin\",\"ArtexCoin\",\"EmberCoin\",\"XenixCoin\",\"FreeCoin\",\"PLNCoin\",\"AquariusCoin\",\"Kurrent\",\"Creatio\",\"Eternity\",\"Eurocoin\",\"BitcoinFast\",\"Stakenet\",\"BitConnect Coin\",\"MoneyCoin\",\"Enigma\",\"Cannabis Industry Coin\",\"Russiacoin\",\"PandaCoin\",\"GameUnits\",\"GAKHcoin\",\"Allsafe\",\"LiteCreed\",\"OsmiumCoin\",\"Bikercoins\",\"HexxCoin\",\"Klingon Empire Darsek\",\"Internet of People\",\"KushCoin\",\"Printerium\",\"PacCoin\",\"Impeach\",\"Citadel\",\"Zilbercoin\",\"FirstCoin\",\"BeaverCoin\",\"FindCoin\",\"VaultCoin\",\"Zero\",\"OpenChat\",\"Canada eCoin\",\"Zoin\",\"RenosCoin\",\"DubaiCoin\",\"VirtacoinPlus\",\"TajCoin\",\"Impact\",\"EB3coin\",\"Atmos\",\"HappyCoin\",\"Coinonat\",\"MacronCoin\",\"Condensate\",\"Independent Money System\",\"ArgusCoin\",\"LomoCoin\",\"ProCurrency\",\"GoldReserve\",\"BenjiRolls\",\"GrowthCoin\",\"ILCoin\",\"Phreak\",\"Degas Coin\",\"HTML5 Coin\",\"Ultimate Secure Cash\",\"EquiTrader\",\"QTUM\",\"Quantum Resistant Ledger\",\"Espers\",\"Dynamic\",\"Nano\",\"ChanCoin\",\"Dinastycoin\",\"Denarius\",\"DigitalPrice\",\"Virta Unique Coin\",\"Bitcoin Planet\",\"Unify\",\"BritCoin\",\"SocialCoin\",\"ArcticCoin\",\"DAS\",\"Linda\",\"LeviarCoin\",\"DeepOnion\",\"Bitcore\",\"gCn Coin\",\"SmartCash\",\"Signatum\",\"Onix\",\"Cream\",\"Bitcoin Cash\",\"Monoeci\",\"Draftcoin\",\"Vechain\",\"Sojourn Coin\",\"Stakecoin\",\"NewYorkCoin\",\"FrazCoin\",\"Kronecoin\",\"AdCoin\",\"Linx\",\"CoinonatX\",\"Ethereum Dark\",\"Sumokoin\",\"Obsidian\",\"Cardano\",\"Regalcoin\",\"BitcoinZ\",\"TrezarCoin\",\"Elements\",\"TerraNovaCoin\",\"VIVO Coin\",\"Rupee\",\"Bitcoin Gold\",\"WomenCoin\",\"Theresa May Coin\",\"NamoCoin\",\"LUXCoin\",\"Pirl\",\"Xios\",\"Bitcloud 2.0\",\"eBoost\",\"KekCoin\",\"BlackholeCoin\",\"Infinity Economics\",\"Pura\",\"Innova\",\"Ellaism\",\"GoByte\",\"Magnet\",\"Lamden Tau\",\"Electra\",\"Bitcoin Diamond\",\"SHIELD\",\"Cash & Back Coin\",\"UltraNote\",\"BitCoal\",\"DaxxCoin\",\"Bulwark\",\"Kalkulus\",\"AC3\",\"Lethean\",\"GermanCoin\",\"LiteCoin Ultra\",\"PopularCoin\",\"PhantomX\",\"Photon\",\"Sucre\",\"SparksPay\",\"Digiwage\",\"GunCoin\",\"IrishCoin\",\"Trollcoin\",\"Litecoin Plus\",\"Monkey Project\",\"Pioneer Coin\",\"UnitedBitcoin\",\"Interzone\",\"TokenPay\",\"1717 Masonic Commemorative Token\",\"My Big Coin\",\"TurtleCoin\",\"MUNcoin\",\"Unified Society USDEX\",\"Niobio Cash\",\"ShareChain\",\"Travelflex\",\"KREDS\",\"Tokyo Coin\",\"BiblePay\",\"LitecoinCash\",\"BitFlip\",\"LottoCoin\",\"Crypto Improvement Fund\",\"Stipend\",\"Poa Network\",\"Pushi\",\"Ellerium\",\"Velox\",\"Ontology\",\"Callisto Network\",\"BitTube\",\"Poseidon\",\"Aidos Kuneen\",\"Bitspace\",\"Briacoin\",\"Ignition\",\"Bitrolium\",\"MedicCoin\",\"Alpenschillling\",\"Bitcoin Green\",\"Deviant Coin\",\"Abjcoin\",\"Semux\",\"FuturoCoin\",\"Carebit\",\"Zealium\",\"Monero Classic\",\"Proton\",\"iDealCash\",\"Jumpcoin\",\"Infinex\",\"Bitcoin Incognito\",\"KEYCO\",\"HollyWoodCoin\",\"GINcoin\",\"PlatinCoin\",\"Loki\",\"Newton Coin\",\"Swisscoin\",\"Xt3ch\",\"MassGrid\",\"TheVig\",\"PluraCoin\",\"EmaratCoin\",\"Dekado\",\"Lynx\",\"Poseidon Quark\",\"BitcoinWSpectrum\",\"Muse\",\"Motion\",\"PlusOneCoin\",\"Axe\",\"Trivechain\",\"Dystem\",\"Giant\",\"Peony Coin\",\"Absolute Coin\",\"Vitae\",\"HexCoin\",\"TPCash\",\"Webchain\",\"Ryo\",\"Urals Coin\",\"Qwertycoin\",\"ARENON\",\"EUNO\",\"MMOCoin\",\"Ketan\",\"Project Pai\",\"XDNA\",\"PAXEX\",\"Azart\",\"ThunderStake\",\"Kcash\",\"Xchange\",\"Acute Angle Cloud\",\"CrypticCoin\",\"Bettex coin\",\"Actinium\",\"Bitcoin SV\",\"BitMoney\",\"Junson Ming Chan Coin\",\"FREDEnergy\",\"HerbCoin\",\"Universal Molecule\",\"Lithium\",\"PirateCash\",\"Exosis\",\"Block-Logic\",\"Oduwa\",\"Beam\",\"Galilel\",\"Bithereum\",\"Crypto Sports\",\"Credit\",\"SLICE\",\"Dash Platinum\",\"Nasdacoin\",\"Beetle Coin\",\"Titan Coin\",\"Award\",\"BLAST\",\"Bitcoin Rhodium\",\"GlobalToken\",\"Insane Coin\",\"ALAX\",\"LiteDoge\",\"SolarCoin\",\"TruckCoin\",\"UFO Coin\",\"OrangeCoin\",\"BlakeCoin\",\"BitstarCoin\",\"NeosCoin\",\"HyperCoin\",\"PinkCoin\",\"Crypto Escudo\",\"AudioCoin\",\"IncaKoin\",\"Piggy Coin\",\"Crown Coin\",\"Genstake\",\"SmileyCoin\",\"XiaoMiCoin\",\"Groestlcoin\",\"CapriCoin\",\" ClubCoin\",\"Radium\",\"Bata\",\"Pakcoin\",\"Creditbit \",\"OKCash\",\"Lisk\",\"HiCoin\",\"WhiteCoin\",\"FriendshipCoin\",\"Fiii\",\"JoinCoin\",\"Triangles Coin\",\"Vollar\",\"EOS\",\"Reality Clash\",\"Oxycoin\",\"TigerCash\",\"Waves\",\"Particl\",\"BitTorrent\",\"Nxt\",\"ZEPHYR\",\"Gapcoin\",\"Beldex\",\"Horizen\",\"BitcoinPlus\"],\"ProofType\":[\"PoW/PoS\",\"PoW/PoS\",\"PoW/PoS\",\"PoW\",\"PoW\",\"PoW\",\"PoW/PoS\",\"PoW\",\"PoW\",\"PoW\",\"PoS\",\"PoW\",\"PoW/PoS\",\"PoS\",\"PoW\",\"PoW/PoS\",\"PoW\",\"PoW\",\"PoW/PoS\",\"PoW/PoS\",\"PoW\",\"PoW\",\"PoW\",\"PoW\",\"PoW\",\"PoW/PoS\",\"PoW\",\"PoW\",\"PoW\",\"PoW/PoS\",\"PoW\",\"PoW/PoS\",\"PoW\",\"PoW\",\"PoC\",\"PoW/PoS\",\"PoW\",\"PoW\",\"PoW\",\"PoW\",\"PoW\",\"PoW\",\"PoS\",\"PoS/PoW/PoT\",\"PoW\",\"PoW\",\"PoW\",\"PoW\",\"PoW\",\"PoW/PoS\",\"PoS\",\"PoW\",\"PoW/PoS\",\"PoW\",\"PoW\",\"PoW\",\"PoW\",\"PoW/PoS\",\"PoW\",\"PoW\",\"PoS\",\"PoW\",\"PoW/PoS\",\"PoS\",\"PoW/PoS\",\"PoW\",\"PoW\",\"PoW\",\"PoW/PoS\",\"PoW/PoS\",\"PoW/PoS\",\"PoW/PoS\",\"PoW/PoS\",\"PoW\",\"PoW\",\"PoW\",\"PoS\",\"PoW/PoS\",\"PoW\",\"PoS\",\"PoW\",\"PoS\",\"PoW/PoS\",\"PoW\",\"PoW\",\"PoW\",\"PoW\",\"PoW/PoS\",\"PoW/PoS\",\"PoW\",\"PoST\",\"PoW\",\"PoW\",\"PoW/PoS\",\"PoS\",\"PoW\",\"PoW/PoS\",\"PoW/PoS\",\"PoW\",\"PoW\",\"PoC\",\"PoS\",\"PoW\",\"PoW/PoS\",\"PoW/PoS\",\"PoW\",\"PoS\",\"PoW\",\"PoW/PoS\",\"PoW\",\"PoS\",\"PoW\",\"PoW/PoS\",\"PoW/PoS\",\"PoW\",\"PoW\",\"PoS\",\"PoW\",\"PoW\",\"PoW\",\"PoW/PoS\",\"PoW\",\"PoW\",\"PoW\",\"PoW\",\"PoW\",\"PoW/PoS\",\"PoW/nPoS\",\"PoW\",\"PoW\",\"PoW\",\"PoW/PoS\",\"PoW\",\"PoS/PoW\",\"PoW\",\"PoW\",\"PoS\",\"PoW\",\"PoW/PoS\",\"PoW\",\"PoW/PoS\",\"PoW/PoS\",\"PoW\",\"PoW\",\"PoW/PoS\",\"PoW\",\"PoW\",\"PoW/PoS\",\"PoW/PoS\",\"PoW\",\"PoW/PoS\",\"PoW\",\"PoW/PoS\",\"PoW/PoS\",\"PoS\",\"PoW\",\"PoW\",\"PoW\",\"PoW\",\"PoW/PoS\",\"PoS\",\"PoW/PoS\",\"PoC\",\"PoS\",\"PoW\",\"PoW\",\"PoW/PoS\",\"PoW/PoS\",\"PoW/PoS\",\"PoW/PoS\",\"PoW/PoS\",\"PoW\",\"PoS\",\"PoW/PoS\",\"PoW/PoS\",\"PoW/PoS\",\"PoS\",\"PoW\",\"PoS\",\"dPoW/PoW\",\"PoW/PoS\",\"PoW/PoS\",\"PoW\",\"PoW/PoS\",\"PoW\",\"PoW/PoS\",\"PoW/PoS\",\"PoW\",\"PoW/PoS\",\"PoW\",\"PoS\",\"PoW\",\"PoW/PoW\",\"PoW\",\"PoW/PoS\",\"PoS\",\"PoW/PoS\",\"PoW/PoS\",\"PoW\",\"PoS\",\"PoS\",\"PoW/PoS\",\"PoS\",\"PoW/PoS\",\"PoW\",\"PoW\",\"DPoS\",\"PoW/PoS\",\"PoW\",\"PoW\",\"PoW/PoS\",\"PoW/PoS\",\"PoS\",\"PoW/PoS\",\"PoW/PoS\",\"PoW\",\"PoS\",\"PoW/PoS\",\"PoW/PoS\",\"PoW/PoS\",\"TPoS\",\"PoW/PoS\",\"PoW/PoS\",\"PoW/PoS\",\"PoW\",\"PoW/PoS\",\"PoS\",\"PoW/PoS\",\"PoW/PoS\",\"PoS\",\"PoW/PoS\",\"PoW\",\"PoW\",\"PoW\",\"PoW/PoS\",\"PoW/PoS\",\"PoW/PoS\",\"PoW/PoS\",\"PoW\",\"PoW/PoS\",\"PoW\",\"PoS\",\"PoW/PoS \",\"PoW\",\"PoS\",\"PoW\",\"PoW\",\"PoW/PoS\",\"PoW\",\"PoW\",\"PoS\",\"PoW\",\"PoW/PoS\",\"PoW/PoS\",\"PoW/PoS\",\"PoW\",\"PoS\",\"PoW/PoS\",\"PoW\",\"PoS\",\"PoW/PoS\",\"PoW/PoS\",\"PoW/PoS\",\"PoW/PoS\",\"PoS\",\"PoW/PoS\",\"PoW\",\"PoS\",\"PoW\",\"PoS\",\"PoW/PoS\",\"PoW/PoS\",\"PoS\",\"PoW\",\"PoS\",\"PoW\",\"PoW/PoS\",\"PoW\",\"PoW\",\"PoW\",\"PoW\",\"PoW/PoS\",\"PoW\",\"PoW/PoS\",\"PoW/PoS\",\"PoW\",\"PoW/PoS\",\"PoW\",\"PoW\",\"PoW\",\"PoW/PoS\",\"PoW\",\"PoW/PoS\",\"PoW\",\"PoW\",\"PoW\",\"PoS\",\"PoW\",\"PoW/PoS\",\"PoW\",\"PoW/PoS\",\"PoS\",\"Proof of Authority\",\"PoW\",\"PoS\",\"PoW\",\"PoW\",\"PoW\",\"PoW\",\"PoW\",\"PoW/PoS\",\"PoW/PoS\",\"PoW\",\"PoS\",\"PoS\",\"PoW/PoS\",\"PoW\",\"PoW/PoS\",\"PoW\",\"PoW/PoS\",\"PoW\",\"PoS\",\"PoW\",\"PoW/PoS\",\"PoW/PoS\",\"PoW/PoS\",\"PoW/PoS\",\"PoW\",\"PoW/PoS\",\"PoW/PoS\",\"PoW\",\"PoS\",\"PoW/PoS\",\"PoS\",\"PoW\",\"PoW\",\"PoW\",\"PoW\",\"PoW/PoS\",\"DPoS\",\"PoW/PoS\",\"PoW/PoS\",\"PoW\",\"PoW/PoS\",\"PoW\",\"PoW\",\"PoW\",\"PoS\",\"PoS\",\"PoW\",\"PoW\",\"PoW/PoS\",\"PoW/PoS\",\"PoW\",\"PoW/PoS\",\"PoW\",\"PoW\",\"PoW\",\"PoS\",\"PoW\",\"PoW\",\"PoW/PoS\",\"PoW/PoS\",\"PoS\",\"PoW\",\"PoW\",\"PoW\",\"PoS\",\"PoS\",\"PoW and PoS\",\"PoW\",\"PoW\",\"PoW/PoS\",\"PoW\",\"PoW\",\"PoW\",\"PoW\",\"PoS\",\"POBh\",\"PoW + Hive\",\"PoW\",\"PoW\",\"PoW\",\"PoW/PoS\",\"PoA\",\"PoW/PoS\",\"PoW/PoS\",\"PoS\",\"PoS\",\"PoW\",\"PoW\",\"PoW\",\"PoW\",\"PoW/PoS\",\"PoW/PoS\",\"PoW/PoS\",\"PoW\",\"PoS\",\"PoW\",\"PoS\",\"PoS\",\"PoW/PoS\",\"DPoS\",\"PoW\",\"PoW/PoS\",\"PoS\",\"PoW\",\"PoS\",\"PoW/PoS\",\"PoW\",\"PoW\",\"PoS/PoW\",\"PoW\",\"PoS\",\"PoW\",\"PoW\",\"PoW\",\"PoW\",\"PoW/PoS\",\"PoS\",\"PoW\",\"PoW/PoS\",\"PoW\",\"PoW/PoS\",\"PoS\",\"HPoW\",\"PoS\",\"PoS\",\"PoS\",\"PoW\",\"PoW\",\"PoW\",\"PoW/PoS\",\"PoS\",\"PoW/PoS\",\"PoS\",\"PoW/PoS\",\"PoS\",\"PoW\",\"PoW/PoS\",\"PoW\",\"PoW\",\"PoW\",\"PoW\",\"PoS\",\"PoW/PoS\",\"PoS\",\"PoS\",\"PoW\",\"PoW/PoS\",\"PoS\",\"PoW\",\"PoW/PoS\",\"Zero-Knowledge Proof\",\"PoW\",\"DPOS\",\"PoW\",\"PoS\",\"PoW\",\"PoW\",\"Pos\",\"PoS\",\"PoW\",\"PoW/PoS\",\"PoW\",\"PoW\",\"PoS\",\"PoW\",\"PoW\",\"PoW/PoS\",\"PoW\",\"PoW/PoS\",\"PoW\",\"PoS\",\"PoW/PoS\",\"PoW\",\"PoS\",\"PoW/PoS\",\"PoW/PoS\",\"PoW/PoS\",\"PoW/PoS\",\"PoW\",\"PoW\",\"PoW\",\"PoW/PoS\",\"DPoS\",\"PoW/PoS\",\"PoW\",\"PoW/PoS\",\"PoW\",\"PoW/PoS\",\"PoW\",\"PoW/PoS\",\"PoS\",\"PoW/PoS\",\"PoW/PoS\",\"PoW\",\"PoW/PoS\",\"PoW/PoS\",\"PoW/PoS\",\"PoW\",\"PoW/PoS\",\"PoW\",\"PoW/PoS\",\"PoW\",\"PoW/PoS\",\"PoW/PoS\",\"PoS\",\"PoW\",\"PoW\",\"Proof of Trust\",\"PoW/PoS\",\"DPoS\",\"PoS\",\"PoW/PoS\",\"PoW/PoS\",\"DPoC\",\"PoW\",\"PoW/PoS\",\"PoW\",\"DPoS\",\"PoW\",\"DPoS\",\"PoS\",\"LPoS\",\"PoS\",\"DPoS\",\"PoS/LPoS\",\"DPoS\",\"PoW/PoS\",\"PoW\",\"PoW\",\"PoS\"],\"TotalCoinSupply\":[\"42\",\"532000000\",\"314159265359\",\"21000000\",\"0\",\"84000000\",\"22000000\",\"0\",\"210000000\",\"21000000\",\"3600570502\",\"21000000000\",\"22000000\",\"12500000\",\"21000000\",\"350000000\",\"20000000\",\"64000000\",\"16768584\",\"0\",\"2000000000\",\"384000000000\",\"169795588\",\"250000000\",\"100000000\",\"0\",\"247000000\",\"84000000\",\"48166000\",\"500000\",\"21000000 \",\"1000000\",\"13140000\",\"18000000\",\"40000000000\",\"4380000\",\"16555000000\",\"21000000000\",\"13500000000\",\"21000000 \",\"299792458\",\"32000000\",\"0\",\"0\",\"11235813\",\"336000000\",\"1420609614\",\"70000000\",\"72245700\",\"120000000\",\"0\",\"90600000000\",\"22000000\",\"21000000\",\"265420800\",\"20000000\",\"1350000\",\"100000000\",\"42000000\",\"200000000\",\"0\",\"10000000\",\"2419200000\",\"16180000\",\"0\",\"15000000000\",\"21000000\",\"337000000\",\"0\",\"3770000\",\"420000000\",\"98000000\",\"0\",\"21000000\",\"250000000\",\"51200000\",\"0\",\"1000\",\"888000000\",\"100000000\",\"47011968\",\"2300000000\",\"10000000\",\"42000000\",\"80000000\",\"250000\",\"0\",\"1600000000\",\"100000000\",\"23000000\",\"0\",\"84000000\",\"265420800\",\"5500000\",\"0\",\"45000000\",\"0\",\"1000000000\",\"184467440735\",\"10000000000\",\"2158812800\",\"500000000\",\"105120000\",\"68000000\",\"0\",\"1680000000\",\"0\",\"166386000\",\"12000000\",\"2628000\",\"500000000\",\"160000000\",\"0\",\"10000000\",\"1000000000\",\"1000000000\",\"20000000\",\"0\",\"0\",\"3371337\",\"20000000\",\"10000000000\",\"1840000000\",\"619478\",\"21000000\",\"92000000000\",\"0\",\"78000000\",\"33000000\",\"65789100\",\"53760000\",\"5060000\",\"21000000\",\"0\",\"210240000\",\"250000000\",\"100000000\",\"16906397\",\"50000000\",\"0\",\"1000000000\",\"26298000\",\"16000000\",\"21000000\",\"21000000\",\"210000000\",\"81962100\",\"22000000\",\"26550000000\",\"84000000\",\"10500000\",\"21626280000 \",\"0\",\"42000000\",\"221052632\",\"84000000\",\"30000000\",\"168351300\",\"24000000\",\"384000000\",\" 99000000000\",\"40000000\",\"2147483647\",\"20000000\",\"20000000\",\"25000000\",\"75000000\",\"222725000\",\"525000000\",\"90000000\",\"139000000\",\"616448\",\"33500000\",\"2000000000\",\"44333333\",\"100000000\",\"200000000\",\"25000000\",\"657000000\",\"200000000\",\"50000000\",\"90000000\",\"10000000\",\"21000000\",\"9736000\",\"3000000\",\"21000000\",\"1200000000\",\"0\",\"200000000\",\"0\",\"10638298\",\"3100000000\",\"30000000\",\"20000000000\",\"74000000\",\"0\",\"1500000000\",\"21400000\",\"39999898\",\"2500124\",\"100000000\",\"301000000\",\"7506000000\",\"26205539\",\"21000000\",\"125000000\",\"30000000\",\"10000000000\",\"500000000\",\"850000000\",\"3853326.77707314\",\"50000000\",\"38540000 \",\"42000000\",\"228000000\",\"20000000\",\"60000000\",\"20000000\",\"33000000\",\"76500000\",\"28000000\",\"650659833\",\"5000000\",\"21000000\",\"144000000\",\"32514916898\",\"13000000\",\"3315789\",\"15000000\",\"78835200\",\"2714286\",\"25000000\",\"9999999\",\"500000000\",\"21000000\",\"9354000\",\"20000000\",\"100000000000\",\"21933333\",\"185000000\",\"55000000\",\"110000000\",\"3360000\",\"14524851.4827\",\"1000000000\",\"17000000\",\"1000000000\",\"100000000 \",\"21000000\",\"34426423\",\"2232901\",\"100000000\",\"36900000\",\"110000000\",\"4000000000\",\"110290030\",\"100000000\",\"48252000\",\"400000000\",\"500000000\",\"21212121\",\"28600000\",\"1000000000\",\"75000000000\",\"40000000\",\"35520400\",\"2000000000\",\"2500000000\",\"30000000\",\"105000000\",\"90000000000\",\"200084200\",\"72000000\",\"100000000\",\"105000000\",\"50000000000\",\"0\",\"340282367\",\"30000000\",\"2000000000\",\"10000000\",\"100000000\",\"120000000\",\"100000000\",\"19276800\",\"30000000\",\" 75000000\",\"60000000\",\"18900000\",\"50000000000\",\"54000000\",\"18898187.6216583\",\"21000000\",\"200000000000\",\"5000000000\",\"137500000\",\"1100000000\",\"100000000\",\"21000000\",\"9507271\",\"17405891.19707116\",\"86712634466\",\"10500000000\",\"61599965\",\"0\",\"20000000\",\"84000000\",\"100000000\",\"100000000\",\"48252000\",\"4200000\",\"88888888\",\"91388946\",\"45000000000\",\"27000000\",\"21000000000\",\"400000000\",\"1800000000\",\"15733333\",\"27000000\",\"24000000\",\"21000000\",\"25000000000\",\"100000000\",\"1200000000\",\"60000000\",\"156306732.71\",\"21000000\",\"200000000\",\"100000000\",\"21000000\",\"14788275.991\",\"9000000000\",\"350000000\",\"45000000\",\"280000000\",\"31800000\",\"144000000\",\"500000000\",\"30000000000\",\"210000000\",\"660000000\",\"210000000\",\"85000000000\",\"12500000\",\"10000000000\",\"27716121\",\"20000000\",\"550000000\",\"999481516\",\"50000000000\",\"150000000\",\"4999999999\",\"50000000\",\" 90000000000\",\"19800000\",\"21000000\",\"120000000\",\"500000000\",\"64000000\",\"900000000\",\"4000000\",\"21000000\",\"23000000\",\"20166000\",\"23000000\",\"25000000\",\"1618033\",\"30000000\",\"1000000000000\",\"16600000\",\"232000000\",\"336000000\",\"10000000000\",\"100000000\",\"1100000000\",\"800000000\",\"5200000000\",\"840000000\",\"40000000\",\"18406979840\",\"500000000\",\"19340594\",\"252460800\",\"25000000\",\"60000000\",\"124000000\",\"1000000000\",\"6500000000\",\"1000000000\",\"21000000\",\"25000000\",\"50000000\",\"3000000\",\"5000000\",\"70000000\",\"500000000\",\"300000000\",\"21000000\",\"88000000\",\"30000000\",\"100000000\",\"100000000\",\"200000000\",\"80000000\",\"18400000\",\"45000000\",\"5121951220\",\"21000000\",\"26280000\",\"21000000\",\"18000000\",\"26000000\",\"10500000\",\"600000518\",\"150000000\",\"184000000000\",\"10200000000\",\"44000000\",\"168000000\",\"100000000\",\"1000000000\",\"84000000\",\"90000000\",\"92000000000\",\"650000000 \",\"100262205\",\"18081806 \",\"22075700\",\"21000000\",\"21000000\",\"82546564\",\"21000000\",\"5151000\",\"16880000000\",\"52500000\",\"100000000\",\"22105263\",\"1000000000\",\"1750000000\",\"88188888\",\"210000000\",\"184470000000\",\"55000000\",\"50000000\",\"260000000\",\"210000000\",\"2100000000\",\"366000000\",\"100000000\",\"25000000\",\"18000000000\",\"1000000000\",\"100000000\",\"1000000000\",\"7600000000\",\"50000000\",\"84000000\",\"21000000\",\"70000000000\",\"0\",\"8080000000\",\"54000000\",\"105120001.44\",\"25228800\",\"105000000\",\"21000000\",\"120000000\",\"21000000\",\"262800000\",\"19035999\",\"30886000\",\"13370000\",\"74800000000\",\"100000000\",\"19700000\",\"84000000\",\"500000000\",\"5000000000\",\"420000000\",\"64000000\",\"2100000\",\"168000000\",\"30000000\",\"1000000000\",\"35000000000\",\"98100000000\",\"0\",\"4000000000\",\"200000000\",\"7000000000\",\"54256119\",\"21000000\",\"0\",\"500000000\",\"1000000000\",\"10500000000\",\"190000000\",\"1000000000\",\"42000000\",\"15000000\",\"50000000000\",\"400000000\",\"105000000\",\"208000000\",\"160000000\",\"9000000\",\"5000000\",\"182000000\",\"16504333\",\"105000000\",\"159918400\",\"10008835635\",\"300000000\",\"60168145\",\"5000000000\",\"2800000\",\"120000\",\"2100000000\",\"0\",\"24487944\",\"0\",\"1000000000\",\"100000000\",\"8634140\",\"990000000000\",\"1000000000\",\"2000000000\",\"250000000\",\"1400222610\",\"21000000\",\"1000000\"],\"TotalCoinsMined\":{\"__ndarray__\":\"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\",\"dtype\":\"float64\",\"shape\":[533]}},\"selected\":{\"id\":\"3038\",\"type\":\"Selection\"},\"selection_policy\":{\"id\":\"3072\",\"type\":\"UnionRenderers\"}},\"id\":\"3037\",\"type\":\"ColumnDataSource\"},{\"attributes\":{},\"id\":\"3050\",\"type\":\"StringEditor\"},{\"attributes\":{},\"id\":\"3038\",\"type\":\"Selection\"},{\"attributes\":{\"margin\":[5,5,5,5],\"name\":\"HSpacer07009\",\"sizing_mode\":\"stretch_width\"},\"id\":\"3036\",\"type\":\"Spacer\"},{\"attributes\":{\"editor\":{\"id\":\"3050\",\"type\":\"StringEditor\"},\"field\":\"ProofType\",\"formatter\":{\"id\":\"3049\",\"type\":\"StringFormatter\"},\"title\":\"ProofType\"},\"id\":\"3051\",\"type\":\"TableColumn\"},{\"attributes\":{\"editor\":{\"id\":\"3055\",\"type\":\"StringEditor\"},\"field\":\"TotalCoinSupply\",\"formatter\":{\"id\":\"3054\",\"type\":\"StringFormatter\"},\"title\":\"TotalCoinSupply\"},\"id\":\"3056\",\"type\":\"TableColumn\"},{\"attributes\":{},\"id\":\"3054\",\"type\":\"StringFormatter\"},{\"attributes\":{\"format\":\"0,0.0[00000]\"},\"id\":\"3059\",\"type\":\"NumberFormatter\"},{\"attributes\":{},\"id\":\"3039\",\"type\":\"StringFormatter\"},{\"attributes\":{},\"id\":\"3065\",\"type\":\"IntEditor\"},{\"attributes\":{\"margin\":[5,5,5,5],\"name\":\"HSpacer07010\",\"sizing_mode\":\"stretch_width\"},\"id\":\"3073\",\"type\":\"Spacer\"},{\"attributes\":{},\"id\":\"3040\",\"type\":\"StringEditor\"},{\"attributes\":{\"editor\":{\"id\":\"3060\",\"type\":\"NumberEditor\"},\"field\":\"TotalCoinsMined\",\"formatter\":{\"id\":\"3059\",\"type\":\"NumberFormatter\"},\"title\":\"TotalCoinsMined\"},\"id\":\"3061\",\"type\":\"TableColumn\"},{\"attributes\":{},\"id\":\"3072\",\"type\":\"UnionRenderers\"},{\"attributes\":{\"editor\":{\"id\":\"3040\",\"type\":\"StringEditor\"},\"field\":\"CoinName\",\"formatter\":{\"id\":\"3039\",\"type\":\"StringFormatter\"},\"title\":\"CoinName\"},\"id\":\"3041\",\"type\":\"TableColumn\"},{\"attributes\":{},\"id\":\"3055\",\"type\":\"StringEditor\"}],\"root_ids\":[\"3035\"]},\"title\":\"Bokeh Application\",\"version\":\"1.4.0\"}};\n",
       "  var render_items = [{\"docid\":\"a21af402-894a-4cde-be7b-3176c1a4fa10\",\"roots\":{\"3035\":\"b4ec643b-8b9e-4140-bdbd-549b38407893\"}}];\n",
       "  root.Bokeh.embed.embed_items_notebook(docs_json, render_items);\n",
       "  }\n",
       "if (root.Bokeh !== undefined) {\n",
       "    embed_document(root);\n",
       "  } else {\n",
       "    var attempts = 0;\n",
       "    var timer = setInterval(function(root) {\n",
       "      if (root.Bokeh !== undefined) {\n",
       "        clearInterval(timer);\n",
       "        embed_document(root);\n",
       "      } else if (document.readyState == \"complete\") {\n",
       "        attempts++;\n",
       "        if (attempts > 100) {\n",
       "          clearInterval(timer);\n",
       "          console.log(\"Bokeh: ERROR: Unable to run BokehJS code because BokehJS library is missing\");\n",
       "        }\n",
       "      }\n",
       "    }, 10, root)\n",
       "  }\n",
       "})(window);</script>"
      ],
      "text/plain": [
       ":Table   [CoinName,Algorithm,ProofType,TotalCoinSupply,TotalCoinsMined,Class]"
      ]
     },
     "execution_count": 118,
     "metadata": {
      "application/vnd.holoviews_exec.v0+json": {
       "id": "3035"
      }
     },
     "output_type": "execute_result"
    }
   ],
   "source": [
    "#create a table of cryptocurrencies\n",
    "clustered_df.hvplot.table(columns=['CoinName', 'Algorithm', 'ProofType', 'TotalCoinSupply', 'TotalCoinsMined', 'Class'])"
   ]
  },
  {
   "cell_type": "code",
   "execution_count": 121,
   "metadata": {
    "scrolled": true
   },
   "outputs": [
    {
     "data": {
      "text/html": [
       "<div>\n",
       "<style scoped>\n",
       "    .dataframe tbody tr th:only-of-type {\n",
       "        vertical-align: middle;\n",
       "    }\n",
       "\n",
       "    .dataframe tbody tr th {\n",
       "        vertical-align: top;\n",
       "    }\n",
       "\n",
       "    .dataframe thead th {\n",
       "        text-align: right;\n",
       "    }\n",
       "</style>\n",
       "<table border=\"1\" class=\"dataframe\">\n",
       "  <thead>\n",
       "    <tr style=\"text-align: right;\">\n",
       "      <th></th>\n",
       "      <th>TotalCoinSupply</th>\n",
       "      <th>TotalCoinsMined</th>\n",
       "    </tr>\n",
       "  </thead>\n",
       "  <tbody>\n",
       "    <tr>\n",
       "      <th>42</th>\n",
       "      <td>-0.152865</td>\n",
       "      <td>-0.116748</td>\n",
       "    </tr>\n",
       "    <tr>\n",
       "      <th>404</th>\n",
       "      <td>-0.144996</td>\n",
       "      <td>-0.093589</td>\n",
       "    </tr>\n",
       "    <tr>\n",
       "      <th>1337</th>\n",
       "      <td>4.493764</td>\n",
       "      <td>0.525872</td>\n",
       "    </tr>\n",
       "    <tr>\n",
       "      <th>BTC</th>\n",
       "      <td>-0.152554</td>\n",
       "      <td>-0.116354</td>\n",
       "    </tr>\n",
       "    <tr>\n",
       "      <th>ETH</th>\n",
       "      <td>-0.152865</td>\n",
       "      <td>-0.114384</td>\n",
       "    </tr>\n",
       "  </tbody>\n",
       "</table>\n",
       "</div>"
      ],
      "text/plain": [
       "      TotalCoinSupply  TotalCoinsMined\n",
       "42          -0.152865        -0.116748\n",
       "404         -0.144996        -0.093589\n",
       "1337         4.493764         0.525872\n",
       "BTC         -0.152554        -0.116354\n",
       "ETH         -0.152865        -0.114384"
      ]
     },
     "execution_count": 121,
     "metadata": {},
     "output_type": "execute_result"
    }
   ],
   "source": [
    "#scale only TotalCoinsMined and TotalCoinSupply\n",
    "extracted_column_df = clustered_df[['TotalCoinSupply', 'TotalCoinsMined']]\n",
    "scaled_extracted_column = StandardScaler().fit_transform(extracted_column_df)\n",
    "scaled_extracted_column_df = pd.DataFrame(\n",
    "                                    data=scaled_extracted_column,\n",
    "                                    columns=['TotalCoinSupply', 'TotalCoinsMined'],\n",
    "                                    index = clustered_df.index)\n",
    "scaled_extracted_column_df.head()\n"
   ]
  },
  {
   "cell_type": "code",
   "execution_count": 122,
   "metadata": {},
   "outputs": [
    {
     "data": {
      "text/html": [
       "<div>\n",
       "<style scoped>\n",
       "    .dataframe tbody tr th:only-of-type {\n",
       "        vertical-align: middle;\n",
       "    }\n",
       "\n",
       "    .dataframe tbody tr th {\n",
       "        vertical-align: top;\n",
       "    }\n",
       "\n",
       "    .dataframe thead th {\n",
       "        text-align: right;\n",
       "    }\n",
       "</style>\n",
       "<table border=\"1\" class=\"dataframe\">\n",
       "  <thead>\n",
       "    <tr style=\"text-align: right;\">\n",
       "      <th></th>\n",
       "      <th>Algorithm</th>\n",
       "      <th>ProofType</th>\n",
       "      <th>TotalCoinsMined</th>\n",
       "      <th>TotalCoinSupply</th>\n",
       "      <th>PC 1</th>\n",
       "      <th>PC 2</th>\n",
       "      <th>PC 3</th>\n",
       "      <th>CoinName</th>\n",
       "      <th>Class</th>\n",
       "    </tr>\n",
       "  </thead>\n",
       "  <tbody>\n",
       "    <tr>\n",
       "      <th>42</th>\n",
       "      <td>Scrypt</td>\n",
       "      <td>PoW/PoS</td>\n",
       "      <td>-0.116748</td>\n",
       "      <td>-0.152865</td>\n",
       "      <td>-0.341455</td>\n",
       "      <td>1.094847</td>\n",
       "      <td>-0.553961</td>\n",
       "      <td>42 Coin</td>\n",
       "      <td>0</td>\n",
       "    </tr>\n",
       "    <tr>\n",
       "      <th>404</th>\n",
       "      <td>Scrypt</td>\n",
       "      <td>PoW/PoS</td>\n",
       "      <td>-0.093589</td>\n",
       "      <td>-0.144996</td>\n",
       "      <td>-0.324842</td>\n",
       "      <td>1.095431</td>\n",
       "      <td>-0.554604</td>\n",
       "      <td>404Coin</td>\n",
       "      <td>0</td>\n",
       "    </tr>\n",
       "    <tr>\n",
       "      <th>1337</th>\n",
       "      <td>X13</td>\n",
       "      <td>PoW/PoS</td>\n",
       "      <td>0.525872</td>\n",
       "      <td>4.493764</td>\n",
       "      <td>2.281838</td>\n",
       "      <td>1.770139</td>\n",
       "      <td>-0.659218</td>\n",
       "      <td>EliteCoin</td>\n",
       "      <td>0</td>\n",
       "    </tr>\n",
       "    <tr>\n",
       "      <th>BTC</th>\n",
       "      <td>SHA-256</td>\n",
       "      <td>PoW</td>\n",
       "      <td>-0.116354</td>\n",
       "      <td>-0.152554</td>\n",
       "      <td>-0.154407</td>\n",
       "      <td>-1.346324</td>\n",
       "      <td>0.177309</td>\n",
       "      <td>Bitcoin</td>\n",
       "      <td>1</td>\n",
       "    </tr>\n",
       "    <tr>\n",
       "      <th>ETH</th>\n",
       "      <td>Ethash</td>\n",
       "      <td>PoW</td>\n",
       "      <td>-0.114384</td>\n",
       "      <td>-0.152865</td>\n",
       "      <td>-0.154970</td>\n",
       "      <td>-2.044623</td>\n",
       "      <td>0.388269</td>\n",
       "      <td>Ethereum</td>\n",
       "      <td>1</td>\n",
       "    </tr>\n",
       "  </tbody>\n",
       "</table>\n",
       "</div>"
      ],
      "text/plain": [
       "     Algorithm ProofType  TotalCoinsMined  TotalCoinSupply      PC 1  \\\n",
       "42      Scrypt   PoW/PoS        -0.116748        -0.152865 -0.341455   \n",
       "404     Scrypt   PoW/PoS        -0.093589        -0.144996 -0.324842   \n",
       "1337       X13   PoW/PoS         0.525872         4.493764  2.281838   \n",
       "BTC    SHA-256       PoW        -0.116354        -0.152554 -0.154407   \n",
       "ETH     Ethash       PoW        -0.114384        -0.152865 -0.154970   \n",
       "\n",
       "          PC 2      PC 3   CoinName  Class  \n",
       "42    1.094847 -0.553961    42 Coin      0  \n",
       "404   1.095431 -0.554604    404Coin      0  \n",
       "1337  1.770139 -0.659218  EliteCoin      0  \n",
       "BTC  -1.346324  0.177309    Bitcoin      1  \n",
       "ETH  -2.044623  0.388269   Ethereum      1  "
      ]
     },
     "execution_count": 122,
     "metadata": {},
     "output_type": "execute_result"
    }
   ],
   "source": [
    "#merged dataframe with scaled data\n",
    "merged_df = clustered_df.copy();\n",
    "merged_df['TotalCoinSupply'] = scaled_extracted_column_df['TotalCoinSupply']\n",
    "merged_df['TotalCoinsMined'] = scaled_extracted_column_df['TotalCoinsMined']\n",
    "merged_df.head()"
   ]
  },
  {
   "cell_type": "code",
   "execution_count": 119,
   "metadata": {},
   "outputs": [
    {
     "data": {},
     "metadata": {},
     "output_type": "display_data"
    },
    {
     "data": {
      "application/vnd.holoviews_exec.v0+json": "",
      "text/html": [
       "<div id='3085'>\n",
       "\n",
       "\n",
       "\n",
       "\n",
       "\n",
       "  <div class=\"bk-root\" id=\"4b913528-89f1-4a21-be5b-25476a20be16\" data-root-id=\"3085\"></div>\n",
       "</div>\n",
       "<script type=\"application/javascript\">\n",
       "    function msg_handler(msg) {\n",
       "      var metadata = msg.metadata;\n",
       "      var buffers = msg.buffers;\n",
       "      var msg = msg.content.data;\n",
       "      if ((metadata.msg_type == \"Ready\")) {\n",
       "        if (metadata.content) {\n",
       "          console.log(\"Python callback returned following output:\", metadata.content);\n",
       "        }\n",
       "      } else if (metadata.msg_type == \"Error\") {\n",
       "        console.log(\"Python failed with the following traceback:\", metadata.traceback)\n",
       "      } else {\n",
       "        \n",
       "var plot_id = \"3085\";\n",
       "\n",
       "if ((plot_id in window.PyViz.plot_index) && (window.PyViz.plot_index[plot_id] != null)) {\n",
       "  var plot = window.PyViz.plot_index[plot_id];\n",
       "} else if ((Bokeh !== undefined) && (plot_id in Bokeh.index)) {\n",
       "  var plot = Bokeh.index[plot_id];\n",
       "}\n",
       "\n",
       "if (plot == null) {\n",
       "  return\n",
       "}\n",
       "\n",
       "if (plot_id in window.PyViz.receivers) {\n",
       "  var receiver = window.PyViz.receivers[plot_id];\n",
       "} else {\n",
       "  var receiver = new Bokeh.protocol.Receiver();\n",
       "  window.PyViz.receivers[plot_id] = receiver;\n",
       "}\n",
       "\n",
       "if ((buffers != undefined) && (buffers.length > 0)) {\n",
       "  receiver.consume(buffers[0].buffer)\n",
       "} else {\n",
       "  receiver.consume(msg)\n",
       "}\n",
       "\n",
       "const comm_msg = receiver.message;\n",
       "if ((comm_msg != null) && (Object.keys(comm_msg.content).length > 0)) {\n",
       "  plot.model.document.apply_json_patch(comm_msg.content, comm_msg.buffers)\n",
       "}\n",
       "\n",
       "      }\n",
       "    }\n",
       "    if ((window.PyViz == undefined) || (!window.PyViz.comm_manager)) {\n",
       "      console.log(\"Could not find comm manager\")\n",
       "    } else {\n",
       "      window.PyViz.comm_manager.register_target('3085', 'a58a82cd40054495a71651f4a7b073c0', msg_handler);\n",
       "    }\n",
       "    \n",
       "(function(root) {\n",
       "  function embed_document(root) {\n",
       "  var docs_json = {\"6aa0a499-32dc-4da1-a046-11bda2a1dd72\":{\"roots\":{\"references\":[{\"attributes\":{},\"id\":\"3177\",\"type\":\"UnionRenderers\"},{\"attributes\":{\"label\":{\"value\":\"1\"},\"renderers\":[{\"id\":\"3149\",\"type\":\"GlyphRenderer\"}]},\"id\":\"3159\",\"type\":\"LegendItem\"},{\"attributes\":{\"axis_label\":\"TotalCoinSupply\",\"axis_label_text_font_size\":{\"value\":\"10pt\"},\"bounds\":\"auto\",\"formatter\":{\"id\":\"3126\",\"type\":\"CategoricalTickFormatter\"},\"major_label_orientation\":\"horizontal\",\"ticker\":{\"id\":\"3108\",\"type\":\"CategoricalTicker\"}},\"id\":\"3107\",\"type\":\"CategoricalAxis\"},{\"attributes\":{\"source\":{\"id\":\"3160\",\"type\":\"ColumnDataSource\"}},\"id\":\"3167\",\"type\":\"CDSView\"},{\"attributes\":{\"fill_alpha\":{\"value\":0.2},\"fill_color\":{\"value\":\"#ff7e0e\"},\"line_alpha\":{\"value\":0.2},\"line_color\":{\"value\":\"#ff7e0e\"},\"size\":{\"units\":\"screen\",\"value\":5.477225575051661},\"x\":{\"field\":\"TotalCoinsMined\"},\"y\":{\"field\":\"TotalCoinSupply\"}},\"id\":\"3148\",\"type\":\"Scatter\"},{\"attributes\":{\"active_drag\":\"auto\",\"active_inspect\":\"auto\",\"active_multi\":null,\"active_scroll\":\"auto\",\"active_tap\":\"auto\",\"tools\":[{\"id\":\"3089\",\"type\":\"HoverTool\"},{\"id\":\"3111\",\"type\":\"SaveTool\"},{\"id\":\"3112\",\"type\":\"PanTool\"},{\"id\":\"3113\",\"type\":\"WheelZoomTool\"},{\"id\":\"3114\",\"type\":\"BoxZoomTool\"},{\"id\":\"3115\",\"type\":\"ResetTool\"}]},\"id\":\"3116\",\"type\":\"Toolbar\"},{\"attributes\":{\"fill_alpha\":{\"value\":0.2},\"fill_color\":{\"value\":\"#d62628\"},\"line_alpha\":{\"value\":0.2},\"line_color\":{\"value\":\"#d62628\"},\"size\":{\"units\":\"screen\",\"value\":5.477225575051661},\"x\":{\"field\":\"TotalCoinsMined\"},\"y\":{\"field\":\"TotalCoinSupply\"}},\"id\":\"3184\",\"type\":\"Scatter\"},{\"attributes\":{\"source\":{\"id\":\"3179\",\"type\":\"ColumnDataSource\"}},\"id\":\"3186\",\"type\":\"CDSView\"},{\"attributes\":{},\"id\":\"3124\",\"type\":\"BasicTickFormatter\"},{\"attributes\":{\"source\":{\"id\":\"3143\",\"type\":\"ColumnDataSource\"}},\"id\":\"3150\",\"type\":\"CDSView\"},{\"attributes\":{\"dimension\":1,\"grid_line_color\":null,\"ticker\":{\"id\":\"3108\",\"type\":\"CategoricalTicker\"}},\"id\":\"3110\",\"type\":\"Grid\"},{\"attributes\":{\"fill_alpha\":{\"value\":0.1},\"fill_color\":{\"value\":\"#1f77b3\"},\"line_alpha\":{\"value\":0.1},\"line_color\":{\"value\":\"#1f77b3\"},\"size\":{\"units\":\"screen\",\"value\":5.477225575051661},\"x\":{\"field\":\"TotalCoinsMined\"},\"y\":{\"field\":\"TotalCoinSupply\"}},\"id\":\"3131\",\"type\":\"Scatter\"},{\"attributes\":{},\"id\":\"3198\",\"type\":\"UnionRenderers\"},{\"attributes\":{\"data_source\":{\"id\":\"3179\",\"type\":\"ColumnDataSource\"},\"glyph\":{\"id\":\"3182\",\"type\":\"Scatter\"},\"hover_glyph\":null,\"muted_glyph\":{\"id\":\"3184\",\"type\":\"Scatter\"},\"nonselection_glyph\":{\"id\":\"3183\",\"type\":\"Scatter\"},\"selection_glyph\":null,\"view\":{\"id\":\"3186\",\"type\":\"CDSView\"}},\"id\":\"3185\",\"type\":\"GlyphRenderer\"},{\"attributes\":{},\"id\":\"3111\",\"type\":\"SaveTool\"},{\"attributes\":{\"label\":{\"value\":\"3\"},\"renderers\":[{\"id\":\"3185\",\"type\":\"GlyphRenderer\"}]},\"id\":\"3199\",\"type\":\"LegendItem\"},{\"attributes\":{},\"id\":\"3112\",\"type\":\"PanTool\"},{\"attributes\":{\"click_policy\":\"mute\",\"items\":[{\"id\":\"3142\",\"type\":\"LegendItem\"},{\"id\":\"3159\",\"type\":\"LegendItem\"},{\"id\":\"3178\",\"type\":\"LegendItem\"},{\"id\":\"3199\",\"type\":\"LegendItem\"}],\"label_text_font_size\":{\"value\":\"10pt\"},\"location\":[0,0],\"title\":\"Class\",\"title_text_font_size\":{\"value\":\"10pt\"}},\"id\":\"3141\",\"type\":\"Legend\"},{\"attributes\":{\"callback\":null,\"data\":{\"Class\":[2],\"CoinName\":[\"BitTorrent\"],\"TotalCoinSupply\":[\"990000000000\"],\"TotalCoinsMined\":{\"__ndarray__\":\"xfR7nv3PbEI=\",\"dtype\":\"float64\",\"shape\":[1]}},\"selected\":{\"id\":\"3161\",\"type\":\"Selection\"},\"selection_policy\":{\"id\":\"3198\",\"type\":\"UnionRenderers\"}},\"id\":\"3160\",\"type\":\"ColumnDataSource\"},{\"attributes\":{\"fill_alpha\":{\"value\":0.1},\"fill_color\":{\"value\":\"#d62628\"},\"line_alpha\":{\"value\":0.1},\"line_color\":{\"value\":\"#d62628\"},\"size\":{\"units\":\"screen\",\"value\":5.477225575051661},\"x\":{\"field\":\"TotalCoinsMined\"},\"y\":{\"field\":\"TotalCoinSupply\"}},\"id\":\"3183\",\"type\":\"Scatter\"},{\"attributes\":{\"data_source\":{\"id\":\"3160\",\"type\":\"ColumnDataSource\"},\"glyph\":{\"id\":\"3163\",\"type\":\"Scatter\"},\"hover_glyph\":null,\"muted_glyph\":{\"id\":\"3165\",\"type\":\"Scatter\"},\"nonselection_glyph\":{\"id\":\"3164\",\"type\":\"Scatter\"},\"selection_glyph\":null,\"view\":{\"id\":\"3167\",\"type\":\"CDSView\"}},\"id\":\"3166\",\"type\":\"GlyphRenderer\"},{\"attributes\":{\"callback\":null,\"data\":{\"Class\":[0,0,0,0,0,0,0,0,0,0,0,0,0,0,0,0,0,0,0,0,0,0,0,0,0,0,0,0,0,0,0,0,0,0,0,0,0,0,0,0,0,0,0,0,0,0,0,0,0,0,0,0,0,0,0,0,0,0,0,0,0,0,0,0,0,0,0,0,0,0,0,0,0,0,0,0,0,0,0,0,0,0,0,0,0,0,0,0,0,0,0,0,0,0,0,0,0,0,0,0,0,0,0,0,0,0,0,0,0,0,0,0,0,0,0,0,0,0,0,0,0,0,0,0,0,0,0,0,0,0,0,0,0,0,0,0,0,0,0,0,0,0,0,0,0,0,0,0,0,0,0,0,0,0,0,0,0,0,0,0,0,0,0,0,0,0,0,0,0,0,0,0,0,0,0,0,0,0,0,0,0,0,0,0,0,0,0,0,0,0,0,0,0,0,0,0,0,0,0,0,0,0,0,0,0,0,0,0,0,0,0,0,0,0,0,0,0,0,0,0,0,0,0,0,0,0,0,0,0,0,0,0,0,0,0,0,0,0,0,0,0,0,0,0,0,0,0,0,0,0,0,0,0,0,0,0,0,0,0,0,0,0,0,0,0,0,0,0,0,0,0,0,0,0,0,0,0,0,0,0,0,0,0,0,0,0,0],\"CoinName\":[\"42 Coin\",\"404Coin\",\"EliteCoin\",\"Dash\",\"Bitshares\",\"BitcoinDark\",\"PayCoin\",\"KoboCoin\",\"Aurora Coin\",\"BlueCoin\",\"EnergyCoin\",\"BitBar\",\"CryptoBullion\",\"CasinoCoin\",\"Diamond\",\"Exclusive Coin\",\"FlutterCoin\",\"HoboNickels\",\"HyperStake\",\"IOCoin\",\"MaxCoin\",\"MintCoin\",\"MazaCoin\",\"Nautilus Coin\",\"NavCoin\",\"OpalCoin\",\"Orbitcoin\",\"PotCoin\",\"PhoenixCoin\",\"Reddcoin\",\"SuperCoin\",\"SyncCoin\",\"TeslaCoin\",\"TittieCoin\",\"TorCoin\",\"UnitaryStatus Dollar\",\"UltraCoin\",\"VeriCoin\",\"X11 Coin\",\"Crypti\",\"StealthCoin\",\"ZCC Coin\",\"StorjCoin\",\"Neutron\",\"FairCoin\",\"RubyCoin\",\"Kore\",\"Dnotes\",\"8BIT Coin\",\"Sativa Coin\",\"Ucoin\",\"Vtorrent\",\"IslaCoin\",\"Nexus\",\"Droidz\",\"Squall Coin\",\"Diggits\",\"Paycon\",\"Emercoin\",\"EverGreenCoin\",\"Decred\",\"EDRCoin\",\"Hitcoin\",\"DubaiCoin\",\"PWR Coin\",\"BillaryCoin\",\"GPU Coin\",\"EuropeCoin\",\"ZeitCoin\",\"SwingCoin\",\"SafeExchangeCoin\",\"Nebuchadnezzar\",\"Ratecoin\",\"Revenu\",\"Clockcoin\",\"VIP Tokens\",\"BitSend\",\"Let it Ride\",\"PutinCoin\",\"iBankCoin\",\"Frankywillcoin\",\"MudraCoin\",\"Lutetium Coin\",\"GoldBlocks\",\"CarterCoin\",\"BitTokens\",\"MustangCoin\",\"ZoneCoin\",\"RootCoin\",\"BitCurrency\",\"Swiscoin\",\"BuzzCoin\",\"Opair\",\"PesoBit\",\"Halloween Coin\",\"CoffeeCoin\",\"RoyalCoin\",\"GanjaCoin V2\",\"TeamUP\",\"LanaCoin\",\"ARK\",\"InsaneCoin\",\"EmberCoin\",\"XenixCoin\",\"FreeCoin\",\"PLNCoin\",\"AquariusCoin\",\"Creatio\",\"Eternity\",\"Eurocoin\",\"BitcoinFast\",\"Stakenet\",\"BitConnect Coin\",\"MoneyCoin\",\"Enigma\",\"Russiacoin\",\"PandaCoin\",\"GameUnits\",\"GAKHcoin\",\"Allsafe\",\"LiteCreed\",\"Klingon Empire Darsek\",\"Internet of People\",\"KushCoin\",\"Printerium\",\"Impeach\",\"Zilbercoin\",\"FirstCoin\",\"FindCoin\",\"OpenChat\",\"RenosCoin\",\"VirtacoinPlus\",\"TajCoin\",\"Impact\",\"Atmos\",\"HappyCoin\",\"MacronCoin\",\"Condensate\",\"Independent Money System\",\"ArgusCoin\",\"LomoCoin\",\"ProCurrency\",\"GoldReserve\",\"GrowthCoin\",\"Phreak\",\"Degas Coin\",\"HTML5 Coin\",\"Ultimate Secure Cash\",\"QTUM\",\"Espers\",\"Denarius\",\"Virta Unique Coin\",\"Bitcoin Planet\",\"BritCoin\",\"Linda\",\"DeepOnion\",\"Signatum\",\"Cream\",\"Monoeci\",\"Draftcoin\",\"Stakecoin\",\"CoinonatX\",\"Ethereum Dark\",\"Obsidian\",\"Cardano\",\"Regalcoin\",\"TrezarCoin\",\"TerraNovaCoin\",\"Rupee\",\"WomenCoin\",\"Theresa May Coin\",\"NamoCoin\",\"LUXCoin\",\"Xios\",\"Bitcloud 2.0\",\"KekCoin\",\"BlackholeCoin\",\"Infinity Economics\",\"Magnet\",\"Lamden Tau\",\"Electra\",\"Bitcoin Diamond\",\"Cash & Back Coin\",\"Bulwark\",\"Kalkulus\",\"GermanCoin\",\"LiteCoin Ultra\",\"PhantomX\",\"Digiwage\",\"Trollcoin\",\"Litecoin Plus\",\"Monkey Project\",\"TokenPay\",\"My Big Coin\",\"Unified Society USDEX\",\"Tokyo Coin\",\"BiblePay\",\"Stipend\",\"Poa Network\",\"Pushi\",\"Ellerium\",\"Velox\",\"Ontology\",\"Bitspace\",\"Briacoin\",\"Ignition\",\"MedicCoin\",\"Bitcoin Green\",\"Deviant Coin\",\"Abjcoin\",\"Semux\",\"Carebit\",\"Zealium\",\"Proton\",\"iDealCash\",\"Bitcoin Incognito\",\"HollyWoodCoin\",\"Swisscoin\",\"Xt3ch\",\"TheVig\",\"EmaratCoin\",\"Dekado\",\"Lynx\",\"Poseidon Quark\",\"BitcoinWSpectrum\",\"Muse\",\"Trivechain\",\"Dystem\",\"Giant\",\"Peony Coin\",\"Absolute Coin\",\"Vitae\",\"TPCash\",\"ARENON\",\"EUNO\",\"MMOCoin\",\"Ketan\",\"XDNA\",\"PAXEX\",\"ThunderStake\",\"Kcash\",\"Acute Angle Cloud\",\"Bettex coin\",\"Junson Ming Chan Coin\",\"HerbCoin\",\"Oduwa\",\"Galilel\",\"Crypto Sports\",\"Credit\",\"Dash Platinum\",\"Nasdacoin\",\"Beetle Coin\",\"Titan Coin\",\"Award\",\"Insane Coin\",\"ALAX\",\"LiteDoge\",\"TruckCoin\",\"OrangeCoin\",\"BitstarCoin\",\"NeosCoin\",\"HyperCoin\",\"PinkCoin\",\"AudioCoin\",\"IncaKoin\",\"Piggy Coin\",\"Genstake\",\"XiaoMiCoin\",\"CapriCoin\",\" ClubCoin\",\"Radium\",\"Creditbit \",\"OKCash\",\"Lisk\",\"HiCoin\",\"WhiteCoin\",\"FriendshipCoin\",\"Triangles Coin\",\"EOS\",\"Oxycoin\",\"TigerCash\",\"Waves\",\"Particl\",\"Nxt\",\"ZEPHYR\",\"Gapcoin\",\"BitcoinPlus\"],\"TotalCoinSupply\":[\"42\",\"532000000\",\"314159265359\",\"22000000\",\"3600570502\",\"22000000\",\"12500000\",\"350000000\",\"16768584\",\"0\",\"0\",\"500000\",\"1000000\",\"40000000000\",\"4380000\",\"0\",\"0\",\"120000000\",\"0\",\"22000000\",\"100000000\",\"0\",\"2419200000\",\"16180000\",\"0\",\"0\",\"3770000\",\"420000000\",\"98000000\",\"0\",\"0\",\"1000\",\"100000000\",\"2300000000\",\"10000000\",\"1600000000\",\"100000000\",\"0\",\"5500000\",\"0\",\"0\",\"1000000000\",\"500000000\",\"68000000\",\"0\",\"0\",\"12000000\",\"500000000\",\"0\",\"10000000\",\"20000000\",\"20000000\",\"0\",\"78000000\",\"5060000\",\"0\",\"100000000\",\"50000000\",\"1000000000\",\"26298000\",\"21000000\",\"22000000\",\"26550000000\",\"10500000\",\"0\",\"42000000\",\"221052632\",\"384000000\",\" 99000000000\",\"40000000\",\"2147483647\",\"20000000\",\"75000000\",\"222725000\",\"525000000\",\"90000000\",\"139000000\",\"33500000\",\"2000000000\",\"44333333\",\"100000000\",\"200000000\",\"657000000\",\"50000000\",\"90000000\",\"21000000\",\"3000000\",\"21000000\",\"0\",\"0\",\"3100000000\",\"20000000000\",\"74000000\",\"0\",\"1500000000\",\"39999898\",\"2500124\",\"100000000\",\"301000000\",\"7506000000\",\"125000000\",\"30000000\",\"850000000\",\"3853326.77707314\",\"50000000\",\"38540000 \",\"42000000\",\"20000000\",\"60000000\",\"20000000\",\"33000000\",\"76500000\",\"28000000\",\"650659833\",\"5000000\",\"144000000\",\"32514916898\",\"13000000\",\"3315789\",\"15000000\",\"78835200\",\"500000000\",\"21000000\",\"9354000\",\"20000000\",\"21933333\",\"55000000\",\"110000000\",\"14524851.4827\",\"1000000000\",\"34426423\",\"100000000\",\"36900000\",\"110000000\",\"110290030\",\"100000000\",\"400000000\",\"500000000\",\"21212121\",\"28600000\",\"1000000000\",\"75000000000\",\"40000000\",\"2000000000\",\"30000000\",\"105000000\",\"90000000000\",\"200084200\",\"100000000\",\"50000000000\",\"10000000\",\"120000000\",\"100000000\",\"30000000\",\"50000000000\",\"18898187.6216583\",\"137500000\",\"100000000\",\"9507271\",\"17405891.19707116\",\"61599965\",\"48252000\",\"4200000\",\"91388946\",\"45000000000\",\"27000000\",\"400000000\",\"15733333\",\"24000000\",\"25000000000\",\"100000000\",\"1200000000\",\"60000000\",\"21000000\",\"200000000\",\"21000000\",\"14788275.991\",\"9000000000\",\"144000000\",\"500000000\",\"30000000000\",\"210000000\",\"210000000\",\"27716121\",\"20000000\",\"50000000000\",\"150000000\",\"50000000\",\"120000000\",\"900000000\",\"4000000\",\"21000000\",\"25000000\",\"30000000\",\"232000000\",\"800000000\",\"5200000000\",\"19340594\",\"252460800\",\"25000000\",\"60000000\",\"124000000\",\"1000000000\",\"50000000\",\"3000000\",\"5000000\",\"500000000\",\"21000000\",\"88000000\",\"30000000\",\"100000000\",\"200000000\",\"80000000\",\"45000000\",\"5121951220\",\"21000000\",\"26000000\",\"10200000000\",\"44000000\",\"100000000\",\"84000000\",\"90000000\",\"92000000000\",\"650000000 \",\"100262205\",\"18081806 \",\"82546564\",\"21000000\",\"5151000\",\"16880000000\",\"52500000\",\"100000000\",\"1000000000\",\"55000000\",\"50000000\",\"260000000\",\"210000000\",\"366000000\",\"100000000\",\"18000000000\",\"1000000000\",\"1000000000\",\"50000000\",\"0\",\"54000000\",\"21000000\",\"19035999\",\"13370000\",\"74800000000\",\"19700000\",\"84000000\",\"500000000\",\"5000000000\",\"420000000\",\"30000000\",\"1000000000\",\"35000000000\",\"0\",\"200000000\",\"54256119\",\"21000000\",\"0\",\"500000000\",\"10500000000\",\"190000000\",\"1000000000\",\"15000000\",\"400000000\",\"208000000\",\"160000000\",\"9000000\",\"16504333\",\"105000000\",\"159918400\",\"10008835635\",\"300000000\",\"60168145\",\"120000\",\"0\",\"0\",\"1000000000\",\"100000000\",\"8634140\",\"1000000000\",\"2000000000\",\"250000000\",\"1000000\"],\"TotalCoinsMined\":{\"__ndarray__\":\"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\",\"dtype\":\"float64\",\"shape\":[287]}},\"selected\":{\"id\":\"3128\",\"type\":\"Selection\"},\"selection_policy\":{\"id\":\"3158\",\"type\":\"UnionRenderers\"}},\"id\":\"3127\",\"type\":\"ColumnDataSource\"},{\"attributes\":{},\"id\":\"3144\",\"type\":\"Selection\"},{\"attributes\":{\"data_source\":{\"id\":\"3143\",\"type\":\"ColumnDataSource\"},\"glyph\":{\"id\":\"3146\",\"type\":\"Scatter\"},\"hover_glyph\":null,\"muted_glyph\":{\"id\":\"3148\",\"type\":\"Scatter\"},\"nonselection_glyph\":{\"id\":\"3147\",\"type\":\"Scatter\"},\"selection_glyph\":null,\"view\":{\"id\":\"3150\",\"type\":\"CDSView\"}},\"id\":\"3149\",\"type\":\"GlyphRenderer\"},{\"attributes\":{\"label\":{\"value\":\"0\"},\"renderers\":[{\"id\":\"3133\",\"type\":\"GlyphRenderer\"}]},\"id\":\"3142\",\"type\":\"LegendItem\"},{\"attributes\":{},\"id\":\"3113\",\"type\":\"WheelZoomTool\"},{\"attributes\":{\"fill_alpha\":{\"value\":0.1},\"fill_color\":{\"value\":\"#ff7e0e\"},\"line_alpha\":{\"value\":0.1},\"line_color\":{\"value\":\"#ff7e0e\"},\"size\":{\"units\":\"screen\",\"value\":5.477225575051661},\"x\":{\"field\":\"TotalCoinsMined\"},\"y\":{\"field\":\"TotalCoinSupply\"}},\"id\":\"3147\",\"type\":\"Scatter\"},{\"attributes\":{\"fill_color\":{\"value\":\"#2ba02b\"},\"line_color\":{\"value\":\"#2ba02b\"},\"size\":{\"units\":\"screen\",\"value\":5.477225575051661},\"x\":{\"field\":\"TotalCoinsMined\"},\"y\":{\"field\":\"TotalCoinSupply\"}},\"id\":\"3163\",\"type\":\"Scatter\"},{\"attributes\":{},\"id\":\"3180\",\"type\":\"Selection\"},{\"attributes\":{\"fill_color\":{\"value\":\"#ff7e0e\"},\"line_color\":{\"value\":\"#ff7e0e\"},\"size\":{\"units\":\"screen\",\"value\":5.477225575051661},\"x\":{\"field\":\"TotalCoinsMined\"},\"y\":{\"field\":\"TotalCoinSupply\"}},\"id\":\"3146\",\"type\":\"Scatter\"},{\"attributes\":{},\"id\":\"3115\",\"type\":\"ResetTool\"},{\"attributes\":{},\"id\":\"3126\",\"type\":\"CategoricalTickFormatter\"},{\"attributes\":{\"align\":null,\"below\":[{\"id\":\"3102\",\"type\":\"LinearAxis\"}],\"center\":[{\"id\":\"3106\",\"type\":\"Grid\"},{\"id\":\"3110\",\"type\":\"Grid\"}],\"left\":[{\"id\":\"3107\",\"type\":\"CategoricalAxis\"}],\"margin\":null,\"min_border_bottom\":10,\"min_border_left\":10,\"min_border_right\":10,\"min_border_top\":10,\"plot_height\":300,\"plot_width\":700,\"renderers\":[{\"id\":\"3133\",\"type\":\"GlyphRenderer\"},{\"id\":\"3149\",\"type\":\"GlyphRenderer\"},{\"id\":\"3166\",\"type\":\"GlyphRenderer\"},{\"id\":\"3185\",\"type\":\"GlyphRenderer\"}],\"right\":[{\"id\":\"3141\",\"type\":\"Legend\"}],\"sizing_mode\":\"fixed\",\"title\":{\"id\":\"3094\",\"type\":\"Title\"},\"toolbar\":{\"id\":\"3116\",\"type\":\"Toolbar\"},\"x_range\":{\"id\":\"3087\",\"type\":\"Range1d\"},\"x_scale\":{\"id\":\"3098\",\"type\":\"LinearScale\"},\"y_range\":{\"id\":\"3088\",\"type\":\"FactorRange\"},\"y_scale\":{\"id\":\"3100\",\"type\":\"CategoricalScale\"}},\"id\":\"3093\",\"subtype\":\"Figure\",\"type\":\"Plot\"},{\"attributes\":{\"overlay\":{\"id\":\"3140\",\"type\":\"BoxAnnotation\"}},\"id\":\"3114\",\"type\":\"BoxZoomTool\"},{\"attributes\":{\"callback\":null,\"data\":{\"Class\":[1,1,1,1,1,1,1,1,1,1,1,1,1,1,1,1,1,1,1,1,1,1,1,1,1,1,1,1,1,1,1,1,1,1,1,1,1,1,1,1,1,1,1,1,1,1,1,1,1,1,1,1,1,1,1,1,1,1,1,1,1,1,1,1,1,1,1,1,1,1,1,1,1,1,1,1,1,1,1,1,1,1,1,1,1,1,1,1,1,1,1,1,1,1,1,1,1,1,1,1,1,1,1,1,1,1,1,1,1,1,1,1,1,1,1,1,1,1,1,1,1,1,1,1,1,1,1,1,1,1,1,1,1,1,1,1,1,1,1,1,1,1,1,1,1,1,1,1,1,1,1,1,1,1,1,1,1,1,1,1,1,1,1,1,1,1,1,1,1,1,1,1,1,1,1,1,1,1,1,1,1,1,1,1,1,1,1,1,1,1,1,1,1,1,1,1,1,1,1,1,1,1,1,1,1,1,1,1,1,1,1,1,1,1,1,1,1,1,1,1,1,1,1,1,1,1,1,1,1,1,1,1,1,1,1,1,1,1,1,1,1,1],\"CoinName\":[\"Bitcoin\",\"Ethereum\",\"Litecoin\",\"Monero\",\"Ethereum Classic\",\"ZCash\",\"DigiByte\",\"ProsperCoin\",\"Spreadcoin\",\"Argentum\",\"MyriadCoin\",\"MoonCoin\",\"ZetaCoin\",\"SexCoin\",\"Quatloo\",\"QuarkCoin\",\"Riecoin\",\"Digitalcoin \",\"Catcoin\",\"CannaCoin\",\"CryptCoin\",\"Verge\",\"DevCoin\",\"EarthCoin\",\"E-Gulden\",\"Einsteinium\",\"Emerald\",\"Franko\",\"FeatherCoin\",\"GrandCoin\",\"GlobalCoin\",\"GoldCoin\",\"Infinite Coin\",\"IXcoin\",\"KrugerCoin\",\"LuckyCoin\",\"Litebar \",\"MegaCoin\",\"MediterraneanCoin\",\"MinCoin\",\"NobleCoin\",\"Namecoin\",\"NyanCoin\",\"RonPaulCoin\",\"StableCoin\",\"SmartCoin\",\"SysCoin\",\"TigerCoin\",\"TerraCoin\",\"UnbreakableCoin\",\"Unobtanium\",\"UroCoin\",\"ViaCoin\",\"Vertcoin\",\"WorldCoin\",\"JouleCoin\",\"ByteCoin\",\"DigitalNote \",\"BurstCoin\",\"MonaCoin\",\"Gulden\",\"PesetaCoin\",\"Wild Beast Coin\",\"Flo\",\"ArtByte\",\"Folding Coin\",\"Unitus\",\"CypherPunkCoin\",\"OmniCron\",\"GreenCoin\",\"Cryptonite\",\"MasterCoin\",\"SoonCoin\",\"1Credit\",\"MarsCoin \",\"Crypto\",\"Anarchists Prime\",\"BowsCoin\",\"Song Coin\",\"BitZeny\",\"Expanse\",\"Siacoin\",\"MindCoin\",\"I0coin\",\"Revolution VR\",\"HOdlcoin\",\"Gamecredits\",\"CarpeDiemCoin\",\"Adzcoin\",\"SoilCoin\",\"YoCoin\",\"SibCoin\",\"Francs\",\"BolivarCoin\",\"Omni\",\"PizzaCoin\",\"Komodo\",\"Karbo\",\"ZayedCoin\",\"Circuits of Value\",\"DopeCoin\",\"DollarCoin\",\"Shilling\",\"ZCoin\",\"Elementrem\",\"ZClassic\",\"KiloCoin\",\"ArtexCoin\",\"Kurrent\",\"Cannabis Industry Coin\",\"OsmiumCoin\",\"Bikercoins\",\"HexxCoin\",\"PacCoin\",\"Citadel\",\"BeaverCoin\",\"VaultCoin\",\"Zero\",\"Canada eCoin\",\"Zoin\",\"DubaiCoin\",\"EB3coin\",\"Coinonat\",\"BenjiRolls\",\"ILCoin\",\"EquiTrader\",\"Quantum Resistant Ledger\",\"Dynamic\",\"Nano\",\"ChanCoin\",\"Dinastycoin\",\"DigitalPrice\",\"Unify\",\"SocialCoin\",\"ArcticCoin\",\"DAS\",\"LeviarCoin\",\"Bitcore\",\"gCn Coin\",\"SmartCash\",\"Onix\",\"Bitcoin Cash\",\"Sojourn Coin\",\"NewYorkCoin\",\"FrazCoin\",\"Kronecoin\",\"AdCoin\",\"Linx\",\"Sumokoin\",\"BitcoinZ\",\"Elements\",\"VIVO Coin\",\"Bitcoin Gold\",\"Pirl\",\"eBoost\",\"Pura\",\"Innova\",\"Ellaism\",\"GoByte\",\"SHIELD\",\"UltraNote\",\"BitCoal\",\"DaxxCoin\",\"AC3\",\"Lethean\",\"PopularCoin\",\"Photon\",\"Sucre\",\"SparksPay\",\"GunCoin\",\"IrishCoin\",\"Pioneer Coin\",\"UnitedBitcoin\",\"Interzone\",\"1717 Masonic Commemorative Token\",\"TurtleCoin\",\"MUNcoin\",\"Niobio Cash\",\"ShareChain\",\"Travelflex\",\"KREDS\",\"BitFlip\",\"LottoCoin\",\"Crypto Improvement Fund\",\"Callisto Network\",\"BitTube\",\"Poseidon\",\"Aidos Kuneen\",\"Bitrolium\",\"Alpenschillling\",\"FuturoCoin\",\"Monero Classic\",\"Jumpcoin\",\"Infinex\",\"KEYCO\",\"GINcoin\",\"PlatinCoin\",\"Loki\",\"Newton Coin\",\"MassGrid\",\"PluraCoin\",\"Motion\",\"PlusOneCoin\",\"Axe\",\"HexCoin\",\"Webchain\",\"Ryo\",\"Urals Coin\",\"Qwertycoin\",\"Project Pai\",\"Azart\",\"Xchange\",\"CrypticCoin\",\"Actinium\",\"Bitcoin SV\",\"BitMoney\",\"FREDEnergy\",\"Universal Molecule\",\"Lithium\",\"PirateCash\",\"Exosis\",\"Block-Logic\",\"Beam\",\"Bithereum\",\"SLICE\",\"BLAST\",\"Bitcoin Rhodium\",\"GlobalToken\",\"SolarCoin\",\"UFO Coin\",\"BlakeCoin\",\"Crypto Escudo\",\"Crown Coin\",\"SmileyCoin\",\"Groestlcoin\",\"Bata\",\"Pakcoin\",\"JoinCoin\",\"Vollar\",\"Reality Clash\",\"Beldex\",\"Horizen\"],\"TotalCoinSupply\":[\"21000000\",\"0\",\"84000000\",\"0\",\"210000000\",\"21000000\",\"21000000000\",\"21000000\",\"20000000\",\"64000000\",\"2000000000\",\"384000000000\",\"169795588\",\"250000000\",\"100000000\",\"247000000\",\"84000000\",\"48166000\",\"21000000 \",\"13140000\",\"18000000\",\"16555000000\",\"21000000000\",\"13500000000\",\"21000000 \",\"299792458\",\"32000000\",\"11235813\",\"336000000\",\"1420609614\",\"70000000\",\"72245700\",\"90600000000\",\"21000000\",\"265420800\",\"20000000\",\"1350000\",\"42000000\",\"200000000\",\"10000000\",\"15000000000\",\"21000000\",\"337000000\",\"21000000\",\"250000000\",\"51200000\",\"888000000\",\"47011968\",\"42000000\",\"80000000\",\"250000\",\"0\",\"23000000\",\"84000000\",\"265420800\",\"45000000\",\"184467440735\",\"10000000000\",\"2158812800\",\"105120000\",\"1680000000\",\"166386000\",\"2628000\",\"160000000\",\"1000000000\",\"1000000000\",\"0\",\"0\",\"3371337\",\"10000000000\",\"1840000000\",\"619478\",\"21000000\",\"92000000000\",\"33000000\",\"65789100\",\"53760000\",\"21000000\",\"210240000\",\"250000000\",\"16906397\",\"0\",\"16000000\",\"21000000\",\"210000000\",\"81962100\",\"84000000\",\"21626280000 \",\"84000000\",\"30000000\",\"168351300\",\"24000000\",\"20000000\",\"25000000\",\"616448\",\"25000000\",\"200000000\",\"10000000\",\"9736000\",\"1200000000\",\"200000000\",\"10638298\",\"30000000\",\"21400000\",\"26205539\",\"21000000\",\"10000000000\",\"500000000\",\"228000000\",\"21000000\",\"2714286\",\"25000000\",\"9999999\",\"100000000000\",\"185000000\",\"3360000\",\"1000000000\",\"17000000\",\"100000000 \",\"21000000\",\"2232901\",\"4000000000\",\"48252000\",\"35520400\",\"2500000000\",\"72000000\",\"105000000\",\"0\",\"340282367\",\"30000000\",\"2000000000\",\"100000000\",\"19276800\",\" 75000000\",\"60000000\",\"18900000\",\"54000000\",\"21000000\",\"200000000000\",\"5000000000\",\"1100000000\",\"21000000\",\"10500000000\",\"0\",\"20000000\",\"84000000\",\"100000000\",\"100000000\",\"88888888\",\"21000000000\",\"1800000000\",\"27000000\",\"21000000\",\"156306732.71\",\"100000000\",\"350000000\",\"45000000\",\"280000000\",\"31800000\",\"660000000\",\"85000000000\",\"12500000\",\"10000000000\",\"550000000\",\"999481516\",\"4999999999\",\" 90000000000\",\"19800000\",\"21000000\",\"500000000\",\"64000000\",\"23000000\",\"20166000\",\"23000000\",\"1618033\",\"1000000000000\",\"16600000\",\"336000000\",\"10000000000\",\"100000000\",\"1100000000\",\"40000000\",\"18406979840\",\"500000000\",\"6500000000\",\"1000000000\",\"21000000\",\"25000000\",\"70000000\",\"300000000\",\"100000000\",\"18400000\",\"21000000\",\"26280000\",\"18000000\",\"10500000\",\"600000518\",\"150000000\",\"184000000000\",\"168000000\",\"1000000000\",\"22075700\",\"21000000\",\"21000000\",\"22105263\",\"1750000000\",\"88188888\",\"210000000\",\"184470000000\",\"2100000000\",\"25000000\",\"100000000\",\"7600000000\",\"84000000\",\"21000000\",\"70000000000\",\"8080000000\",\"105120001.44\",\"25228800\",\"105000000\",\"21000000\",\"120000000\",\"262800000\",\"30886000\",\"100000000\",\"64000000\",\"2100000\",\"168000000\",\"98100000000\",\"4000000000\",\"7000000000\",\"1000000000\",\"42000000\",\"50000000000\",\"105000000\",\"5000000\",\"182000000\",\"2800000\",\"2100000000\",\"24487944\",\"1400222610\",\"21000000\"],\"TotalCoinsMined\":{\"__ndarray__\":\"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\",\"dtype\":\"float64\",\"shape\":[242]}},\"selected\":{\"id\":\"3144\",\"type\":\"Selection\"},\"selection_policy\":{\"id\":\"3177\",\"type\":\"UnionRenderers\"}},\"id\":\"3143\",\"type\":\"ColumnDataSource\"},{\"attributes\":{\"callback\":null,\"data\":{\"Class\":[3,3,3],\"CoinName\":[\"Vechain\",\"LitecoinCash\",\"Fiii\"],\"TotalCoinSupply\":[\"86712634466\",\"840000000\",\"5000000000\"],\"TotalCoinsMined\":{\"__ndarray__\":\"AACgM7jSKUKWsBp+eAbDQdJ7v7zSC/bB\",\"dtype\":\"float64\",\"shape\":[3]}},\"selected\":{\"id\":\"3180\",\"type\":\"Selection\"},\"selection_policy\":{\"id\":\"3213\",\"type\":\"UnionRenderers\"}},\"id\":\"3179\",\"type\":\"ColumnDataSource\"},{\"attributes\":{\"fill_color\":{\"value\":\"#1f77b3\"},\"line_color\":{\"value\":\"#1f77b3\"},\"size\":{\"units\":\"screen\",\"value\":5.477225575051661},\"x\":{\"field\":\"TotalCoinsMined\"},\"y\":{\"field\":\"TotalCoinSupply\"}},\"id\":\"3130\",\"type\":\"Scatter\"},{\"attributes\":{\"margin\":[5,5,5,5],\"name\":\"HSpacer07242\",\"sizing_mode\":\"stretch_width\"},\"id\":\"3312\",\"type\":\"Spacer\"},{\"attributes\":{\"data_source\":{\"id\":\"3127\",\"type\":\"ColumnDataSource\"},\"glyph\":{\"id\":\"3130\",\"type\":\"Scatter\"},\"hover_glyph\":null,\"muted_glyph\":{\"id\":\"3132\",\"type\":\"Scatter\"},\"nonselection_glyph\":{\"id\":\"3131\",\"type\":\"Scatter\"},\"selection_glyph\":null,\"view\":{\"id\":\"3134\",\"type\":\"CDSView\"}},\"id\":\"3133\",\"type\":\"GlyphRenderer\"},{\"attributes\":{},\"id\":\"3100\",\"type\":\"CategoricalScale\"},{\"attributes\":{},\"id\":\"3213\",\"type\":\"UnionRenderers\"},{\"attributes\":{},\"id\":\"3098\",\"type\":\"LinearScale\"},{\"attributes\":{},\"id\":\"3128\",\"type\":\"Selection\"},{\"attributes\":{\"text\":\"\",\"text_color\":{\"value\":\"black\"},\"text_font_size\":{\"value\":\"12pt\"}},\"id\":\"3094\",\"type\":\"Title\"},{\"attributes\":{\"margin\":[5,5,5,5],\"name\":\"HSpacer07241\",\"sizing_mode\":\"stretch_width\"},\"id\":\"3086\",\"type\":\"Spacer\"},{\"attributes\":{\"fill_color\":{\"value\":\"#d62628\"},\"line_color\":{\"value\":\"#d62628\"},\"size\":{\"units\":\"screen\",\"value\":5.477225575051661},\"x\":{\"field\":\"TotalCoinsMined\"},\"y\":{\"field\":\"TotalCoinSupply\"}},\"id\":\"3182\",\"type\":\"Scatter\"},{\"attributes\":{\"fill_alpha\":{\"value\":0.2},\"fill_color\":{\"value\":\"#2ba02b\"},\"line_alpha\":{\"value\":0.2},\"line_color\":{\"value\":\"#2ba02b\"},\"size\":{\"units\":\"screen\",\"value\":5.477225575051661},\"x\":{\"field\":\"TotalCoinsMined\"},\"y\":{\"field\":\"TotalCoinSupply\"}},\"id\":\"3165\",\"type\":\"Scatter\"},{\"attributes\":{\"bottom_units\":\"screen\",\"fill_alpha\":{\"value\":0.5},\"fill_color\":{\"value\":\"lightgrey\"},\"left_units\":\"screen\",\"level\":\"overlay\",\"line_alpha\":{\"value\":1.0},\"line_color\":{\"value\":\"black\"},\"line_dash\":[4,4],\"line_width\":{\"value\":2},\"render_mode\":\"css\",\"right_units\":\"screen\",\"top_units\":\"screen\"},\"id\":\"3140\",\"type\":\"BoxAnnotation\"},{\"attributes\":{\"source\":{\"id\":\"3127\",\"type\":\"ColumnDataSource\"}},\"id\":\"3134\",\"type\":\"CDSView\"},{\"attributes\":{\"axis_label\":\"TotalCoinsMined\",\"axis_label_text_font_size\":{\"value\":\"10pt\"},\"bounds\":\"auto\",\"formatter\":{\"id\":\"3124\",\"type\":\"BasicTickFormatter\"},\"major_label_orientation\":\"horizontal\",\"ticker\":{\"id\":\"3103\",\"type\":\"BasicTicker\"}},\"id\":\"3102\",\"type\":\"LinearAxis\"},{\"attributes\":{\"children\":[{\"id\":\"3086\",\"type\":\"Spacer\"},{\"id\":\"3093\",\"subtype\":\"Figure\",\"type\":\"Plot\"},{\"id\":\"3312\",\"type\":\"Spacer\"}],\"margin\":[0,0,0,0],\"name\":\"Row07237\",\"tags\":[\"embedded\"]},\"id\":\"3085\",\"type\":\"Row\"},{\"attributes\":{},\"id\":\"3108\",\"type\":\"CategoricalTicker\"},{\"attributes\":{\"callback\":null,\"renderers\":[{\"id\":\"3133\",\"type\":\"GlyphRenderer\"},{\"id\":\"3149\",\"type\":\"GlyphRenderer\"},{\"id\":\"3166\",\"type\":\"GlyphRenderer\"},{\"id\":\"3185\",\"type\":\"GlyphRenderer\"}],\"tags\":[\"hv_created\"],\"tooltips\":[[\"Class\",\"@{Class}\"],[\"TotalCoinsMined\",\"@{TotalCoinsMined}\"],[\"TotalCoinSupply\",\"@{TotalCoinSupply}\"],[\"CoinName\",\"@{CoinName}\"]]},\"id\":\"3089\",\"type\":\"HoverTool\"},{\"attributes\":{},\"id\":\"3158\",\"type\":\"UnionRenderers\"},{\"attributes\":{\"grid_line_color\":null,\"ticker\":{\"id\":\"3103\",\"type\":\"BasicTicker\"}},\"id\":\"3106\",\"type\":\"Grid\"},{\"attributes\":{\"fill_alpha\":{\"value\":0.1},\"fill_color\":{\"value\":\"#2ba02b\"},\"line_alpha\":{\"value\":0.1},\"line_color\":{\"value\":\"#2ba02b\"},\"size\":{\"units\":\"screen\",\"value\":5.477225575051661},\"x\":{\"field\":\"TotalCoinsMined\"},\"y\":{\"field\":\"TotalCoinSupply\"}},\"id\":\"3164\",\"type\":\"Scatter\"},{\"attributes\":{\"callback\":null,\"factors\":[\"42\",\"532000000\",\"314159265359\",\"22000000\",\"3600570502\",\"12500000\",\"350000000\",\"16768584\",\"0\",\"500000\",\"1000000\",\"40000000000\",\"4380000\",\"120000000\",\"100000000\",\"2419200000\",\"16180000\",\"3770000\",\"420000000\",\"98000000\",\"1000\",\"2300000000\",\"10000000\",\"1600000000\",\"5500000\",\"1000000000\",\"500000000\",\"68000000\",\"12000000\",\"20000000\",\"78000000\",\"5060000\",\"50000000\",\"26298000\",\"21000000\",\"26550000000\",\"10500000\",\"42000000\",\"221052632\",\"384000000\",\" 99000000000\",\"40000000\",\"2147483647\",\"75000000\",\"222725000\",\"525000000\",\"90000000\",\"139000000\",\"33500000\",\"2000000000\",\"44333333\",\"200000000\",\"657000000\",\"3000000\",\"3100000000\",\"20000000000\",\"74000000\",\"1500000000\",\"39999898\",\"2500124\",\"301000000\",\"7506000000\",\"125000000\",\"30000000\",\"850000000\",\"3853326.77707314\",\"38540000 \",\"60000000\",\"33000000\",\"76500000\",\"28000000\",\"650659833\",\"5000000\",\"144000000\",\"32514916898\",\"13000000\",\"3315789\",\"15000000\",\"78835200\",\"9354000\",\"21933333\",\"55000000\",\"110000000\",\"14524851.4827\",\"34426423\",\"36900000\",\"110290030\",\"400000000\",\"21212121\",\"28600000\",\"75000000000\",\"105000000\",\"90000000000\",\"200084200\",\"50000000000\",\"18898187.6216583\",\"137500000\",\"9507271\",\"17405891.19707116\",\"61599965\",\"48252000\",\"4200000\",\"91388946\",\"45000000000\",\"27000000\",\"15733333\",\"24000000\",\"25000000000\",\"1200000000\",\"14788275.991\",\"9000000000\",\"30000000000\",\"210000000\",\"27716121\",\"150000000\",\"900000000\",\"4000000\",\"25000000\",\"232000000\",\"800000000\",\"5200000000\",\"19340594\",\"252460800\",\"124000000\",\"88000000\",\"80000000\",\"45000000\",\"5121951220\",\"26000000\",\"10200000000\",\"44000000\",\"84000000\",\"92000000000\",\"650000000 \",\"100262205\",\"18081806 \",\"82546564\",\"5151000\",\"16880000000\",\"52500000\",\"260000000\",\"366000000\",\"18000000000\",\"54000000\",\"19035999\",\"13370000\",\"74800000000\",\"19700000\",\"5000000000\",\"35000000000\",\"54256119\",\"10500000000\",\"190000000\",\"208000000\",\"160000000\",\"9000000\",\"16504333\",\"159918400\",\"10008835635\",\"300000000\",\"60168145\",\"120000\",\"8634140\",\"250000000\",\"21000000000\",\"64000000\",\"384000000000\",\"169795588\",\"247000000\",\"48166000\",\"21000000 \",\"13140000\",\"18000000\",\"16555000000\",\"13500000000\",\"299792458\",\"32000000\",\"11235813\",\"336000000\",\"1420609614\",\"70000000\",\"72245700\",\"90600000000\",\"265420800\",\"1350000\",\"15000000000\",\"337000000\",\"51200000\",\"888000000\",\"47011968\",\"250000\",\"23000000\",\"184467440735\",\"10000000000\",\"2158812800\",\"105120000\",\"1680000000\",\"166386000\",\"2628000\",\"3371337\",\"1840000000\",\"619478\",\"65789100\",\"53760000\",\"210240000\",\"16906397\",\"16000000\",\"81962100\",\"21626280000 \",\"168351300\",\"616448\",\"9736000\",\"10638298\",\"21400000\",\"26205539\",\"228000000\",\"2714286\",\"9999999\",\"100000000000\",\"185000000\",\"3360000\",\"17000000\",\"100000000 \",\"2232901\",\"4000000000\",\"35520400\",\"2500000000\",\"72000000\",\"340282367\",\"19276800\",\" 75000000\",\"18900000\",\"200000000000\",\"1100000000\",\"88888888\",\"1800000000\",\"156306732.71\",\"280000000\",\"31800000\",\"660000000\",\"85000000000\",\"550000000\",\"999481516\",\"4999999999\",\" 90000000000\",\"19800000\",\"20166000\",\"1618033\",\"1000000000000\",\"16600000\",\"18406979840\",\"6500000000\",\"18400000\",\"26280000\",\"600000518\",\"184000000000\",\"168000000\",\"22075700\",\"22105263\",\"1750000000\",\"88188888\",\"184470000000\",\"2100000000\",\"7600000000\",\"70000000000\",\"8080000000\",\"105120001.44\",\"25228800\",\"262800000\",\"30886000\",\"2100000\",\"98100000000\",\"7000000000\",\"182000000\",\"2800000\",\"24487944\",\"1400222610\",\"990000000000\",\"86712634466\",\"840000000\"],\"tags\":[[[\"TotalCoinSupply\",\"TotalCoinSupply\",null]]]},\"id\":\"3088\",\"type\":\"FactorRange\"},{\"attributes\":{},\"id\":\"3161\",\"type\":\"Selection\"},{\"attributes\":{\"callback\":null,\"end\":1032670428767.6898,\"reset_end\":1032670428767.6898,\"reset_start\":-48599692876.008446,\"start\":-48599692876.008446,\"tags\":[[[\"TotalCoinsMined\",\"TotalCoinsMined\",null]]]},\"id\":\"3087\",\"type\":\"Range1d\"},{\"attributes\":{\"fill_alpha\":{\"value\":0.2},\"fill_color\":{\"value\":\"#1f77b3\"},\"line_alpha\":{\"value\":0.2},\"line_color\":{\"value\":\"#1f77b3\"},\"size\":{\"units\":\"screen\",\"value\":5.477225575051661},\"x\":{\"field\":\"TotalCoinsMined\"},\"y\":{\"field\":\"TotalCoinSupply\"}},\"id\":\"3132\",\"type\":\"Scatter\"},{\"attributes\":{},\"id\":\"3103\",\"type\":\"BasicTicker\"},{\"attributes\":{\"label\":{\"value\":\"2\"},\"renderers\":[{\"id\":\"3166\",\"type\":\"GlyphRenderer\"}]},\"id\":\"3178\",\"type\":\"LegendItem\"}],\"root_ids\":[\"3085\"]},\"title\":\"Bokeh Application\",\"version\":\"1.4.0\"}};\n",
       "  var render_items = [{\"docid\":\"6aa0a499-32dc-4da1-a046-11bda2a1dd72\",\"roots\":{\"3085\":\"4b913528-89f1-4a21-be5b-25476a20be16\"}}];\n",
       "  root.Bokeh.embed.embed_items_notebook(docs_json, render_items);\n",
       "  }\n",
       "if (root.Bokeh !== undefined) {\n",
       "    embed_document(root);\n",
       "  } else {\n",
       "    var attempts = 0;\n",
       "    var timer = setInterval(function(root) {\n",
       "      if (root.Bokeh !== undefined) {\n",
       "        clearInterval(timer);\n",
       "        embed_document(root);\n",
       "      } else if (document.readyState == \"complete\") {\n",
       "        attempts++;\n",
       "        if (attempts > 100) {\n",
       "          clearInterval(timer);\n",
       "          console.log(\"Bokeh: ERROR: Unable to run BokehJS code because BokehJS library is missing\");\n",
       "        }\n",
       "      }\n",
       "    }, 10, root)\n",
       "  }\n",
       "})(window);</script>"
      ],
      "text/plain": [
       ":NdOverlay   [Class]\n",
       "   :Scatter   [TotalCoinsMined]   (TotalCoinSupply,CoinName)"
      ]
     },
     "execution_count": 119,
     "metadata": {
      "application/vnd.holoviews_exec.v0+json": {
       "id": "3085"
      }
     },
     "output_type": "execute_result"
    }
   ],
   "source": [
    "clustered_df.hvplot.scatter(\n",
    "    x=\"TotalCoinsMined\",\n",
    "    y=\"TotalCoinSupply\",\n",
    "    hover_cols=[\"CoinName\"],\n",
    "    by=\"Class\"\n",
    "    )"
   ]
  },
  {
   "cell_type": "code",
   "execution_count": 124,
   "metadata": {},
   "outputs": [
    {
     "data": {},
     "metadata": {},
     "output_type": "display_data"
    },
    {
     "data": {
      "application/vnd.holoviews_exec.v0+json": "",
      "text/html": [
       "<div id='3684'>\n",
       "\n",
       "\n",
       "\n",
       "\n",
       "\n",
       "  <div class=\"bk-root\" id=\"84581a77-ac57-4132-b9a8-d03115915a25\" data-root-id=\"3684\"></div>\n",
       "</div>\n",
       "<script type=\"application/javascript\">\n",
       "    function msg_handler(msg) {\n",
       "      var metadata = msg.metadata;\n",
       "      var buffers = msg.buffers;\n",
       "      var msg = msg.content.data;\n",
       "      if ((metadata.msg_type == \"Ready\")) {\n",
       "        if (metadata.content) {\n",
       "          console.log(\"Python callback returned following output:\", metadata.content);\n",
       "        }\n",
       "      } else if (metadata.msg_type == \"Error\") {\n",
       "        console.log(\"Python failed with the following traceback:\", metadata.traceback)\n",
       "      } else {\n",
       "        \n",
       "var plot_id = \"3684\";\n",
       "\n",
       "if ((plot_id in window.PyViz.plot_index) && (window.PyViz.plot_index[plot_id] != null)) {\n",
       "  var plot = window.PyViz.plot_index[plot_id];\n",
       "} else if ((Bokeh !== undefined) && (plot_id in Bokeh.index)) {\n",
       "  var plot = Bokeh.index[plot_id];\n",
       "}\n",
       "\n",
       "if (plot == null) {\n",
       "  return\n",
       "}\n",
       "\n",
       "if (plot_id in window.PyViz.receivers) {\n",
       "  var receiver = window.PyViz.receivers[plot_id];\n",
       "} else {\n",
       "  var receiver = new Bokeh.protocol.Receiver();\n",
       "  window.PyViz.receivers[plot_id] = receiver;\n",
       "}\n",
       "\n",
       "if ((buffers != undefined) && (buffers.length > 0)) {\n",
       "  receiver.consume(buffers[0].buffer)\n",
       "} else {\n",
       "  receiver.consume(msg)\n",
       "}\n",
       "\n",
       "const comm_msg = receiver.message;\n",
       "if ((comm_msg != null) && (Object.keys(comm_msg.content).length > 0)) {\n",
       "  plot.model.document.apply_json_patch(comm_msg.content, comm_msg.buffers)\n",
       "}\n",
       "\n",
       "      }\n",
       "    }\n",
       "    if ((window.PyViz == undefined) || (!window.PyViz.comm_manager)) {\n",
       "      console.log(\"Could not find comm manager\")\n",
       "    } else {\n",
       "      window.PyViz.comm_manager.register_target('3684', '3737395ec6ad4536a7c28e250d0f029c', msg_handler);\n",
       "    }\n",
       "    \n",
       "(function(root) {\n",
       "  function embed_document(root) {\n",
       "  var docs_json = {\"3fc9fe16-ebf9-4bd4-8e2b-7a93606dc6e6\":{\"roots\":{\"references\":[{\"attributes\":{\"margin\":[5,5,5,5],\"name\":\"HSpacer08924\",\"sizing_mode\":\"stretch_width\"},\"id\":\"3912\",\"type\":\"Spacer\"},{\"attributes\":{\"axis_label\":\"TotalCoinSupply\",\"axis_label_text_font_size\":{\"value\":\"10pt\"},\"bounds\":\"auto\",\"formatter\":{\"id\":\"3726\",\"type\":\"BasicTickFormatter\"},\"major_label_orientation\":\"horizontal\",\"ticker\":{\"id\":\"3707\",\"type\":\"BasicTicker\"}},\"id\":\"3706\",\"type\":\"LinearAxis\"},{\"attributes\":{\"callback\":null,\"end\":22.54813966188014,\"reset_end\":22.54813966188014,\"reset_start\":-1.183406270009727,\"start\":-1.183406270009727,\"tags\":[[[\"TotalCoinsMined\",\"TotalCoinsMined\",null]]]},\"id\":\"3686\",\"type\":\"Range1d\"},{\"attributes\":{\"data_source\":{\"id\":\"3779\",\"type\":\"ColumnDataSource\"},\"glyph\":{\"id\":\"3782\",\"type\":\"Scatter\"},\"hover_glyph\":null,\"muted_glyph\":{\"id\":\"3784\",\"type\":\"Scatter\"},\"nonselection_glyph\":{\"id\":\"3783\",\"type\":\"Scatter\"},\"selection_glyph\":null,\"view\":{\"id\":\"3786\",\"type\":\"CDSView\"}},\"id\":\"3785\",\"type\":\"GlyphRenderer\"},{\"attributes\":{\"axis_label\":\"TotalCoinsMined\",\"axis_label_text_font_size\":{\"value\":\"10pt\"},\"bounds\":\"auto\",\"formatter\":{\"id\":\"3724\",\"type\":\"BasicTickFormatter\"},\"major_label_orientation\":\"horizontal\",\"ticker\":{\"id\":\"3702\",\"type\":\"BasicTicker\"}},\"id\":\"3701\",\"type\":\"LinearAxis\"},{\"attributes\":{\"fill_color\":{\"value\":\"#1f77b3\"},\"line_color\":{\"value\":\"#1f77b3\"},\"size\":{\"units\":\"screen\",\"value\":5.477225575051661},\"x\":{\"field\":\"TotalCoinsMined\"},\"y\":{\"field\":\"TotalCoinSupply\"}},\"id\":\"3730\",\"type\":\"Scatter\"},{\"attributes\":{\"source\":{\"id\":\"3779\",\"type\":\"ColumnDataSource\"}},\"id\":\"3786\",\"type\":\"CDSView\"},{\"attributes\":{},\"id\":\"3707\",\"type\":\"BasicTicker\"},{\"attributes\":{\"label\":{\"value\":\"3\"},\"renderers\":[{\"id\":\"3785\",\"type\":\"GlyphRenderer\"}]},\"id\":\"3799\",\"type\":\"LegendItem\"},{\"attributes\":{},\"id\":\"3702\",\"type\":\"BasicTicker\"},{\"attributes\":{},\"id\":\"3798\",\"type\":\"UnionRenderers\"},{\"attributes\":{},\"id\":\"3699\",\"type\":\"LinearScale\"},{\"attributes\":{\"grid_line_color\":null,\"ticker\":{\"id\":\"3702\",\"type\":\"BasicTicker\"}},\"id\":\"3705\",\"type\":\"Grid\"},{\"attributes\":{\"callback\":null,\"data\":{\"Class\":[2],\"CoinName\":[\"BitTorrent\"],\"TotalCoinSupply\":{\"__ndarray__\":\"4e9Z7NT6LEA=\",\"dtype\":\"float64\",\"shape\":[1]},\"TotalCoinsMined\":{\"__ndarray__\":\"UpbenoKcNUA=\",\"dtype\":\"float64\",\"shape\":[1]}},\"selected\":{\"id\":\"3761\",\"type\":\"Selection\"},\"selection_policy\":{\"id\":\"3798\",\"type\":\"UnionRenderers\"}},\"id\":\"3760\",\"type\":\"ColumnDataSource\"},{\"attributes\":{\"dimension\":1,\"grid_line_color\":null,\"ticker\":{\"id\":\"3707\",\"type\":\"BasicTicker\"}},\"id\":\"3710\",\"type\":\"Grid\"},{\"attributes\":{\"margin\":[5,5,5,5],\"name\":\"HSpacer08923\",\"sizing_mode\":\"stretch_width\"},\"id\":\"3685\",\"type\":\"Spacer\"},{\"attributes\":{\"callback\":null,\"end\":16.11688021506038,\"reset_end\":16.11688021506038,\"reset_start\":-1.6319323987755279,\"start\":-1.6319323987755279,\"tags\":[[[\"TotalCoinSupply\",\"TotalCoinSupply\",null]]]},\"id\":\"3687\",\"type\":\"Range1d\"},{\"attributes\":{\"fill_alpha\":{\"value\":0.1},\"fill_color\":{\"value\":\"#d62628\"},\"line_alpha\":{\"value\":0.1},\"line_color\":{\"value\":\"#d62628\"},\"size\":{\"units\":\"screen\",\"value\":5.477225575051661},\"x\":{\"field\":\"TotalCoinsMined\"},\"y\":{\"field\":\"TotalCoinSupply\"}},\"id\":\"3783\",\"type\":\"Scatter\"},{\"attributes\":{\"callback\":null,\"data\":{\"Class\":[1,1,1,1,1,1,1,1,1,1,1,1,1,1,1,1,1,1,1,1,1,1,1,1,1,1,1,1,1,1,1,1,1,1,1,1,1,1,1,1,1,1,1,1,1,1,1,1,1,1,1,1,1,1,1,1,1,1,1,1,1,1,1,1,1,1,1,1,1,1,1,1,1,1,1,1,1,1,1,1,1,1,1,1,1,1,1,1,1,1,1,1,1,1,1,1,1,1,1,1,1,1,1,1,1,1,1,1,1,1,1,1,1,1,1,1,1,1,1,1,1,1,1,1,1,1,1,1,1,1,1,1,1,1,1,1,1,1,1,1,1,1,1,1,1,1,1,1,1,1,1,1,1,1,1,1,1,1,1,1,1,1,1,1,1,1,1,1,1,1,1,1,1,1,1,1,1,1,1,1,1,1,1,1,1,1,1,1,1,1,1,1,1,1,1,1,1,1,1,1,1,1,1,1,1,1,1,1,1,1,1,1,1,1,1,1,1,1,1,1,1,1,1,1,1,1,1,1,1,1,1,1,1,1,1,1,1,1,1,1,1,1],\"CoinName\":[\"Bitcoin\",\"Ethereum\",\"Litecoin\",\"Monero\",\"Ethereum Classic\",\"ZCash\",\"DigiByte\",\"ProsperCoin\",\"Spreadcoin\",\"Argentum\",\"MyriadCoin\",\"MoonCoin\",\"ZetaCoin\",\"SexCoin\",\"Quatloo\",\"QuarkCoin\",\"Riecoin\",\"Digitalcoin \",\"Catcoin\",\"CannaCoin\",\"CryptCoin\",\"Verge\",\"DevCoin\",\"EarthCoin\",\"E-Gulden\",\"Einsteinium\",\"Emerald\",\"Franko\",\"FeatherCoin\",\"GrandCoin\",\"GlobalCoin\",\"GoldCoin\",\"Infinite Coin\",\"IXcoin\",\"KrugerCoin\",\"LuckyCoin\",\"Litebar \",\"MegaCoin\",\"MediterraneanCoin\",\"MinCoin\",\"NobleCoin\",\"Namecoin\",\"NyanCoin\",\"RonPaulCoin\",\"StableCoin\",\"SmartCoin\",\"SysCoin\",\"TigerCoin\",\"TerraCoin\",\"UnbreakableCoin\",\"Unobtanium\",\"UroCoin\",\"ViaCoin\",\"Vertcoin\",\"WorldCoin\",\"JouleCoin\",\"ByteCoin\",\"DigitalNote \",\"BurstCoin\",\"MonaCoin\",\"Gulden\",\"PesetaCoin\",\"Wild Beast Coin\",\"Flo\",\"ArtByte\",\"Folding Coin\",\"Unitus\",\"CypherPunkCoin\",\"OmniCron\",\"GreenCoin\",\"Cryptonite\",\"MasterCoin\",\"SoonCoin\",\"1Credit\",\"MarsCoin \",\"Crypto\",\"Anarchists Prime\",\"BowsCoin\",\"Song Coin\",\"BitZeny\",\"Expanse\",\"Siacoin\",\"MindCoin\",\"I0coin\",\"Revolution VR\",\"HOdlcoin\",\"Gamecredits\",\"CarpeDiemCoin\",\"Adzcoin\",\"SoilCoin\",\"YoCoin\",\"SibCoin\",\"Francs\",\"BolivarCoin\",\"Omni\",\"PizzaCoin\",\"Komodo\",\"Karbo\",\"ZayedCoin\",\"Circuits of Value\",\"DopeCoin\",\"DollarCoin\",\"Shilling\",\"ZCoin\",\"Elementrem\",\"ZClassic\",\"KiloCoin\",\"ArtexCoin\",\"Kurrent\",\"Cannabis Industry Coin\",\"OsmiumCoin\",\"Bikercoins\",\"HexxCoin\",\"PacCoin\",\"Citadel\",\"BeaverCoin\",\"VaultCoin\",\"Zero\",\"Canada eCoin\",\"Zoin\",\"DubaiCoin\",\"EB3coin\",\"Coinonat\",\"BenjiRolls\",\"ILCoin\",\"EquiTrader\",\"Quantum Resistant Ledger\",\"Dynamic\",\"Nano\",\"ChanCoin\",\"Dinastycoin\",\"DigitalPrice\",\"Unify\",\"SocialCoin\",\"ArcticCoin\",\"DAS\",\"LeviarCoin\",\"Bitcore\",\"gCn Coin\",\"SmartCash\",\"Onix\",\"Bitcoin Cash\",\"Sojourn Coin\",\"NewYorkCoin\",\"FrazCoin\",\"Kronecoin\",\"AdCoin\",\"Linx\",\"Sumokoin\",\"BitcoinZ\",\"Elements\",\"VIVO Coin\",\"Bitcoin Gold\",\"Pirl\",\"eBoost\",\"Pura\",\"Innova\",\"Ellaism\",\"GoByte\",\"SHIELD\",\"UltraNote\",\"BitCoal\",\"DaxxCoin\",\"AC3\",\"Lethean\",\"PopularCoin\",\"Photon\",\"Sucre\",\"SparksPay\",\"GunCoin\",\"IrishCoin\",\"Pioneer Coin\",\"UnitedBitcoin\",\"Interzone\",\"1717 Masonic Commemorative Token\",\"TurtleCoin\",\"MUNcoin\",\"Niobio Cash\",\"ShareChain\",\"Travelflex\",\"KREDS\",\"BitFlip\",\"LottoCoin\",\"Crypto Improvement Fund\",\"Callisto Network\",\"BitTube\",\"Poseidon\",\"Aidos Kuneen\",\"Bitrolium\",\"Alpenschillling\",\"FuturoCoin\",\"Monero Classic\",\"Jumpcoin\",\"Infinex\",\"KEYCO\",\"GINcoin\",\"PlatinCoin\",\"Loki\",\"Newton Coin\",\"MassGrid\",\"PluraCoin\",\"Motion\",\"PlusOneCoin\",\"Axe\",\"HexCoin\",\"Webchain\",\"Ryo\",\"Urals Coin\",\"Qwertycoin\",\"Project Pai\",\"Azart\",\"Xchange\",\"CrypticCoin\",\"Actinium\",\"Bitcoin SV\",\"BitMoney\",\"FREDEnergy\",\"Universal Molecule\",\"Lithium\",\"PirateCash\",\"Exosis\",\"Block-Logic\",\"Beam\",\"Bithereum\",\"SLICE\",\"BLAST\",\"Bitcoin Rhodium\",\"GlobalToken\",\"SolarCoin\",\"UFO Coin\",\"BlakeCoin\",\"Crypto Escudo\",\"Crown Coin\",\"SmileyCoin\",\"Groestlcoin\",\"Bata\",\"Pakcoin\",\"JoinCoin\",\"Vollar\",\"Reality Clash\",\"Beldex\",\"Horizen\"],\"TotalCoinSupply\":{\"__ndarray__\":\"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\",\"dtype\":\"float64\",\"shape\":[242]},\"TotalCoinsMined\":{\"__ndarray__\":\"TgPrPWfJvb/yNhuSTEi9vy3b4eiDiL2/5qyAlXLKvb9iinS5IkC9v9u2DtaR2L2/R8Ng0JsZwT8pEIps5Nq9v9M9L9sm072/tfFF/aHRvb/qV+8+2Wa0v5SMgmsw472/npYKKl/uvL+epfpWuSm9v43fVSOb2L2/7g4WW9ltvL+dZFZ965u9vyicrPMVs72/N0mv5M3Yvb9FIFxfbNy9vyOelHEA3L2/7g1zCrfOzT8QtECmKObSP0y/ovtMSMQ/ziH/txzFvb8yS6miXqi8v2bcF0Ylx72/aH3bq4vhvb8nuaCMC7e8v2AdhGN867i/vwZ2M7qEvb8Rr1jARKe9v3Ktud018v0/vynA2trEvb9MmBbXWQm9v9LGOQtkx72/KTmBzpnhvb/feHL7T6y9vykwInwIqb2/W/HlNNfavb9w/G/K5pewv7STKin+zb2/05NulsABvL+/Px3gmeG9v22OTdlbwL2/nrppO2C+vb/5neuX5ri6v0Ab2iuRpL2/5nSkGDPCvb/pymSV6d+9v9BczXjm4r2//cFo5HPhvb891ta+48G9v+n+NROVmb2/mjDqVyY3vb9nbhSnz6q9v8g2AbGNYg9AHbGqayHWoT+29WBqXrOzvwRlw44Zgb2/vskXrzeOu7/thMgxYx29v0/GI3ft4r2/nyxbySoIvb/505B2OW+5v9bvMBNm2Lm/LeQwMYiFvb+ngYiaCNq9v31O1qWa1L2/e7LZil7ej7+1KYeRF+i5v3FIjFhM4r2/SYGja0PRvb96MGL4D+O9v6rsirTXtL2/1yz6DGzPvb9B+Bkv+s29v0X4+AJfzL2/s6cyI1m0vb+ow/xmbXa9v1TsptcX1L2/fYXKC5GC4z/ZIliXXcy9v4wDGq/8xL2/lR9UeiG1vL9lcZqtuNK9v2DOYyW9fr2/IexODMEQ1z9vSTLDTaK9v8OGvtL82r2/N3R+F0bivb9d7xWtW8q9v8684uy82b2/d4ocsozPvb+N9it2TeK9v5hkGBI14b2/uoXeA3w8vb9KOB4M8Ne9v0cHlFI12r2/5myhw9BEuL/zM4VFHzu9v5QbASUX1r2/BNp6GTLTvb9lIsahTdi9v9ylv/N+vb2/dhYIaR3bvb8PR7bj1si8vwgVICL4Qbm/xi9/eeyKvb+YXrVGyOG9v61ONUDn4b2/+t1u87rVvb9we12cfeC9v7Iavu7O3rq/ms8YSmnTvb+B3C9Xtd69v72g2cZ7t72/2ZtFvDvZvb9aV4u+k1O9vx1DE3eDyL2/HXvNPvrfvb847YfE/oa9v4/Zrtmg1L2/anv2TwbGvb88Kpqbxnu2vz0oiZSFz72/69xwweN/vb/MXaRuu8a9v2hE40WHI72/ECKqdrbIvb9cDo7Jf7izv+hJC3OlsL2/OmdjYRvJvb8ANiGOwdu9vx2pcgm7vb2//HvDpGrfvb8CTrS90c69v8h7SGKVyb2/YI1o5xeyC0C6+VXMx0uxvwvEZQUGM72/whLLDE7Jvb+VuvrIfeK9vxwmUdfuLAhA2Py4MTvVvb8mwoGRFcq9v4fDEyc7tL2/zSmTOrGyvb/sXzIVUta9vz6msOXiYGO/GjZP8PFmrb/yc8VxMt29v39csSJyyr2/rDcopE2yvb/oUebDXVO9vx6ukdIp57y//uRT7gTavb/pCIBB19C9vxlj29vM2r2/ctiv2Ecuu787fGC80ZzTP+XTHXK33L2/pKGOwvP1ur8wvlUfqm+9v6Al/amBaLu/FsZal750nr9xaf4roGXhP59bLzgb3b2/gvDv2ObXvb8EFJG+9zO8v8PQJITEob2/WF0Pnf7Wvb+A6nzaLsa9v30Be3sM0r2/wkJ/p9zgvb/5KI0a/MrwPw29zjlC3L2/G1hZWIsivb/GKPFtjEy6Pz8lQL/QSL2/yR0hjCtFur9OjeaASdG9vzcEYCknxMk/urEXqEOzvL8qo4KuB3+8vyK223sMcL2/bYoutFXdvb9QcDPcOr+9v5Fj6qyNfL2/xMcxCN27vb+9VqpmcrW9v2ib46kmzL2/hplQOOLEvb/L77xc29u9vyShyIwL4r2/2NX95CPZvb8KWD5pEeO9v3H6n6Gjx72/rhxSgDhE6T/eEESxxB+9vwCUiomTvbq/ORH+UIDXvb+MGk8Cwda9v62UcuYB3L2/QuivzSbhvb/emTN0x8y9vwiIG4In3L2/HMLJkfrNvb923pwou4sAQBLSCbWaFrK/8y5sfPnbvb/54aTjKNW9v1cASUwQXpi/52wRx5PPvb9ZsKguT8m9v4EexPhDt7y/hkvynqpls78kSrNK6+C9v4DGcFBlzL2/PYGlTM7Pvb+KVXHrmuK9vwOcnshvsL2/vAROdtuvvb/Lai1WA7+9v+6lwd6Y0L2/Yhp7n/iXvb/+pd+FgeG9v8jGlOd7ab2/C2szE0STvb9KKIepucugv3/Ez+2Xwb2/GM8OZPSAub+izNweIMK9v83+oaa0CuE/XJhAUcJ5vb85aUn769u9vxJaNPz0fr2/2ED8MGXevb+qSGMVWlO9vxk4SWn3v72/egXwRUNhuL+LMsWxsdi9vw==\",\"dtype\":\"float64\",\"shape\":[242]}},\"selected\":{\"id\":\"3744\",\"type\":\"Selection\"},\"selection_policy\":{\"id\":\"3777\",\"type\":\"UnionRenderers\"}},\"id\":\"3743\",\"type\":\"ColumnDataSource\"},{\"attributes\":{},\"id\":\"3780\",\"type\":\"Selection\"},{\"attributes\":{\"children\":[{\"id\":\"3685\",\"type\":\"Spacer\"},{\"id\":\"3692\",\"subtype\":\"Figure\",\"type\":\"Plot\"},{\"id\":\"3912\",\"type\":\"Spacer\"}],\"margin\":[0,0,0,0],\"name\":\"Row08919\",\"tags\":[\"embedded\"]},\"id\":\"3684\",\"type\":\"Row\"},{\"attributes\":{\"fill_alpha\":{\"value\":0.2},\"fill_color\":{\"value\":\"#1f77b3\"},\"line_alpha\":{\"value\":0.2},\"line_color\":{\"value\":\"#1f77b3\"},\"size\":{\"units\":\"screen\",\"value\":5.477225575051661},\"x\":{\"field\":\"TotalCoinsMined\"},\"y\":{\"field\":\"TotalCoinSupply\"}},\"id\":\"3732\",\"type\":\"Scatter\"},{\"attributes\":{\"label\":{\"value\":\"2\"},\"renderers\":[{\"id\":\"3766\",\"type\":\"GlyphRenderer\"}]},\"id\":\"3778\",\"type\":\"LegendItem\"},{\"attributes\":{\"fill_alpha\":{\"value\":0.2},\"fill_color\":{\"value\":\"#d62628\"},\"line_alpha\":{\"value\":0.2},\"line_color\":{\"value\":\"#d62628\"},\"size\":{\"units\":\"screen\",\"value\":5.477225575051661},\"x\":{\"field\":\"TotalCoinsMined\"},\"y\":{\"field\":\"TotalCoinSupply\"}},\"id\":\"3784\",\"type\":\"Scatter\"},{\"attributes\":{\"callback\":null,\"renderers\":[{\"id\":\"3733\",\"type\":\"GlyphRenderer\"},{\"id\":\"3749\",\"type\":\"GlyphRenderer\"},{\"id\":\"3766\",\"type\":\"GlyphRenderer\"},{\"id\":\"3785\",\"type\":\"GlyphRenderer\"}],\"tags\":[\"hv_created\"],\"tooltips\":[[\"Class\",\"@{Class}\"],[\"TotalCoinsMined\",\"@{TotalCoinsMined}\"],[\"TotalCoinSupply\",\"@{TotalCoinSupply}\"],[\"CoinName\",\"@{CoinName}\"]]},\"id\":\"3688\",\"type\":\"HoverTool\"},{\"attributes\":{},\"id\":\"3777\",\"type\":\"UnionRenderers\"},{\"attributes\":{\"source\":{\"id\":\"3760\",\"type\":\"ColumnDataSource\"}},\"id\":\"3767\",\"type\":\"CDSView\"},{\"attributes\":{},\"id\":\"3726\",\"type\":\"BasicTickFormatter\"},{\"attributes\":{},\"id\":\"3711\",\"type\":\"SaveTool\"},{\"attributes\":{\"source\":{\"id\":\"3743\",\"type\":\"ColumnDataSource\"}},\"id\":\"3750\",\"type\":\"CDSView\"},{\"attributes\":{},\"id\":\"3712\",\"type\":\"PanTool\"},{\"attributes\":{},\"id\":\"3697\",\"type\":\"LinearScale\"},{\"attributes\":{\"fill_alpha\":{\"value\":0.2},\"fill_color\":{\"value\":\"#ff7e0e\"},\"line_alpha\":{\"value\":0.2},\"line_color\":{\"value\":\"#ff7e0e\"},\"size\":{\"units\":\"screen\",\"value\":5.477225575051661},\"x\":{\"field\":\"TotalCoinsMined\"},\"y\":{\"field\":\"TotalCoinSupply\"}},\"id\":\"3748\",\"type\":\"Scatter\"},{\"attributes\":{},\"id\":\"3728\",\"type\":\"Selection\"},{\"attributes\":{\"callback\":null,\"data\":{\"Class\":[0,0,0,0,0,0,0,0,0,0,0,0,0,0,0,0,0,0,0,0,0,0,0,0,0,0,0,0,0,0,0,0,0,0,0,0,0,0,0,0,0,0,0,0,0,0,0,0,0,0,0,0,0,0,0,0,0,0,0,0,0,0,0,0,0,0,0,0,0,0,0,0,0,0,0,0,0,0,0,0,0,0,0,0,0,0,0,0,0,0,0,0,0,0,0,0,0,0,0,0,0,0,0,0,0,0,0,0,0,0,0,0,0,0,0,0,0,0,0,0,0,0,0,0,0,0,0,0,0,0,0,0,0,0,0,0,0,0,0,0,0,0,0,0,0,0,0,0,0,0,0,0,0,0,0,0,0,0,0,0,0,0,0,0,0,0,0,0,0,0,0,0,0,0,0,0,0,0,0,0,0,0,0,0,0,0,0,0,0,0,0,0,0,0,0,0,0,0,0,0,0,0,0,0,0,0,0,0,0,0,0,0,0,0,0,0,0,0,0,0,0,0,0,0,0,0,0,0,0,0,0,0,0,0,0,0,0,0,0,0,0,0,0,0,0,0,0,0,0,0,0,0,0,0,0,0,0,0,0,0,0,0,0,0,0,0,0,0,0,0,0,0,0,0,0,0,0,0,0,0,0,0,0,0,0,0,0],\"CoinName\":[\"42 Coin\",\"404Coin\",\"EliteCoin\",\"Dash\",\"Bitshares\",\"BitcoinDark\",\"PayCoin\",\"KoboCoin\",\"Aurora Coin\",\"BlueCoin\",\"EnergyCoin\",\"BitBar\",\"CryptoBullion\",\"CasinoCoin\",\"Diamond\",\"Exclusive Coin\",\"FlutterCoin\",\"HoboNickels\",\"HyperStake\",\"IOCoin\",\"MaxCoin\",\"MintCoin\",\"MazaCoin\",\"Nautilus Coin\",\"NavCoin\",\"OpalCoin\",\"Orbitcoin\",\"PotCoin\",\"PhoenixCoin\",\"Reddcoin\",\"SuperCoin\",\"SyncCoin\",\"TeslaCoin\",\"TittieCoin\",\"TorCoin\",\"UnitaryStatus Dollar\",\"UltraCoin\",\"VeriCoin\",\"X11 Coin\",\"Crypti\",\"StealthCoin\",\"ZCC Coin\",\"StorjCoin\",\"Neutron\",\"FairCoin\",\"RubyCoin\",\"Kore\",\"Dnotes\",\"8BIT Coin\",\"Sativa Coin\",\"Ucoin\",\"Vtorrent\",\"IslaCoin\",\"Nexus\",\"Droidz\",\"Squall Coin\",\"Diggits\",\"Paycon\",\"Emercoin\",\"EverGreenCoin\",\"Decred\",\"EDRCoin\",\"Hitcoin\",\"DubaiCoin\",\"PWR Coin\",\"BillaryCoin\",\"GPU Coin\",\"EuropeCoin\",\"ZeitCoin\",\"SwingCoin\",\"SafeExchangeCoin\",\"Nebuchadnezzar\",\"Ratecoin\",\"Revenu\",\"Clockcoin\",\"VIP Tokens\",\"BitSend\",\"Let it Ride\",\"PutinCoin\",\"iBankCoin\",\"Frankywillcoin\",\"MudraCoin\",\"Lutetium Coin\",\"GoldBlocks\",\"CarterCoin\",\"BitTokens\",\"MustangCoin\",\"ZoneCoin\",\"RootCoin\",\"BitCurrency\",\"Swiscoin\",\"BuzzCoin\",\"Opair\",\"PesoBit\",\"Halloween Coin\",\"CoffeeCoin\",\"RoyalCoin\",\"GanjaCoin V2\",\"TeamUP\",\"LanaCoin\",\"ARK\",\"InsaneCoin\",\"EmberCoin\",\"XenixCoin\",\"FreeCoin\",\"PLNCoin\",\"AquariusCoin\",\"Creatio\",\"Eternity\",\"Eurocoin\",\"BitcoinFast\",\"Stakenet\",\"BitConnect Coin\",\"MoneyCoin\",\"Enigma\",\"Russiacoin\",\"PandaCoin\",\"GameUnits\",\"GAKHcoin\",\"Allsafe\",\"LiteCreed\",\"Klingon Empire Darsek\",\"Internet of People\",\"KushCoin\",\"Printerium\",\"Impeach\",\"Zilbercoin\",\"FirstCoin\",\"FindCoin\",\"OpenChat\",\"RenosCoin\",\"VirtacoinPlus\",\"TajCoin\",\"Impact\",\"Atmos\",\"HappyCoin\",\"MacronCoin\",\"Condensate\",\"Independent Money System\",\"ArgusCoin\",\"LomoCoin\",\"ProCurrency\",\"GoldReserve\",\"GrowthCoin\",\"Phreak\",\"Degas Coin\",\"HTML5 Coin\",\"Ultimate Secure Cash\",\"QTUM\",\"Espers\",\"Denarius\",\"Virta Unique Coin\",\"Bitcoin Planet\",\"BritCoin\",\"Linda\",\"DeepOnion\",\"Signatum\",\"Cream\",\"Monoeci\",\"Draftcoin\",\"Stakecoin\",\"CoinonatX\",\"Ethereum Dark\",\"Obsidian\",\"Cardano\",\"Regalcoin\",\"TrezarCoin\",\"TerraNovaCoin\",\"Rupee\",\"WomenCoin\",\"Theresa May Coin\",\"NamoCoin\",\"LUXCoin\",\"Xios\",\"Bitcloud 2.0\",\"KekCoin\",\"BlackholeCoin\",\"Infinity Economics\",\"Magnet\",\"Lamden Tau\",\"Electra\",\"Bitcoin Diamond\",\"Cash & Back Coin\",\"Bulwark\",\"Kalkulus\",\"GermanCoin\",\"LiteCoin Ultra\",\"PhantomX\",\"Digiwage\",\"Trollcoin\",\"Litecoin Plus\",\"Monkey Project\",\"TokenPay\",\"My Big Coin\",\"Unified Society USDEX\",\"Tokyo Coin\",\"BiblePay\",\"Stipend\",\"Poa Network\",\"Pushi\",\"Ellerium\",\"Velox\",\"Ontology\",\"Bitspace\",\"Briacoin\",\"Ignition\",\"MedicCoin\",\"Bitcoin Green\",\"Deviant Coin\",\"Abjcoin\",\"Semux\",\"Carebit\",\"Zealium\",\"Proton\",\"iDealCash\",\"Bitcoin Incognito\",\"HollyWoodCoin\",\"Swisscoin\",\"Xt3ch\",\"TheVig\",\"EmaratCoin\",\"Dekado\",\"Lynx\",\"Poseidon Quark\",\"BitcoinWSpectrum\",\"Muse\",\"Trivechain\",\"Dystem\",\"Giant\",\"Peony Coin\",\"Absolute Coin\",\"Vitae\",\"TPCash\",\"ARENON\",\"EUNO\",\"MMOCoin\",\"Ketan\",\"XDNA\",\"PAXEX\",\"ThunderStake\",\"Kcash\",\"Acute Angle Cloud\",\"Bettex coin\",\"Junson Ming Chan Coin\",\"HerbCoin\",\"Oduwa\",\"Galilel\",\"Crypto Sports\",\"Credit\",\"Dash Platinum\",\"Nasdacoin\",\"Beetle Coin\",\"Titan Coin\",\"Award\",\"Insane Coin\",\"ALAX\",\"LiteDoge\",\"TruckCoin\",\"OrangeCoin\",\"BitstarCoin\",\"NeosCoin\",\"HyperCoin\",\"PinkCoin\",\"AudioCoin\",\"IncaKoin\",\"Piggy Coin\",\"Genstake\",\"XiaoMiCoin\",\"CapriCoin\",\" ClubCoin\",\"Radium\",\"Creditbit \",\"OKCash\",\"Lisk\",\"HiCoin\",\"WhiteCoin\",\"FriendshipCoin\",\"Triangles Coin\",\"EOS\",\"Oxycoin\",\"TigerCash\",\"Waves\",\"Particl\",\"Nxt\",\"ZEPHYR\",\"Gapcoin\",\"BitcoinPlus\"],\"TotalCoinSupply\":{\"__ndarray__\":\"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\",\"dtype\":\"float64\",\"shape\":[287]},\"TotalCoinsMined\":{\"__ndarray__\":\"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\",\"dtype\":\"float64\",\"shape\":[287]}},\"selected\":{\"id\":\"3728\",\"type\":\"Selection\"},\"selection_policy\":{\"id\":\"3758\",\"type\":\"UnionRenderers\"}},\"id\":\"3727\",\"type\":\"ColumnDataSource\"},{\"attributes\":{\"click_policy\":\"mute\",\"items\":[{\"id\":\"3742\",\"type\":\"LegendItem\"},{\"id\":\"3759\",\"type\":\"LegendItem\"},{\"id\":\"3778\",\"type\":\"LegendItem\"},{\"id\":\"3799\",\"type\":\"LegendItem\"}],\"label_text_font_size\":{\"value\":\"10pt\"},\"location\":[0,0],\"title\":\"Class\",\"title_text_font_size\":{\"value\":\"10pt\"}},\"id\":\"3741\",\"type\":\"Legend\"},{\"attributes\":{\"fill_alpha\":{\"value\":0.1},\"fill_color\":{\"value\":\"#ff7e0e\"},\"line_alpha\":{\"value\":0.1},\"line_color\":{\"value\":\"#ff7e0e\"},\"size\":{\"units\":\"screen\",\"value\":5.477225575051661},\"x\":{\"field\":\"TotalCoinsMined\"},\"y\":{\"field\":\"TotalCoinSupply\"}},\"id\":\"3747\",\"type\":\"Scatter\"},{\"attributes\":{\"active_drag\":\"auto\",\"active_inspect\":\"auto\",\"active_multi\":null,\"active_scroll\":\"auto\",\"active_tap\":\"auto\",\"tools\":[{\"id\":\"3688\",\"type\":\"HoverTool\"},{\"id\":\"3711\",\"type\":\"SaveTool\"},{\"id\":\"3712\",\"type\":\"PanTool\"},{\"id\":\"3713\",\"type\":\"WheelZoomTool\"},{\"id\":\"3714\",\"type\":\"BoxZoomTool\"},{\"id\":\"3715\",\"type\":\"ResetTool\"}]},\"id\":\"3716\",\"type\":\"Toolbar\"},{\"attributes\":{\"label\":{\"value\":\"0\"},\"renderers\":[{\"id\":\"3733\",\"type\":\"GlyphRenderer\"}]},\"id\":\"3742\",\"type\":\"LegendItem\"},{\"attributes\":{\"data_source\":{\"id\":\"3743\",\"type\":\"ColumnDataSource\"},\"glyph\":{\"id\":\"3746\",\"type\":\"Scatter\"},\"hover_glyph\":null,\"muted_glyph\":{\"id\":\"3748\",\"type\":\"Scatter\"},\"nonselection_glyph\":{\"id\":\"3747\",\"type\":\"Scatter\"},\"selection_glyph\":null,\"view\":{\"id\":\"3750\",\"type\":\"CDSView\"}},\"id\":\"3749\",\"type\":\"GlyphRenderer\"},{\"attributes\":{},\"id\":\"3758\",\"type\":\"UnionRenderers\"},{\"attributes\":{\"text\":\"\",\"text_color\":{\"value\":\"black\"},\"text_font_size\":{\"value\":\"12pt\"}},\"id\":\"3693\",\"type\":\"Title\"},{\"attributes\":{\"fill_alpha\":{\"value\":0.1},\"fill_color\":{\"value\":\"#1f77b3\"},\"line_alpha\":{\"value\":0.1},\"line_color\":{\"value\":\"#1f77b3\"},\"size\":{\"units\":\"screen\",\"value\":5.477225575051661},\"x\":{\"field\":\"TotalCoinsMined\"},\"y\":{\"field\":\"TotalCoinSupply\"}},\"id\":\"3731\",\"type\":\"Scatter\"},{\"attributes\":{},\"id\":\"3744\",\"type\":\"Selection\"},{\"attributes\":{\"label\":{\"value\":\"1\"},\"renderers\":[{\"id\":\"3749\",\"type\":\"GlyphRenderer\"}]},\"id\":\"3759\",\"type\":\"LegendItem\"},{\"attributes\":{\"fill_color\":{\"value\":\"#ff7e0e\"},\"line_color\":{\"value\":\"#ff7e0e\"},\"size\":{\"units\":\"screen\",\"value\":5.477225575051661},\"x\":{\"field\":\"TotalCoinsMined\"},\"y\":{\"field\":\"TotalCoinSupply\"}},\"id\":\"3746\",\"type\":\"Scatter\"},{\"attributes\":{\"callback\":null,\"data\":{\"Class\":[3,3,3],\"CoinName\":[\"Vechain\",\"LitecoinCash\",\"Fiii\"],\"TotalCoinSupply\":{\"__ndarray__\":\"0Pkz8SQT8j8Rx05n9PnBv2+0lteHM7S/\",\"dtype\":\"float64\",\"shape\":[3]},\"TotalCoinsMined\":{\"__ndarray__\":\"CbRdKBeb8T+kfJ309Ey6v5xPX/y5kc+/\",\"dtype\":\"float64\",\"shape\":[3]}},\"selected\":{\"id\":\"3780\",\"type\":\"Selection\"},\"selection_policy\":{\"id\":\"3813\",\"type\":\"UnionRenderers\"}},\"id\":\"3779\",\"type\":\"ColumnDataSource\"},{\"attributes\":{},\"id\":\"3724\",\"type\":\"BasicTickFormatter\"},{\"attributes\":{\"fill_alpha\":{\"value\":0.2},\"fill_color\":{\"value\":\"#2ba02b\"},\"line_alpha\":{\"value\":0.2},\"line_color\":{\"value\":\"#2ba02b\"},\"size\":{\"units\":\"screen\",\"value\":5.477225575051661},\"x\":{\"field\":\"TotalCoinsMined\"},\"y\":{\"field\":\"TotalCoinSupply\"}},\"id\":\"3765\",\"type\":\"Scatter\"},{\"attributes\":{\"data_source\":{\"id\":\"3727\",\"type\":\"ColumnDataSource\"},\"glyph\":{\"id\":\"3730\",\"type\":\"Scatter\"},\"hover_glyph\":null,\"muted_glyph\":{\"id\":\"3732\",\"type\":\"Scatter\"},\"nonselection_glyph\":{\"id\":\"3731\",\"type\":\"Scatter\"},\"selection_glyph\":null,\"view\":{\"id\":\"3734\",\"type\":\"CDSView\"}},\"id\":\"3733\",\"type\":\"GlyphRenderer\"},{\"attributes\":{},\"id\":\"3761\",\"type\":\"Selection\"},{\"attributes\":{\"data_source\":{\"id\":\"3760\",\"type\":\"ColumnDataSource\"},\"glyph\":{\"id\":\"3763\",\"type\":\"Scatter\"},\"hover_glyph\":null,\"muted_glyph\":{\"id\":\"3765\",\"type\":\"Scatter\"},\"nonselection_glyph\":{\"id\":\"3764\",\"type\":\"Scatter\"},\"selection_glyph\":null,\"view\":{\"id\":\"3767\",\"type\":\"CDSView\"}},\"id\":\"3766\",\"type\":\"GlyphRenderer\"},{\"attributes\":{},\"id\":\"3813\",\"type\":\"UnionRenderers\"},{\"attributes\":{\"fill_color\":{\"value\":\"#d62628\"},\"line_color\":{\"value\":\"#d62628\"},\"size\":{\"units\":\"screen\",\"value\":5.477225575051661},\"x\":{\"field\":\"TotalCoinsMined\"},\"y\":{\"field\":\"TotalCoinSupply\"}},\"id\":\"3782\",\"type\":\"Scatter\"},{\"attributes\":{},\"id\":\"3713\",\"type\":\"WheelZoomTool\"},{\"attributes\":{\"source\":{\"id\":\"3727\",\"type\":\"ColumnDataSource\"}},\"id\":\"3734\",\"type\":\"CDSView\"},{\"attributes\":{},\"id\":\"3715\",\"type\":\"ResetTool\"},{\"attributes\":{\"bottom_units\":\"screen\",\"fill_alpha\":{\"value\":0.5},\"fill_color\":{\"value\":\"lightgrey\"},\"left_units\":\"screen\",\"level\":\"overlay\",\"line_alpha\":{\"value\":1.0},\"line_color\":{\"value\":\"black\"},\"line_dash\":[4,4],\"line_width\":{\"value\":2},\"render_mode\":\"css\",\"right_units\":\"screen\",\"top_units\":\"screen\"},\"id\":\"3740\",\"type\":\"BoxAnnotation\"},{\"attributes\":{\"overlay\":{\"id\":\"3740\",\"type\":\"BoxAnnotation\"}},\"id\":\"3714\",\"type\":\"BoxZoomTool\"},{\"attributes\":{\"fill_alpha\":{\"value\":0.1},\"fill_color\":{\"value\":\"#2ba02b\"},\"line_alpha\":{\"value\":0.1},\"line_color\":{\"value\":\"#2ba02b\"},\"size\":{\"units\":\"screen\",\"value\":5.477225575051661},\"x\":{\"field\":\"TotalCoinsMined\"},\"y\":{\"field\":\"TotalCoinSupply\"}},\"id\":\"3764\",\"type\":\"Scatter\"},{\"attributes\":{\"fill_color\":{\"value\":\"#2ba02b\"},\"line_color\":{\"value\":\"#2ba02b\"},\"size\":{\"units\":\"screen\",\"value\":5.477225575051661},\"x\":{\"field\":\"TotalCoinsMined\"},\"y\":{\"field\":\"TotalCoinSupply\"}},\"id\":\"3763\",\"type\":\"Scatter\"},{\"attributes\":{\"align\":null,\"below\":[{\"id\":\"3701\",\"type\":\"LinearAxis\"}],\"center\":[{\"id\":\"3705\",\"type\":\"Grid\"},{\"id\":\"3710\",\"type\":\"Grid\"}],\"left\":[{\"id\":\"3706\",\"type\":\"LinearAxis\"}],\"margin\":null,\"min_border_bottom\":10,\"min_border_left\":10,\"min_border_right\":10,\"min_border_top\":10,\"plot_height\":300,\"plot_width\":700,\"renderers\":[{\"id\":\"3733\",\"type\":\"GlyphRenderer\"},{\"id\":\"3749\",\"type\":\"GlyphRenderer\"},{\"id\":\"3766\",\"type\":\"GlyphRenderer\"},{\"id\":\"3785\",\"type\":\"GlyphRenderer\"}],\"right\":[{\"id\":\"3741\",\"type\":\"Legend\"}],\"sizing_mode\":\"fixed\",\"title\":{\"id\":\"3693\",\"type\":\"Title\"},\"toolbar\":{\"id\":\"3716\",\"type\":\"Toolbar\"},\"x_range\":{\"id\":\"3686\",\"type\":\"Range1d\"},\"x_scale\":{\"id\":\"3697\",\"type\":\"LinearScale\"},\"y_range\":{\"id\":\"3687\",\"type\":\"Range1d\"},\"y_scale\":{\"id\":\"3699\",\"type\":\"LinearScale\"}},\"id\":\"3692\",\"subtype\":\"Figure\",\"type\":\"Plot\"}],\"root_ids\":[\"3684\"]},\"title\":\"Bokeh Application\",\"version\":\"1.4.0\"}};\n",
       "  var render_items = [{\"docid\":\"3fc9fe16-ebf9-4bd4-8e2b-7a93606dc6e6\",\"roots\":{\"3684\":\"84581a77-ac57-4132-b9a8-d03115915a25\"}}];\n",
       "  root.Bokeh.embed.embed_items_notebook(docs_json, render_items);\n",
       "  }\n",
       "if (root.Bokeh !== undefined) {\n",
       "    embed_document(root);\n",
       "  } else {\n",
       "    var attempts = 0;\n",
       "    var timer = setInterval(function(root) {\n",
       "      if (root.Bokeh !== undefined) {\n",
       "        clearInterval(timer);\n",
       "        embed_document(root);\n",
       "      } else if (document.readyState == \"complete\") {\n",
       "        attempts++;\n",
       "        if (attempts > 100) {\n",
       "          clearInterval(timer);\n",
       "          console.log(\"Bokeh: ERROR: Unable to run BokehJS code because BokehJS library is missing\");\n",
       "        }\n",
       "      }\n",
       "    }, 10, root)\n",
       "  }\n",
       "})(window);</script>"
      ],
      "text/plain": [
       ":NdOverlay   [Class]\n",
       "   :Scatter   [TotalCoinsMined]   (TotalCoinSupply,CoinName)"
      ]
     },
     "execution_count": 124,
     "metadata": {
      "application/vnd.holoviews_exec.v0+json": {
       "id": "3684"
      }
     },
     "output_type": "execute_result"
    }
   ],
   "source": [
    "merged_df.hvplot.scatter(\n",
    "    x=\"TotalCoinsMined\",\n",
    "    y=\"TotalCoinSupply\",\n",
    "    hover_cols=[\"CoinName\"],\n",
    "    by=\"Class\"\n",
    "    )"
   ]
  },
  {
   "cell_type": "code",
   "execution_count": null,
   "metadata": {},
   "outputs": [],
   "source": []
  }
 ],
 "metadata": {
  "kernelspec": {
   "display_name": "PythonData",
   "language": "python",
   "name": "pythondata"
  },
  "language_info": {
   "codemirror_mode": {
    "name": "ipython",
    "version": 3
   },
   "file_extension": ".py",
   "mimetype": "text/x-python",
   "name": "python",
   "nbconvert_exporter": "python",
   "pygments_lexer": "ipython3",
   "version": "3.6.10"
  }
 },
 "nbformat": 4,
 "nbformat_minor": 4
}
